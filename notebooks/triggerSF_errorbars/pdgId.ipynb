{
 "cells": [
  {
   "cell_type": "code",
   "execution_count": 1,
   "id": "60945683",
   "metadata": {},
   "outputs": [],
   "source": [
    "from coffea.nanoevents import NanoEventsFactory, NanoAODSchema"
   ]
  },
  {
   "cell_type": "code",
   "execution_count": 2,
   "id": "4b804ab6",
   "metadata": {},
   "outputs": [],
   "source": [
    "filename = \"/pnfs/psi.ch/cms/trivcat//store/mc/RunIISummer20UL18NanoAODv9/ttHTobb_M125_TuneCP5_13TeV-powheg-pythia8/NANOAODSIM/106X_upgrade2018_realistic_v16_L1v1-v2/2500000/6BF93845-49D5-2547-B860-4F7601074715.root\"\n",
    "events = NanoEventsFactory.from_root({filename: "Events"}, schemaclass=NanoAODSchema, entry_stop=100000).events()"
   ]
  },
  {
   "cell_type": "code",
   "execution_count": 5,
   "id": "595c1b00",
   "metadata": {},
   "outputs": [
    {
     "data": {
      "text/plain": [
       "<Array [[], [], [-11, 11, ... 11], [11, 11]] type='66000 * var * int32[parameter...'>"
      ]
     },
     "execution_count": 5,
     "metadata": {},
     "output_type": "execute_result"
    }
   ],
   "source": [
    "events.Electron.pdgId"
   ]
  },
  {
   "cell_type": "code",
   "execution_count": 6,
   "id": "89a5367f",
   "metadata": {},
   "outputs": [
    {
     "data": {
      "text/plain": [
       "<Array [[-13, -13], [], ... [13, -13], [13]] type='66000 * var * int32[parameter...'>"
      ]
     },
     "execution_count": 6,
     "metadata": {},
     "output_type": "execute_result"
    }
   ],
   "source": [
    "events.Muon.pdgId"
   ]
  },
  {
   "cell_type": "code",
   "execution_count": null,
   "id": "21d94e2b",
   "metadata": {},
   "outputs": [],
   "source": []
  }
 ],
 "metadata": {
  "kernelspec": {
   "display_name": "Python 3 (ipykernel)",
   "language": "python",
   "name": "python3"
  },
  "language_info": {
   "codemirror_mode": {
    "name": "ipython",
    "version": 3
   },
   "file_extension": ".py",
   "mimetype": "text/x-python",
   "name": "python",
   "nbconvert_exporter": "python",
   "pygments_lexer": "ipython3",
   "version": "3.8.15"
  }
 },
 "nbformat": 4,
 "nbformat_minor": 5
}
