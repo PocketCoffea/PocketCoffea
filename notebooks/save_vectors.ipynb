{
 "cells": [
  {
   "cell_type": "code",
   "execution_count": 1,
   "id": "a1445f87",
   "metadata": {},
   "outputs": [],
   "source": [
    "from coffea.nanoevents import NanoEventsFactory, NanoAODSchema\n",
    "from coffea import hist, processor\n",
    "import numpy as np\n",
    "import awkward as ak\n",
    "import matplotlib.pyplot as plt"
   ]
  },
  {
   "cell_type": "code",
   "execution_count": 5,
   "id": "a102c35f",
   "metadata": {},
   "outputs": [],
   "source": [
    "filename = \"/pnfs/psi.ch/cms/trivcat/store/user/mmarcheg/RunIIFall17NanoAODv7/ttHTobb_M125_TuneCP5_13TeV-powheg-pythia8/587E2464-42CA-3A45-BD49-D23E49F658E6.root\"\n",
    "#events = NanoEventsFactory.from_root({filename: "Events"}, schemaclass=NanoAODSchema).events()\n",
    "events = NanoEventsFactory.from_root({filename: "Events"}, schemaclass=NanoAODSchema, entry_stop=100).events()"
   ]
  },
  {
   "cell_type": "code",
   "execution_count": 6,
   "id": "acb22b5d",
   "metadata": {},
   "outputs": [],
   "source": [
    "def parton_matching(dr_min=0.5):\n",
    "    # Select b-quarks at LHE level\n",
    "    isOutgoing = events.LHEPart.status == 1\n",
    "    isB = abs(events.LHEPart.pdgId) == 5\n",
    "    bquarks = events.LHEPart[isB & isOutgoing]\n",
    "\n",
    "    # Select b-quarks at Gen level, coming from H->bb decay\n",
    "    if dataset == 'ttHTobb':\n",
    "        isHiggs = events.GenPart.pdgId == 25\n",
    "        isHard = events.GenPart.hasFlags(['fromHardProcess'])\n",
    "        hasTwoChildren = ak.num(events.GenPart.childrenIdxG, axis=2) == 2\n",
    "        higgs = events.GenPart[isHiggs & isHard & hasTwoChildren]\n",
    "        bquarks = ak.concatenate( (bquarks, ak.flatten(higgs.children, axis=2)), axis=1 )\n",
    "        # Sort b-quarks by pt\n",
    "        bquarks = ak.with_name(bquarks[ak.argsort(bquarks.pt, ascending=False)], name='PtEtaPhiMCandidate')\n",
    "\n",
    "    # Compute deltaR(b, jet) and save the nearest jet (deltaR matching)\n",
    "    deltaR = ak.flatten(bquarks.metric_table(events.Jet), axis=2)\n",
    "    \n",
    "    maskDR = deltaR<dr_min\n",
    "    deltaRcut = deltaR[maskDR]\n",
    "    idx_pairs_sorted = ak.argsort(deltaRcut, axis=1)\n",
    "    pairs = ak.argcartesian([bquarks, events.Jet])[maskDR]\n",
    "    pairs_sorted = pairs[idx_pairs_sorted]\n",
    "    idx_bquarks, idx_Jet = ak.unzip(pairs_sorted)\n",
    "\n",
    "    hasMatch = ak.zeros_like(idx_Jet, dtype=bool)\n",
    "    Npairmax = ak.max(ak.num(idx_bquarks))\n",
    "    # Loop over the (parton, jet) pairs\n",
    "    for idx_pair in range(Npairmax):\n",
    "        idx_bquark = ak.pad_none(idx_bquarks, Npairmax)[:,idx_pair]\n",
    "        idx_match_candidates = idx_Jet[ak.fill_none( (idx_bquarks == idx_bquark) & ~hasMatch, False)]\n",
    "        idx_pair_candidates  = ak.local_index(idx_Jet)[ak.fill_none( (idx_bquarks == idx_bquark) & ~hasMatch, False)]\n",
    "      \n",
    "        if idx_pair == 0:\n",
    "            idx_matchedJet    = ak.unflatten( ak.firsts(idx_match_candidates), 1 )\n",
    "            idx_matchedParton = ak.unflatten( idx_bquark, 1 )\n",
    "            idx_matchedPair   = ak.unflatten( ak.firsts(idx_pair_candidates), 1 )\n",
    "        else:\n",
    "            # If the partons are matched in all events or the number of jets is smaller than the number of partons, stop iterating\n",
    "            if ak.all( ( (ak.count(idx_matchedJet, axis=1) == ak.count(bquarks.pt, axis=1)) | (ak.count(events.Jet.pt, axis=1) < ak.count(bquarks.pt, axis=1) ) ) ): break\n",
    "            idx_matchedJet    = ak.concatenate( (idx_matchedJet, ak.unflatten( ak.firsts(idx_match_candidates), 1 ) ), axis=1 )\n",
    "            idx_matchedParton = ak.concatenate( (idx_matchedParton, ak.unflatten( idx_bquark, 1 )), axis=1 )\n",
    "            idx_matchedPair   = ak.concatenate( (idx_matchedPair, ak.unflatten( ak.firsts(idx_pair_candidates), 1 ) ), axis=1 )\n",
    "        # The mask `hasMatch` masks to False the \n",
    "        hasMatch = hasMatch | ak.fill_none(idx_Jet == ak.fill_none(ak.firsts(idx_match_candidates), -99), False) | ak.fill_none(idx_bquarks == idx_bquark, False)\n",
    "   \n",
    "    idx_matchedParton = idx_matchedParton[~ak.is_none(idx_matchedJet, axis=1)]\n",
    "    idx_matchedJet = idx_matchedJet[~ak.is_none(idx_matchedJet, axis=1)]\n",
    "    dr_matchedJet = deltaRcut[idx_pairs_sorted][~ak.is_none(idx_matchedPair, axis=1)]\n",
    "    idx_matchedPair = idx_matchedPair[~ak.is_none(idx_matchedPair, axis=1)]\n",
    "    matchedJet    = events.Jet[idx_matchedJet]\n",
    "    matchedParton = bquarks[idx_matchedParton]\n",
    "    hasMatchedPartons = ak.count(idx_matchedParton, axis=1) == ak.count(bquarks.pt, axis=1)\n",
    "    #for cut in self._selections.keys():\n",
    "    #    print(events.metadata[\"dataset\"], cut, \"matched partons =\", round(100*ak.sum(hasMatchedPartons[self._cuts.all(*self._selections[cut])])/ak.size(hasMatchedPartons[self._cuts.all(*self._selections[cut])]), 2), \"%\")\n",
    "    events[\"BQuark\"] = bquarks\n",
    "    events[\"JetMatched\"] = matchedJet\n",
    "    events[\"BQuarkMatched\"] = matchedParton\n",
    "    events[\"BQuarkMatched\"] = ak.with_field(events.BQuarkMatched, dr_matchedJet, \"drMatchedJet\")\n",
    "    return bquarks, matchedJet, idx_matchedJet, idx_matchedParton, idx_matchedPair, dr_matchedJet"
   ]
  },
  {
   "cell_type": "code",
   "execution_count": 17,
   "id": "c5771bcb",
   "metadata": {},
   "outputs": [],
   "source": [
    "dataset = \"ttHTobb\"\n",
    "bquarks, matchedJets, idx_matchedJet, idx_matchedParton, idx_matchedPair, dr_matchedJet = parton_matching(0.4)"
   ]
  },
  {
   "cell_type": "code",
   "execution_count": 18,
   "id": "7399f92f",
   "metadata": {},
   "outputs": [
    {
     "data": {
      "text/plain": [
       "<JetArray [[Jet, Jet, Jet, ... Jet, Jet, Jet]] type='100 * var * ?jet'>"
      ]
     },
     "execution_count": 18,
     "metadata": {},
     "output_type": "execute_result"
    }
   ],
   "source": [
    "matchedJets"
   ]
  },
  {
   "cell_type": "code",
   "execution_count": 19,
   "id": "cfd7ccfe",
   "metadata": {},
   "outputs": [
    {
     "data": {
      "text/plain": [
       "<Array [[0.026, 0.0406, ... 0.0284, 0.0342]] type='100 * var * ?float32'>"
      ]
     },
     "execution_count": 19,
     "metadata": {},
     "output_type": "execute_result"
    }
   ],
   "source": [
    "dr_matchedJet"
   ]
  },
  {
   "cell_type": "code",
   "execution_count": 20,
   "id": "e3ad0902",
   "metadata": {},
   "outputs": [
    {
     "data": {
      "text/plain": [
       "(array([175.,  86.,  34.,  18.,  16.,  11.,   4.,   1.,   0.,   0.,   0.,\n",
       "          0.,   0.,   0.,   0.,   0.,   0.,   0.,   0.,   0.,   0.,   0.,\n",
       "          0.,   0.,   0.,   0.,   0.,   0.,   0.,   0.,   0.,   0.,   0.,\n",
       "          0.,   0.,   0.,   0.,   0.,   0.]),\n",
       " array([0.        , 0.05128205, 0.1025641 , 0.15384615, 0.20512821,\n",
       "        0.25641026, 0.30769231, 0.35897436, 0.41025641, 0.46153846,\n",
       "        0.51282051, 0.56410256, 0.61538462, 0.66666667, 0.71794872,\n",
       "        0.76923077, 0.82051282, 0.87179487, 0.92307692, 0.97435897,\n",
       "        1.02564103, 1.07692308, 1.12820513, 1.17948718, 1.23076923,\n",
       "        1.28205128, 1.33333333, 1.38461538, 1.43589744, 1.48717949,\n",
       "        1.53846154, 1.58974359, 1.64102564, 1.69230769, 1.74358974,\n",
       "        1.79487179, 1.84615385, 1.8974359 , 1.94871795, 2.        ]),\n",
       " <BarContainer object of 39 artists>)"
      ]
     },
     "execution_count": 20,
     "metadata": {},
     "output_type": "execute_result"
    },
    {
     "data": {
      "image/png": "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\n",
      "text/plain": [
       "<Figure size 432x288 with 1 Axes>"
      ]
     },
     "metadata": {
      "needs_background": "light"
     },
     "output_type": "display_data"
    }
   ],
   "source": [
    "plt.hist(ak.flatten(dr_matchedJet), bins=np.linspace(0,2, 40))"
   ]
  },
  {
   "cell_type": "code",
   "execution_count": 21,
   "id": "fe50dcc2",
   "metadata": {},
   "outputs": [
    {
     "data": {
      "text/plain": [
       "(array([ 7.,  0.,  0., 42.,  0.,  0., 50.,  0.,  0.,  1.]),\n",
       " array([2. , 2.3, 2.6, 2.9, 3.2, 3.5, 3.8, 4.1, 4.4, 4.7, 5. ]),\n",
       " <BarContainer object of 10 artists>)"
      ]
     },
     "execution_count": 21,
     "metadata": {},
     "output_type": "execute_result"
    },
    {
     "data": {
      "image/png": "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\n",
      "text/plain": [
       "<Figure size 432x288 with 1 Axes>"
      ]
     },
     "metadata": {
      "needs_background": "light"
     },
     "output_type": "display_data"
    }
   ],
   "source": [
    "plt.hist(ak.num(matchedJets, axis=1))"
   ]
  },
  {
   "cell_type": "code",
   "execution_count": 23,
   "id": "0b8f23e8",
   "metadata": {},
   "outputs": [],
   "source": [
    "mask_match = ak.num(matchedJets, axis=1) == 4\n",
    "mask_leptons = event"
   ]
  },
  {
   "cell_type": "code",
   "execution_count": 24,
   "id": "4d4be5de",
   "metadata": {},
   "outputs": [
    {
     "data": {
      "text/plain": [
       "<NanoEventsArray [<event 1:51:48451>, ... ] type='50 * event'>"
      ]
     },
     "execution_count": 24,
     "metadata": {},
     "output_type": "execute_result"
    }
   ],
   "source": [
    "events[mask_match & ]"
   ]
  },
  {
   "cell_type": "code",
   "execution_count": null,
   "id": "defd98d7",
   "metadata": {},
   "outputs": [],
   "source": []
  }
 ],
 "metadata": {
  "kernelspec": {
   "display_name": "Python 3 (ipykernel)",
   "language": "python",
   "name": "python3"
  },
  "language_info": {
   "codemirror_mode": {
    "name": "ipython",
    "version": 3
   },
   "file_extension": ".py",
   "mimetype": "text/x-python",
   "name": "python",
   "nbconvert_exporter": "python",
   "pygments_lexer": "ipython3",
   "version": "3.10.4"
  }
 },
 "nbformat": 4,
 "nbformat_minor": 5
}
