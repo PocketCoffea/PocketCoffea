{
 "cells": [
  {
   "cell_type": "code",
   "execution_count": 1,
   "id": "81c7a7c2-4331-409b-95d4-60f2e1ddddb1",
   "metadata": {},
   "outputs": [],
   "source": [
    "from pocket_coffea.lib.categorization import *\n",
    "from pocket_coffea.lib.cut_functions import *\n",
    "from pocket_coffea.parameters.cuts.preselection_cuts import *\n",
    "from pocket_coffea.lib.cut_definition import Cut"
   ]
  },
  {
   "cell_type": "code",
   "execution_count": 2,
   "id": "828de143-2f73-4c90-957a-1920ae398342",
   "metadata": {},
   "outputs": [
    {
     "data": {
      "text/plain": [
       "<NanoEventsArray [<event 1:40419:40418002>, ... ] type='1000 * event'>"
      ]
     },
     "execution_count": 2,
     "metadata": {},
     "output_type": "execute_result"
    }
   ],
   "source": [
    "from coffea.nanoevents import NanoEventsFactory, NanoAODSchema\n",
    "import awkward as ak\n",
    "\n",
    "filename = \"root://xrootd-cms.infn.it///store/mc/RunIISummer20UL18NanoAODv9/TTToSemiLeptonic_TuneCP5_13TeV-powheg-pythia8/NANOAODSIM/106X_upgrade2018_realistic_v16_L1v1-v1/120000/87DEE912-70CF-A549-B10B-1A229B256E88.root\"\n",
    "events = NanoEventsFactory.from_root({filename: "Events"}, schemaclass=NanoAODSchema, entry_stop=1000).events()\n",
    "events"
   ]
  },
  {
   "cell_type": "code",
   "execution_count": 3,
   "id": "aec960af-d024-4ed1-ada8-c4de643936c5",
   "metadata": {},
   "outputs": [],
   "source": [
    "jet_cut =  lambda events, params, **kwargs: events.Jet.pt > params[\"pt\"]\n",
    "two_jets =  lambda events, params, **kwargs: ak.sum(events.Jet.pt>50, axis=1) > 3"
   ]
  },
  {
   "cell_type": "code",
   "execution_count": 4,
   "id": "92df4d62-2404-444d-adc8-7b199a19e833",
   "metadata": {},
   "outputs": [],
   "source": [
    "catstd = StandardSelection(\n",
    "        {\"passthrough\" : [passthrough],\n",
    "             \"jet_pt\": [\n",
    "                 Cut(\"jet_pt_large\", {\"pt\":50}, jet_cut, collection=\"Jet\"), \n",
    "                 Cut(\"ev_2_jet\", {}, two_jets)]\n",
    "        })"
   ]
  },
  {
   "cell_type": "code",
   "execution_count": 5,
   "id": "689d8ddb-2da6-426d-a9a0-422f82394629",
   "metadata": {},
   "outputs": [],
   "source": [
    "catstd.prepare(events, \"2018\",\"ttHTobb\", isMC=True)"
   ]
  },
  {
   "cell_type": "code",
   "execution_count": 6,
   "id": "fbb9d5c7-0243-4a29-90c7-5169aa7bce18",
   "metadata": {},
   "outputs": [
    {
     "data": {
      "text/plain": [
       "MaskStorage(dim=2, masks=['passthrough__-904557648417540927', 'ev_2_jet__-7532592594126884410', 'jet_pt_large__-1520821223928223114'])"
      ]
     },
     "execution_count": 6,
     "metadata": {},
     "output_type": "execute_result"
    }
   ],
   "source": [
    "catstd.storage"
   ]
  },
  {
   "cell_type": "code",
   "execution_count": 7,
   "id": "79230a92-9f23-4c91-92bf-fb7e6b52764a",
   "metadata": {},
   "outputs": [
    {
     "data": {
      "text/plain": [
       "[[True, True, True, True, True, False, False],\n",
       " [False, False, False, False, False],\n",
       " [False, False, False, False],\n",
       " [False, False, False, False, False, False, False, False],\n",
       " [False, False, False, False, False, False, False, False, False, False, False],\n",
       " [False, False, False, False, False, False],\n",
       " [False, False, False, False, False, False, False, False, False],\n",
       " [True, True, True, True, False, False, False],\n",
       " [False, False, False, False, False, False, False],\n",
       " [False, False, False, False, False, False, False, False]]"
      ]
     },
     "execution_count": 7,
     "metadata": {},
     "output_type": "execute_result"
    }
   ],
   "source": [
    "catstd.get_mask(\"jet_pt\")[0:10].tolist()"
   ]
  },
  {
   "cell_type": "code",
   "execution_count": 8,
   "id": "770197dc-1f5b-4254-8065-212c616f8122",
   "metadata": {},
   "outputs": [
    {
     "data": {
      "text/plain": [
       "<Array [[False, False, ... False, False]] type='1000 * var * bool'>"
      ]
     },
     "execution_count": 8,
     "metadata": {},
     "output_type": "execute_result"
    }
   ],
   "source": [
    "catstd.get_mask(\"jet_pt\") & ak.sum(events.Electron.pt> 20)>=1"
   ]
  },
  {
   "cell_type": "code",
   "execution_count": 9,
   "id": "ac5ea95f-db59-448a-a1fa-d38318c68af3",
   "metadata": {},
   "outputs": [
    {
     "data": {
      "text/plain": [
       "2"
      ]
     },
     "execution_count": 9,
     "metadata": {},
     "output_type": "execute_result"
    }
   ],
   "source": [
    "catstd.storage.dim"
   ]
  },
  {
   "cell_type": "code",
   "execution_count": 10,
   "id": "5dc1594a-d37f-4f27-8fd1-c957233d4a15",
   "metadata": {},
   "outputs": [
    {
     "data": {
      "text/plain": [
       "['passthrough', 'jet_pt']"
      ]
     },
     "execution_count": 10,
     "metadata": {},
     "output_type": "execute_result"
    }
   ],
   "source": [
    "catstd.keys()"
   ]
  },
  {
   "cell_type": "markdown",
   "id": "400ca7c7-6344-4a88-aa3e-3a92de03d0f5",
   "metadata": {},
   "source": [
    "# Check product of dim=2 cuts"
   ]
  },
  {
   "cell_type": "code",
   "execution_count": 11,
   "id": "14687925-1998-4172-bc3e-5b71c5f2be99",
   "metadata": {},
   "outputs": [],
   "source": [
    "jets_pt = events.Jet.pt> 40\n",
    "jets_eta = events.Jet.eta > 2\n",
    "njets = ak.sum(events.Jet.pt > 40, axis=1) >=2"
   ]
  },
  {
   "cell_type": "code",
   "execution_count": 12,
   "id": "5f9dc9e4-322f-473b-bfed-f5a4f7030f73",
   "metadata": {},
   "outputs": [],
   "source": [
    "masks = [jets_pt, jets_eta]"
   ]
  },
  {
   "cell_type": "code",
   "execution_count": 13,
   "id": "9829d8d2-469f-4c77-be36-1836dfcd980c",
   "metadata": {},
   "outputs": [
    {
     "data": {
      "text/plain": [
       "[<Array [[True, True, True, ... False, False]] type='1000 * var * bool'>,\n",
       " <Array [[False, False, ... False, False]] type='1000 * var * bool'>]"
      ]
     },
     "execution_count": 13,
     "metadata": {},
     "output_type": "execute_result"
    }
   ],
   "source": [
    "masks"
   ]
  },
  {
   "cell_type": "code",
   "execution_count": 14,
   "id": "6cdee093-603f-430e-95fe-1fb95dbd9972",
   "metadata": {},
   "outputs": [
    {
     "data": {
      "text/plain": [
       "<Array [[False, False, ... False, False]] type='1000 * var * bool'>"
      ]
     },
     "execution_count": 14,
     "metadata": {},
     "output_type": "execute_result"
    }
   ],
   "source": [
    "ak.prod(ak.concatenate([ak.singletons(m) for m in masks], axis=-1), axis=-1) == 1"
   ]
  },
  {
   "cell_type": "markdown",
   "id": "ddcae615-7e41-41ee-b491-3b3bf6b91cc9",
   "metadata": {},
   "source": [
    "# Multicut"
   ]
  },
  {
   "cell_type": "code",
   "execution_count": 15,
   "id": "5fabd162-0b06-448a-b35d-8ddd844ae69b",
   "metadata": {},
   "outputs": [],
   "source": [
    "cat = CartesianSelection(\n",
    "        multicuts = [\n",
    "            MultiCut(name=\"Njets\",\n",
    "                     cuts=[\n",
    "                         get_nObj_eq(4, 15., \"Jet\"),\n",
    "                         get_nObj_eq(5, 15., \"Jet\"),\n",
    "                         get_nObj_min(6, 15., \"Jet\"),\n",
    "                     ],\n",
    "                     cuts_names=[\"4j\",\"5j\",\"6j\"]),\n",
    "            MultiCut(name=\"jet_pt\",\n",
    "                    cuts=[\n",
    "                         Cut(\"jet_pt_large\", {\"pt\":20}, jet_cut, collection=\"Jet\"),\n",
    "                         Cut(\"jet_pt_large\", {\"pt\":30}, jet_cut, collection=\"Jet\"),\n",
    "                         Cut(\"jet_pt_large\", {\"pt\":40}, jet_cut, collection=\"Jet\"),\n",
    "                         Cut(\"jet_pt_large\", {\"pt\":50}, jet_cut, collection=\"Jet\")\n",
    "                     ],\n",
    "                     cuts_names=[\"pt20\", \"pt30\",\"pt40\", \"pt50\"])\n",
    "        ],\n",
    "        common_cats = catstd\n",
    "    )"
   ]
  },
  {
   "cell_type": "code",
   "execution_count": 16,
   "id": "05522e6f-97d3-4d3f-9f9c-ac52d60f3c6f",
   "metadata": {},
   "outputs": [
    {
     "data": {
      "text/plain": [
       "['passthrough',\n",
       " 'jet_pt',\n",
       " '4j_pt20',\n",
       " '4j_pt30',\n",
       " '4j_pt40',\n",
       " '4j_pt50',\n",
       " '5j_pt20',\n",
       " '5j_pt30',\n",
       " '5j_pt40',\n",
       " '5j_pt50',\n",
       " '6j_pt20',\n",
       " '6j_pt30',\n",
       " '6j_pt40',\n",
       " '6j_pt50']"
      ]
     },
     "execution_count": 16,
     "metadata": {},
     "output_type": "execute_result"
    }
   ],
   "source": [
    "cat.categories"
   ]
  },
  {
   "cell_type": "code",
   "execution_count": 17,
   "id": "766de317-a529-4d3f-b44d-62456ec0f181",
   "metadata": {},
   "outputs": [],
   "source": [
    "cat.prepare(events, \"2018\",\"ttHTobb\", isMC=True)"
   ]
  },
  {
   "cell_type": "code",
   "execution_count": 18,
   "id": "1ba792bf-17e5-461b-a412-368b45e55251",
   "metadata": {},
   "outputs": [
    {
     "data": {
      "text/plain": [
       "MaskStorage(dim=2, masks=['passthrough__-904557648417540927', 'ev_2_jet__-7532592594126884410', 'jet_pt_large__-1520821223928223114'])"
      ]
     },
     "execution_count": 18,
     "metadata": {},
     "output_type": "execute_result"
    }
   ],
   "source": [
    "cat.common_cats.storage"
   ]
  },
  {
   "cell_type": "code",
   "execution_count": 19,
   "id": "56e984b5-81c2-4207-9f65-fdfdb00e4ce4",
   "metadata": {},
   "outputs": [
    {
     "name": "stdout",
     "output_type": "stream",
     "text": [
      "passthrough\n",
      "[[True, True, True, True, True, True, True, ... True, True, True, True, True, True]]\n",
      "jet_pt\n",
      "[[True, True, True, True, True, False, ... False, False, False, False, False, False]]\n",
      "4j_pt20\n",
      "[[False, False, False, False, False, False, ... False, False, False, False, False]]\n",
      "4j_pt30\n",
      "[[False, False, False, False, False, False, ... False, False, False, False, False]]\n",
      "4j_pt40\n",
      "[[False, False, False, False, False, False, ... False, False, False, False, False]]\n",
      "4j_pt50\n",
      "[[False, False, False, False, False, False, ... False, False, False, False, False]]\n",
      "5j_pt20\n",
      "[[False, False, False, False, False, False, ... False, False, False, False, False]]\n",
      "5j_pt30\n",
      "[[False, False, False, False, False, False, ... False, False, False, False, False]]\n",
      "5j_pt40\n",
      "[[False, False, False, False, False, False, ... False, False, False, False, False]]\n",
      "5j_pt50\n",
      "[[False, False, False, False, False, False, ... False, False, False, False, False]]\n",
      "6j_pt20\n",
      "[[True, True, True, True, True, True, True, ... True, True, True, True, True, True]]\n",
      "6j_pt30\n",
      "[[True, True, True, True, True, True, ... True, True, True, False, False, False]]\n",
      "6j_pt40\n",
      "[[True, True, True, True, True, True, ... False, False, False, False, False, False]]\n",
      "6j_pt50\n",
      "[[True, True, True, True, True, False, ... False, False, False, False, False, False]]\n"
     ]
    }
   ],
   "source": [
    "for c, m in cat.get_masks():\n",
    "    print(c)\n",
    "    print(m)"
   ]
  },
  {
   "cell_type": "code",
   "execution_count": 23,
   "id": "7bea9f17-ae00-4362-aa83-624979938cff",
   "metadata": {},
   "outputs": [
    {
     "data": {
      "text/plain": [
       "[[True, True, True, True, True, True, False],\n",
       " [False, False, False, False, False],\n",
       " [False, False, False, False],\n",
       " [True, True, True, True, True, True, False, False],\n",
       " [True, True, True, True, True, False, False, False, False, False, False],\n",
       " [True, True, True, True, False, False],\n",
       " [True, True, True, True, False, False, False, False, False],\n",
       " [True, True, True, True, True, True, False],\n",
       " [True, True, True, True, False, False, False],\n",
       " [True, True, True, True, False, False, False, False]]"
      ]
     },
     "execution_count": 23,
     "metadata": {},
     "output_type": "execute_result"
    }
   ],
   "source": [
    "cat.get_mask(\"6j_pt30\")[0:10].tolist()"
   ]
  },
  {
   "cell_type": "code",
   "execution_count": 22,
   "id": "af9e4756-ba37-4cbf-bd5f-94783448fd9c",
   "metadata": {},
   "outputs": [
    {
     "data": {
      "text/plain": [
       "[True, False, False, True, True, True, True, True, True, True]"
      ]
     },
     "execution_count": 22,
     "metadata": {},
     "output_type": "execute_result"
    }
   ],
   "source": [
    "ak.any(cat.get_mask(\"6j_pt30\"), axis=1)[0:10].tolist()"
   ]
  },
  {
   "cell_type": "code",
   "execution_count": null,
   "id": "58d837af-8ad3-4beb-b68b-30bf66918e70",
   "metadata": {},
   "outputs": [],
   "source": []
  },
  {
   "cell_type": "markdown",
   "id": "4daf7ac7-66c0-4033-ba86-034ec7d01c0c",
   "metadata": {},
   "source": [
    "# Check output"
   ]
  },
  {
   "cell_type": "code",
   "execution_count": 26,
   "id": "1ee1b568-ca26-40ac-ba80-e52edba84f60",
   "metadata": {},
   "outputs": [],
   "source": [
    "from coffea.util import load"
   ]
  },
  {
   "cell_type": "code",
   "execution_count": 41,
   "id": "9d34531e-d824-4577-b0cc-0f232978f645",
   "metadata": {},
   "outputs": [],
   "source": [
    "df = load(\"../output/test_categorization_v12/output_all.coffea\")"
   ]
  },
  {
   "cell_type": "code",
   "execution_count": 42,
   "id": "3905212e-e2b0-40d1-899c-b68f541b9664",
   "metadata": {},
   "outputs": [
    {
     "data": {
      "text/plain": [
       "{'initial': {'ttHTobb': 149000, 'TTToSemiLeptonic': 3960000},\n",
       " 'skim': {'ttHTobb': 35003, 'TTToSemiLeptonic': 1512412},\n",
       " 'presel': {'ttHTobb': 12062, 'TTToSemiLeptonic': 32385},\n",
       " 'inclusive': {'ttHTobb': 12062.0, 'TTToSemiLeptonic': 32385.0},\n",
       " '4jets_40pt': {'ttHTobb': 10238.0, 'TTToSemiLeptonic': 21288.0},\n",
       " '4j_jeta0.5': {'ttHTobb': 1962.0, 'TTToSemiLeptonic': 10588.0},\n",
       " '4j_jeta1': {'ttHTobb': 2439.0, 'TTToSemiLeptonic': 13322.0},\n",
       " '4j_jeta1.5': {'ttHTobb': 2545.0, 'TTToSemiLeptonic': 13899.0},\n",
       " '5j_jeta0.5': {'ttHTobb': 3248.0, 'TTToSemiLeptonic': 8501.0},\n",
       " '5j_jeta1': {'ttHTobb': 3783.0, 'TTToSemiLeptonic': 10189.0},\n",
       " '5j_jeta1.5': {'ttHTobb': 3881.0, 'TTToSemiLeptonic': 10401.0},\n",
       " '6j_jeta0.5': {'ttHTobb': 5111.0, 'TTToSemiLeptonic': 7072.0},\n",
       " '6j_jeta1': {'ttHTobb': 5575.0, 'TTToSemiLeptonic': 7942.0},\n",
       " '6j_jeta1.5': {'ttHTobb': 5615.0, 'TTToSemiLeptonic': 8015.0}}"
      ]
     },
     "execution_count": 42,
     "metadata": {},
     "output_type": "execute_result"
    }
   ],
   "source": [
    "df[\"cutflow\"]"
   ]
  },
  {
   "cell_type": "code",
   "execution_count": 43,
   "id": "5214d3c7-f79d-4ff6-a6e2-a81431271bd7",
   "metadata": {},
   "outputs": [
    {
     "data": {
      "text/plain": [
       "{'JetGood_eta': {'TTToSemiLeptonic': Hist(\n",
       "    StrCategory(['4j_jeta0.5', '4j_jeta1', '4j_jeta1.5', '4jets_40pt', '5j_jeta0.5', '5j_jeta1', '5j_jeta1.5', '6j_jeta0.5', '6j_jeta1', '6j_jeta1.5', 'inclusive'], name='cat', label='Category'),\n",
       "    StrCategory(['nominal', 'pileupDown', 'pileupUp', 'sf_ele_idDown', 'sf_ele_idUp', 'sf_ele_recoDown', 'sf_ele_recoUp', 'sf_mu_idDown', 'sf_mu_idUp', 'sf_mu_isoDown', 'sf_mu_isoUp'], name='variation', label='Variation'),\n",
       "    StrCategory(['2018'], name='year', label='Year'),\n",
       "    Regular(100, -3, 3, name='JetGood.eta', label='$\\\\eta_{j}$'),\n",
       "    storage=Weight()) # Sum: WeightedSum(value=3.22111e+07, variance=1.81104e+08),\n",
       "  'ttHTobb': Hist(\n",
       "    StrCategory(['4j_jeta0.5', '4j_jeta1', '4j_jeta1.5', '4jets_40pt', '5j_jeta0.5', '5j_jeta1', '5j_jeta1.5', '6j_jeta0.5', '6j_jeta1', '6j_jeta1.5', 'inclusive'], name='cat', label='Category'),\n",
       "    StrCategory(['nominal', 'pileupDown', 'pileupUp', 'sf_ele_idDown', 'sf_ele_idUp', 'sf_ele_recoDown', 'sf_ele_recoUp', 'sf_mu_idDown', 'sf_mu_idUp', 'sf_mu_isoDown', 'sf_mu_isoUp'], name='variation', label='Variation'),\n",
       "    StrCategory(['2018'], name='year', label='Year'),\n",
       "    Regular(100, -3, 3, name='JetGood.eta', label='$\\\\eta_{j}$'),\n",
       "    storage=Weight()) # Sum: WeightedSum(value=310852, variance=38653.3)},\n",
       " 'JetGood_pt': {'TTToSemiLeptonic': Hist(\n",
       "    StrCategory(['4j_jeta0.5', '4j_jeta1', '4j_jeta1.5', '4jets_40pt', '5j_jeta0.5', '5j_jeta1', '5j_jeta1.5', '6j_jeta0.5', '6j_jeta1', '6j_jeta1.5', 'inclusive'], name='cat', label='Category'),\n",
       "    StrCategory(['nominal', 'pileupDown', 'pileupUp', 'sf_ele_idDown', 'sf_ele_idUp', 'sf_ele_recoDown', 'sf_ele_recoUp', 'sf_mu_idDown', 'sf_mu_idUp', 'sf_mu_isoDown', 'sf_mu_isoUp'], name='variation', label='Variation'),\n",
       "    StrCategory(['2018'], name='year', label='Year'),\n",
       "    Regular(150, 0, 1500, name='JetGood.pt', label='$p_{T}^{j}$ [GeV]'),\n",
       "    storage=Weight()) # Sum: WeightedSum(value=3.22111e+07, variance=1.81104e+08),\n",
       "  'ttHTobb': Hist(\n",
       "    StrCategory(['4j_jeta0.5', '4j_jeta1', '4j_jeta1.5', '4jets_40pt', '5j_jeta0.5', '5j_jeta1', '5j_jeta1.5', '6j_jeta0.5', '6j_jeta1', '6j_jeta1.5', 'inclusive'], name='cat', label='Category'),\n",
       "    StrCategory(['nominal', 'pileupDown', 'pileupUp', 'sf_ele_idDown', 'sf_ele_idUp', 'sf_ele_recoDown', 'sf_ele_recoUp', 'sf_mu_idDown', 'sf_mu_idUp', 'sf_mu_isoDown', 'sf_mu_isoUp'], name='variation', label='Variation'),\n",
       "    StrCategory(['2018'], name='year', label='Year'),\n",
       "    Regular(150, 0, 1500, name='JetGood.pt', label='$p_{T}^{j}$ [GeV]'),\n",
       "    storage=Weight()) # Sum: WeightedSum(value=310846, variance=38652.5) (WeightedSum(value=310852, variance=38653.3) with flow)},\n",
       " 'JetGood_phi': {'TTToSemiLeptonic': Hist(\n",
       "    StrCategory(['4j_jeta0.5', '4j_jeta1', '4j_jeta1.5', '4jets_40pt', '5j_jeta0.5', '5j_jeta1', '5j_jeta1.5', '6j_jeta0.5', '6j_jeta1', '6j_jeta1.5', 'inclusive'], name='cat', label='Category'),\n",
       "    StrCategory(['nominal', 'pileupDown', 'pileupUp', 'sf_ele_idDown', 'sf_ele_idUp', 'sf_ele_recoDown', 'sf_ele_recoUp', 'sf_mu_idDown', 'sf_mu_idUp', 'sf_mu_isoDown', 'sf_mu_isoUp'], name='variation', label='Variation'),\n",
       "    StrCategory(['2018'], name='year', label='Year'),\n",
       "    Regular(128, -3.14159, 3.14159, name='JetGood.phi', label='$\\\\phi_{j}$'),\n",
       "    storage=Weight()) # Sum: WeightedSum(value=3.22101e+07, variance=1.81098e+08) (WeightedSum(value=3.22111e+07, variance=1.81104e+08) with flow),\n",
       "  'ttHTobb': Hist(\n",
       "    StrCategory(['4j_jeta0.5', '4j_jeta1', '4j_jeta1.5', '4jets_40pt', '5j_jeta0.5', '5j_jeta1', '5j_jeta1.5', '6j_jeta0.5', '6j_jeta1', '6j_jeta1.5', 'inclusive'], name='cat', label='Category'),\n",
       "    StrCategory(['nominal', 'pileupDown', 'pileupUp', 'sf_ele_idDown', 'sf_ele_idUp', 'sf_ele_recoDown', 'sf_ele_recoUp', 'sf_mu_idDown', 'sf_mu_idUp', 'sf_mu_isoDown', 'sf_mu_isoUp'], name='variation', label='Variation'),\n",
       "    StrCategory(['2018'], name='year', label='Year'),\n",
       "    Regular(128, -3.14159, 3.14159, name='JetGood.phi', label='$\\\\phi_{j}$'),\n",
       "    storage=Weight()) # Sum: WeightedSum(value=310818, variance=38649.3) (WeightedSum(value=310852, variance=38653.3) with flow)},\n",
       " 'JetGood_btagDeepFlavB': {'TTToSemiLeptonic': Hist(\n",
       "    StrCategory(['4j_jeta0.5', '4j_jeta1', '4j_jeta1.5', '4jets_40pt', '5j_jeta0.5', '5j_jeta1', '5j_jeta1.5', '6j_jeta0.5', '6j_jeta1', '6j_jeta1.5', 'inclusive'], name='cat', label='Category'),\n",
       "    StrCategory(['nominal', 'pileupDown', 'pileupUp', 'sf_ele_idDown', 'sf_ele_idUp', 'sf_ele_recoDown', 'sf_ele_recoUp', 'sf_mu_idDown', 'sf_mu_idUp', 'sf_mu_isoDown', 'sf_mu_isoUp'], name='variation', label='Variation'),\n",
       "    StrCategory(['2018'], name='year', label='Year'),\n",
       "    Regular(50, 0, 1, name='JetGood.btagDeepFlavB', label='AK4 DeepJet b-tag score'),\n",
       "    storage=Weight()) # Sum: WeightedSum(value=3.22111e+07, variance=1.81104e+08),\n",
       "  'ttHTobb': Hist(\n",
       "    StrCategory(['4j_jeta0.5', '4j_jeta1', '4j_jeta1.5', '4jets_40pt', '5j_jeta0.5', '5j_jeta1', '5j_jeta1.5', '6j_jeta0.5', '6j_jeta1', '6j_jeta1.5', 'inclusive'], name='cat', label='Category'),\n",
       "    StrCategory(['nominal', 'pileupDown', 'pileupUp', 'sf_ele_idDown', 'sf_ele_idUp', 'sf_ele_recoDown', 'sf_ele_recoUp', 'sf_mu_idDown', 'sf_mu_idUp', 'sf_mu_isoDown', 'sf_mu_isoUp'], name='variation', label='Variation'),\n",
       "    StrCategory(['2018'], name='year', label='Year'),\n",
       "    Regular(50, 0, 1, name='JetGood.btagDeepFlavB', label='AK4 DeepJet b-tag score'),\n",
       "    storage=Weight()) # Sum: WeightedSum(value=310852, variance=38653.3)},\n",
       " 'JetGood_eta_1': {'TTToSemiLeptonic': Hist(\n",
       "    StrCategory(['4j_jeta0.5', '4j_jeta1', '4j_jeta1.5', '4jets_40pt', '5j_jeta0.5', '5j_jeta1', '5j_jeta1.5', '6j_jeta0.5', '6j_jeta1', '6j_jeta1.5', 'inclusive'], name='cat', label='Category'),\n",
       "    StrCategory(['nominal', 'pileupDown', 'pileupUp', 'sf_ele_idDown', 'sf_ele_idUp', 'sf_ele_recoDown', 'sf_ele_recoUp', 'sf_mu_idDown', 'sf_mu_idUp', 'sf_mu_isoDown', 'sf_mu_isoUp'], name='variation', label='Variation'),\n",
       "    StrCategory(['2018'], name='year', label='Year'),\n",
       "    Regular(100, -3, 3, name='JetGood.eta', label='$\\\\eta_{j}$'),\n",
       "    storage=Weight()) # Sum: WeightedSum(value=8.5561e+06, variance=4.81073e+07),\n",
       "  'ttHTobb': Hist(\n",
       "    StrCategory(['4j_jeta0.5', '4j_jeta1', '4j_jeta1.5', '4jets_40pt', '5j_jeta0.5', '5j_jeta1', '5j_jeta1.5', '6j_jeta0.5', '6j_jeta1', '6j_jeta1.5', 'inclusive'], name='cat', label='Category'),\n",
       "    StrCategory(['nominal', 'pileupDown', 'pileupUp', 'sf_ele_idDown', 'sf_ele_idUp', 'sf_ele_recoDown', 'sf_ele_recoUp', 'sf_mu_idDown', 'sf_mu_idUp', 'sf_mu_isoDown', 'sf_mu_isoUp'], name='variation', label='Variation'),\n",
       "    StrCategory(['2018'], name='year', label='Year'),\n",
       "    Regular(100, -3, 3, name='JetGood.eta', label='$\\\\eta_{j}$'),\n",
       "    storage=Weight()) # Sum: WeightedSum(value=71690.3, variance=8913.5)},\n",
       " 'JetGood_pt_1': {'TTToSemiLeptonic': Hist(\n",
       "    StrCategory(['4j_jeta0.5', '4j_jeta1', '4j_jeta1.5', '4jets_40pt', '5j_jeta0.5', '5j_jeta1', '5j_jeta1.5', '6j_jeta0.5', '6j_jeta1', '6j_jeta1.5', 'inclusive'], name='cat', label='Category'),\n",
       "    StrCategory(['nominal', 'pileupDown', 'pileupUp', 'sf_ele_idDown', 'sf_ele_idUp', 'sf_ele_recoDown', 'sf_ele_recoUp', 'sf_mu_idDown', 'sf_mu_idUp', 'sf_mu_isoDown', 'sf_mu_isoUp'], name='variation', label='Variation'),\n",
       "    StrCategory(['2018'], name='year', label='Year'),\n",
       "    Regular(150, 0, 1500, name='JetGood.pt', label='$p_{T}^{j}$ [GeV]'),\n",
       "    storage=Weight()) # Sum: WeightedSum(value=8.5561e+06, variance=4.81073e+07),\n",
       "  'ttHTobb': Hist(\n",
       "    StrCategory(['4j_jeta0.5', '4j_jeta1', '4j_jeta1.5', '4jets_40pt', '5j_jeta0.5', '5j_jeta1', '5j_jeta1.5', '6j_jeta0.5', '6j_jeta1', '6j_jeta1.5', 'inclusive'], name='cat', label='Category'),\n",
       "    StrCategory(['nominal', 'pileupDown', 'pileupUp', 'sf_ele_idDown', 'sf_ele_idUp', 'sf_ele_recoDown', 'sf_ele_recoUp', 'sf_mu_idDown', 'sf_mu_idUp', 'sf_mu_isoDown', 'sf_mu_isoUp'], name='variation', label='Variation'),\n",
       "    StrCategory(['2018'], name='year', label='Year'),\n",
       "    Regular(150, 0, 1500, name='JetGood.pt', label='$p_{T}^{j}$ [GeV]'),\n",
       "    storage=Weight()) # Sum: WeightedSum(value=71683.7, variance=8912.7) (WeightedSum(value=71690.3, variance=8913.5) with flow)},\n",
       " 'JetGood_phi_1': {'TTToSemiLeptonic': Hist(\n",
       "    StrCategory(['4j_jeta0.5', '4j_jeta1', '4j_jeta1.5', '4jets_40pt', '5j_jeta0.5', '5j_jeta1', '5j_jeta1.5', '6j_jeta0.5', '6j_jeta1', '6j_jeta1.5', 'inclusive'], name='cat', label='Category'),\n",
       "    StrCategory(['nominal', 'pileupDown', 'pileupUp', 'sf_ele_idDown', 'sf_ele_idUp', 'sf_ele_recoDown', 'sf_ele_recoUp', 'sf_mu_idDown', 'sf_mu_idUp', 'sf_mu_isoDown', 'sf_mu_isoUp'], name='variation', label='Variation'),\n",
       "    StrCategory(['2018'], name='year', label='Year'),\n",
       "    Regular(128, -3.14159, 3.14159, name='JetGood.phi', label='$\\\\phi_{j}$'),\n",
       "    storage=Weight()) # Sum: WeightedSum(value=8.55585e+06, variance=4.81059e+07) (WeightedSum(value=8.5561e+06, variance=4.81073e+07) with flow),\n",
       "  'ttHTobb': Hist(\n",
       "    StrCategory(['4j_jeta0.5', '4j_jeta1', '4j_jeta1.5', '4jets_40pt', '5j_jeta0.5', '5j_jeta1', '5j_jeta1.5', '6j_jeta0.5', '6j_jeta1', '6j_jeta1.5', 'inclusive'], name='cat', label='Category'),\n",
       "    StrCategory(['nominal', 'pileupDown', 'pileupUp', 'sf_ele_idDown', 'sf_ele_idUp', 'sf_ele_recoDown', 'sf_ele_recoUp', 'sf_mu_idDown', 'sf_mu_idUp', 'sf_mu_isoDown', 'sf_mu_isoUp'], name='variation', label='Variation'),\n",
       "    StrCategory(['2018'], name='year', label='Year'),\n",
       "    Regular(128, -3.14159, 3.14159, name='JetGood.phi', label='$\\\\phi_{j}$'),\n",
       "    storage=Weight()) # Sum: WeightedSum(value=71690.3, variance=8913.5)},\n",
       " 'JetGood_btagDeepFlavB_1': {'TTToSemiLeptonic': Hist(\n",
       "    StrCategory(['4j_jeta0.5', '4j_jeta1', '4j_jeta1.5', '4jets_40pt', '5j_jeta0.5', '5j_jeta1', '5j_jeta1.5', '6j_jeta0.5', '6j_jeta1', '6j_jeta1.5', 'inclusive'], name='cat', label='Category'),\n",
       "    StrCategory(['nominal', 'pileupDown', 'pileupUp', 'sf_ele_idDown', 'sf_ele_idUp', 'sf_ele_recoDown', 'sf_ele_recoUp', 'sf_mu_idDown', 'sf_mu_idUp', 'sf_mu_isoDown', 'sf_mu_isoUp'], name='variation', label='Variation'),\n",
       "    StrCategory(['2018'], name='year', label='Year'),\n",
       "    Regular(50, 0, 1, name='JetGood.btagDeepFlavB', label='AK4 DeepJet b-tag score'),\n",
       "    storage=Weight()) # Sum: WeightedSum(value=8.5561e+06, variance=4.81073e+07),\n",
       "  'ttHTobb': Hist(\n",
       "    StrCategory(['4j_jeta0.5', '4j_jeta1', '4j_jeta1.5', '4jets_40pt', '5j_jeta0.5', '5j_jeta1', '5j_jeta1.5', '6j_jeta0.5', '6j_jeta1', '6j_jeta1.5', 'inclusive'], name='cat', label='Category'),\n",
       "    StrCategory(['nominal', 'pileupDown', 'pileupUp', 'sf_ele_idDown', 'sf_ele_idUp', 'sf_ele_recoDown', 'sf_ele_recoUp', 'sf_mu_idDown', 'sf_mu_idUp', 'sf_mu_isoDown', 'sf_mu_isoUp'], name='variation', label='Variation'),\n",
       "    StrCategory(['2018'], name='year', label='Year'),\n",
       "    Regular(50, 0, 1, name='JetGood.btagDeepFlavB', label='AK4 DeepJet b-tag score'),\n",
       "    storage=Weight()) # Sum: WeightedSum(value=71690.3, variance=8913.5)},\n",
       " 'nJets': {'TTToSemiLeptonic': Hist(\n",
       "    StrCategory(['4j_jeta0.5', '4j_jeta1', '4j_jeta1.5', '4jets_40pt', '5j_jeta0.5', '5j_jeta1', '5j_jeta1.5', '6j_jeta0.5', '6j_jeta1', '6j_jeta1.5', 'inclusive'], name='cat', label='Category'),\n",
       "    StrCategory(['nominal', 'pileupDown', 'pileupUp', 'sf_ele_idDown', 'sf_ele_idUp', 'sf_ele_recoDown', 'sf_ele_recoUp', 'sf_mu_idDown', 'sf_mu_idUp', 'sf_mu_isoDown', 'sf_mu_isoUp'], name='variation', label='Variation'),\n",
       "    StrCategory(['2018'], name='year', label='Year'),\n",
       "    Regular(10, 4, 14, name='events.nJetGood', label='$N_{JetGood}$'),\n",
       "    storage=Weight()) # Sum: WeightedSum(value=8.55584e+06, variance=4.81061e+07) (WeightedSum(value=8.5561e+06, variance=4.81073e+07) with flow),\n",
       "  'ttHTobb': Hist(\n",
       "    StrCategory(['4j_jeta0.5', '4j_jeta1', '4j_jeta1.5', '4jets_40pt', '5j_jeta0.5', '5j_jeta1', '5j_jeta1.5', '6j_jeta0.5', '6j_jeta1', '6j_jeta1.5', 'inclusive'], name='cat', label='Category'),\n",
       "    StrCategory(['nominal', 'pileupDown', 'pileupUp', 'sf_ele_idDown', 'sf_ele_idUp', 'sf_ele_recoDown', 'sf_ele_recoUp', 'sf_mu_idDown', 'sf_mu_idUp', 'sf_mu_isoDown', 'sf_mu_isoUp'], name='variation', label='Variation'),\n",
       "    StrCategory(['2018'], name='year', label='Year'),\n",
       "    Regular(10, 4, 14, name='events.nJetGood', label='$N_{JetGood}$'),\n",
       "    storage=Weight()) # Sum: WeightedSum(value=71683.1, variance=8912.53) (WeightedSum(value=71690.3, variance=8913.5) with flow)},\n",
       " 'nBJets': {'TTToSemiLeptonic': Hist(\n",
       "    StrCategory(['4j_jeta0.5', '4j_jeta1', '4j_jeta1.5', '4jets_40pt', '5j_jeta0.5', '5j_jeta1', '5j_jeta1.5', '6j_jeta0.5', '6j_jeta1', '6j_jeta1.5', 'inclusive'], name='cat', label='Category'),\n",
       "    StrCategory(['nominal', 'pileupDown', 'pileupUp', 'sf_ele_idDown', 'sf_ele_idUp', 'sf_ele_recoDown', 'sf_ele_recoUp', 'sf_mu_idDown', 'sf_mu_idUp', 'sf_mu_isoDown', 'sf_mu_isoUp'], name='variation', label='Variation'),\n",
       "    StrCategory(['2018'], name='year', label='Year'),\n",
       "    Regular(12, 2, 14, name='events.nBJetGood', label='$N_{BJetGood}$'),\n",
       "    storage=Weight()) # Sum: WeightedSum(value=8.5561e+06, variance=4.81073e+07),\n",
       "  'ttHTobb': Hist(\n",
       "    StrCategory(['4j_jeta0.5', '4j_jeta1', '4j_jeta1.5', '4jets_40pt', '5j_jeta0.5', '5j_jeta1', '5j_jeta1.5', '6j_jeta0.5', '6j_jeta1', '6j_jeta1.5', 'inclusive'], name='cat', label='Category'),\n",
       "    StrCategory(['nominal', 'pileupDown', 'pileupUp', 'sf_ele_idDown', 'sf_ele_idUp', 'sf_ele_recoDown', 'sf_ele_recoUp', 'sf_mu_idDown', 'sf_mu_idUp', 'sf_mu_isoDown', 'sf_mu_isoUp'], name='variation', label='Variation'),\n",
       "    StrCategory(['2018'], name='year', label='Year'),\n",
       "    Regular(12, 2, 14, name='events.nBJetGood', label='$N_{BJetGood}$'),\n",
       "    storage=Weight()) # Sum: WeightedSum(value=71690.3, variance=8913.5)}}"
      ]
     },
     "execution_count": 43,
     "metadata": {},
     "output_type": "execute_result"
    }
   ],
   "source": [
    "df[\"variables\"]"
   ]
  },
  {
   "cell_type": "code",
   "execution_count": 44,
   "id": "08e5db51-0329-4607-bfbd-a29744bd77cb",
   "metadata": {},
   "outputs": [],
   "source": [
    "H = df[\"variables\"][\"nJets\"][\"ttHTobb\"]"
   ]
  },
  {
   "cell_type": "code",
   "execution_count": 45,
   "id": "f90bf47b-045f-4b73-9b98-b5b42a45481d",
   "metadata": {},
   "outputs": [
    {
     "data": {
      "text/plain": [
       "Hist(\n",
       "  StrCategory(['4j_jeta0.5', '4j_jeta1', '4j_jeta1.5', '4jets_40pt', '5j_jeta0.5', '5j_jeta1', '5j_jeta1.5', '6j_jeta0.5', '6j_jeta1', '6j_jeta1.5', 'inclusive'], name='cat', label='Category'),\n",
       "  StrCategory(['nominal', 'pileupDown', 'pileupUp', 'sf_ele_idDown', 'sf_ele_idUp', 'sf_ele_recoDown', 'sf_ele_recoUp', 'sf_mu_idDown', 'sf_mu_idUp', 'sf_mu_isoDown', 'sf_mu_isoUp'], name='variation', label='Variation'),\n",
       "  StrCategory(['2018'], name='year', label='Year'),\n",
       "  Regular(10, 4, 14, name='events.nJetGood', label='$N_{JetGood}$'),\n",
       "  storage=Weight()) # Sum: WeightedSum(value=71683.1, variance=8912.53) (WeightedSum(value=71690.3, variance=8913.5) with flow)"
      ]
     },
     "execution_count": 45,
     "metadata": {},
     "output_type": "execute_result"
    }
   ],
   "source": [
    "H"
   ]
  },
  {
   "cell_type": "code",
   "execution_count": 46,
   "id": "44a9a7dc-c878-4386-ba01-63fd6632330f",
   "metadata": {},
   "outputs": [
    {
     "data": {
      "text/html": [
       "<html>\n",
       "<div style=\"display:flex; align-items:center;\">\n",
       "<div style=\"width:290px;\">\n",
       "<svg xmlns=\"http://www.w3.org/2000/svg\" viewBox=\"-10 -105 270 120\">\n",
       "<line x1=\"-5\" y1=\"0\" x2=\"255\" y2=\"0\" style=\"fill:none;stroke-width:2;stroke:currentColor\"/>\n",
       "<text text-anchor=\"middle\" x=\"0\" y=\"15\" style=\"fill:currentColor;\">\n",
       "4\n",
       "</text>\n",
       "<text text-anchor=\"middle\" x=\"250\" y=\"15\" style=\"fill:currentColor;\">\n",
       "14\n",
       "</text>\n",
       "<text text-anchor=\"middle\" x=\"125.0\" y=\"15\" style=\"fill:currentColor;\">\n",
       "$N_{JetGood}$\n",
       "</text>\n",
       "<polyline points=\"  0,0   0,-65.6  25,-65.6  25,-100  50,-100  50,-81  75,-81  75,-41.1 100,-41.1 100,-15.5 125,-15.5 125,-5.08 150,-5.08 150,-1.37 175,-1.37 175,-0.575 200,-0.575 200,-0.0536 225,-0.0536 225,-0.0231 250,-0.0231 250,0\" style=\"fill:none; stroke:currentColor;\"/>\n",
       "</svg>\n",
       "</div>\n",
       "<div style=\"flex=grow:1;\">\n",
       "Regular(10, 4, 14, name='events.nJetGood', label='$N_{JetGood}$')<br/>\n",
       "<hr style=\"margin-top:.2em; margin-bottom:.2em;\"/>\n",
       "Weight() Σ=WeightedSum(value=1389.42, variance=169.553) <em>(WeightedSum(value=1389.55, variance=169.571) with flow)</em>\n",
       "\n",
       "</div>\n",
       "</div>\n",
       "</html>"
      ],
      "text/plain": [
       "Hist(Regular(10, 4, 14, name='events.nJetGood', label='$N_{JetGood}$'), storage=Weight()) # Sum: WeightedSum(value=1389.42, variance=169.553) (WeightedSum(value=1389.55, variance=169.571) with flow)"
      ]
     },
     "execution_count": 46,
     "metadata": {},
     "output_type": "execute_result"
    }
   ],
   "source": [
    "H[\"inclusive\",\"nominal\",\"2018\",:]"
   ]
  },
  {
   "cell_type": "code",
   "execution_count": 58,
   "id": "5805a692-c5b4-433f-b191-afb5ae4e15b6",
   "metadata": {},
   "outputs": [
    {
     "data": {
      "text/plain": [
       "1389.5464423238516"
      ]
     },
     "execution_count": 58,
     "metadata": {},
     "output_type": "execute_result"
    }
   ],
   "source": [
    "H[\"inclusive\",\"nominal\",\"2018\",:].view(flow=True).value.sum()"
   ]
  },
  {
   "cell_type": "code",
   "execution_count": 59,
   "id": "769d5225-3eca-489e-a15a-8bf687ef4cfd",
   "metadata": {},
   "outputs": [
    {
     "data": {
      "text/plain": [
       "{'inclusive': {'ttHTobb': 1389.5464423238516,\n",
       "  'TTToSemiLeptonic': 174942.1572773695},\n",
       " '4jets_40pt': {'ttHTobb': 1176.986271210803,\n",
       "  'TTToSemiLeptonic': 114958.58067325674},\n",
       " '4j_jeta0.5': {'ttHTobb': 224.7824955066777,\n",
       "  'TTToSemiLeptonic': 57267.76008078904},\n",
       " '4j_jeta1': {'ttHTobb': 280.243670149723,\n",
       "  'TTToSemiLeptonic': 72076.37027102594},\n",
       " '4j_jeta1.5': {'ttHTobb': 291.94423508432834,\n",
       "  'TTToSemiLeptonic': 75181.32198418412},\n",
       " '5j_jeta0.5': {'ttHTobb': 374.12424332143723,\n",
       "  'TTToSemiLeptonic': 45904.27340015596},\n",
       " '5j_jeta1': {'ttHTobb': 435.45610442629453,\n",
       "  'TTToSemiLeptonic': 54976.81349206838},\n",
       " '5j_jeta1.5': {'ttHTobb': 446.89106482434545,\n",
       "  'TTToSemiLeptonic': 56122.854388377404},\n",
       " '6j_jeta0.5': {'ttHTobb': 589.8999026718219,\n",
       "  'TTToSemiLeptonic': 38196.4513364833},\n",
       " '6j_jeta1': {'ttHTobb': 643.645127765392,\n",
       "  'TTToSemiLeptonic': 42879.75903729545},\n",
       " '6j_jeta1.5': {'ttHTobb': 648.277254602276,\n",
       "  'TTToSemiLeptonic': 43261.604672562076}}"
      ]
     },
     "execution_count": 59,
     "metadata": {},
     "output_type": "execute_result"
    }
   ],
   "source": [
    "df[\"sumw\"]"
   ]
  },
  {
   "cell_type": "code",
   "execution_count": 75,
   "id": "b7341af1-ec17-4b66-ab4d-67bd8c55e63e",
   "metadata": {},
   "outputs": [
    {
     "data": {
      "text/html": [
       "<html>\n",
       "<div style=\"display:flex; align-items:center;\">\n",
       "<div style=\"width:290px;\">\n",
       "<svg xmlns=\"http://www.w3.org/2000/svg\" viewBox=\"-10 -105 270 120\">\n",
       "<line x1=\"-5\" y1=\"0\" x2=\"255\" y2=\"0\" style=\"fill:none;stroke-width:2;stroke:currentColor\"/>\n",
       "<text text-anchor=\"middle\" x=\"0\" y=\"15\" style=\"fill:currentColor;\">\n",
       "0\n",
       "</text>\n",
       "<text text-anchor=\"middle\" x=\"250\" y=\"15\" style=\"fill:currentColor;\">\n",
       "1.5e+03\n",
       "</text>\n",
       "<text text-anchor=\"middle\" x=\"125.0\" y=\"15\" style=\"fill:currentColor;\">\n",
       "$p_{T}^{j}$ [GeV]\n",
       "</text>\n",
       "<polyline points=\"  0,0   0,-0 1.66667,-0 1.66667,-0 3.33333,-0 3.33333,-0   5,-0   5,-0.105 6.66667,-0.105 6.66667,-1.07 8.33333,-1.07 8.33333,-10.2  10,-10.2  10,-30.3 11.6667,-30.3 11.6667,-50.8 13.3333,-50.8 13.3333,-74  15,-74  15,-90.7 16.6667,-90.7 16.6667,-100 18.3333,-100 18.3333,-92.3  20,-92.3  20,-90.8 21.6667,-90.8 21.6667,-92.1 23.3333,-92.1 23.3333,-78.6  25,-78.6  25,-71.9 26.6667,-71.9 26.6667,-63 28.3333,-63 28.3333,-61.8  30,-61.8  30,-52.5 31.6667,-52.5 31.6667,-42.6 33.3333,-42.6 33.3333,-42.1  35,-42.1  35,-34.9 36.6667,-34.9 36.6667,-35 38.3333,-35 38.3333,-29  40,-29  40,-23 41.6667,-23 41.6667,-21.3 43.3333,-21.3 43.3333,-21.2  45,-21.2  45,-18.6 46.6667,-18.6 46.6667,-14.9 48.3333,-14.9 48.3333,-10.7  50,-10.7  50,-10.9 51.6667,-10.9 51.6667,-12.6 53.3333,-12.6 53.3333,-9.44  55,-9.44  55,-9.23 56.6667,-9.23 56.6667,-8.4 58.3333,-8.4 58.3333,-5.99  60,-5.99  60,-6.89 61.6667,-6.89 61.6667,-4.93 63.3333,-4.93 63.3333,-6.81  65,-6.81  65,-4.9 66.6667,-4.9 66.6667,-3.19 68.3333,-3.19 68.3333,-5.11  70,-5.11  70,-3.74 71.6667,-3.74 71.6667,-3.92 73.3333,-3.92 73.3333,-3.13  75,-3.13  75,-2.8 76.6667,-2.8 76.6667,-2.78 78.3333,-2.78 78.3333,-2.27  80,-2.27  80,-2.25 81.6667,-2.25 81.6667,-2.25 83.3333,-2.25 83.3333,-2.01  85,-2.01  85,-1.44 86.6667,-1.44 86.6667,-1.51 88.3333,-1.51 88.3333,-1.27  90,-1.27  90,-1.87 91.6667,-1.87 91.6667,-0.914 93.3333,-0.914 93.3333,-0.973  95,-0.973  95,-1.3 96.6667,-1.3 96.6667,-0.734 98.3333,-0.734 98.3333,-1.33 100,-1.33 100,-1.18 101.667,-1.18 101.667,-0.693 103.333,-0.693 103.333,-0.897 105,-0.897 105,-0.351 106.667,-0.351 106.667,-0.482 108.333,-0.482 108.333,-1.17 110,-1.17 110,-1.08 111.667,-1.08 111.667,-0.352 113.333,-0.352 113.333,-1.09 115,-1.09 115,-0.594 116.667,-0.594 116.667,-0.579 118.333,-0.579 118.333,-0.503 120,-0.503 120,-0.356 121.667,-0.356 121.667,-0.244 123.333,-0.244 123.333,-0.806 125,-0.806 125,-0.474 126.667,-0.474 126.667,-0 128.333,-0 128.333,-0.581 130,-0.581 130,-0.335 131.667,-0.335 131.667,0.0139 133.333,0.0139 133.333,-0.254 135,-0.254 135,0.0257 136.667,0.0257 136.667,-0.21 138.333,-0.21 138.333,-0.355 140,-0.355 140,-0.503 141.667,-0.503 141.667,-0.111 143.333,-0.111 143.333,-0.235 145,-0.235 145,-0.229 146.667,-0.229 146.667,-0.457 148.333,-0.457 148.333,-0.267 150,-0.267 150,-0 151.667,-0 151.667,-0.124 153.333,-0.124 153.333,-0.219 155,-0.219 155,-0.12 156.667,-0.12 156.667,-0 158.333,-0 158.333,-0.24 160,-0.24 160,-0.225 161.667,-0.225 161.667,-0.113 163.333,-0.113 163.333,-0 165,-0 165,-0 166.667,-0 166.667,-0.249 168.333,-0.249 168.333,-0 170,-0 170,-0 171.667,-0 171.667,-0 173.333,-0 173.333,-0.0958 175,-0.0958 175,-0.118 176.667,-0.118 176.667,-0 178.333,-0 178.333,-0 180,-0 180,-0 181.667,-0 181.667,-0.0153 183.333,-0.0153 183.333,-0 185,-0 185,-0 186.667,-0 186.667,-0 188.333,-0 188.333,-0 190,-0 190,-0.106 191.667,-0.106 191.667,-0 193.333,-0 193.333,-0 195,-0 195,-0 196.667,-0 196.667,-0 198.333,-0 198.333,-0.123 200,-0.123 200,-0 201.667,-0 201.667,-0 203.333,-0 203.333,-0 205,-0 205,-0 206.667,-0 206.667,-0.108 208.333,-0.108 208.333,-0 210,-0 210,-0.121 211.667,-0.121 211.667,-0 213.333,-0 213.333,-0.114 215,-0.114 215,-0 216.667,-0 216.667,-0 218.333,-0 218.333,-0 220,-0 220,-0 221.667,-0 221.667,-0 223.333,-0 223.333,-0.111 225,-0.111 225,-0 226.667,-0 226.667,-0 228.333,-0 228.333,-0 230,-0 230,-0 231.667,-0 231.667,-0 233.333,-0 233.333,-0 235,-0 235,-0 236.667,-0 236.667,-0 238.333,-0 238.333,-0 240,-0 240,-0 241.667,-0 241.667,-0 243.333,-0 243.333,-0 245,-0 245,-0 246.667,-0 246.667,-0 248.333,-0 248.333,-0 250,-0 250,0\" style=\"fill:none; stroke:currentColor;\"/>\n",
       "</svg>\n",
       "</div>\n",
       "<div style=\"flex=grow:1;\">\n",
       "Regular(150, 0, 1500, name='JetGood.pt', label='$p_{T}^{j}$ [GeV]')<br/>\n",
       "<hr style=\"margin-top:.2em; margin-bottom:.2em;\"/>\n",
       "Weight() Σ=WeightedSum(value=1389.43, variance=169.556) <em>(WeightedSum(value=1389.55, variance=169.571) with flow)</em>\n",
       "\n",
       "</div>\n",
       "</div>\n",
       "</html>"
      ],
      "text/plain": [
       "Hist(Regular(150, 0, 1500, name='JetGood.pt', label='$p_{T}^{j}$ [GeV]'), storage=Weight()) # Sum: WeightedSum(value=1389.43, variance=169.556) (WeightedSum(value=1389.55, variance=169.571) with flow)"
      ]
     },
     "execution_count": 75,
     "metadata": {},
     "output_type": "execute_result"
    }
   ],
   "source": [
    "H = df[\"variables\"][\"JetGood_pt_1\"][\"ttHTobb\"]\n",
    "H[\"inclusive\",\"nominal\",\"2018\",:]"
   ]
  },
  {
   "cell_type": "code",
   "execution_count": 76,
   "id": "bf14dec9-d7c8-4564-ae33-177a02dead53",
   "metadata": {},
   "outputs": [
    {
     "data": {
      "text/plain": [
       "WeightedSum(value=1389.43, variance=169.556)"
      ]
     },
     "execution_count": 76,
     "metadata": {},
     "output_type": "execute_result"
    }
   ],
   "source": [
    "H[\"inclusive\",\"nominal\",\"2018\",:].sum()"
   ]
  },
  {
   "cell_type": "code",
   "execution_count": 69,
   "id": "b6d03190-77b5-457c-988d-d4979ff53485",
   "metadata": {},
   "outputs": [
    {
     "data": {
      "text/html": [
       "<html>\n",
       "<div style=\"display:flex; align-items:center;\">\n",
       "<div style=\"width:290px;\">\n",
       "<svg xmlns=\"http://www.w3.org/2000/svg\" viewBox=\"-10 -105 270 120\">\n",
       "<line x1=\"-5\" y1=\"0\" x2=\"255\" y2=\"0\" style=\"fill:none;stroke-width:2;stroke:currentColor\"/>\n",
       "<text text-anchor=\"middle\" x=\"0\" y=\"15\" style=\"fill:currentColor;\">\n",
       "-3\n",
       "</text>\n",
       "<text text-anchor=\"middle\" x=\"250\" y=\"15\" style=\"fill:currentColor;\">\n",
       "3\n",
       "</text>\n",
       "<text text-anchor=\"middle\" x=\"125.0\" y=\"15\" style=\"fill:currentColor;\">\n",
       "$\\eta_{j}$\n",
       "</text>\n",
       "<polyline points=\"  0,0   0,-0 2.5,-0 2.5,-0   5,-0   5,-0 7.5,-0 7.5,-0  10,-0  10,-0 12.5,-0 12.5,-0  15,-0  15,-0 17.5,-0 17.5,-0  20,-0  20,-0 22.5,-0 22.5,-0  25,-0  25,-14.9 27.5,-14.9 27.5,-18.6  30,-18.6  30,-18.1 32.5,-18.1 32.5,-19.3  35,-19.3  35,-21 37.5,-21 37.5,-22.7  40,-22.7  40,-23.5 42.5,-23.5 42.5,-28.4  45,-28.4  45,-31.3 47.5,-31.3 47.5,-32.4  50,-32.4  50,-34.1 52.5,-34.1 52.5,-36.9  55,-36.9  55,-42.1 57.5,-42.1 57.5,-40.8  60,-40.8  60,-49.3 62.5,-49.3 62.5,-46.6  65,-46.6  65,-54.3 67.5,-54.3 67.5,-52.2  70,-52.2  70,-53.3 72.5,-53.3 72.5,-56  75,-56  75,-64.5 77.5,-64.5 77.5,-67.8  80,-67.8  80,-63.6 82.5,-63.6 82.5,-71.4  85,-71.4  85,-77 87.5,-77 87.5,-81.3  90,-81.3  90,-78.8 92.5,-78.8 92.5,-84.4  95,-84.4  95,-86.4 97.5,-86.4 97.5,-88.2 100,-88.2 100,-89 102.5,-89 102.5,-92.9 105,-92.9 105,-95.3 107.5,-95.3 107.5,-87.5 110,-87.5 110,-90.5 112.5,-90.5 112.5,-97.3 115,-97.3 115,-97.7 117.5,-97.7 117.5,-97.5 120,-97.5 120,-98.9 122.5,-98.9 122.5,-99.3 125,-99.3 125,-100 127.5,-100 127.5,-92.1 130,-92.1 130,-93.4 132.5,-93.4 132.5,-93.7 135,-93.7 135,-98.8 137.5,-98.8 137.5,-99.2 140,-99.2 140,-90.5 142.5,-90.5 142.5,-88.8 145,-88.8 145,-88.9 147.5,-88.9 147.5,-86.6 150,-86.6 150,-82.8 152.5,-82.8 152.5,-83.9 155,-83.9 155,-79.6 157.5,-79.6 157.5,-81.3 160,-81.3 160,-72 162.5,-72 162.5,-72.5 165,-72.5 165,-70.8 167.5,-70.8 167.5,-66.3 170,-66.3 170,-67 172.5,-67 172.5,-60.9 175,-60.9 175,-55.6 177.5,-55.6 177.5,-54.3 180,-54.3 180,-50.5 182.5,-50.5 182.5,-51.9 185,-51.9 185,-49.4 187.5,-49.4 187.5,-46 190,-46 190,-45.7 192.5,-45.7 192.5,-41.4 195,-41.4 195,-38 197.5,-38 197.5,-33.4 200,-33.4 200,-31 202.5,-31 202.5,-28.8 205,-28.8 205,-26.7 207.5,-26.7 207.5,-24 210,-24 210,-22.2 212.5,-22.2 212.5,-20.8 215,-20.8 215,-20.4 217.5,-20.4 217.5,-17 220,-17 220,-17.5 222.5,-17.5 222.5,-14.9 225,-14.9 225,-0 227.5,-0 227.5,-0 230,-0 230,-0 232.5,-0 232.5,-0 235,-0 235,-0 237.5,-0 237.5,-0 240,-0 240,-0 242.5,-0 242.5,-0 245,-0 245,-0 247.5,-0 247.5,-0 250,-0 250,0\" style=\"fill:none; stroke:currentColor;\"/>\n",
       "</svg>\n",
       "</div>\n",
       "<div style=\"flex=grow:1;\">\n",
       "Regular(100, -3, 3, name='JetGood.eta', label='$\\\\eta_{j}$')<br/>\n",
       "<hr style=\"margin-top:.2em; margin-bottom:.2em;\"/>\n",
       "Weight() Σ=WeightedSum(value=7734.2, variance=944.047)\n",
       "\n",
       "</div>\n",
       "</div>\n",
       "</html>"
      ],
      "text/plain": [
       "Hist(Regular(100, -3, 3, name='JetGood.eta', label='$\\\\eta_{j}$'), storage=Weight()) # Sum: WeightedSum(value=7734.2, variance=944.047)"
      ]
     },
     "execution_count": 69,
     "metadata": {},
     "output_type": "execute_result"
    }
   ],
   "source": [
    "H = df[\"variables\"][\"JetGood_eta\"][\"ttHTobb\"]\n",
    "H[\"inclusive\",\"nominal\",\"2018\",:]"
   ]
  },
  {
   "cell_type": "code",
   "execution_count": 68,
   "id": "6d199c85-921c-4296-b329-2e3db0bede01",
   "metadata": {},
   "outputs": [
    {
     "data": {
      "text/plain": [
       "WeightedSum(value=7734.2, variance=944.047)"
      ]
     },
     "execution_count": 68,
     "metadata": {},
     "output_type": "execute_result"
    }
   ],
   "source": [
    "H[\"inclusive\",\"nominal\",\"2018\",:].sum()"
   ]
  },
  {
   "cell_type": "code",
   "execution_count": 75,
   "id": "de7f0ed8-52a0-4308-bf5c-12c1265565eb",
   "metadata": {},
   "outputs": [
    {
     "data": {
      "text/html": [
       "<html>\n",
       "<div style=\"display:flex; align-items:center;\">\n",
       "<div style=\"width:290px;\">\n",
       "<svg xmlns=\"http://www.w3.org/2000/svg\" viewBox=\"-10 -105 270 120\">\n",
       "<line x1=\"-5\" y1=\"0\" x2=\"255\" y2=\"0\" style=\"fill:none;stroke-width:2;stroke:currentColor\"/>\n",
       "<text text-anchor=\"middle\" x=\"0\" y=\"15\" style=\"fill:currentColor;\">\n",
       "-3\n",
       "</text>\n",
       "<text text-anchor=\"middle\" x=\"250\" y=\"15\" style=\"fill:currentColor;\">\n",
       "3\n",
       "</text>\n",
       "<text text-anchor=\"middle\" x=\"125.0\" y=\"15\" style=\"fill:currentColor;\">\n",
       "$\\eta_{j}$\n",
       "</text>\n",
       "<polyline points=\"  0,0   0,-0 2.5,-0 2.5,-0   5,-0   5,-0 7.5,-0 7.5,-0  10,-0  10,-0 12.5,-0 12.5,-0  15,-0  15,-0 17.5,-0 17.5,-0  20,-0  20,-0 22.5,-0 22.5,-0  25,-0  25,-0 27.5,-0 27.5,-0  30,-0  30,-0 32.5,-0 32.5,-0  35,-0  35,-0 37.5,-0 37.5,-0  40,-0  40,-0 42.5,-0 42.5,-0  45,-0  45,-0 47.5,-0 47.5,-0  50,-0  50,-0 52.5,-0 52.5,-0  55,-0  55,-0 57.5,-0 57.5,-0  60,-0  60,-0 62.5,-0 62.5,-0  65,-0  65,-0 67.5,-0 67.5,-0  70,-0  70,-0 72.5,-0 72.5,-0  75,-0  75,-0 77.5,-0 77.5,-0  80,-0  80,-0 82.5,-0 82.5,-48.5  85,-48.5  85,-70.7 87.5,-70.7 87.5,-80.5  90,-80.5  90,-76.6 92.5,-76.6 92.5,-78.6  95,-78.6  95,-81.4 97.5,-81.4 97.5,-79.7 100,-79.7 100,-83.1 102.5,-83.1 102.5,-79.8 105,-79.8 105,-84.2 107.5,-84.2 107.5,-83.4 110,-83.4 110,-85.3 112.5,-85.3 112.5,-98.4 115,-98.4 115,-91 117.5,-91 117.5,-88.3 120,-88.3 120,-97.3 122.5,-97.3 122.5,-99.3 125,-99.3 125,-100 127.5,-100 127.5,-82.4 130,-82.4 130,-88.6 132.5,-88.6 132.5,-87.8 135,-87.8 135,-99.5 137.5,-99.5 137.5,-91.9 140,-91.9 140,-87.1 142.5,-87.1 142.5,-83.1 145,-83.1 145,-89.1 147.5,-89.1 147.5,-76.8 150,-76.8 150,-78.6 152.5,-78.6 152.5,-78.7 155,-78.7 155,-74.1 157.5,-74.1 157.5,-77.7 160,-77.7 160,-71.2 162.5,-71.2 162.5,-71.1 165,-71.1 165,-46.7 167.5,-46.7 167.5,-0 170,-0 170,-0 172.5,-0 172.5,-0 175,-0 175,-0 177.5,-0 177.5,-0 180,-0 180,-0 182.5,-0 182.5,-0 185,-0 185,-0 187.5,-0 187.5,-0 190,-0 190,-0 192.5,-0 192.5,-0 195,-0 195,-0 197.5,-0 197.5,-0 200,-0 200,-0 202.5,-0 202.5,-0 205,-0 205,-0 207.5,-0 207.5,-0 210,-0 210,-0 212.5,-0 212.5,-0 215,-0 215,-0 217.5,-0 217.5,-0 220,-0 220,-0 222.5,-0 222.5,-0 225,-0 225,-0 227.5,-0 227.5,-0 230,-0 230,-0 232.5,-0 232.5,-0 235,-0 235,-0 237.5,-0 237.5,-0 240,-0 240,-0 242.5,-0 242.5,-0 245,-0 245,-0 247.5,-0 247.5,-0 250,-0 250,0\" style=\"fill:none; stroke:currentColor;\"/>\n",
       "</svg>\n",
       "</div>\n",
       "<div style=\"flex=grow:1;\">\n",
       "Regular(100, -3, 3, name='JetGood.eta', label='$\\\\eta_{j}$')<br/>\n",
       "<hr style=\"margin-top:.2em; margin-bottom:.2em;\"/>\n",
       "Weight() Σ=WeightedSum(value=1399.36, variance=170.569)\n",
       "\n",
       "</div>\n",
       "</div>\n",
       "</html>"
      ],
      "text/plain": [
       "Hist(Regular(100, -3, 3, name='JetGood.eta', label='$\\\\eta_{j}$'), storage=Weight()) # Sum: WeightedSum(value=1399.36, variance=170.569)"
      ]
     },
     "execution_count": 75,
     "metadata": {},
     "output_type": "execute_result"
    }
   ],
   "source": [
    "H[\"5j_jeta1\",\"nominal\",\"2018\",:]"
   ]
  },
  {
   "cell_type": "code",
   "execution_count": 76,
   "id": "597b1b04-bde9-4a3d-ae2e-0af5d77ac2af",
   "metadata": {},
   "outputs": [
    {
     "data": {
      "text/html": [
       "<html>\n",
       "<div style=\"display:flex; align-items:center;\">\n",
       "<div style=\"width:290px;\">\n",
       "<svg xmlns=\"http://www.w3.org/2000/svg\" viewBox=\"-10 -105 270 120\">\n",
       "<line x1=\"-5\" y1=\"0\" x2=\"255\" y2=\"0\" style=\"fill:none;stroke-width:2;stroke:currentColor\"/>\n",
       "<text text-anchor=\"middle\" x=\"0\" y=\"15\" style=\"fill:currentColor;\">\n",
       "-3\n",
       "</text>\n",
       "<text text-anchor=\"middle\" x=\"250\" y=\"15\" style=\"fill:currentColor;\">\n",
       "3\n",
       "</text>\n",
       "<text text-anchor=\"middle\" x=\"125.0\" y=\"15\" style=\"fill:currentColor;\">\n",
       "$\\eta_{j}$\n",
       "</text>\n",
       "<polyline points=\"  0,0   0,-0 2.5,-0 2.5,-0   5,-0   5,-0 7.5,-0 7.5,-0  10,-0  10,-0 12.5,-0 12.5,-0  15,-0  15,-0 17.5,-0 17.5,-0  20,-0  20,-0 22.5,-0 22.5,-0  25,-0  25,-0 27.5,-0 27.5,-0  30,-0  30,-0 32.5,-0 32.5,-0  35,-0  35,-0 37.5,-0 37.5,-0  40,-0  40,-0 42.5,-0 42.5,-0  45,-0  45,-0 47.5,-0 47.5,-0  50,-0  50,-0 52.5,-0 52.5,-0  55,-0  55,-0 57.5,-0 57.5,-0  60,-0  60,-0 62.5,-0 62.5,-0  65,-0  65,-0 67.5,-0 67.5,-0  70,-0  70,-0 72.5,-0 72.5,-0  75,-0  75,-0 77.5,-0 77.5,-0  80,-0  80,-0 82.5,-0 82.5,-0  85,-0  85,-0 87.5,-0 87.5,-0  90,-0  90,-0 92.5,-0 92.5,-0  95,-0  95,-0 97.5,-0 97.5,-0 100,-0 100,-0 102.5,-0 102.5,-29.4 105,-29.4 105,-93.2 107.5,-93.2 107.5,-74.1 110,-74.1 110,-85.6 112.5,-85.6 112.5,-82.6 115,-82.6 115,-82.3 117.5,-82.3 117.5,-83.4 120,-83.4 120,-95.6 122.5,-95.6 122.5,-91.2 125,-91.2 125,-100 127.5,-100 127.5,-76.4 130,-76.4 130,-80.1 132.5,-80.1 132.5,-85.1 135,-85.1 135,-82.7 137.5,-82.7 137.5,-97.8 140,-97.8 140,-83.2 142.5,-83.2 142.5,-77.5 145,-77.5 145,-21.8 147.5,-21.8 147.5,-0 150,-0 150,-0 152.5,-0 152.5,-0 155,-0 155,-0 157.5,-0 157.5,-0 160,-0 160,-0 162.5,-0 162.5,-0 165,-0 165,-0 167.5,-0 167.5,-0 170,-0 170,-0 172.5,-0 172.5,-0 175,-0 175,-0 177.5,-0 177.5,-0 180,-0 180,-0 182.5,-0 182.5,-0 185,-0 185,-0 187.5,-0 187.5,-0 190,-0 190,-0 192.5,-0 192.5,-0 195,-0 195,-0 197.5,-0 197.5,-0 200,-0 200,-0 202.5,-0 202.5,-0 205,-0 205,-0 207.5,-0 207.5,-0 210,-0 210,-0 212.5,-0 212.5,-0 215,-0 215,-0 217.5,-0 217.5,-0 220,-0 220,-0 222.5,-0 222.5,-0 225,-0 225,-0 227.5,-0 227.5,-0 230,-0 230,-0 232.5,-0 232.5,-0 235,-0 235,-0 237.5,-0 237.5,-0 240,-0 240,-0 242.5,-0 242.5,-0 245,-0 245,-0 247.5,-0 247.5,-0 250,-0 250,0\" style=\"fill:none; stroke:currentColor;\"/>\n",
       "</svg>\n",
       "</div>\n",
       "<div style=\"flex=grow:1;\">\n",
       "Regular(100, -3, 3, name='JetGood.eta', label='$\\\\eta_{j}$')<br/>\n",
       "<hr style=\"margin-top:.2em; margin-bottom:.2em;\"/>\n",
       "Weight() Σ=WeightedSum(value=387.747, variance=47.5081)\n",
       "\n",
       "</div>\n",
       "</div>\n",
       "</html>"
      ],
      "text/plain": [
       "Hist(Regular(100, -3, 3, name='JetGood.eta', label='$\\\\eta_{j}$'), storage=Weight()) # Sum: WeightedSum(value=387.747, variance=47.5081)"
      ]
     },
     "execution_count": 76,
     "metadata": {},
     "output_type": "execute_result"
    }
   ],
   "source": [
    "H[\"4j_jeta0.5\",\"nominal\",\"2018\",:]\n"
   ]
  },
  {
   "cell_type": "code",
   "execution_count": null,
   "id": "0b46554f-cea2-4b61-8ce0-eb11fb5db731",
   "metadata": {},
   "outputs": [],
   "source": []
  },
  {
   "cell_type": "code",
   "execution_count": null,
   "id": "b23f94f2-9668-4c46-b913-8ffa459db586",
   "metadata": {},
   "outputs": [],
   "source": []
  }
 ],
 "metadata": {
  "kernelspec": {
   "display_name": "Python 3 (ipykernel)",
   "language": "python",
   "name": "python3"
  },
  "language_info": {
   "codemirror_mode": {
    "name": "ipython",
    "version": 3
   },
   "file_extension": ".py",
   "mimetype": "text/x-python",
   "name": "python",
   "nbconvert_exporter": "python",
   "pygments_lexer": "ipython3",
   "version": "3.9.15"
  }
 },
 "nbformat": 4,
 "nbformat_minor": 5
}
