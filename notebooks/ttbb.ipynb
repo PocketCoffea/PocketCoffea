{
 "cells": [
  {
   "cell_type": "code",
   "execution_count": 1,
   "id": "26b72ffe",
   "metadata": {},
   "outputs": [],
   "source": [
    "from coffea.nanoevents import NanoEventsFactory, NanoAODSchema\n",
    "from coffea import hist, processor\n",
    "import numpy as np\n",
    "import awkward as ak\n",
    "import matplotlib.pyplot as plt"
   ]
  },
  {
   "cell_type": "code",
   "execution_count": 2,
   "id": "d72cd789",
   "metadata": {},
   "outputs": [],
   "source": [
    "filename = \"/pnfs/psi.ch/cms/trivcat/store/user/mmarcheg/RunIIFall17NanoAODv7/TTTo2L2Nu_TuneCP5_13TeV-powheg-pythia8/F1EB69F9-DED5-AD4C-B0D0-F7909AC322A8.root\"\n",
    "events = NanoEventsFactory.from_root({filename: "Events"}, schemaclass=NanoAODSchema, entry_stop=100).events()"
   ]
  },
  {
   "cell_type": "code",
   "execution_count": 13,
   "id": "45dcf4ed",
   "metadata": {},
   "outputs": [
    {
     "name": "stdout",
     "output_type": "stream",
     "text": [
      "2 \t -1\n",
      "21 \t -1\n",
      "2 \t 1\n",
      "5 \t 1\n",
      "-5 \t 1\n",
      "-11 \t 1\n",
      "12 \t 1\n",
      "11 \t 1\n",
      "-12 \t 1\n"
     ]
    }
   ],
   "source": [
    "ievt = 2\n",
    "for (pdg, status) in zip(events.LHEPart.pdgId[ievt], events.LHEPart.status[ievt]):\n",
    "    print(pdg, \"\\t\", status)"
   ]
  },
  {
   "cell_type": "code",
   "execution_count": null,
   "id": "82f54223",
   "metadata": {},
   "outputs": [],
   "source": []
  }
 ],
 "metadata": {
  "kernelspec": {
   "display_name": "Python 3 (ipykernel)",
   "language": "python",
   "name": "python3"
  },
  "language_info": {
   "codemirror_mode": {
    "name": "ipython",
    "version": 3
   },
   "file_extension": ".py",
   "mimetype": "text/x-python",
   "name": "python",
   "nbconvert_exporter": "python",
   "pygments_lexer": "ipython3",
   "version": "3.9.7"
  }
 },
 "nbformat": 4,
 "nbformat_minor": 5
}
