{
 "cells": [
  {
   "cell_type": "code",
   "execution_count": 1,
   "id": "7acee39f",
   "metadata": {},
   "outputs": [],
   "source": [
    "from coffea.nanoevents import NanoEventsFactory, NanoAODSchema\n",
    "from coffea import hist, processor\n",
    "import numpy as np\n",
    "import awkward as ak\n",
    "import matplotlib.pyplot as plt\n",
    "from pprint import pprint\n",
    "import numba"
   ]
  },
  {
   "cell_type": "code",
   "execution_count": 2,
   "id": "eabe73ee-e659-4878-90c6-d777de8fb1be",
   "metadata": {},
   "outputs": [],
   "source": [
    "def show(a, ievt=0):\n",
    "    pprint(a[ievt].tolist())"
   ]
  },
  {
   "cell_type": "code",
   "execution_count": 3,
   "id": "0c89709e",
   "metadata": {},
   "outputs": [],
   "source": [
    "filename = \"/pnfs/psi.ch/cms/trivcat/store/user/mmarcheg/RunIIFall17NanoAODv7/ttHTobb_M125_TuneCP5_13TeV-powheg-pythia8/587E2464-42CA-3A45-BD49-D23E49F658E6.root\"\n",
    "#events = NanoEventsFactory.from_root({filename: "Events"}, schemaclass=NanoAODSchema).events()\n",
    "events = NanoEventsFactory.from_root({filename: "Events"}, schemaclass=NanoAODSchema, entry_stop=10000).events()\n",
    "\n",
    "dataset = \"ttHTobb\""
   ]
  },
  {
   "cell_type": "code",
   "execution_count": 4,
   "id": "bbbfdba9",
   "metadata": {},
   "outputs": [],
   "source": [
    "ievt = 0"
   ]
  },
  {
   "cell_type": "code",
   "execution_count": 5,
   "id": "b77cb2ad-921c-4539-97c5-77b370a63481",
   "metadata": {},
   "outputs": [],
   "source": [
    "%load_ext snakeviz"
   ]
  },
  {
   "cell_type": "code",
   "execution_count": 6,
   "id": "9f343764-22b9-4f96-a0e4-8b75aa719d26",
   "metadata": {},
   "outputs": [
    {
     "name": "stdout",
     "output_type": "stream",
     "text": [
      "CPU times: user 1.11 s, sys: 136 ms, total: 1.24 s\n",
      "Wall time: 1.47 s\n"
     ]
    }
   ],
   "source": [
    "%%time\n",
    "isOutgoing = events.LHEPart.status == 1\n",
    "isB = abs(events.LHEPart.pdgId) == 5\n",
    "bquarks = events.LHEPart[isB & isOutgoing]\n",
    "\n",
    "# Select b-quarks at Gen level, coming from H->bb decay\n",
    "if dataset == 'ttHTobb':\n",
    "    isHiggs = events.GenPart.pdgId == 25\n",
    "    isHard = events.GenPart.hasFlags(['fromHardProcess'])\n",
    "    hasTwoChildren = ak.num(events.GenPart.childrenIdxG, axis=2) == 2\n",
    "    higgs = events.GenPart[isHiggs & isHard & hasTwoChildren]\n",
    "    bquarks = ak.concatenate( (bquarks, ak.flatten(higgs.children, axis=2)), axis=1 )\n",
    "    # Sort b-quarks by pt\n",
    "    bquarks = ak.with_name(bquarks[ak.argsort(bquarks.pt, ascending=False)], name='PtEtaPhiMCandidate')\n"
   ]
  },
  {
   "cell_type": "code",
   "execution_count": 33,
   "id": "241e9507-d5f1-4b63-9705-5a5a1ba4e701",
   "metadata": {},
   "outputs": [
    {
     "name": "stdout",
     "output_type": "stream",
     "text": [
      "CPU times: user 110 ms, sys: 6.23 ms, total: 116 ms\n",
      "Wall time: 113 ms\n"
     ]
    }
   ],
   "source": [
    "%%time\n",
    "# Compute deltaR(b, jet) and save the nearest jet (deltaR matching)\n",
    "dr_min = 0.4\n",
    "deltaR = ak.flatten(bquarks.metric_table(events.Jet), axis=2)\n",
    "# keeping only the pairs with a deltaR min\n",
    "maskDR = deltaR < dr_min\n",
    "deltaRcut = deltaR[maskDR] #--> the mask works since we are applying it also to the argcartesian\n",
    "idx_pairs_sorted = ak.argsort(deltaRcut, axis=1)\n",
    "pairs = ak.argcartesian([bquarks, events.Jet])[maskDR]\n",
    "pairs_sorted = pairs[idx_pairs_sorted]\n",
    "deltaR_sorted = deltaRcut[idx_pairs_sorted]\n",
    "idx_quark, idx_jets = ak.unzip(pairs_sorted)"
   ]
  },
  {
   "cell_type": "code",
   "execution_count": 8,
   "id": "b4ac315f-0119-425f-a03f-e2ce669af676",
   "metadata": {},
   "outputs": [
    {
     "name": "stdout",
     "output_type": "stream",
     "text": [
      "[0.057874202728271484,\n",
      " 0.5494140386581421,\n",
      " 0.24081091582775116,\n",
      " 0.06480082869529724]\n"
     ]
    }
   ],
   "source": [
    "show(deltaRcut,1)"
   ]
  },
  {
   "cell_type": "code",
   "execution_count": 9,
   "id": "e5500926-ddbd-4c11-9521-479891be9a89",
   "metadata": {},
   "outputs": [
    {
     "name": "stdout",
     "output_type": "stream",
     "text": [
      "[(0, 0), (0, 7), (1, 1), (2, 5)]\n"
     ]
    }
   ],
   "source": [
    "show(pairs,1)"
   ]
  },
  {
   "cell_type": "code",
   "execution_count": 10,
   "id": "6ca2bf42-75ce-46f0-9618-679ccd2ea2b0",
   "metadata": {},
   "outputs": [
    {
     "name": "stdout",
     "output_type": "stream",
     "text": [
      "[0, 3, 2, 1]\n"
     ]
    }
   ],
   "source": [
    "show(idx_pairs_sorted,1)"
   ]
  },
  {
   "cell_type": "code",
   "execution_count": 11,
   "id": "78a8310d-efbd-434e-9de2-ec467e0f6877",
   "metadata": {},
   "outputs": [
    {
     "data": {
      "text/plain": [
       "[[(1, 2),\n",
       "  (2, 4),\n",
       "  (3, 5),\n",
       "  (0, 1),\n",
       "  (0, 3),\n",
       "  (2, 2),\n",
       "  (1, 4),\n",
       "  (3, 8),\n",
       "  (3, 6),\n",
       "  (0, 8)],\n",
       " [(0, 0), (2, 5), (1, 1), (0, 7)],\n",
       " [(1, 2), (0, 0), (3, 8), (2, 5)],\n",
       " [(2, 4), (0, 0), (3, 5), (1, 2), (0, 3), (3, 7)],\n",
       " [(0, 1), (1, 3), (2, 1)],\n",
       " [(2, 2),\n",
       "  (1, 0),\n",
       "  (3, 5),\n",
       "  (0, 2),\n",
       "  (0, 1),\n",
       "  (2, 3),\n",
       "  (0, 3),\n",
       "  (2, 1),\n",
       "  (1, 4),\n",
       "  (1, 5),\n",
       "  (3, 0),\n",
       "  (3, 6)],\n",
       " [(1, 1), (0, 2), (2, 4), (3, 5), (3, 4), (2, 5), (1, 2), (0, 1)],\n",
       " [(1, 2), (0, 1), (2, 3), (3, 6), (1, 1), (0, 2)],\n",
       " [(0, 2), (2, 5), (1, 6), (2, 7), (0, 1)],\n",
       " [(2, 1), (0, 0), (3, 2), (1, 5), (0, 11), (2, 5), (1, 1), (3, 8)]]"
      ]
     },
     "execution_count": 11,
     "metadata": {},
     "output_type": "execute_result"
    }
   ],
   "source": [
    "pairs_sorted[0:10].tolist()"
   ]
  },
  {
   "cell_type": "code",
   "execution_count": 12,
   "id": "f3cf981f-3d48-4148-b864-229e64ce59db",
   "metadata": {},
   "outputs": [],
   "source": [
    "def get_valid_pairs_masks(idx_bquarks, idx_Jet):\n",
    "    hasMatch = ak.zeros_like(idx_Jet, dtype=bool)\n",
    "    Npairmax = ak.max(ak.num(idx_bquarks))\n",
    "    # Loop over the (parton, jet) pairs\n",
    "    for idx_pair in range(Npairmax):\n",
    "        idx_bquark = ak.pad_none(idx_bquarks, Npairmax)[:,idx_pair]\n",
    "        idx_match_candidates = idx_Jet[ak.fill_none( (idx_bquarks == idx_bquark) & ~hasMatch, False)]\n",
    "        idx_pair_candidates  = ak.local_index(idx_Jet)[ak.fill_none( (idx_bquarks == idx_bquark) & ~hasMatch, False)]\n",
    "        #print(idx_bquark[ievt], idx_match_candidates[ievt])\n",
    "        #print(idx_bquark[ievt], idx_pair_candidates[ievt])\n",
    "        if idx_pair == 0:\n",
    "            idx_matchedJet    = ak.unflatten( ak.firsts(idx_match_candidates), 1 )\n",
    "            idx_matchedParton = ak.unflatten( idx_bquark, 1 )\n",
    "            idx_matchedPair   = ak.unflatten( ak.firsts(idx_pair_candidates), 1 )\n",
    "        else:\n",
    "            # If the partons are matched in all events or the number of jets is smaller than the number of partons, stop iterating\n",
    "            if ak.all( ( (ak.count(idx_matchedJet, axis=1) == ak.count(bquarks.pt, axis=1)) | (ak.count(events.Jet.pt, axis=1) < ak.count(bquarks.pt, axis=1) ) ) ): break\n",
    "            idx_matchedJet    = ak.concatenate( (idx_matchedJet, ak.unflatten( ak.firsts(idx_match_candidates), 1 ) ), axis=1 )\n",
    "            idx_matchedParton = ak.concatenate( (idx_matchedParton, ak.unflatten( idx_bquark, 1 )), axis=1 )\n",
    "            idx_matchedPair   = ak.concatenate( (idx_matchedPair, ak.unflatten( ak.firsts(idx_pair_candidates), 1 ) ), axis=1 )\n",
    "        # The mask `hasMatch` masks to False the \n",
    "        hasMatch = hasMatch | ak.fill_none(idx_Jet == ak.fill_none(ak.firsts(idx_match_candidates), -99), False) | ak.fill_none(idx_bquarks == idx_bquark, False)\n",
    "        #print(idx_pair, hasMatch[ievt].tolist(), end='\\n\\n')\n",
    "\n",
    "    idx_matchedParton = idx_matchedParton[~ak.is_none(idx_matchedJet, axis=1)]\n",
    "    idx_matchedJet = idx_matchedJet[~ak.is_none(idx_matchedJet, axis=1)]\n",
    "    return idx_matchedParton, idx_matchedJet"
   ]
  },
  {
   "cell_type": "code",
   "execution_count": 13,
   "id": "2a1d823b-5e9a-4b61-a876-93f2a4930f03",
   "metadata": {},
   "outputs": [],
   "source": [
    "def get_valid_pairs_nonumba(idx_quark, idx_jets, builder):\n",
    "    for ev_q, ev_j in zip(idx_quark, idx_jets):\n",
    "        builder.begin_list()\n",
    "        q_done = []\n",
    "        j_done = []\n",
    "        for q,j in zip(ev_q, ev_j):\n",
    "            if q not in q_done and j not in j_done:\n",
    "                builder.begin_record(\"pair\")\n",
    "                builder.field(\"quark\").append(q)\n",
    "                builder.field(\"jet\").append(j)\n",
    "                builder.end_record()\n",
    "                q_done.append(q)\n",
    "                j_done.append(j)\n",
    "        builder.end_list()\n",
    "    return builder"
   ]
  },
  {
   "cell_type": "code",
   "execution_count": 14,
   "id": "ec9daa7f-4c61-4a0e-bbc5-f39386e501f4",
   "metadata": {},
   "outputs": [],
   "source": [
    "@numba.jit\n",
    "def get_valid_pairs_numba(idx_quark, idx_jets, builder):\n",
    "    for ev_q, ev_j in zip(idx_quark, idx_jets):\n",
    "        builder.begin_list()\n",
    "        q_done = []\n",
    "        j_done = []\n",
    "        for q,j in zip(ev_q, ev_j):\n",
    "            if q not in q_done and j not in j_done:\n",
    "                builder.begin_record(\"pair\")\n",
    "                builder.field(\"quark\").append(q)\n",
    "                builder.field(\"jet\").append(j)\n",
    "                builder.end_record()\n",
    "                q_done.append(q)\n",
    "                j_done.append(j)\n",
    "        builder.end_list()\n",
    "    return builder"
   ]
  },
  {
   "cell_type": "code",
   "execution_count": 15,
   "id": "bb7f35df-5d04-4245-a46b-eef61eeb6d7d",
   "metadata": {},
   "outputs": [],
   "source": [
    "@numba.jit\n",
    "def get_valid_pairs_numba_extra(idx_quark, idx_jets, builder, builder2):\n",
    "    for ev_q, ev_j in zip(idx_quark, idx_jets):\n",
    "        builder.begin_list()\n",
    "        builder2.begin_list()\n",
    "        q_done = []\n",
    "        j_done = []\n",
    "        for q,j in zip(ev_q, ev_j):\n",
    "            if q not in q_done:\n",
    "                if j not in j_done:\n",
    "                    builder.begin_record(\"pair\")\n",
    "                    builder.field(\"quark\").append(q)\n",
    "                    builder.field(\"jet\").append(j)\n",
    "                    builder.end_record()\n",
    "                    q_done.append(q)\n",
    "                    j_done.append(j)\n",
    "                else:\n",
    "                    builder2.begin_record(\"missed_pair\")\n",
    "                    builder2.field(\"quark\").append(q)\n",
    "                    builder2.field(\"jet\").append(j)\n",
    "                    builder2.end_record()\n",
    "        builder.end_list()\n",
    "        builder2.end_list()\n",
    "    return builder, builder2"
   ]
  },
  {
   "cell_type": "code",
   "execution_count": 16,
   "id": "b06796dc-b201-47b3-b177-bf22008a918f",
   "metadata": {},
   "outputs": [],
   "source": [
    "@numba.jit\n",
    "def get_valid_pairs_index_numba(idx_quark, idx_jets, builder):\n",
    "    for ev_q, ev_j in zip(idx_quark, idx_jets):\n",
    "        builder.begin_list()\n",
    "        q_done = []\n",
    "        j_done = []\n",
    "        for i, (q,j) in enumerate(zip(ev_q, ev_j)):\n",
    "            if q not in q_done and j not in j_done:\n",
    "                builder.append(i)\n",
    "                q_done.append(q)\n",
    "                j_done.append(j)\n",
    "        builder.end_list()\n",
    "    return builder"
   ]
  },
  {
   "cell_type": "code",
   "execution_count": 17,
   "id": "b31067e8-14fc-48c8-8a83-c3886af4dc82",
   "metadata": {},
   "outputs": [],
   "source": [
    "def get_valid_pairs_index(idx_quark, idx_jets, builder):\n",
    "    for ev_q, ev_j in zip(idx_quark, idx_jets):\n",
    "        builder.begin_list()\n",
    "        q_done = []\n",
    "        j_done = []\n",
    "        for i, (q,j) in enumerate(zip(ev_q, ev_j)):\n",
    "            if q not in q_done and j not in j_done:\n",
    "                builder.append(i)\n",
    "                q_done.append(q)\n",
    "                j_done.append(j)\n",
    "        builder.end_list()\n",
    "    return builder"
   ]
  },
  {
   "cell_type": "code",
   "execution_count": 18,
   "id": "a25c5ece-a60b-45eb-97ce-32e8e465256f",
   "metadata": {},
   "outputs": [],
   "source": [
    "@numba.jit\n",
    "def get_valid_pairs_index_more_numba(idx_quark, idx_jets, builder, builder2):\n",
    "    for ev_q, ev_j in zip(idx_quark, idx_jets):\n",
    "        builder.begin_list()\n",
    "        builder2.begin_list()\n",
    "        q_done = []\n",
    "        j_done = []\n",
    "        for i, (q,j) in enumerate(zip(ev_q, ev_j)):\n",
    "            if q not in q_done:\n",
    "                if j not in j_done:\n",
    "                    builder.append(i)\n",
    "                    q_done.append(q)\n",
    "                    j_done.append(j)\n",
    "                else: \n",
    "                    builder2.append(i)\n",
    "        builder.end_list()\n",
    "        builder2.end_list()\n",
    "    return builder, builder2"
   ]
  },
  {
   "cell_type": "code",
   "execution_count": 19,
   "id": "ab7f8f5a-240e-4b43-b4af-ba796e10d091",
   "metadata": {},
   "outputs": [
    {
     "name": "stdout",
     "output_type": "stream",
     "text": [
      "1.82 s ± 28.9 ms per loop (mean ± std. dev. of 7 runs, 1 loop each)\n"
     ]
    }
   ],
   "source": [
    "%%timeit\n",
    "results1 = get_valid_pairs_masks(idx_quark, idx_jets)"
   ]
  },
  {
   "cell_type": "code",
   "execution_count": 20,
   "id": "b5238589-00e7-4589-baeb-18ef598af004",
   "metadata": {
    "jupyter": {
     "source_hidden": true
    },
    "tags": []
   },
   "outputs": [
    {
     "name": "stdout",
     "output_type": "stream",
     "text": [
      "1.02 s ± 25.6 ms per loop (mean ± std. dev. of 7 runs, 1 loop each)\n"
     ]
    }
   ],
   "source": [
    "%%timeit\n",
    "results2 = get_valid_pairs_nonumba(idx_quark, idx_jets, ak.ArrayBuilder())"
   ]
  },
  {
   "cell_type": "code",
   "execution_count": 21,
   "id": "569cc605-1cdb-4ce8-8dfc-03a532c1f112",
   "metadata": {},
   "outputs": [
    {
     "name": "stdout",
     "output_type": "stream",
     "text": [
      "20.4 ms ± 724 µs per loop (mean ± std. dev. of 7 runs, 1 loop each)\n"
     ]
    }
   ],
   "source": [
    "%%timeit\n",
    "results3 = get_valid_pairs_numba(idx_quark, idx_jets, ak.ArrayBuilder())"
   ]
  },
  {
   "cell_type": "code",
   "execution_count": 22,
   "id": "356eefc0-f8e9-4269-84ff-57aa9bf978bd",
   "metadata": {},
   "outputs": [
    {
     "name": "stdout",
     "output_type": "stream",
     "text": [
      "18.5 ms ± 772 µs per loop (mean ± std. dev. of 7 runs, 1 loop each)\n"
     ]
    }
   ],
   "source": [
    "%%timeit\n",
    "results4 = get_valid_pairs_numba_extra(idx_quark, idx_jets, ak.ArrayBuilder(),ak.ArrayBuilder())"
   ]
  },
  {
   "cell_type": "code",
   "execution_count": 23,
   "id": "7315bd31-8f3b-4a22-8877-98288a991291",
   "metadata": {},
   "outputs": [
    {
     "name": "stdout",
     "output_type": "stream",
     "text": [
      "9.03 ms ± 275 µs per loop (mean ± std. dev. of 7 runs, 1 loop each)\n"
     ]
    }
   ],
   "source": [
    "%%timeit\n",
    "results5 = get_valid_pairs_index_numba(idx_quark, idx_jets, ak.ArrayBuilder())"
   ]
  },
  {
   "cell_type": "code",
   "execution_count": 24,
   "id": "933bd938-3b2f-4270-afd7-0029705e288c",
   "metadata": {},
   "outputs": [
    {
     "name": "stdout",
     "output_type": "stream",
     "text": [
      "10.2 ms ± 335 µs per loop (mean ± std. dev. of 7 runs, 1 loop each)\n"
     ]
    }
   ],
   "source": [
    "%%timeit\n",
    "get_valid_pairs_index_more_numba(idx_quark, idx_jets, ak.ArrayBuilder(), ak.ArrayBuilder())"
   ]
  },
  {
   "cell_type": "code",
   "execution_count": 25,
   "id": "d31e7405-f1d2-4c9e-aed9-03b760f4ac7d",
   "metadata": {},
   "outputs": [
    {
     "name": "stdout",
     "output_type": "stream",
     "text": [
      "882 ms ± 6.04 ms per loop (mean ± std. dev. of 7 runs, 1 loop each)\n"
     ]
    }
   ],
   "source": [
    "%%timeit\n",
    "get_valid_pairs_index(idx_quark, idx_jets, ak.ArrayBuilder())"
   ]
  },
  {
   "cell_type": "code",
   "execution_count": 26,
   "id": "2d080e1b-61ae-46a8-a41a-e03adec5c242",
   "metadata": {},
   "outputs": [],
   "source": [
    "results1 = get_valid_pairs_masks(idx_quark, idx_jets)\n",
    "results2 = get_valid_pairs_numba(idx_quark, idx_jets, ak.ArrayBuilder())"
   ]
  },
  {
   "cell_type": "code",
   "execution_count": 27,
   "id": "848e765d-e2ac-4016-877c-5457ecc4e309",
   "metadata": {},
   "outputs": [
    {
     "ename": "NameError",
     "evalue": "name 'results3' is not defined",
     "output_type": "error",
     "traceback": [
      "\u001b[0;31m---------------------------------------------------------------------------\u001b[0m",
      "\u001b[0;31mNameError\u001b[0m                                 Traceback (most recent call last)",
      "\u001b[0;32m/tmp/ipykernel_6949/3092846302.py\u001b[0m in \u001b[0;36m<module>\u001b[0;34m\u001b[0m\n\u001b[1;32m      1\u001b[0m \u001b[0mqq\u001b[0m\u001b[0;34m,\u001b[0m \u001b[0mjj\u001b[0m \u001b[0;34m=\u001b[0m \u001b[0mresults1\u001b[0m\u001b[0;34m\u001b[0m\u001b[0;34m\u001b[0m\u001b[0m\n\u001b[0;32m----> 2\u001b[0;31m \u001b[0;32mfor\u001b[0m \u001b[0mi\u001b[0m\u001b[0;34m,\u001b[0m \u001b[0;34m(\u001b[0m\u001b[0mr\u001b[0m\u001b[0;34m,\u001b[0m \u001b[0mq\u001b[0m\u001b[0;34m)\u001b[0m \u001b[0;32min\u001b[0m \u001b[0menumerate\u001b[0m\u001b[0;34m(\u001b[0m\u001b[0mzip\u001b[0m\u001b[0;34m(\u001b[0m\u001b[0mresults2\u001b[0m\u001b[0;34m,\u001b[0m  \u001b[0mresults3\u001b[0m\u001b[0;34m)\u001b[0m\u001b[0;34m)\u001b[0m\u001b[0;34m:\u001b[0m\u001b[0;34m\u001b[0m\u001b[0;34m\u001b[0m\u001b[0m\n\u001b[0m\u001b[1;32m      3\u001b[0m     \u001b[0;32mfor\u001b[0m \u001b[0mR\u001b[0m\u001b[0;34m,\u001b[0m\u001b[0mR2\u001b[0m \u001b[0;32min\u001b[0m \u001b[0mzip\u001b[0m\u001b[0;34m(\u001b[0m\u001b[0mr\u001b[0m\u001b[0;34m,\u001b[0m\u001b[0mq\u001b[0m\u001b[0;34m)\u001b[0m\u001b[0;34m:\u001b[0m\u001b[0;34m\u001b[0m\u001b[0;34m\u001b[0m\u001b[0m\n\u001b[1;32m      4\u001b[0m         \u001b[0;32mif\u001b[0m \u001b[0mR\u001b[0m\u001b[0;34m.\u001b[0m\u001b[0mquark\u001b[0m \u001b[0;34m!=\u001b[0m\u001b[0mR2\u001b[0m\u001b[0;34m.\u001b[0m\u001b[0mquark\u001b[0m \u001b[0;32mor\u001b[0m \u001b[0mR\u001b[0m\u001b[0;34m.\u001b[0m\u001b[0mjet\u001b[0m \u001b[0;34m!=\u001b[0m \u001b[0mR2\u001b[0m\u001b[0;34m.\u001b[0m\u001b[0mjet\u001b[0m\u001b[0;34m:\u001b[0m\u001b[0;34m\u001b[0m\u001b[0;34m\u001b[0m\u001b[0m\n\u001b[1;32m      5\u001b[0m             \u001b[0mprint\u001b[0m\u001b[0;34m(\u001b[0m\u001b[0mi\u001b[0m \u001b[0;34m,\u001b[0m \u001b[0;34m\"Mismatch\"\u001b[0m\u001b[0;34m)\u001b[0m\u001b[0;34m\u001b[0m\u001b[0;34m\u001b[0m\u001b[0m\n",
      "\u001b[0;31mNameError\u001b[0m: name 'results3' is not defined"
     ]
    }
   ],
   "source": [
    "qq, jj = results1\n",
    "for i, (r, q) in enumerate(zip(results2,  results3)):\n",
    "    for R,R2 in zip(r,q):\n",
    "        if R.quark !=R2.quark or R.jet != R2.jet:\n",
    "            print(i , \"Mismatch\")"
   ]
  },
  {
   "cell_type": "code",
   "execution_count": null,
   "id": "3c9abd08-e0c9-42f1-8f54-ff5ad8595839",
   "metadata": {},
   "outputs": [],
   "source": [
    "qq, jj = results1\n",
    "for i, (r, q, j) in enumerate(zip(results2, qq, jj)):\n",
    "    mismatch = False\n",
    "    for R,Q,J in zip(r,q,j):\n",
    "        if R.quark !=Q or R.jet != J:\n",
    "            mismatch = True\n",
    "    if mismatch:\n",
    "        print(f\"ev:{i}, Nquark: {len(q)}, Njets: {len(j)}, match simple: {r}, match complex: {q},{j}\")\n",
    "        print(f\"\\t original sorted pairs: {pairs_sorted[i]}\")"
   ]
  },
  {
   "cell_type": "markdown",
   "id": "330547b6-d074-432e-8fc7-68ddee16614d",
   "metadata": {},
   "source": [
    "### Checking the results"
   ]
  },
  {
   "cell_type": "code",
   "execution_count": 34,
   "id": "453390c3-c3fc-4bd1-8d9a-c90d02a0363a",
   "metadata": {},
   "outputs": [],
   "source": [
    "_matchedPairs, _missedPairs = get_valid_pairs_numba_extra(idx_quark, idx_jets, ak.ArrayBuilder(), ak.ArrayBuilder())\n",
    "matchedPairs = _matchedPairs.snapshot()\n",
    "missedPairs = _missedPairs.snapshot()"
   ]
  },
  {
   "cell_type": "code",
   "execution_count": 35,
   "id": "b4202370-a994-4618-98aa-439317e03ee5",
   "metadata": {},
   "outputs": [
    {
     "data": {
      "text/plain": [
       "[{'quark': 2, 'jet': 2},\n",
       " {'quark': 0, 'jet': 1},\n",
       " {'quark': 3, 'jet': 6},\n",
       " {'quark': 1, 'jet': 0}]"
      ]
     },
     "execution_count": 35,
     "metadata": {},
     "output_type": "execute_result"
    }
   ],
   "source": [
    "matchedPairs[10].tolist()"
   ]
  },
  {
   "cell_type": "code",
   "execution_count": 36,
   "id": "4247fe02-4ce4-44ae-908b-9c742a876246",
   "metadata": {},
   "outputs": [
    {
     "data": {
      "text/plain": [
       "[(2, 2), (0, 1), (3, 6), (1, 0)]"
      ]
     },
     "execution_count": 36,
     "metadata": {},
     "output_type": "execute_result"
    }
   ],
   "source": [
    "idx_matched = get_valid_pairs_index_numba(idx_quark, idx_jets, ak.ArrayBuilder()).snapshot()\n",
    "pairs_sorted[idx_matched][10].tolist()"
   ]
  },
  {
   "cell_type": "code",
   "execution_count": 37,
   "id": "b3f98d7e-9c4c-432b-a182-faeb03536098",
   "metadata": {},
   "outputs": [
    {
     "data": {
      "text/plain": [
       "(array([6217., 7018., 5040., 3453., 2485., 1992., 1530., 1198.,  954.,\n",
       "         781.,  691.,  581.,  487.,  485.,  395.,  354.,  298.,  259.,\n",
       "         259.,  216.,    0.,    0.,    0.,    0.,    0.,    0.,    0.,\n",
       "           0.,    0.,    0.,    0.,    0.,    0.,    0.,    0.,    0.,\n",
       "           0.,    0.,    0.,    0.,    0.,    0.,    0.,    0.,    0.,\n",
       "           0.,    0.,    0.,    0.,    0.]),\n",
       " array([0.  , 0.02, 0.04, 0.06, 0.08, 0.1 , 0.12, 0.14, 0.16, 0.18, 0.2 ,\n",
       "        0.22, 0.24, 0.26, 0.28, 0.3 , 0.32, 0.34, 0.36, 0.38, 0.4 , 0.42,\n",
       "        0.44, 0.46, 0.48, 0.5 , 0.52, 0.54, 0.56, 0.58, 0.6 , 0.62, 0.64,\n",
       "        0.66, 0.68, 0.7 , 0.72, 0.74, 0.76, 0.78, 0.8 , 0.82, 0.84, 0.86,\n",
       "        0.88, 0.9 , 0.92, 0.94, 0.96, 0.98, 1.  ], dtype=float32),\n",
       " <BarContainer object of 50 artists>)"
      ]
     },
     "execution_count": 37,
     "metadata": {},
     "output_type": "execute_result"
    },
    {
     "data": {
      "image/png": "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\n",
      "text/plain": [
       "<Figure size 432x288 with 1 Axes>"
      ]
     },
     "metadata": {
      "needs_background": "light"
     },
     "output_type": "display_data"
    }
   ],
   "source": [
    "plt.hist(ak.flatten(deltaR_sorted[idx_matched]), bins=50, range=(0, 1))\n",
    "# plt.yscale(\"log\")"
   ]
  },
  {
   "cell_type": "code",
   "execution_count": 156,
   "id": "c3ae71cc-504b-4bda-bcb4-62b2847352e5",
   "metadata": {},
   "outputs": [
    {
     "data": {
      "text/plain": [
       "<JetArray [Jet, Jet, Jet, Jet] type='4 * ?jet'>"
      ]
     },
     "execution_count": 156,
     "metadata": {},
     "output_type": "execute_result"
    }
   ],
   "source": [
    "events.Jet[idx_jets[idx_matched]][10]"
   ]
  },
  {
   "cell_type": "code",
   "execution_count": 26,
   "id": "5dec985f-4993-41e7-aceb-5eb5f78dfc52",
   "metadata": {},
   "outputs": [],
   "source": [
    "idx_matched = get_valid_pairs_index_numba(idx_quark, idx_jets, ak.ArrayBuilder()).snapshot()\n",
    "# The invalid jet matches result in a None value. Only non-None values are selected.\n",
    "matched_quarks = bquarks[idx_quark[idx_matched]]\n",
    "matched_jets = events.Jet[idx_jets[idx_matched]]\n",
    "deltaR_matched = deltaRcut[idx_matched]"
   ]
  },
  {
   "cell_type": "code",
   "execution_count": 36,
   "id": "de39f1e0-86f0-4415-9e00-25499f28f324",
   "metadata": {},
   "outputs": [
    {
     "ename": "AttributeError",
     "evalue": "no field named 'behaviour'\n\n(https://github.com/scikit-hep/awkward-1.0/blob/1.7.0/src/awkward/highlevel.py#L1131)",
     "output_type": "error",
     "traceback": [
      "\u001b[0;31m---------------------------------------------------------------------------\u001b[0m",
      "\u001b[0;31mAttributeError\u001b[0m                            Traceback (most recent call last)",
      "\u001b[0;32m/tmp/ipykernel_51932/2270559041.py\u001b[0m in \u001b[0;36m<module>\u001b[0;34m\u001b[0m\n\u001b[0;32m----> 1\u001b[0;31m \u001b[0mevents\u001b[0m\u001b[0;34m[\u001b[0m\u001b[0;34m\"PartonMatched\"\u001b[0m\u001b[0;34m]\u001b[0m \u001b[0;34m=\u001b[0m \u001b[0mak\u001b[0m\u001b[0;34m.\u001b[0m\u001b[0mwith_field\u001b[0m\u001b[0;34m(\u001b[0m\u001b[0mmatched_quarks\u001b[0m\u001b[0;34m,\u001b[0m \u001b[0mdeltaR_matched\u001b[0m\u001b[0;34m,\u001b[0m \u001b[0;34m\"dRMatchedJet\"\u001b[0m\u001b[0;34m,\u001b[0m \u001b[0mbehaviour\u001b[0m\u001b[0;34m=\u001b[0m\u001b[0mmatched_quarks\u001b[0m\u001b[0;34m.\u001b[0m\u001b[0mbehaviour\u001b[0m\u001b[0;34m)\u001b[0m\u001b[0;34m\u001b[0m\u001b[0;34m\u001b[0m\u001b[0m\n\u001b[0m",
      "\u001b[0;32m/work/dvalsecc/miniconda3/envs/coffea/lib/python3.9/site-packages/awkward/highlevel.py\u001b[0m in \u001b[0;36m__getattr__\u001b[0;34m(self, where)\u001b[0m\n\u001b[1;32m   1127\u001b[0m                     )\n\u001b[1;32m   1128\u001b[0m             \u001b[0;32melse\u001b[0m\u001b[0;34m:\u001b[0m\u001b[0;34m\u001b[0m\u001b[0;34m\u001b[0m\u001b[0m\n\u001b[0;32m-> 1129\u001b[0;31m                 raise AttributeError(\n\u001b[0m\u001b[1;32m   1130\u001b[0m                     \u001b[0;34m\"no field named {0}\"\u001b[0m\u001b[0;34m.\u001b[0m\u001b[0mformat\u001b[0m\u001b[0;34m(\u001b[0m\u001b[0mrepr\u001b[0m\u001b[0;34m(\u001b[0m\u001b[0mwhere\u001b[0m\u001b[0;34m)\u001b[0m\u001b[0;34m)\u001b[0m\u001b[0;34m\u001b[0m\u001b[0;34m\u001b[0m\u001b[0m\n\u001b[1;32m   1131\u001b[0m                     \u001b[0;34m+\u001b[0m \u001b[0mak\u001b[0m\u001b[0;34m.\u001b[0m\u001b[0m_util\u001b[0m\u001b[0;34m.\u001b[0m\u001b[0mexception_suffix\u001b[0m\u001b[0;34m(\u001b[0m\u001b[0m__file__\u001b[0m\u001b[0;34m)\u001b[0m\u001b[0;34m\u001b[0m\u001b[0;34m\u001b[0m\u001b[0m\n",
      "\u001b[0;31mAttributeError\u001b[0m: no field named 'behaviour'\n\n(https://github.com/scikit-hep/awkward-1.0/blob/1.7.0/src/awkward/highlevel.py#L1131)"
     ]
    }
   ],
   "source": [
    "events[\"PartonMatched\"] = ak.with_field(matched_quarks, deltaR_matched, \"dRMatchedJet\", behaviour=matched_quarks.behaviour)"
   ]
  },
  {
   "cell_type": "code",
   "execution_count": 34,
   "id": "fd3ce00a-7e17-4964-b16c-2d86f7628595",
   "metadata": {},
   "outputs": [
    {
     "data": {
      "text/plain": [
       "<Array [4, 3, 4, 4, 2, 4, ... 2, 4, 4, 4, 2, 4] type='10000 * int64'>"
      ]
     },
     "execution_count": 34,
     "metadata": {},
     "output_type": "execute_result"
    }
   ],
   "source": [
    "ak.num(events.PartonMatched, axis=1)"
   ]
  },
  {
   "cell_type": "markdown",
   "id": "fc340697-22ae-4bd2-874c-1fde4d6ba453",
   "metadata": {},
   "source": [
    "### Check profiling"
   ]
  },
  {
   "cell_type": "code",
   "execution_count": 36,
   "id": "57de261b-0966-401a-befe-d375978450f1",
   "metadata": {},
   "outputs": [
    {
     "name": "stdout",
     "output_type": "stream",
     "text": [
      " \n",
      "*** Profile stats marshalled to file '/tmp/tmpvmveghyp'. \n",
      "Embedding SnakeViz in this document...\n"
     ]
    },
    {
     "data": {
      "text/html": [
       "\n",
       "<iframe id='snakeviz-5580b997-d7da-11ec-a2de-a4bf0104df06' frameborder=0 seamless width='100%' height='1000'></iframe>\n",
       "<script>document.getElementById(\"snakeviz-5580b997-d7da-11ec-a2de-a4bf0104df06\").setAttribute(\"src\", \"http://\" + document.location.hostname + \":8080/snakeviz/%2Ftmp%2Ftmpvmveghyp\")</script>\n"
      ],
      "text/plain": [
       "<IPython.core.display.HTML object>"
      ]
     },
     "metadata": {},
     "output_type": "display_data"
    }
   ],
   "source": [
    "%%snakeviz \n",
    "results1 = get_valid_pairs_masks(idx_quark, idx_jets)"
   ]
  },
  {
   "cell_type": "code",
   "execution_count": 37,
   "id": "027dac38-bdff-46ab-9c5c-762229e8ca77",
   "metadata": {},
   "outputs": [
    {
     "name": "stdout",
     "output_type": "stream",
     "text": [
      " \n",
      "*** Profile stats marshalled to file '/tmp/tmpf0yprmct'. \n",
      "Embedding SnakeViz in this document...\n"
     ]
    },
    {
     "data": {
      "text/html": [
       "\n",
       "<iframe id='snakeviz-57ee0ab7-d7da-11ec-9c5e-a4bf0104df06' frameborder=0 seamless width='100%' height='1000'></iframe>\n",
       "<script>document.getElementById(\"snakeviz-57ee0ab7-d7da-11ec-9c5e-a4bf0104df06\").setAttribute(\"src\", \"http://\" + document.location.hostname + \":8081/snakeviz/%2Ftmp%2Ftmpf0yprmct\")</script>\n"
      ],
      "text/plain": [
       "<IPython.core.display.HTML object>"
      ]
     },
     "metadata": {},
     "output_type": "display_data"
    }
   ],
   "source": [
    "%%snakeviz \n",
    "results3 = get_valid_pairs_numba(idx_quark, idx_jets, ak.ArrayBuilder())"
   ]
  },
  {
   "cell_type": "markdown",
   "id": "7e320b0e-1ea0-46c2-ae11-7bdaa37871b5",
   "metadata": {},
   "source": [
    "### Check the performance of first part of the algo"
   ]
  },
  {
   "cell_type": "code",
   "execution_count": 28,
   "id": "b7d83ef6-72c4-49d7-a2bf-67198d655f49",
   "metadata": {},
   "outputs": [
    {
     "name": "stdout",
     "output_type": "stream",
     "text": [
      "734 ms ± 12.9 ms per loop (mean ± std. dev. of 7 runs, 1 loop each)\n"
     ]
    }
   ],
   "source": [
    "%%timeit\n",
    "# Compute deltaR(b, jet) and save the nearest jet (deltaR matching)\n",
    "dr_min = 0.4\n",
    "deltaR = ak.flatten(bquarks.metric_table(events.Jet), axis=2) "
   ]
  },
  {
   "cell_type": "code",
   "execution_count": 24,
   "id": "4e4064a7-f938-4881-abed-2a28ef225638",
   "metadata": {},
   "outputs": [
    {
     "name": "stdout",
     "output_type": "stream",
     "text": [
      "196 ms ± 23.7 ms per loop (mean ± std. dev. of 7 runs, 1 loop each)\n"
     ]
    }
   ],
   "source": [
    "%%timeit\n",
    "# keeping only the pairs with a deltaR min\n",
    "maskDR = deltaR < dr_min\n",
    "deltaRcut = deltaR[maskDR] #--> the mask works since we are applying it also to the argcartesian"
   ]
  },
  {
   "cell_type": "code",
   "execution_count": 29,
   "id": "4b17fa66-7bcd-44b9-94c6-d0e7b3bae8cc",
   "metadata": {},
   "outputs": [
    {
     "name": "stdout",
     "output_type": "stream",
     "text": [
      "21.2 ms ± 4.97 ms per loop (mean ± std. dev. of 7 runs, 10 loops each)\n"
     ]
    }
   ],
   "source": [
    "%%timeit  pass\n",
    "idx_pairs_sorted = ak.argsort(deltaRcut, axis=1)\n"
   ]
  },
  {
   "cell_type": "code",
   "execution_count": 30,
   "id": "9dc2d0ac-30c1-49dc-8f7d-dff290c80cba",
   "metadata": {},
   "outputs": [
    {
     "name": "stdout",
     "output_type": "stream",
     "text": [
      "161 ms ± 6.49 ms per loop (mean ± std. dev. of 7 runs, 1 loop each)\n"
     ]
    }
   ],
   "source": [
    "%%timeit pass\n",
    "pairs = ak.argcartesian([bquarks, events.Jet])[maskDR]"
   ]
  },
  {
   "cell_type": "code",
   "execution_count": 31,
   "id": "525cfef1-12e0-4790-8783-fd36afcc5054",
   "metadata": {},
   "outputs": [
    {
     "name": "stdout",
     "output_type": "stream",
     "text": [
      "4.38 ms ± 92.3 µs per loop (mean ± std. dev. of 7 runs, 100 loops each)\n"
     ]
    }
   ],
   "source": [
    "%%timeit pass\n",
    "pairs_sorted = pairs[idx_pairs_sorted]\n"
   ]
  },
  {
   "cell_type": "code",
   "execution_count": 32,
   "id": "482e6edc-2c13-4fee-b83b-4927d179764e",
   "metadata": {},
   "outputs": [
    {
     "name": "stdout",
     "output_type": "stream",
     "text": [
      "170 µs ± 27.4 µs per loop (mean ± std. dev. of 7 runs, 1000 loops each)\n"
     ]
    }
   ],
   "source": [
    "%%timeit pass\n",
    "idx_quark, idx_jets = ak.unzip(pairs_sorted)"
   ]
  },
  {
   "cell_type": "code",
   "execution_count": 34,
   "id": "f89898b1-7f8e-44ba-bac3-1b9bc692a8e8",
   "metadata": {},
   "outputs": [
    {
     "name": "stdout",
     "output_type": "stream",
     "text": [
      "1.01 s ± 94.3 ms per loop (mean ± std. dev. of 7 runs, 1 loop each)\n"
     ]
    }
   ],
   "source": [
    "%%timeit\n",
    "# Compute deltaR(b, jet) and save the nearest jet (deltaR matching)\n",
    "dr_min = 0.4\n",
    "deltaR = ak.flatten(bquarks.metric_table(events.Jet), axis=2)\n",
    "# keeping only the pairs with a deltaR min\n",
    "maskDR = deltaR < dr_min\n",
    "deltaRcut = deltaR[maskDR] #--> the mask works since we are applying it also to the argcartesian\n",
    "idx_pairs_sorted = ak.argsort(deltaRcut, axis=1)\n",
    "pairs = ak.argcartesian([bquarks, events.Jet])[maskDR]\n",
    "pairs_sorted = pairs[idx_pairs_sorted]\n",
    "idx_quark, idx_jets = ak.unzip(pairs_sorted)\n",
    "       "
   ]
  },
  {
   "cell_type": "code",
   "execution_count": 35,
   "id": "63466bfe-764d-49f6-8d66-ba37f7d89d9b",
   "metadata": {},
   "outputs": [
    {
     "data": {
      "text/plain": [
       "<Array [[1, 2, 3, 0], [0, ... 3, 3], [0, 1, 2]] type='100000 * var * ?int64'>"
      ]
     },
     "execution_count": 35,
     "metadata": {},
     "output_type": "execute_result"
    }
   ],
   "source": [
    "idx_quark"
   ]
  },
  {
   "cell_type": "code",
   "execution_count": null,
   "id": "2b53bda0-1696-4a55-8fca-97ec2bcee1ff",
   "metadata": {},
   "outputs": [],
   "source": []
  },
  {
   "cell_type": "code",
   "execution_count": null,
   "id": "0c741388-3872-4131-acba-5abc9b09116d",
   "metadata": {},
   "outputs": [],
   "source": []
  },
  {
   "cell_type": "code",
   "execution_count": null,
   "id": "1ca57320-e478-4d3a-a74c-4eec71d245c2",
   "metadata": {},
   "outputs": [],
   "source": []
  },
  {
   "cell_type": "code",
   "execution_count": null,
   "id": "34e1dd23",
   "metadata": {},
   "outputs": [],
   "source": []
  }
 ],
 "metadata": {
  "kernelspec": {
   "display_name": "Python 3 (ipykernel)",
   "language": "python",
   "name": "python3"
  },
  "language_info": {
   "codemirror_mode": {
    "name": "ipython",
    "version": 3
   },
   "file_extension": ".py",
   "mimetype": "text/x-python",
   "name": "python",
   "nbconvert_exporter": "python",
   "pygments_lexer": "ipython3",
   "version": "3.9.7"
  }
 },
 "nbformat": 4,
 "nbformat_minor": 5
}
