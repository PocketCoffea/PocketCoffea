{
 "cells": [
  {
   "cell_type": "code",
   "execution_count": 1,
   "id": "0257944c-e56a-4f5b-a145-079f02f6b97b",
   "metadata": {},
   "outputs": [],
   "source": [
    "import awkward as ak\n",
    "from coffea.nanoevents import NanoEventsFactory, NanoAODSchema\n",
    "from coffea import hist\n",
    "import numpy as np\n",
    "import matplotlib.pyplot as plt\n",
    "from matplotlib.colors import LogNorm"
   ]
  },
  {
   "cell_type": "code",
   "execution_count": 64,
   "id": "7cf7013e-382b-4101-9e5a-e01812cf91d2",
   "metadata": {},
   "outputs": [],
   "source": [
    "filename = \"/pnfs/psi.ch/cms/trivcat/store/user/mmarcheg/RunIIFall17NanoAODv7/ttHTobb_M125_TuneCP5_13TeV-powheg-pythia8/587E2464-42CA-3A45-BD49-D23E49F658E6.root\"\n",
    "\n",
    "events = NanoEventsFactory.from_root({filename: "Events"}, schemaclass=NanoAODSchema).events()"
   ]
  },
  {
   "cell_type": "code",
   "execution_count": 5,
   "id": "b15a89a2-a480-4219-8e95-f3d5312058c2",
   "metadata": {},
   "outputs": [
    {
     "data": {
      "text/plain": [
       "<NanoEventsArray [<event 1:51:48451>, ... ] type='10000 * event'>"
      ]
     },
     "execution_count": 5,
     "metadata": {},
     "output_type": "execute_result"
    }
   ],
   "source": [
    "events"
   ]
  },
  {
   "cell_type": "code",
   "execution_count": 8,
   "id": "96af50e2-094f-4015-ac6b-efbfed5f411e",
   "metadata": {},
   "outputs": [
    {
     "data": {
      "text/plain": [
       "10000 * var * jet"
      ]
     },
     "execution_count": 8,
     "metadata": {},
     "output_type": "execute_result"
    }
   ],
   "source": [
    "events.Jet.type"
   ]
  },
  {
   "cell_type": "markdown",
   "id": "d65291fa-4cdd-45b7-b8de-598b0e033822",
   "metadata": {},
   "source": [
    "Take the first event"
   ]
  },
  {
   "cell_type": "code",
   "execution_count": 9,
   "id": "e765a048-f9bd-48b4-a82d-bdde528d2dfc",
   "metadata": {},
   "outputs": [
    {
     "data": {
      "text/plain": [
       "<JetArray [Jet, Jet, Jet, Jet, ... Jet, Jet, Jet] type='10 * jet'>"
      ]
     },
     "execution_count": 9,
     "metadata": {},
     "output_type": "execute_result"
    }
   ],
   "source": [
    "events.Jet[0]"
   ]
  },
  {
   "cell_type": "code",
   "execution_count": 12,
   "id": "d7563a23-50dd-439d-b638-dfcba307db00",
   "metadata": {},
   "outputs": [],
   "source": [
    "j = events.Jet[0, 0]"
   ]
  },
  {
   "cell_type": "code",
   "execution_count": 14,
   "id": "14f249dc-3c2d-4171-b146-2b3274eff02e",
   "metadata": {},
   "outputs": [
    {
     "data": {
      "text/plain": [
       "178.25"
      ]
     },
     "execution_count": 14,
     "metadata": {},
     "output_type": "execute_result"
    }
   ],
   "source": [
    "j.pt"
   ]
  },
  {
   "cell_type": "markdown",
   "id": "14e8f03b-094a-4cfe-951c-51c9798ae243",
   "metadata": {},
   "source": [
    "### Work on more jets, single events"
   ]
  },
  {
   "cell_type": "code",
   "execution_count": 17,
   "id": "5a3bff1f-9d3e-4f1a-9262-042a94866631",
   "metadata": {},
   "outputs": [],
   "source": [
    "ev0 = events.Jet[0]"
   ]
  },
  {
   "cell_type": "code",
   "execution_count": 22,
   "id": "11973827-3d16-4d70-a2d7-68881d21a8a0",
   "metadata": {},
   "outputs": [
    {
     "data": {
      "text/plain": [
       "<matplotlib.collections.PathCollection at 0x7f142daa3df0>"
      ]
     },
     "execution_count": 22,
     "metadata": {},
     "output_type": "execute_result"
    },
    {
     "data": {
      "image/png": "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\n",
      "text/plain": [
       "<Figure size 640x480 with 1 Axes>"
      ]
     },
     "metadata": {},
     "output_type": "display_data"
    }
   ],
   "source": [
    "plt.scatter(ev0.eta, ev0.pt)"
   ]
  },
  {
   "cell_type": "markdown",
   "id": "d459999e-cab8-47c4-accf-01fbeaba12e9",
   "metadata": {},
   "source": [
    "### All the events"
   ]
  },
  {
   "cell_type": "code",
   "execution_count": 26,
   "id": "6ddfe3c1-8b19-4248-b632-29f690af7d61",
   "metadata": {},
   "outputs": [],
   "source": [
    "jet_pts = events.Jet.pt"
   ]
  },
  {
   "cell_type": "code",
   "execution_count": 27,
   "id": "1a82210e-d68b-403b-b46f-2a551fc119eb",
   "metadata": {},
   "outputs": [
    {
     "data": {
      "text/plain": [
       "<Array [[178, 95.1, 75.2, ... 28.3, 28.1, 18]] type='10000 * var * float32[param...'>"
      ]
     },
     "execution_count": 27,
     "metadata": {},
     "output_type": "execute_result"
    }
   ],
   "source": [
    "jet_pts"
   ]
  },
  {
   "cell_type": "code",
   "execution_count": 32,
   "id": "d98ac5ea-6e34-4af0-a8b0-748004ece4f5",
   "metadata": {},
   "outputs": [
    {
     "data": {
      "text/plain": [
       "<Array [10, 9, 10, 8, 5, 7, ... 6, 8, 9, 8, 9] type='10000 * int64'>"
      ]
     },
     "execution_count": 32,
     "metadata": {},
     "output_type": "execute_result"
    }
   ],
   "source": [
    "ak.num(jet_pts, axis=1)"
   ]
  },
  {
   "cell_type": "code",
   "execution_count": 33,
   "id": "7defda8b-fbe9-43d5-8811-3d73cd39b336",
   "metadata": {},
   "outputs": [
    {
     "data": {
      "text/plain": [
       "(array([  92.,  859., 2348., 2996., 2125., 1003.,  422.,  115.,   30.,\n",
       "          10.]),\n",
       " array([ 3. ,  5.1,  7.2,  9.3, 11.4, 13.5, 15.6, 17.7, 19.8, 21.9, 24. ]),\n",
       " <BarContainer object of 10 artists>)"
      ]
     },
     "execution_count": 33,
     "metadata": {},
     "output_type": "execute_result"
    },
    {
     "data": {
      "image/png": "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\n",
      "text/plain": [
       "<Figure size 640x480 with 1 Axes>"
      ]
     },
     "metadata": {},
     "output_type": "display_data"
    }
   ],
   "source": [
    "plt.hist(ak.num(events.Jet, axis=1))"
   ]
  },
  {
   "cell_type": "markdown",
   "id": "3a7cb89f-5c32-4351-bdd1-a8d2eb39e1da",
   "metadata": {},
   "source": [
    "#### Plot pts"
   ]
  },
  {
   "cell_type": "code",
   "execution_count": 36,
   "id": "f9ea5db7-effb-4808-8f6f-60041916aaba",
   "metadata": {},
   "outputs": [
    {
     "data": {
      "text/plain": [
       "(array([   0.,    0.,    0.,    0.,    0.,    0.,    0.,    0.,    0.,\n",
       "           0.,    0.,    0.,    0.,    0.,    0., 6495., 5515., 4716.,\n",
       "        4052., 3192., 2938., 2468., 2250., 2077., 1862., 1737., 1616.,\n",
       "        1457., 1377., 1381., 1257., 1277., 1147., 1212., 1172., 1139.,\n",
       "        1034., 1022., 1043.,  977.,  982.,  955.,  916.,  857.,  875.,\n",
       "         866.,  859.,  865.,  841.,  849.,  820.,  777.,  789.,  751.,\n",
       "         778.,  763.,  798.,  722.,  661.,  692.,  687.,  673.,  648.,\n",
       "         640.,  605.,  614.,  655.,  604.,  532.,  591.,  597.,  597.,\n",
       "         547.,  500.,  551.,  507.,  499.,  447.,  487.,  425.,  500.,\n",
       "         463.,  433.,  468.,  387.,  436.,  436.,  404.,  404.,  386.,\n",
       "         374.,  362.,  438.,  366.,  342.,  366.,  370.,  383.,  367.,\n",
       "         324.,  303.,  315.,  317.,  297.,  326.,  270.,  310.,  256.,\n",
       "         288.,  267.,  275.,  274.,  249.,  248.,  257.,  241.,  260.,\n",
       "         208.,  225.,  194.,  193.,  206.,  209.,  199.,  189.,  202.,\n",
       "         185.,  191.,  178.,  187.,  181.,  166.,  218.,  163.,  180.,\n",
       "         149.,  166.,  172.,  163.,  133.,  151.,  145.,  132.,  126.,\n",
       "         126.,  142.,  157.,  129.,  122.,  111.,  125.,   96.,  124.,\n",
       "         106.,  120.,  126.,  103.,  106.,   98.,  119.,   99.,   90.,\n",
       "          92.,   87.,   97.,  101.,  105.,  102.,   97.,   91.,  106.,\n",
       "          87.,   69.,   81.,   81.,   77.,   85.,   74.,   78.,   64.,\n",
       "          75.,   68.,   62.,   60.,   72.,   56.,   63.,   56.,   64.,\n",
       "          76.,   59.,   61.,   62.,   65.,   51.,   46.,   66.,   42.,\n",
       "          67.,   65.]),\n",
       " array([  0.,   1.,   2.,   3.,   4.,   5.,   6.,   7.,   8.,   9.,  10.,\n",
       "         11.,  12.,  13.,  14.,  15.,  16.,  17.,  18.,  19.,  20.,  21.,\n",
       "         22.,  23.,  24.,  25.,  26.,  27.,  28.,  29.,  30.,  31.,  32.,\n",
       "         33.,  34.,  35.,  36.,  37.,  38.,  39.,  40.,  41.,  42.,  43.,\n",
       "         44.,  45.,  46.,  47.,  48.,  49.,  50.,  51.,  52.,  53.,  54.,\n",
       "         55.,  56.,  57.,  58.,  59.,  60.,  61.,  62.,  63.,  64.,  65.,\n",
       "         66.,  67.,  68.,  69.,  70.,  71.,  72.,  73.,  74.,  75.,  76.,\n",
       "         77.,  78.,  79.,  80.,  81.,  82.,  83.,  84.,  85.,  86.,  87.,\n",
       "         88.,  89.,  90.,  91.,  92.,  93.,  94.,  95.,  96.,  97.,  98.,\n",
       "         99., 100., 101., 102., 103., 104., 105., 106., 107., 108., 109.,\n",
       "        110., 111., 112., 113., 114., 115., 116., 117., 118., 119., 120.,\n",
       "        121., 122., 123., 124., 125., 126., 127., 128., 129., 130., 131.,\n",
       "        132., 133., 134., 135., 136., 137., 138., 139., 140., 141., 142.,\n",
       "        143., 144., 145., 146., 147., 148., 149., 150., 151., 152., 153.,\n",
       "        154., 155., 156., 157., 158., 159., 160., 161., 162., 163., 164.,\n",
       "        165., 166., 167., 168., 169., 170., 171., 172., 173., 174., 175.,\n",
       "        176., 177., 178., 179., 180., 181., 182., 183., 184., 185., 186.,\n",
       "        187., 188., 189., 190., 191., 192., 193., 194., 195., 196., 197.,\n",
       "        198., 199., 200.]),\n",
       " <BarContainer object of 200 artists>)"
      ]
     },
     "execution_count": 36,
     "metadata": {},
     "output_type": "execute_result"
    },
    {
     "data": {
      "image/png": "iVBORw0KGgoAAAANSUhEUgAAAjAAAAGdCAYAAAAMm0nCAAAAOXRFWHRTb2Z0d2FyZQBNYXRwbG90bGliIHZlcnNpb24zLjYuMCwgaHR0cHM6Ly9tYXRwbG90bGliLm9yZy89olMNAAAACXBIWXMAAA9hAAAPYQGoP6dpAAAtKUlEQVR4nO3dfXBUVZ7/8U8CpAkP3ZGHpMkSIIoCGQEFNHSp7KhZAhtndIizoowwirKwgRFQjNl1UFlLKCgHYRQY1xlD1YgKVaJCFpgIAqs0D0az8jBkwYkGhQ6OmG5ASAI5vz/85RYNAdIhITnN+1V1q5J7vvfmHC/J/XjuQ8cYY4wAAAAsEtvcHQAAAIgUAQYAAFiHAAMAAKxDgAEAANYhwAAAAOsQYAAAgHUIMAAAwDoEGAAAYJ3Wzd2BplJTU6ODBw+qY8eOiomJae7uAACAejDG6OjRo0pOTlZs7PnnWaI2wBw8eFApKSnN3Q0AANAABw4cUPfu3c/bHrUBpmPHjpJ+/A/gdrubuTcAAKA+QqGQUlJSnPP4+URtgKm9bOR2uwkwAABY5mK3f3ATLwAAsA4BBgAAWIcAAwAArEOAAQAA1iHAAAAA6xBgAACAdQgwAADAOgQYAABgHQIMAACwDgEGAABYhwADAACsQ4ABAADWIcAAAADrEGAAAIB1CDAW6/VUgXo9VdDc3QAA4LIjwAAAAOsQYAAAgHUIMAAAwDoEGAAAYB0CDAAAsA4BBgAAWIcAAwAArEOAAQAA1iHAAAAA6xBgAACAdQgwAADAOgQYAABgHQIMAACwDgEGAABYhwADAACsQ4ABAADWIcAAAADrEGAAAIB1CDAAAMA6BBgAAGAdAgwAALAOAQYAAFgn4gDzzTff6Fe/+pU6d+6s+Ph49e/fX5988onTbozRzJkz1a1bN8XHxysjI0P79u0L28eRI0c0ZswYud1uJSQkaPz48Tp27FhYzeeff67bbrtNbdu2VUpKiubOndvAIQIAgGgTUYD5/vvvdcstt6hNmzZas2aN9uzZoxdffFFXXXWVUzN37lwtXLhQS5Ys0bZt29S+fXtlZmbq5MmTTs2YMWO0e/duFRYWavXq1dq8ebMmTJjgtIdCIQ0fPlw9e/ZUUVGR5s2bp2effVavvvpqIwwZAABYz0QgNzfX3Hrrredtr6mpMV6v18ybN89ZV1FRYVwul3nzzTeNMcbs2bPHSDI7duxwatasWWNiYmLMN998Y4wxZtGiReaqq64ylZWVYT+7T58+9e5rMBg0kkwwGKz3Nrbpmbva9Mxd3dzdAACg0dT3/B3RDMz777+vIUOG6Je//KUSExN144036r/+67+c9tLSUgUCAWVkZDjrPB6P0tPT5ff7JUl+v18JCQkaMmSIU5ORkaHY2Fht27bNqRk2bJji4uKcmszMTJWUlOj777+vs2+VlZUKhUJhCwAAiE4RBZi//e1vWrx4sa699lqtW7dOkyZN0m9+8xstXbpUkhQIBCRJSUlJYdslJSU5bYFAQImJiWHtrVu3VqdOncJq6trHmT/jbLNnz5bH43GWlJSUSIYGAAAsElGAqamp0aBBg/TCCy/oxhtv1IQJE/Too49qyZIlTdW/esvLy1MwGHSWAwcONHeXAABAE4kowHTr1k1paWlh6/r166eysjJJktfrlSSVl5eH1ZSXlzttXq9Xhw8fDms/deqUjhw5ElZT1z7O/Blnc7lccrvdYQsAAIhOEQWYW265RSUlJWHr/u///k89e/aUJKWmpsrr9Wr9+vVOeygU0rZt2+Tz+SRJPp9PFRUVKioqcmo2bNigmpoapaenOzWbN29WdXW1U1NYWKg+ffqEPfEEAACuTBEFmGnTpmnr1q164YUXtH//fi1btkyvvvqqcnJyJEkxMTGaOnWqnn/+eb3//vvauXOnxo4dq+TkZN1zzz2SfpyxGTFihB599FFt375dH3/8sSZPnqzRo0crOTlZkvTAAw8oLi5O48eP1+7du/X2229rwYIFmj59euOOHgAAWKl1JMU33XSTVq5cqby8PM2aNUupqal66aWXNGbMGKfmySef1PHjxzVhwgRVVFTo1ltv1dq1a9W2bVun5o033tDkyZN15513KjY2VtnZ2Vq4cKHT7vF49Je//EU5OTkaPHiwunTpopkzZ4a9KwYAAFy5Yowxprk70RRCoZA8Ho+CwWDU3g/T66kCSdKXc7KauScAADSO+p6/+SwkAABgHQIMAACwDgEGAABYhwADAACsQ4ABAADWIcAAAADrEGAAAIB1CDAAAMA6BBgAAGAdAgwAALAOAQYAAFiHAAMAAKxDgAEAANYhwAAAAOsQYAAAgHUIMAAAwDoEGAAAYB0CDAAAsA4BBgAAWKd1c3cAl67XUwXO11/OyWrGngAAcHkwAwMAAKxDgAEAANYhwAAAAOsQYAAAgHUIMAAAwDoEGAAAYB0CDAAAsA4BBgAAWIcAAwAArEOAAQAA1iHAAAAA6xBgAACAdQgwAADAOgQYAABgHQIMAACwDgEGAABYhwADAACsQ4ABAADWIcAAAADrEGAAAIB1CDAAAMA6BBgAAGAdAgwAALBORAHm2WefVUxMTNjSt29fp/3kyZPKyclR586d1aFDB2VnZ6u8vDxsH2VlZcrKylK7du2UmJioGTNm6NSpU2E1Gzdu1KBBg+RyudS7d2/l5+c3fIQAACDqRDwD85Of/ESHDh1ylo8++shpmzZtmlatWqUVK1Zo06ZNOnjwoEaNGuW0nz59WllZWaqqqtKWLVu0dOlS5efna+bMmU5NaWmpsrKydPvtt6u4uFhTp07VI488onXr1l3iUAEAQLRoHfEGrVvL6/Wesz4YDOqPf/yjli1bpjvuuEOS9Prrr6tfv37aunWrhg4dqr/85S/as2ePPvjgAyUlJemGG27Qf/7nfyo3N1fPPvus4uLitGTJEqWmpurFF1+UJPXr108fffSR5s+fr8zMzEscLgAAiAYRz8Ds27dPycnJuvrqqzVmzBiVlZVJkoqKilRdXa2MjAyntm/fvurRo4f8fr8kye/3q3///kpKSnJqMjMzFQqFtHv3bqfmzH3U1tTu43wqKysVCoXCFgAAEJ0iCjDp6enKz8/X2rVrtXjxYpWWluq2227T0aNHFQgEFBcXp4SEhLBtkpKSFAgEJEmBQCAsvNS217ZdqCYUCunEiRPn7dvs2bPl8XicJSUlJZKhAQAAi0R0CWnkyJHO1wMGDFB6erp69uyp5cuXKz4+vtE7F4m8vDxNnz7d+T4UChFiAACIUpf0GHVCQoKuu+467d+/X16vV1VVVaqoqAirKS8vd+6Z8Xq95zyVVPv9xWrcbvcFQ5LL5ZLb7Q5bAABAdLqkAHPs2DF98cUX6tatmwYPHqw2bdpo/fr1TntJSYnKysrk8/kkST6fTzt37tThw4edmsLCQrndbqWlpTk1Z+6jtqZ2HwAAABEFmCeeeEKbNm3Sl19+qS1btugXv/iFWrVqpfvvv18ej0fjx4/X9OnT9eGHH6qoqEgPPfSQfD6fhg4dKkkaPny40tLS9OCDD+p///d/tW7dOj399NPKycmRy+WSJE2cOFF/+9vf9OSTT2rv3r1atGiRli9frmnTpjX+6AEAgJUiugfm66+/1v3336/vvvtOXbt21a233qqtW7eqa9eukqT58+crNjZW2dnZqqysVGZmphYtWuRs36pVK61evVqTJk2Sz+dT+/btNW7cOM2aNcupSU1NVUFBgaZNm6YFCxaoe/fueu2113iEGgAAOGKMMaa5O9EUQqGQPB6PgsFg1N4P0+upgnPWfTknqxl6AgBA46jv+ZvPQgIAANYhwAAAAOsQYAAAgHUIMAAAwDoEGAAAYB0CDAAAsA4BBgAAWIcAAwAArEOAAQAA1iHARJleTxXU+YZeAACiCQEGAABYhwADAACsQ4ABAADWIcAAAADrEGAAAIB1CDAAAMA6BBgAAGAdAgwAALAOAQYAAFiHAAMAAKxDgAEAANYhwAAAAOsQYAAAgHUIMAAAwDoEGAAAYB0CDAAAsA4BBgAAWIcAAwAArEOAAQAA1iHAAAAA6xBgAACAdQgwAADAOgQYAABgHQIMAACwDgEGAABYhwADAACsQ4ABAADWIcAAAADrEGAAAIB1CDAAAMA6BBgAAGAdAgwAALAOAQYAAFjnkgLMnDlzFBMTo6lTpzrrTp48qZycHHXu3FkdOnRQdna2ysvLw7YrKytTVlaW2rVrp8TERM2YMUOnTp0Kq9m4caMGDRokl8ul3r17Kz8//1K6CgAAokiDA8yOHTv0hz/8QQMGDAhbP23aNK1atUorVqzQpk2bdPDgQY0aNcppP336tLKyslRVVaUtW7Zo6dKlys/P18yZM52a0tJSZWVl6fbbb1dxcbGmTp2qRx55ROvWrWtodwEAQBSJMcaYSDc6duyYBg0apEWLFun555/XDTfcoJdeeknBYFBdu3bVsmXLdO+990qS9u7dq379+snv92vo0KFas2aN7rrrLh08eFBJSUmSpCVLlig3N1fffvut4uLilJubq4KCAu3atcv5maNHj1ZFRYXWrl1brz6GQiF5PB4Fg0G53e5Ih2iFXk8VXLTmyzlZl6EnAAA0jvqevxs0A5OTk6OsrCxlZGSErS8qKlJ1dXXY+r59+6pHjx7y+/2SJL/fr/79+zvhRZIyMzMVCoW0e/dup+bsfWdmZjr7qEtlZaVCoVDYAgAAolPrSDd466239Omnn2rHjh3ntAUCAcXFxSkhISFsfVJSkgKBgFNzZnipba9tu1BNKBTSiRMnFB8ff87Pnj17tp577rlIhwMAACwU0QzMgQMH9Nhjj+mNN95Q27Ztm6pPDZKXl6dgMOgsBw4caO4uAQCAJhJRgCkqKtLhw4c1aNAgtW7dWq1bt9amTZu0cOFCtW7dWklJSaqqqlJFRUXYduXl5fJ6vZIkr9d7zlNJtd9frMbtdtc5+yJJLpdLbrc7bAEAANEpogBz5513aufOnSouLnaWIUOGaMyYMc7Xbdq00fr1651tSkpKVFZWJp/PJ0ny+XzauXOnDh8+7NQUFhbK7XYrLS3NqTlzH7U1tfsAAABXtojugenYsaOuv/76sHXt27dX586dnfXjx4/X9OnT1alTJ7ndbk2ZMkU+n09Dhw6VJA0fPlxpaWl68MEHNXfuXAUCAT399NPKycmRy+WSJE2cOFEvv/yynnzyST388MPasGGDli9froKCiz91AwAAol/EN/FezPz58xUbG6vs7GxVVlYqMzNTixYtctpbtWql1atXa9KkSfL5fGrfvr3GjRunWbNmOTWpqakqKCjQtGnTtGDBAnXv3l2vvfaaMjMzG7u7AADAQg16D4wNeA/Mj3gPDADAJk36HhgAAIDmRIABAADWIcAAAADrEGAAAIB1CDAAAMA6BBgAAGAdAgwAALAOAQYAAFiHAAMAAKxDgAEAANYhwAAAAOsQYAAAgHUIMAAAwDoEGAAAYB0CDAAAsA4BBgAAWIcAAwAArEOAAQAA1iHAAAAA6xBgAACAdQgwAADAOgQYAABgHQIMAACwDgEGAABYhwADAACsQ4ABAADWIcAAAADrEGAAAIB1CDAAAMA6BBgAAGAdAgwAALAOAQYAAFiHAAMAAKxDgAEAANYhwAAAAOsQYAAAgHUIMAAAwDoEmCjX66kC9XqqoLm7AQBAoyLAAAAA6xBgAACAdQgwAADAOgQYAABgHQIMAACwDgEGAABYJ6IAs3jxYg0YMEBut1tut1s+n09r1qxx2k+ePKmcnBx17txZHTp0UHZ2tsrLy8P2UVZWpqysLLVr106JiYmaMWOGTp06FVazceNGDRo0SC6XS71791Z+fn7DRwgAAKJORAGme/fumjNnjoqKivTJJ5/ojjvu0N13363du3dLkqZNm6ZVq1ZpxYoV2rRpkw4ePKhRo0Y5258+fVpZWVmqqqrSli1btHTpUuXn52vmzJlOTWlpqbKysnT77beruLhYU6dO1SOPPKJ169Y10pABAIDtYowx5lJ20KlTJ82bN0/33nuvunbtqmXLlunee++VJO3du1f9+vWT3+/X0KFDtWbNGt111106ePCgkpKSJElLlixRbm6uvv32W8XFxSk3N1cFBQXatWuX8zNGjx6tiooKrV27tt79CoVC8ng8CgaDcrvdlzLEFiuSF9R9OSerCXsCAEDjqO/5u8H3wJw+fVpvvfWWjh8/Lp/Pp6KiIlVXVysjI8Op6du3r3r06CG/3y9J8vv96t+/vxNeJCkzM1OhUMiZxfH7/WH7qK2p3cf5VFZWKhQKhS0AACA6RRxgdu7cqQ4dOsjlcmnixIlauXKl0tLSFAgEFBcXp4SEhLD6pKQkBQIBSVIgEAgLL7XttW0XqgmFQjpx4sR5+zV79mx5PB5nSUlJiXRoAADAEhEHmD59+qi4uFjbtm3TpEmTNG7cOO3Zs6cp+haRvLw8BYNBZzlw4EBzdwkAADSR1pFuEBcXp969e0uSBg8erB07dmjBggW67777VFVVpYqKirBZmPLycnm9XkmS1+vV9u3bw/ZX+5TSmTVnP7lUXl4ut9ut+Pj48/bL5XLJ5XJFOhwAAGChS34PTE1NjSorKzV48GC1adNG69evd9pKSkpUVlYmn88nSfL5fNq5c6cOHz7s1BQWFsrtdistLc2pOXMftTW1+0DD1H4qNZ9MDQCIBhHNwOTl5WnkyJHq0aOHjh49qmXLlmnjxo1at26dPB6Pxo8fr+nTp6tTp05yu92aMmWKfD6fhg4dKkkaPny40tLS9OCDD2ru3LkKBAJ6+umnlZOT48yeTJw4US+//LKefPJJPfzww9qwYYOWL1+uggJOvAAA4EcRBZjDhw9r7NixOnTokDwejwYMGKB169bpn/7pnyRJ8+fPV2xsrLKzs1VZWanMzEwtWrTI2b5Vq1ZavXq1Jk2aJJ/Pp/bt22vcuHGaNWuWU5OamqqCggJNmzZNCxYsUPfu3fXaa68pMzOzkYYMAABsd8nvgWmpeA/M+fFOGABAS9Xk74EBAABoLgQYAABgHQIMAACwDgEGAABYhwADAACsQ4ABAADWIcAAAADrEGAAAIB1CDAAAMA6BBgAAGAdAgwAALAOAQYAAFiHAAMAAKxDgAEAANYhwAAAAOsQYAAAgHUIMAAAwDoEGAAAYB0CDAAAsA4BBgAAWIcAAwAArEOAAQAA1iHAXIF6PVWgXk8VNHc3AABoMAIMAACwDgEGAABYhwADAACsQ4ABAADWIcAAAADrEGAAAIB1CDAAAMA6BBgAAGAdAgwAALAOAQYAAFiHAHMF4yMFAAC2IsAAAADrEGAAAIB1CDAAAMA6BBgAAGAdAgwAALAOAQYAAFiHAAMAAKxDgAEAANYhwAAAAOtEFGBmz56tm266SR07dlRiYqLuuecelZSUhNWcPHlSOTk56ty5szp06KDs7GyVl5eH1ZSVlSkrK0vt2rVTYmKiZsyYoVOnToXVbNy4UYMGDZLL5VLv3r2Vn5/fsBHiomrfyMtbeQEAtogowGzatEk5OTnaunWrCgsLVV1dreHDh+v48eNOzbRp07Rq1SqtWLFCmzZt0sGDBzVq1Cin/fTp08rKylJVVZW2bNmipUuXKj8/XzNnznRqSktLlZWVpdtvv13FxcWaOnWqHnnkEa1bt64RhgwAAGwXY4wxDd3422+/VWJiojZt2qRhw4YpGAyqa9euWrZsme69915J0t69e9WvXz/5/X4NHTpUa9as0V133aWDBw8qKSlJkrRkyRLl5ubq22+/VVxcnHJzc1VQUKBdu3Y5P2v06NGqqKjQ2rVr69W3UCgkj8ejYDAot9vd0CG2aE0xY/LlnKxG3ycAAPVV3/P3Jd0DEwwGJUmdOnWSJBUVFam6uloZGRlOTd++fdWjRw/5/X5Jkt/vV//+/Z3wIkmZmZkKhULavXu3U3PmPmpravdRl8rKSoVCobAFAABEpwYHmJqaGk2dOlW33HKLrr/+eklSIBBQXFycEhISwmqTkpIUCAScmjPDS217bduFakKhkE6cOFFnf2bPni2Px+MsKSkpDR0aAABo4RocYHJycrRr1y699dZbjdmfBsvLy1MwGHSWAwcONHeXAABAE2ndkI0mT56s1atXa/Pmzerevbuz3uv1qqqqShUVFWGzMOXl5fJ6vU7N9u3bw/ZX+5TSmTVnP7lUXl4ut9ut+Pj4OvvkcrnkcrkaMhwAAGCZiGZgjDGaPHmyVq5cqQ0bNig1NTWsffDgwWrTpo3Wr1/vrCspKVFZWZl8Pp8kyefzaefOnTp8+LBTU1hYKLfbrbS0NKfmzH3U1tTuAwAAXNkimoHJycnRsmXL9N5776ljx47OPSsej0fx8fHyeDwaP368pk+frk6dOsntdmvKlCny+XwaOnSoJGn48OFKS0vTgw8+qLlz5yoQCOjpp59WTk6OM4MyceJEvfzyy3ryySf18MMPa8OGDVq+fLkKCnhPCQAAiHAGZvHixQoGg/rpT3+qbt26Ocvbb7/t1MyfP1933XWXsrOzNWzYMHm9Xr3zzjtOe6tWrbR69Wq1atVKPp9Pv/rVrzR27FjNmjXLqUlNTVVBQYEKCws1cOBAvfjii3rttdeUmZnZCEMGAAC2u6T3wLRkvAemYXgPDACgOV2W98Ag+vCRAgAAGxBgAACAdQgwAADAOgQYAABgHQIMAACwDgEGAABYhwADAACsQ4BBnXicGgDQkhFgAACAdQgwAADAOgQYAABgHQIMAACwDgEGAABYhwADAACsQ4DBBfE4NQCgJSLAAAAA6xBgAACAdQgwAADAOgQYAABgHQIMAACwDgEGAABYhwADAACs07q5OwA7nPkumC/nZDVjTwAAYAYGAABYiAADAACsQ4ABAADWIcCgwficJABAc+EmXkSM0AIAaG7MwAAAAOsQYAAAgHUIMAAAwDoEGAAAYB1u4kWj4W29AIDLhQCDS8ZTSQCAy41LSAAAwDoEGAAAYB0CDJoUb+sFADQFAgwAALAOAQaXBTMxAIDGxFNIaBKEFQBAUyLA4LLiXTEAgMbAJSQAAGAdAgwAALBOxAFm8+bN+tnPfqbk5GTFxMTo3XffDWs3xmjmzJnq1q2b4uPjlZGRoX379oXVHDlyRGPGjJHb7VZCQoLGjx+vY8eOhdV8/vnnuu2229S2bVulpKRo7ty5kY8OAABEpYgDzPHjxzVw4EC98sordbbPnTtXCxcu1JIlS7Rt2za1b99emZmZOnnypFMzZswY7d69W4WFhVq9erU2b96sCRMmOO2hUEjDhw9Xz549VVRUpHnz5unZZ5/Vq6++2oAhAgCAaBNjjDEN3jgmRitXrtQ999wj6cfZl+TkZD3++ON64oknJEnBYFBJSUnKz8/X6NGj9de//lVpaWnasWOHhgwZIklau3at/vmf/1lff/21kpOTtXjxYv3Hf/yHAoGA4uLiJElPPfWU3n33Xe3du7defQuFQvJ4PAoGg3K73Q0dYosWLU/61N7MWzsebu4FgCtXfc/fjXoPTGlpqQKBgDIyMpx1Ho9H6enp8vv9kiS/36+EhAQnvEhSRkaGYmNjtW3bNqdm2LBhTniRpMzMTJWUlOj777+v82dXVlYqFAqFLbAD74gBAESqUQNMIBCQJCUlJYWtT0pKctoCgYASExPD2lu3bq1OnTqF1dS1jzN/xtlmz54tj8fjLCkpKZc+IAAA0CJFzXtg8vLyNH36dOf7UChEiLFUXbMxXFYCAJypUWdgvF6vJKm8vDxsfXl5udPm9Xp1+PDhsPZTp07pyJEjYTV17ePMn3E2l8slt9sdtgAAgOjUqAEmNTVVXq9X69evd9aFQiFt27ZNPp9PkuTz+VRRUaGioiKnZsOGDaqpqVF6erpTs3nzZlVXVzs1hYWF6tOnj6666qrG7DIswX0yAIAzRRxgjh07puLiYhUXF0v68cbd4uJilZWVKSYmRlOnTtXzzz+v999/Xzt37tTYsWOVnJzsPKnUr18/jRgxQo8++qi2b9+ujz/+WJMnT9bo0aOVnJwsSXrggQcUFxen8ePHa/fu3Xr77be1YMGCsEtEAADgyhXxY9QbN27U7bfffs76cePGKT8/X8YYPfPMM3r11VdVUVGhW2+9VYsWLdJ1113n1B45ckSTJ0/WqlWrFBsbq+zsbC1cuFAdOnRwaj7//HPl5ORox44d6tKli6ZMmaLc3Nx695PHqKMb98QAQHSq7/n7kt4D05IRYKIbAQYAolN9z99R8xQSrlxnB7mzX4x35joAQHQgwMBKF5p9qk8bgQYA7EaAwRXhSr7cBgDRqFEfowZswWPZAGA3AgwQAYIPALQMXELCFe1CH1vA/TIA0HIRYICLYMYFAFoeAgxwFgILALR83AMDNAD3wgBA8yLAAAAA63AJCWgEF7oZGADQ+AgwwCXgrb8A0Dy4hAQ0sfrcL8M9NQAQGWZggMuED5cEgMZDgAGaAbMtAHBpCDBAC1LXLM2Fwg4zOQCuVNwDAwAArEOAAaIINwMDuFJwCQlooeoTRHhUG8CVihkYAABgHWZggChw9mxNpG8GZiYHgG0IMMAVhvfRAIgGXEIC4KjrJmBuDAbQEjEDA1whCCEAogkBBriCnS/U1OdDKs8UyaUo7rcB0BgIMAAu2dmhhnACoKkRYADUSySXoJhlAdDUCDAAmsyFnniqK+TUJyQRigBIBBgAlwk3EQNoTAQYAM2KYAOgIQgwAKxy9qWnCz0VdaFaLkUBdiPAALBSpI96A4guBBgAV7RIZnQAtBwEGABRr65QUp8PwKzP/s53uQpA0yLAAMBFcLkKaHkIMADQBJr7hmFmhBDtCDAA0IjqMyNzoRouSQH1Q4ABgCbW0PtrzrctNxwDUowxxjR3J5pCKBSSx+NRMBiU2+1u7u40Ca69A2iICwWgs2uAy62+529mYADgCnMpM0JS/cINl8DQ1JiBsRgzMABscalBhkB05WAGBgDQYjT0xuWGzBYRcq4MzMBYjBkYAIhMfe7/iWQ/aHxRMQPzyiuvaN68eQoEAho4cKB+//vf6+abb27ubgEALNVY/+NXn4+gqI9IHpuPdIYp2mekWuwMzNtvv62xY8dqyZIlSk9P10svvaQVK1aopKREiYmJF92eGRgAAOrn7JBzoY/LON82jaW+5+8WG2DS09N100036eWXX5Yk1dTUKCUlRVOmTNFTTz110e0JMAAANJ3mDjAt8hJSVVWVioqKlJeX56yLjY1VRkaG/H5/ndtUVlaqsrLS+T4YDEr68T9EtKqp/KG5uwAAuEI11fm1dr8Xm19pkQHm73//u06fPq2kpKSw9UlJSdq7d2+d28yePVvPPffcOetTUlKapI8AAFzJPC817f6PHj0qj8dz3vYWGWAaIi8vT9OnT3e+r6mp0ZEjR9S5c2fFxMQ02s8JhUJKSUnRgQMHovbSVLSPkfHZL9rHGO3jk6J/jIyv4YwxOnr0qJKTky9Y1yIDTJcuXdSqVSuVl5eHrS8vL5fX661zG5fLJZfLFbYuISGhqboot9sdlf8ozxTtY2R89ov2MUb7+KToHyPja5gLzbzUim30n9oI4uLiNHjwYK1fv95ZV1NTo/Xr18vn8zVjzwAAQEvQImdgJGn69OkaN26chgwZoptvvlkvvfSSjh8/roceeqi5uwYAAJpZiw0w9913n7799lvNnDlTgUBAN9xwg9auXXvOjb2Xm8vl0jPPPHPO5apoEu1jZHz2i/YxRvv4pOgfI+Nrei32PTAAAADn0yLvgQEAALgQAgwAALAOAQYAAFiHAAMAAKxDgInQK6+8ol69eqlt27ZKT0/X9u3bm7tLDTJ79mzddNNN6tixoxITE3XPPfeopKQkrOanP/2pYmJiwpaJEyc2U48j8+yzz57T9759+zrtJ0+eVE5Ojjp37qwOHTooOzv7nBcntnS9evU6Z4wxMTHKycmRZN/x27x5s372s58pOTlZMTExevfdd8PajTGaOXOmunXrpvj4eGVkZGjfvn1hNUeOHNGYMWPkdruVkJCg8ePH69ixY5dxFBd2oTFWV1crNzdX/fv3V/v27ZWcnKyxY8fq4MGDYfuo67jPmTPnMo+kbhc7hr/+9a/P6fuIESPCalryMbzY+Or6fYyJidG8efOcmpZ8/OpzXqjP386ysjJlZWWpXbt2SkxM1IwZM3Tq1KlG7y8BJgJvv/22pk+frmeeeUaffvqpBg4cqMzMTB0+fLi5uxaxTZs2KScnR1u3blVhYaGqq6s1fPhwHT9+PKzu0Ucf1aFDh5xl7ty5zdTjyP3kJz8J6/tHH33ktE2bNk2rVq3SihUrtGnTJh08eFCjRo1qxt5GbseOHWHjKywslCT98pe/dGpsOn7Hjx/XwIED9corr9TZPnfuXC1cuFBLlizRtm3b1L59e2VmZurkyZNOzZgxY7R7924VFhZq9erV2rx5syZMmHC5hnBRFxrjDz/8oE8//VS//e1v9emnn+qdd95RSUmJfv7zn59TO2vWrLDjOmXKlMvR/Yu62DGUpBEjRoT1/c033wxrb8nH8GLjO3Nchw4d0p/+9CfFxMQoOzs7rK6lHr/6nBcu9rfz9OnTysrKUlVVlbZs2aKlS5cqPz9fM2fObPwOG9TbzTffbHJycpzvT58+bZKTk83s2bObsVeN4/Dhw0aS2bRpk7PuH//xH81jjz3WfJ26BM8884wZOHBgnW0VFRWmTZs2ZsWKFc66v/71r0aS8fv9l6mHje+xxx4z11xzjampqTHG2H38JJmVK1c639fU1Biv12vmzZvnrKuoqDAul8u8+eabxhhj9uzZYySZHTt2ODVr1qwxMTEx5ptvvrlsfa+vs8dYl+3btxtJ5quvvnLW9ezZ08yfP79pO9cI6hrfuHHjzN13333ebWw6hvU5fnfffbe54447wtbZcvyMOfe8UJ+/nf/93/9tYmNjTSAQcGoWL15s3G63qaysbNT+MQNTT1VVVSoqKlJGRoazLjY2VhkZGfL7/c3Ys8YRDAYlSZ06dQpb/8Ybb6hLly66/vrrlZeXpx9++KE5utcg+/btU3Jysq6++mqNGTNGZWVlkqSioiJVV1eHHcu+ffuqR48e1h7Lqqoq/fnPf9bDDz8c9uGlNh+/M5WWlioQCIQdM4/Ho/T0dOeY+f1+JSQkaMiQIU5NRkaGYmNjtW3btsve58YQDAYVExNzzue6zZkzR507d9aNN96oefPmNcn0fFPZuHGjEhMT1adPH02aNEnfffed0xZNx7C8vFwFBQUaP378OW22HL+zzwv1+dvp9/vVv3//sJfOZmZmKhQKaffu3Y3avxb7Jt6W5u9//7tOnz59zpuAk5KStHfv3mbqVeOoqanR1KlTdcstt+j666931j/wwAPq2bOnkpOT9fnnnys3N1clJSV65513mrG39ZOenq78/Hz16dNHhw4d0nPPPafbbrtNu3btUiAQUFxc3DknhaSkJAUCgebp8CV69913VVFRoV//+tfOOpuP39lqj0tdv3+1bYFAQImJiWHtrVu3VqdOnaw8ridPnlRubq7uv//+sA/L+81vfqNBgwapU6dO2rJli/Ly8nTo0CH97ne/a8be1s+IESM0atQopaam6osvvtC///u/a+TIkfL7/WrVqlVUHcOlS5eqY8eO51yatuX41XVeqM/fzkAgUOfvaW1bYyLAQDk5Odq1a1fYPSKSwq479+/fX926ddOdd96pL774Qtdcc83l7mZERo4c6Xw9YMAApaenq2fPnlq+fLni4+ObsWdN449//KNGjhwZ9vHzNh+/K111dbX+5V/+RcYYLV68OKxt+vTpztcDBgxQXFyc/vVf/1WzZ89u8a+tHz16tPN1//79NWDAAF1zzTXauHGj7rzzzmbsWeP705/+pDFjxqht27Zh6205fuc7L7QkXEKqpy5duqhVq1bn3G1dXl4ur9fbTL26dJMnT9bq1av14Ycfqnv37hesTU9PlyTt37//cnStUSUkJOi6667T/v375fV6VVVVpYqKirAaW4/lV199pQ8++ECPPPLIBetsPn61x+VCv39er/ecG+pPnTqlI0eOWHVca8PLV199pcLCwrDZl7qkp6fr1KlT+vLLLy9PBxvR1VdfrS5dujj/JqPlGP7P//yPSkpKLvo7KbXM43e+80J9/nZ6vd46f09r2xoTAaae4uLiNHjwYK1fv95ZV1NTo/Xr18vn8zVjzxrGGKPJkydr5cqV2rBhg1JTUy+6TXFxsSSpW7duTdy7xnfs2DF98cUX6tatmwYPHqw2bdqEHcuSkhKVlZVZeSxff/11JSYmKisr64J1Nh+/1NRUeb3esGMWCoW0bds255j5fD5VVFSoqKjIqdmwYYNqamqc8NbS1YaXffv26YMPPlDnzp0vuk1xcbFiY2PPufRig6+//lrfffed828yGo6h9OOM6ODBgzVw4MCL1rak43ex80J9/nb6fD7t3LkzLIjWBvG0tLRG7zDq6a233jIul8vk5+ebPXv2mAkTJpiEhISwu61tMWnSJOPxeMzGjRvNoUOHnOWHH34wxhizf/9+M2vWLPPJJ5+Y0tJS895775mrr77aDBs2rJl7Xj+PP/642bhxoyktLTUff/yxycjIMF26dDGHDx82xhgzceJE06NHD7NhwwbzySefGJ/PZ3w+XzP3OnKnT582PXr0MLm5uWHrbTx+R48eNZ999pn57LPPjCTzu9/9znz22WfOEzhz5swxCQkJ5r333jOff/65ufvuu01qaqo5ceKEs48RI0aYG2+80Wzbts189NFH5tprrzX3339/cw3pHBcaY1VVlfn5z39uunfvboqLi8N+L2uf3tiyZYuZP3++KS4uNl988YX585//bLp27WrGjh3bzCP70YXGd/ToUfPEE08Yv99vSktLzQcffGAGDRpkrr32WnPy5ElnHy35GF7s36gxxgSDQdOuXTuzePHic7Zv6cfvYucFYy7+t/PUqVPm+uuvN8OHDzfFxcVm7dq1pmvXriYvL6/R+0uAidDvf/9706NHDxMXF2duvvlms3Xr1ubuUoNIqnN5/fXXjTHGlJWVmWHDhplOnToZl8tlevfubWbMmGGCwWDzdrye7rvvPtOtWzcTFxdn/uEf/sHcd999Zv/+/U77iRMnzL/927+Zq666yrRr18784he/MIcOHWrGHjfMunXrjCRTUlIStt7G4/fhhx/W+W9y3LhxxpgfH6X+7W9/a5KSkozL5TJ33nnnOeP+7rvvzP333286dOhg3G63eeihh8zRo0ebYTR1u9AYS0tLz/t7+eGHHxpjjCkqKjLp6enG4/GYtm3bmn79+pkXXnghLAA0pwuN74cffjDDhw83Xbt2NW3atDE9e/Y0jz766Dn/A9iSj+HF/o0aY8wf/vAHEx8fbyoqKs7ZvqUfv4udF4yp39/OL7/80owcOdLEx8ebLl26mMcff9xUV1c3en9j/n+nAQAArME9MAAAwDoEGAAAYB0CDAAAsA4BBgAAWIcAAwAArEOAAQAA1iHAAAAA6xBgAACAdQgwAADAOgQYAABgHQIMAACwDgEGAABY5/8BIO7CJwb4h0MAAAAASUVORK5CYII=\n",
      "text/plain": [
       "<Figure size 640x480 with 1 Axes>"
      ]
     },
     "metadata": {},
     "output_type": "display_data"
    }
   ],
   "source": [
    "plt.hist(ak.flatten(events.Jet.pt), bins=200, range=(0, 200))"
   ]
  },
  {
   "cell_type": "code",
   "execution_count": 38,
   "id": "81c74507-68ec-4a00-9958-bd04cd64856c",
   "metadata": {},
   "outputs": [
    {
     "data": {
      "text/plain": [
       "(array([  0.,   0.,   0.,   0.,   0.,   0.,   0.,   0.,   0.,   0.,   0.,\n",
       "          0.,   0.,   0.,   1.,   0.,   0.,   3.,   4.,   5.,   8.,  12.,\n",
       "         18.,  23.,  33.,  47.,  43.,  51.,  70.,  76.,  89., 103., 101.,\n",
       "        147., 165., 146., 160., 156., 187., 167., 185., 217., 174., 183.,\n",
       "        201., 184., 187., 163., 168., 164., 180., 171., 173., 183., 172.,\n",
       "        164., 160., 135., 161., 151., 133., 136., 132., 131., 123., 102.,\n",
       "        124., 120., 127., 100., 120.,  87., 103.,  80.,  81.,  97.,  87.,\n",
       "         87.,  81.,  89.,  59.,  77.,  67.,  68.,  59.,  64.,  69.,  50.,\n",
       "         55.,  62.,  48.,  60.,  40.,  42.,  49.,  54.,  41.,  50.,  40.,\n",
       "         28.,  48.,  33.,  40.,  29.,  27.,  39.,  34.,  34.,  22.,  29.,\n",
       "         35.,  27.,  30.,  18.,  24.,  24.,  23.,  17.,  19.,  21.,  23.,\n",
       "         16.,  23.,  19.,  15.,  19.,  19.,  11.,   9.,  19.,  13.,  17.,\n",
       "         19.,  14.,  13.,  15.,  13.,  15.,  10.,  13.,  11.,   8.,  10.,\n",
       "          9.,   9.,  11.,  12.,  10.,  10.,   9.,   5.,  10.,   6.,  14.,\n",
       "         11.,  13.,   8.,   6.,  11.,   9.,  10.,   8.,   9.,  10.,   7.,\n",
       "          8.,   5.,   6.,   6.,   8.,   6.,   5.,   6.,   4.,   6.,   0.,\n",
       "          6.,   6.,   4.,   4.,   3.,   4.,   5.,   4.,   5.,   5.,   6.,\n",
       "          6.,   0.,   3.,   3.,   6.,   3.,   3.,   1.,   5.,   3.,   3.,\n",
       "          3.,   2.]),\n",
       " array([  0. ,   2.5,   5. ,   7.5,  10. ,  12.5,  15. ,  17.5,  20. ,\n",
       "         22.5,  25. ,  27.5,  30. ,  32.5,  35. ,  37.5,  40. ,  42.5,\n",
       "         45. ,  47.5,  50. ,  52.5,  55. ,  57.5,  60. ,  62.5,  65. ,\n",
       "         67.5,  70. ,  72.5,  75. ,  77.5,  80. ,  82.5,  85. ,  87.5,\n",
       "         90. ,  92.5,  95. ,  97.5, 100. , 102.5, 105. , 107.5, 110. ,\n",
       "        112.5, 115. , 117.5, 120. , 122.5, 125. , 127.5, 130. , 132.5,\n",
       "        135. , 137.5, 140. , 142.5, 145. , 147.5, 150. , 152.5, 155. ,\n",
       "        157.5, 160. , 162.5, 165. , 167.5, 170. , 172.5, 175. , 177.5,\n",
       "        180. , 182.5, 185. , 187.5, 190. , 192.5, 195. , 197.5, 200. ,\n",
       "        202.5, 205. , 207.5, 210. , 212.5, 215. , 217.5, 220. , 222.5,\n",
       "        225. , 227.5, 230. , 232.5, 235. , 237.5, 240. , 242.5, 245. ,\n",
       "        247.5, 250. , 252.5, 255. , 257.5, 260. , 262.5, 265. , 267.5,\n",
       "        270. , 272.5, 275. , 277.5, 280. , 282.5, 285. , 287.5, 290. ,\n",
       "        292.5, 295. , 297.5, 300. , 302.5, 305. , 307.5, 310. , 312.5,\n",
       "        315. , 317.5, 320. , 322.5, 325. , 327.5, 330. , 332.5, 335. ,\n",
       "        337.5, 340. , 342.5, 345. , 347.5, 350. , 352.5, 355. , 357.5,\n",
       "        360. , 362.5, 365. , 367.5, 370. , 372.5, 375. , 377.5, 380. ,\n",
       "        382.5, 385. , 387.5, 390. , 392.5, 395. , 397.5, 400. , 402.5,\n",
       "        405. , 407.5, 410. , 412.5, 415. , 417.5, 420. , 422.5, 425. ,\n",
       "        427.5, 430. , 432.5, 435. , 437.5, 440. , 442.5, 445. , 447.5,\n",
       "        450. , 452.5, 455. , 457.5, 460. , 462.5, 465. , 467.5, 470. ,\n",
       "        472.5, 475. , 477.5, 480. , 482.5, 485. , 487.5, 490. , 492.5,\n",
       "        495. , 497.5, 500. ]),\n",
       " <BarContainer object of 200 artists>)"
      ]
     },
     "execution_count": 38,
     "metadata": {},
     "output_type": "execute_result"
    },
    {
     "data": {
      "image/png": "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\n",
      "text/plain": [
       "<Figure size 640x480 with 1 Axes>"
      ]
     },
     "metadata": {},
     "output_type": "display_data"
    }
   ],
   "source": [
    "plt.hist(events.Jet.pt[:,0], bins=200, range=(0, 500))"
   ]
  },
  {
   "cell_type": "code",
   "execution_count": 39,
   "id": "b98a8a7c-6462-47d8-9005-e30e65147cd8",
   "metadata": {},
   "outputs": [
    {
     "data": {
      "text/plain": [
       "<JetArray [Jet, Jet, Jet, Jet, ... Jet, Jet, Jet] type='10000 * jet'>"
      ]
     },
     "execution_count": 39,
     "metadata": {},
     "output_type": "execute_result"
    }
   ],
   "source": [
    "events.Jet[:,0]"
   ]
  },
  {
   "cell_type": "markdown",
   "id": "5bf87d14-1758-4f47-aca8-a95419f00658",
   "metadata": {},
   "source": [
    "If you don't have always all the jets?"
   ]
  },
  {
   "cell_type": "code",
   "execution_count": 46,
   "id": "f80309ef-e73e-4620-8bb2-3ae8cf17c278",
   "metadata": {},
   "outputs": [],
   "source": [
    "jets_pt_padded = ak.fill_none(ak.pad_none(events.Jet.pt, 10, axis=1), 0)"
   ]
  },
  {
   "cell_type": "code",
   "execution_count": 47,
   "id": "cbdbdb50-04f0-4e49-915d-785c80326e33",
   "metadata": {},
   "outputs": [
    {
     "data": {
      "text/plain": [
       "[19.484375,\n",
       " 0.0,\n",
       " 15.5859375,\n",
       " 0.0,\n",
       " 0.0,\n",
       " 0.0,\n",
       " 0.0,\n",
       " 17.96875,\n",
       " 16.578125,\n",
       " 21.453125]"
      ]
     },
     "execution_count": 47,
     "metadata": {},
     "output_type": "execute_result"
    }
   ],
   "source": [
    "jets_pt_padded[0:10, 9].tolist()"
   ]
  },
  {
   "cell_type": "markdown",
   "id": "eead9b87-a7ef-4e10-85e4-ad5ea7f24499",
   "metadata": {},
   "source": [
    "### Debugging with tolist"
   ]
  },
  {
   "cell_type": "code",
   "execution_count": 51,
   "id": "9d8b8426-dbcf-4e19-9f7b-84a026336374",
   "metadata": {},
   "outputs": [
    {
     "data": {
      "text/plain": [
       "{'area': 0.55859375,\n",
       " 'btagCMVA': 0.9443359375,\n",
       " 'btagCSVV2': 0.958984375,\n",
       " 'btagDeepB': 0.85400390625,\n",
       " 'btagDeepC': 0.14404296875,\n",
       " 'btagDeepFlavB': 0.9052734375,\n",
       " 'btagDeepFlavC': 0.09393310546875,\n",
       " 'chEmEF': 0.0,\n",
       " 'chFPV0EF': 0.0263671875,\n",
       " 'chFPV1EF': 0.05859375,\n",
       " 'chFPV2EF': 0.34375,\n",
       " 'chFPV3EF': 0.296875,\n",
       " 'chHEF': 0.703125,\n",
       " 'eta': 0.195281982421875,\n",
       " 'mass': 22.53125,\n",
       " 'muEF': 0.0,\n",
       " 'muonSubtrFactor': -3.3993273973464966e-08,\n",
       " 'neEmEF': 0.30078125,\n",
       " 'neHEF': 0.0,\n",
       " 'phi': 0.1055908203125,\n",
       " 'pt': 95.125,\n",
       " 'puIdDisc': 0.9931640625,\n",
       " 'qgl': 0.0180206298828125,\n",
       " 'rawFactor': 0.0400390625,\n",
       " 'bRegCorr': 1.037109375,\n",
       " 'bRegRes': 0.0791015625,\n",
       " 'cRegCorr': 1.0185546875,\n",
       " 'cRegRes': 0.0634765625,\n",
       " 'electronIdx1': 0,\n",
       " 'electronIdx2': -1,\n",
       " 'jetId': 6,\n",
       " 'muonIdx1': -1,\n",
       " 'muonIdx2': -1,\n",
       " 'nConstituents': 37,\n",
       " 'nElectrons': 1,\n",
       " 'nMuons': 0,\n",
       " 'puId': 7,\n",
       " 'genJetIdx': 1,\n",
       " 'hadronFlavour': 5,\n",
       " 'partonFlavour': 5,\n",
       " 'cleanmask': 0,\n",
       " 'electronIdx1G': 0,\n",
       " 'electronIdx2G': -1,\n",
       " 'genJetIdxG': 1,\n",
       " 'muonIdx1G': -1,\n",
       " 'muonIdx2G': -1,\n",
       " 'muonIdxG': [-1, -1],\n",
       " 'electronIdxG': [0, -1]}"
      ]
     },
     "execution_count": 51,
     "metadata": {},
     "output_type": "execute_result"
    }
   ],
   "source": [
    "events.Jet[0, 1].tolist()"
   ]
  },
  {
   "cell_type": "markdown",
   "id": "11299dfa-4628-4394-b7bb-1032e2f442a2",
   "metadata": {},
   "source": [
    "# Cuts"
   ]
  },
  {
   "cell_type": "code",
   "execution_count": 54,
   "id": "d7ff054a-16d6-413f-826a-da424679b0c0",
   "metadata": {},
   "outputs": [
    {
     "data": {
      "text/plain": [
       "<Array [[True, True, True, ... False, False]] type='10000 * var * bool'>"
      ]
     },
     "execution_count": 54,
     "metadata": {},
     "output_type": "execute_result"
    }
   ],
   "source": [
    "mask = events.Jet.pt > 40\n",
    "mask"
   ]
  },
  {
   "cell_type": "code",
   "execution_count": 56,
   "id": "44673b61-982a-42bb-99a2-cc13b396f4d9",
   "metadata": {},
   "outputs": [],
   "source": [
    "jets_40gev = events.Jet[mask]"
   ]
  },
  {
   "cell_type": "code",
   "execution_count": 57,
   "id": "87bab12b-e1f4-4897-b18d-0e9155dd41bd",
   "metadata": {},
   "outputs": [
    {
     "data": {
      "text/plain": [
       "<Array [10, 9, 10, 8, 5, 7, ... 6, 8, 9, 8, 9] type='10000 * int64'>"
      ]
     },
     "execution_count": 57,
     "metadata": {},
     "output_type": "execute_result"
    }
   ],
   "source": [
    "ak.num(events.Jet)"
   ]
  },
  {
   "cell_type": "code",
   "execution_count": 58,
   "id": "47ec5b35-d358-4128-9f66-3e0127a2f6ec",
   "metadata": {},
   "outputs": [
    {
     "data": {
      "text/plain": [
       "<Array [5, 4, 4, 7, 5, 5, ... 2, 4, 6, 5, 4, 4] type='10000 * int64'>"
      ]
     },
     "execution_count": 58,
     "metadata": {},
     "output_type": "execute_result"
    }
   ],
   "source": [
    "ak.num(jets_40gev)"
   ]
  },
  {
   "cell_type": "code",
   "execution_count": 65,
   "id": "1d40d74f-0aee-4a3e-be88-ec7e23263ff5",
   "metadata": {},
   "outputs": [
    {
     "data": {
      "text/plain": [
       "<Array [True, False, False, ... False, True] type='1142655 * bool'>"
      ]
     },
     "execution_count": 65,
     "metadata": {},
     "output_type": "execute_result"
    }
   ],
   "source": [
    "events_atleast4jets40gev = ak.sum(events.Jet.pt > 40, axis=1) > 4\n",
    "events_atleast4jets40gev"
   ]
  },
  {
   "cell_type": "code",
   "execution_count": 67,
   "id": "df0c9461-5ef6-4bf2-9398-c1243d24ffcc",
   "metadata": {},
   "outputs": [
    {
     "data": {
      "text/plain": [
       "809505"
      ]
     },
     "execution_count": 67,
     "metadata": {},
     "output_type": "execute_result"
    }
   ],
   "source": [
    "ak.sum(events_atleast4jets40gev)"
   ]
  },
  {
   "cell_type": "code",
   "execution_count": 68,
   "id": "2e62a67c-3427-45ad-9d08-b6995dc66d4e",
   "metadata": {},
   "outputs": [],
   "source": [
    "events_with_cut = events[events_atleast4jets40gev]"
   ]
  },
  {
   "cell_type": "code",
   "execution_count": 71,
   "id": "e105ee03-edc8-4c01-8044-afa74d5d206c",
   "metadata": {},
   "outputs": [
    {
     "data": {
      "text/plain": [
       "(array([[0., 0., 0., ..., 2., 0., 2.],\n",
       "        [0., 0., 0., ..., 0., 0., 1.],\n",
       "        [0., 0., 0., ..., 0., 0., 1.],\n",
       "        ...,\n",
       "        [0., 0., 0., ..., 0., 0., 0.],\n",
       "        [0., 0., 0., ..., 0., 0., 0.],\n",
       "        [0., 0., 0., ..., 0., 0., 0.]]),\n",
       " array([0.  , 0.04, 0.08, 0.12, 0.16, 0.2 , 0.24, 0.28, 0.32, 0.36, 0.4 ,\n",
       "        0.44, 0.48, 0.52, 0.56, 0.6 , 0.64, 0.68, 0.72, 0.76, 0.8 , 0.84,\n",
       "        0.88, 0.92, 0.96, 1.  , 1.04, 1.08, 1.12, 1.16, 1.2 , 1.24, 1.28,\n",
       "        1.32, 1.36, 1.4 , 1.44, 1.48, 1.52, 1.56, 1.6 , 1.64, 1.68, 1.72,\n",
       "        1.76, 1.8 , 1.84, 1.88, 1.92, 1.96, 2.  , 2.04, 2.08, 2.12, 2.16,\n",
       "        2.2 , 2.24, 2.28, 2.32, 2.36, 2.4 , 2.44, 2.48, 2.52, 2.56, 2.6 ,\n",
       "        2.64, 2.68, 2.72, 2.76, 2.8 , 2.84, 2.88, 2.92, 2.96, 3.  , 3.04,\n",
       "        3.08, 3.12, 3.16, 3.2 , 3.24, 3.28, 3.32, 3.36, 3.4 , 3.44, 3.48,\n",
       "        3.52, 3.56, 3.6 , 3.64, 3.68, 3.72, 3.76, 3.8 , 3.84, 3.88, 3.92,\n",
       "        3.96, 4.  ]),\n",
       " array([  0.,   3.,   6.,   9.,  12.,  15.,  18.,  21.,  24.,  27.,  30.,\n",
       "         33.,  36.,  39.,  42.,  45.,  48.,  51.,  54.,  57.,  60.,  63.,\n",
       "         66.,  69.,  72.,  75.,  78.,  81.,  84.,  87.,  90.,  93.,  96.,\n",
       "         99., 102., 105., 108., 111., 114., 117., 120., 123., 126., 129.,\n",
       "        132., 135., 138., 141., 144., 147., 150., 153., 156., 159., 162.,\n",
       "        165., 168., 171., 174., 177., 180., 183., 186., 189., 192., 195.,\n",
       "        198., 201., 204., 207., 210., 213., 216., 219., 222., 225., 228.,\n",
       "        231., 234., 237., 240., 243., 246., 249., 252., 255., 258., 261.,\n",
       "        264., 267., 270., 273., 276., 279., 282., 285., 288., 291., 294.,\n",
       "        297., 300.]),\n",
       " <matplotlib.collections.QuadMesh at 0x7f1363fbb8e0>)"
      ]
     },
     "execution_count": 71,
     "metadata": {},
     "output_type": "execute_result"
    },
    {
     "data": {
      "image/png": "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\n",
      "text/plain": [
       "<Figure size 640x480 with 1 Axes>"
      ]
     },
     "metadata": {},
     "output_type": "display_data"
    }
   ],
   "source": [
    "plt.hist2d(ak.to_numpy(abs(events_with_cut.Jet[:,3].eta)),\n",
    "           ak.to_numpy(events_with_cut.Jet[:,3].pt),\n",
    "           bins=100, range=((0,4),(0,300)), norm=LogNorm(), cmap=\"Blues\" )"
   ]
  },
  {
   "cell_type": "markdown",
   "id": "5bd59ed7-6503-49d6-8a4f-0aab4f2ec640",
   "metadata": {},
   "source": [
    "# And of masks"
   ]
  },
  {
   "cell_type": "code",
   "execution_count": 72,
   "id": "0a09502c-5c80-4f7e-b63e-798a6879ebfe",
   "metadata": {},
   "outputs": [],
   "source": [
    "mask_pt = events.Jet.pt> 40 \n",
    "mask_eta = abs(events.Jet.eta)< 1.5"
   ]
  },
  {
   "cell_type": "code",
   "execution_count": 76,
   "id": "1999f8b8-ddd5-41fc-b40f-426c346e382f",
   "metadata": {},
   "outputs": [
    {
     "data": {
      "text/plain": [
       "<Array [[True, True, True, ... False, False]] type='1142655 * var * bool'>"
      ]
     },
     "execution_count": 76,
     "metadata": {},
     "output_type": "execute_result"
    }
   ],
   "source": [
    "mask_pt | mask_eta"
   ]
  },
  {
   "cell_type": "markdown",
   "id": "64d073d6-6e4c-4ffa-9329-f0c64b2569cd",
   "metadata": {},
   "source": [
    "# DeltaR between collection"
   ]
  },
  {
   "cell_type": "code",
   "execution_count": 78,
   "id": "56392026-7802-4889-a563-706cabbc8f48",
   "metadata": {},
   "outputs": [],
   "source": [
    "jet = events.Jet[0, 0] + events.Jet[0, 1]"
   ]
  },
  {
   "cell_type": "code",
   "execution_count": 79,
   "id": "ad728df2-a9f0-48f3-b87d-bd84cde2dc1f",
   "metadata": {},
   "outputs": [
    {
     "data": {
      "text/plain": [
       "<LorentzVectorRecord {x: -75, y: -44.9, z: 204, t: 359} type='LorentzVector[\"x\":...'>"
      ]
     },
     "execution_count": 79,
     "metadata": {},
     "output_type": "execute_result"
    }
   ],
   "source": [
    "jet"
   ]
  },
  {
   "cell_type": "code",
   "execution_count": null,
   "id": "2b9b20a5-5b01-48fb-ad38-675746bb5c89",
   "metadata": {},
   "outputs": [],
   "source": []
  },
  {
   "cell_type": "code",
   "execution_count": 86,
   "id": "ac4ab7f4-2fdf-407f-bfb2-a1c460ff7cd9",
   "metadata": {},
   "outputs": [],
   "source": [
    "dR_leading_jet_ele = events.Jet[:,0].delta_r(events.Electron)"
   ]
  },
  {
   "cell_type": "code",
   "execution_count": 93,
   "id": "f2e16901-1819-46a0-b128-99ac5b602e5b",
   "metadata": {},
   "outputs": [
    {
     "data": {
      "text/plain": [
       "[[2.9442193508148193, 3.3422305583953857],\n",
       " [1.7800120115280151, 3.030940532684326],\n",
       " [],\n",
       " [1.8941930532455444],\n",
       " [0.9744088649749756,\n",
       "  2.0079543590545654,\n",
       "  1.2489848136901855,\n",
       "  2.8872218132019043],\n",
       " [],\n",
       " [3.091665029525757],\n",
       " [3.0190117359161377, 3.0938518047332764],\n",
       " [3.501842498779297, 3.4201014041900635],\n",
       " []]"
      ]
     },
     "execution_count": 93,
     "metadata": {},
     "output_type": "execute_result"
    }
   ],
   "source": [
    "dR_leading_jet_ele[0:10].tolist()"
   ]
  },
  {
   "cell_type": "code",
   "execution_count": 94,
   "id": "15011ac2-7342-413b-ac2f-454efe621a3b",
   "metadata": {},
   "outputs": [
    {
     "data": {
      "text/plain": [
       "<Array [[True, True], ... [False, False]] type='1142655 * var * bool'>"
      ]
     },
     "execution_count": 94,
     "metadata": {},
     "output_type": "execute_result"
    }
   ],
   "source": [
    "dR_leading_jet_ele > 1.5"
   ]
  },
  {
   "cell_type": "code",
   "execution_count": 95,
   "id": "03474ac1-5c7a-420e-9763-fb0aec751d02",
   "metadata": {},
   "outputs": [
    {
     "data": {
      "text/plain": [
       "<ElectronArray [[Electron, Electron], ... [], []] type='1142655 * var * electron'>"
      ]
     },
     "execution_count": 95,
     "metadata": {},
     "output_type": "execute_result"
    }
   ],
   "source": [
    "events.Electron[dR_leading_jet_ele > 1.5]"
   ]
  },
  {
   "cell_type": "code",
   "execution_count": 101,
   "id": "cd38ee5a-efbf-43e3-a375-30a8e5e99697",
   "metadata": {},
   "outputs": [],
   "source": [
    "one_index , two_index = ak.unzip(ak.argcartesian([events.Jet, events.Electron]))"
   ]
  },
  {
   "cell_type": "code",
   "execution_count": 102,
   "id": "611a6f35-f1fe-492c-a4ec-a8dc70e7bf09",
   "metadata": {},
   "outputs": [
    {
     "data": {
      "text/plain": [
       "<Array [[0, 0, 1, 1, 2, 2, ... 7, 8, 8, 9, 9]] type='1142655 * var * int64'>"
      ]
     },
     "execution_count": 102,
     "metadata": {},
     "output_type": "execute_result"
    }
   ],
   "source": [
    "one_index"
   ]
  },
  {
   "cell_type": "code",
   "execution_count": 103,
   "id": "e97b675f-63f4-4eff-995b-ac5ec3a23536",
   "metadata": {},
   "outputs": [
    {
     "data": {
      "text/plain": [
       "<Array [[0, 1, 0, 1, 0, 1, ... 1, 0, 1, 0, 1]] type='1142655 * var * int64'>"
      ]
     },
     "execution_count": 103,
     "metadata": {},
     "output_type": "execute_result"
    }
   ],
   "source": [
    "two_index"
   ]
  },
  {
   "cell_type": "markdown",
   "id": "8c838ed9-cf46-4036-a2bd-99a4041100de",
   "metadata": {},
   "source": [
    "Indexing"
   ]
  },
  {
   "cell_type": "code",
   "execution_count": 106,
   "id": "c405409c-8b4a-4902-a182-6bf556fc9f74",
   "metadata": {},
   "outputs": [],
   "source": [
    "jets_from_all_theevents = events.Jet[one_index]"
   ]
  },
  {
   "cell_type": "code",
   "execution_count": 107,
   "id": "2be5d105-79a0-457c-95a5-f188be40077d",
   "metadata": {},
   "outputs": [],
   "source": [
    "electrons_from_all_theevents = events.Electron[two_index]"
   ]
  },
  {
   "cell_type": "code",
   "execution_count": 111,
   "id": "229c24c5-10c3-42f5-a03b-a73b4007df8f",
   "metadata": {},
   "outputs": [],
   "source": [
    "deltaR_all_pairs =  jets_from_all_theevents.delta_r(electrons_from_all_theevents)"
   ]
  },
  {
   "cell_type": "code",
   "execution_count": 115,
   "id": "f9f319b6-62d0-49db-9ccb-c7d52902cf02",
   "metadata": {},
   "outputs": [
    {
     "data": {
      "text/plain": [
       "<Array [[True, True, False, ... False, True]] type='1142655 * var * bool'>"
      ]
     },
     "execution_count": 115,
     "metadata": {},
     "output_type": "execute_result"
    }
   ],
   "source": [
    "mask_dR = deltaR_all_pairs > 1.5\n",
    "mask_dR"
   ]
  },
  {
   "cell_type": "code",
   "execution_count": 117,
   "id": "19a580af-c89c-4ef8-823f-ac0184cdbb8b",
   "metadata": {},
   "outputs": [
    {
     "data": {
      "text/plain": [
       "<Array [[0, 0, 1, 2, 3, 4, ... 7, 7, 8, 8, 9]] type='1142655 * var * int64'>"
      ]
     },
     "execution_count": 117,
     "metadata": {},
     "output_type": "execute_result"
    }
   ],
   "source": [
    "one_index[mask_dR]"
   ]
  },
  {
   "cell_type": "markdown",
   "id": "85fad1ca-0356-4f2e-b2ca-a6efd9be26d9",
   "metadata": {},
   "source": [
    "# Numba"
   ]
  },
  {
   "cell_type": "code",
   "execution_count": 120,
   "id": "f3825ce3-0f75-4ca5-bc5f-abc98a3f8669",
   "metadata": {},
   "outputs": [],
   "source": [
    "def pt_modifier(events_jet_pt, builder):\n",
    "    for jet_pts in events_jet_pt:\n",
    "        builder.begin_list()\n",
    "        for pt in jet_pts:\n",
    "            ptnew = pt**2\n",
    "            builder.append(ptnew)\n",
    "        builder.end_list()\n",
    "    return builder"
   ]
  },
  {
   "cell_type": "code",
   "execution_count": 122,
   "id": "68a064bb-c027-42ed-8403-7dd27d523c92",
   "metadata": {},
   "outputs": [
    {
     "name": "stdout",
     "output_type": "stream",
     "text": [
      "CPU times: user 6.77 s, sys: 72.2 ms, total: 6.84 s\n",
      "Wall time: 6.84 s\n"
     ]
    },
    {
     "data": {
      "text/plain": [
       "<ArrayBuilder [[3.18e+04, 9.05e+03, ... 838, 427]] type='100000 * var * float64'>"
      ]
     },
     "execution_count": 122,
     "metadata": {},
     "output_type": "execute_result"
    }
   ],
   "source": [
    "%%time\n",
    "pt_modifier(events[0:100000].Jet.pt, ak.ArrayBuilder())"
   ]
  },
  {
   "cell_type": "code",
   "execution_count": 123,
   "id": "888ad6f0-9ae1-4cf9-95c2-a56e0bad435f",
   "metadata": {},
   "outputs": [],
   "source": [
    "out = pt_modifier(events[0:100000].Jet.pt, ak.ArrayBuilder())"
   ]
  },
  {
   "cell_type": "code",
   "execution_count": 138,
   "id": "eccfb4fc-cdbf-4cef-b917-6270010f6838",
   "metadata": {},
   "outputs": [],
   "source": [
    "import numba\n",
    "\n",
    "@numba.jit(nopython=True)\n",
    "def pt_modifier_numba(events_jet_pt, builder):\n",
    "    for jet_pts in events_jet_pt:\n",
    "        builder.begin_list()\n",
    "        for pt in jet_pts:\n",
    "            ptnew = pt**2\n",
    "            builder.append(ptnew)\n",
    "        builder.end_list()\n",
    "    return builder"
   ]
  },
  {
   "cell_type": "code",
   "execution_count": 139,
   "id": "0d903376-9db9-4502-82c4-c6da4ad91f96",
   "metadata": {},
   "outputs": [],
   "source": [
    "out = pt_modifier_numba(events[0:100000].Jet.pt, ak.ArrayBuilder())"
   ]
  },
  {
   "cell_type": "code",
   "execution_count": 128,
   "id": "537638c3-5a84-47ef-ac1c-b1a3c7312426",
   "metadata": {},
   "outputs": [
    {
     "name": "stdout",
     "output_type": "stream",
     "text": [
      "CPU times: user 63.2 ms, sys: 3.03 ms, total: 66.2 ms\n",
      "Wall time: 64.4 ms\n"
     ]
    },
    {
     "data": {
      "text/plain": [
       "<ArrayBuilder [[3.18e+04, 9.05e+03, ... 838, 427]] type='100000 * var * float64'>"
      ]
     },
     "execution_count": 128,
     "metadata": {},
     "output_type": "execute_result"
    }
   ],
   "source": [
    "%%time \n",
    "pt_modifier_numba(events[0:100000].Jet, ak.ArrayBuilder())"
   ]
  },
  {
   "cell_type": "code",
   "execution_count": 130,
   "id": "80f273e4-b1f4-4bb6-a373-3edc1a669889",
   "metadata": {},
   "outputs": [
    {
     "data": {
      "text/plain": [
       "105.12422360248446"
      ]
     },
     "execution_count": 130,
     "metadata": {},
     "output_type": "execute_result"
    }
   ],
   "source": [
    "6.77 / 0.0644"
   ]
  },
  {
   "cell_type": "code",
   "execution_count": 140,
   "id": "34442f17-14cd-42bd-98a0-179a8ee17916",
   "metadata": {},
   "outputs": [
    {
     "data": {
      "text/plain": [
       "<Array [True, True, False, ... False, True] type='1142655 * bool'>"
      ]
     },
     "execution_count": 140,
     "metadata": {},
     "output_type": "execute_result"
    }
   ],
   "source": [
    "ak.num(events.Electron)>=2 | "
   ]
  },
  {
   "cell_type": "code",
   "execution_count": 144,
   "id": "4d17d9fc-5ee6-4a88-bb14-883d46252074",
   "metadata": {},
   "outputs": [
    {
     "data": {
      "text/plain": [
       "<Array [16.2, 20.1, None, ... 21.7, None, 18] type='1142655 * ?float32[parameter...'>"
      ]
     },
     "execution_count": 144,
     "metadata": {},
     "output_type": "execute_result"
    }
   ],
   "source": [
    "ak.pad_none(events.Electron.pt, 2 )[:,0]"
   ]
  },
  {
   "cell_type": "code",
   "execution_count": 146,
   "id": "32b6a418-13a2-44f6-b399-b7b729768554",
   "metadata": {},
   "outputs": [
    {
     "ename": "ValueError",
     "evalue": "in ListOffsetArray64 attempting to get 4, index out of range\n\n(https://github.com/scikit-hep/awkward-1.0/blob/1.9.0/src/cpu-kernels/awkward_NumpyArray_getitem_next_at.cpp#L21)",
     "output_type": "error",
     "traceback": [
      "\u001b[0;31m---------------------------------------------------------------------------\u001b[0m",
      "\u001b[0;31mValueError\u001b[0m                                Traceback (most recent call last)",
      "Cell \u001b[0;32mIn [146], line 1\u001b[0m\n\u001b[0;32m----> 1\u001b[0m ak\u001b[38;5;241m.\u001b[39mis_none(events\u001b[38;5;241m.\u001b[39mElectron[:,\u001b[38;5;241m4\u001b[39m])\n",
      "File \u001b[0;32m/work/dvalsecc/miniconda3/envs/coffea4/lib/python3.10/site-packages/awkward/highlevel.py:991\u001b[0m, in \u001b[0;36mArray.__getitem__\u001b[0;34m(self, where)\u001b[0m\n\u001b[1;32m    579\u001b[0m \u001b[38;5;124;03m\"\"\"\u001b[39;00m\n\u001b[1;32m    580\u001b[0m \u001b[38;5;124;03mArgs:\u001b[39;00m\n\u001b[1;32m    581\u001b[0m \u001b[38;5;124;03m    where (many types supported; see below): Index of positions to\u001b[39;00m\n\u001b[0;32m   (...)\u001b[0m\n\u001b[1;32m    988\u001b[0m \u001b[38;5;124;03mhave the same dimension as the array being indexed.\u001b[39;00m\n\u001b[1;32m    989\u001b[0m \u001b[38;5;124;03m\"\"\"\u001b[39;00m\n\u001b[1;32m    990\u001b[0m \u001b[38;5;28;01mif\u001b[39;00m \u001b[38;5;129;01mnot\u001b[39;00m \u001b[38;5;28mhasattr\u001b[39m(\u001b[38;5;28mself\u001b[39m, \u001b[38;5;124m\"\u001b[39m\u001b[38;5;124m_tracers\u001b[39m\u001b[38;5;124m\"\u001b[39m):\n\u001b[0;32m--> 991\u001b[0m     tmp \u001b[38;5;241m=\u001b[39m ak\u001b[38;5;241m.\u001b[39m_util\u001b[38;5;241m.\u001b[39mwrap(\u001b[38;5;28;43mself\u001b[39;49m\u001b[38;5;241;43m.\u001b[39;49m\u001b[43mlayout\u001b[49m\u001b[43m[\u001b[49m\u001b[43mwhere\u001b[49m\u001b[43m]\u001b[49m, \u001b[38;5;28mself\u001b[39m\u001b[38;5;241m.\u001b[39m_behavior)\n\u001b[1;32m    992\u001b[0m \u001b[38;5;28;01melse\u001b[39;00m:\n\u001b[1;32m    993\u001b[0m     tmp \u001b[38;5;241m=\u001b[39m ak\u001b[38;5;241m.\u001b[39m_connect\u001b[38;5;241m.\u001b[39m_jax\u001b[38;5;241m.\u001b[39mjax_utils\u001b[38;5;241m.\u001b[39m_jaxtracers_getitem(\u001b[38;5;28mself\u001b[39m, where)\n",
      "\u001b[0;31mValueError\u001b[0m: in ListOffsetArray64 attempting to get 4, index out of range\n\n(https://github.com/scikit-hep/awkward-1.0/blob/1.9.0/src/cpu-kernels/awkward_NumpyArray_getitem_next_at.cpp#L21)"
     ]
    }
   ],
   "source": [
    "ak.is_none(events.Electron[:,4])"
   ]
  },
  {
   "cell_type": "code",
   "execution_count": null,
   "id": "5c185e3a-af6d-4c29-9d83-e82d6f1c130b",
   "metadata": {},
   "outputs": [],
   "source": []
  }
 ],
 "metadata": {
  "kernelspec": {
   "display_name": "Python 3 (ipykernel)",
   "language": "python",
   "name": "python3"
  },
  "language_info": {
   "codemirror_mode": {
    "name": "ipython",
    "version": 3
   },
   "file_extension": ".py",
   "mimetype": "text/x-python",
   "name": "python",
   "nbconvert_exporter": "python",
   "pygments_lexer": "ipython3",
   "version": "3.10.4"
  }
 },
 "nbformat": 4,
 "nbformat_minor": 5
}
