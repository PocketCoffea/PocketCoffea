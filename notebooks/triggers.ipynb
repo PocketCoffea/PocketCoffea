{
 "cells": [
  {
   "cell_type": "code",
   "execution_count": 1,
   "id": "8aacd733",
   "metadata": {},
   "outputs": [
    {
     "name": "stderr",
     "output_type": "stream",
     "text": [
      "/work/mmarcheg/miniconda3/envs/coffea/lib/python3.9/site-packages/coffea/util.py:154: FutureWarning: In coffea version v0.8.0 (target date: 31 Dec 2022), this will be an error.\n",
      "(Set coffea.deprecations_as_errors = True to get a stack trace now.)\n",
      "ImportError: coffea.hist is deprecated\n",
      "  warnings.warn(message, FutureWarning)\n"
     ]
    }
   ],
   "source": [
    "from coffea.nanoevents import NanoEventsFactory, NanoAODSchema\n",
    "from coffea import hist, processor\n",
    "import numpy as np\n",
    "import awkward as ak\n",
    "import matplotlib.pyplot as plt"
   ]
  },
  {
   "cell_type": "code",
   "execution_count": 2,
   "id": "acce3eb9",
   "metadata": {},
   "outputs": [],
   "source": [
    "files = {\n",
    "    '2016':\"root://xrootd-cms.infn.it//store/mc/RunIISummer20UL16NanoAODv9/ttHTobb_M125_TuneCP5_13TeV-powheg-pythia8/NANOAODSIM/106X_mcRun2_asymptotic_v17-v2/2520000/C1E3DAF2-74E4-864B-AC86-FA1A9F5E650A.root\",\n",
    "    '2017':\"root://xrootd-cms.infn.it//store/mc/RunIISummer20UL17NanoAODv9/ttHTobb_M125_TuneCP5_13TeV-powheg-pythia8/NANOAODSIM/106X_mc2017_realistic_v9-v2/100000/095AB6AF-92D0-804D-A7F8-EB93512E39B5.root\",\n",
    "    '2018':\"root://xrootd-cms.infn.it//store/mc/RunIISummer20UL18NanoAODv9/ttHTobb_M125_TuneCP5_13TeV-powheg-pythia8/NANOAODSIM/106X_upgrade2018_realistic_v16_L1v1-v2/100000/19922B78-283B-CD48-8A3D-0308D48A824A.root\",\n",
    "}\n",
    "events = {}\n",
    "for year, filename in files.items():\n",
    "    events[year] = NanoEventsFactory.from_root({filename: "Events"}, schemaclass=NanoAODSchema, entry_stop=100).events()"
   ]
  },
  {
   "cell_type": "code",
   "execution_count": 3,
   "id": "93398582",
   "metadata": {},
   "outputs": [
    {
     "name": "stdout",
     "output_type": "stream",
     "text": [
      "2016 ['Ele27_WPTight_Gsf', 'Ele27_WPTight_Gsf_L1JetTauSeeded']\n",
      "2016 []\n",
      "2016 []\n",
      "2016 ['Ele32_WPTight_Gsf']\n",
      "2016 []\n",
      "2016 []\n",
      "\n",
      "2017 ['Ele27_WPTight_Gsf']\n",
      "2017 ['Ele32_WPTight_Gsf_L1DoubleEG']\n",
      "2017 ['Ele28_eta2p1_WPTight_Gsf_HT150']\n",
      "2017 ['Ele32_WPTight_Gsf', 'Ele32_WPTight_Gsf_L1DoubleEG']\n",
      "2017 []\n",
      "2017 []\n",
      "\n",
      "2018 ['Ele27_WPTight_Gsf']\n",
      "2018 ['Ele32_WPTight_Gsf_L1DoubleEG']\n",
      "2018 ['Ele28_eta2p1_WPTight_Gsf_HT150']\n",
      "2018 ['Ele32_WPTight_Gsf', 'Ele32_WPTight_Gsf_L1DoubleEG']\n",
      "2018 []\n",
      "2018 []\n",
      "\n"
     ]
    }
   ],
   "source": [
    "for year, filename in files.items():\n",
    "    triggers = events[year].HLT.fields\n",
    "    flags    = events[year].Flag.fields\n",
    "    #print(year, [t for t in triggers if t.startswith('IsoMu24')])\n",
    "    #print(year, [t for t in triggers if t.startswith('IsoTkMu24')])\n",
    "    #print(year, [t for t in triggers if t.startswith('IsoMu27')])\n",
    "    #print()\n",
    "    print(year, [t for t in triggers if t.startswith('Ele27_WPTight_Gsf')])\n",
    "    print(year, [t for t in triggers if t.startswith('Ele32_WPTight_Gsf_L1DoubleEG')])\n",
    "    print(year, [t for t in triggers if t.startswith('Ele28_eta2p1_WPTight_Gsf_HT150')])\n",
    "    print(year, [t for t in triggers if t.startswith('Ele32_WPTight_Gsf')])\n",
    "    print(year, [t for t in triggers if 'Flag' in t])\n",
    "    print(year, [f for f in flags if 'ele32' in f])\n",
    "    print()"
   ]
  },
  {
   "cell_type": "code",
   "execution_count": 4,
   "id": "a29eb752",
   "metadata": {},
   "outputs": [],
   "source": [
    "files_data = {\n",
    "    '2017B':\"/pnfs/psi.ch/cms/trivcat/store/data/Run2017B/SingleElectron/NANOAOD/UL2017_MiniAODv2_NanoAODv9-v1/120000/20867FA7-22D4-CC46-BE86-EE9FA1C846B6.root\",\n",
    "    '2017C':\"/pnfs/psi.ch/cms/trivcat/store/data/Run2017C/SingleElectron/NANOAOD/UL2017_MiniAODv2_NanoAODv9-v1/120000/090D7428-C0D1-7043-982A-C5E8811BD58D.root\",\n",
    "    '2017D':\"/pnfs/psi.ch/cms/trivcat/store/data/Run2017D/SingleElectron/NANOAOD/UL2017_MiniAODv2_NanoAODv9-v1/120000/1DCECCB7-D2E5-DF43-AC8A-68E4E7905AD7.root\",\n",
    "    '2017E':\"/pnfs/psi.ch/cms/trivcat//store/data/Run2017E/SingleMuon/NANOAOD/UL2017_MiniAODv2_NanoAODv9-v1/280000/27DD5980-754E-AD47-BABF-AE47647D6FFD.root\",\n",
    "    '2017F':\"/pnfs/psi.ch/cms/trivcat//store/data/Run2017F/SingleMuon/NANOAOD/UL2017_MiniAODv2_NanoAODv9-v1/120000/2989A80C-0330-B14F-A057-D4458E0A8BC2.root\",\n",
    "}\n",
    "events_data = {}\n",
    "for year, filename in files_data.items():\n",
    "    events_data[year] = NanoEventsFactory.from_root({filename: "Events"}, schemaclass=NanoAODSchema, entry_stop=100).events()"
   ]
  },
  {
   "cell_type": "code",
   "execution_count": 5,
   "id": "66c2512b",
   "metadata": {},
   "outputs": [
    {
     "name": "stdout",
     "output_type": "stream",
     "text": [
      "2017B ['Ele28_eta2p1_WPTight_Gsf_HT150']\n",
      "2017B ['Ele32_WPTight_Gsf_L1DoubleEG']\n",
      "\n",
      "2017C ['Ele28_eta2p1_WPTight_Gsf_HT150']\n",
      "2017C ['Ele32_WPTight_Gsf_L1DoubleEG']\n",
      "\n",
      "2017D ['Ele28_eta2p1_WPTight_Gsf_HT150']\n",
      "2017D ['Ele32_WPTight_Gsf', 'Ele32_WPTight_Gsf_L1DoubleEG']\n",
      "\n",
      "2017E ['Ele28_eta2p1_WPTight_Gsf_HT150']\n",
      "2017E ['Ele32_WPTight_Gsf', 'Ele32_WPTight_Gsf_L1DoubleEG']\n",
      "\n",
      "2017F ['Ele28_eta2p1_WPTight_Gsf_HT150']\n",
      "2017F ['Ele32_WPTight_Gsf', 'Ele32_WPTight_Gsf_L1DoubleEG']\n",
      "\n"
     ]
    }
   ],
   "source": [
    "for year, filename in files_data.items():\n",
    "    triggers = events_data[year].HLT.fields\n",
    "    flags    = events_data[year].Flag.fields\n",
    "    #print(year, [t for t in triggers if t.startswith('IsoMu24')])\n",
    "    #print(year, [t for t in triggers if t.startswith('IsoTkMu24')])\n",
    "    #print(year, [t for t in triggers if t.startswith('IsoMu27')])\n",
    "    #print()\n",
    "    #print(year, [t for t in triggers if t.startswith('Ele')])\n",
    "    #print(year, [t for t in triggers if t.startswith('Ele27_WPTight_Gsf')])\n",
    "    #print(year, [t for t in triggers if t.startswith('Ele32_WPTight_Gsf_L1DoubleEG')])\n",
    "    print(year, [t for t in triggers if t.startswith('Ele28_eta2p1_WPTight_Gsf_HT150')])\n",
    "    print(year, [t for t in triggers if t.startswith('Ele32_WPTight_Gsf')])\n",
    "    #print(year, [t for t in triggers if 'Flag' in t])\n",
    "    #print(year, [f for f in flags if 'ele32' in f])\n",
    "    print()"
   ]
  },
  {
   "cell_type": "code",
   "execution_count": 6,
   "id": "964b8ad1",
   "metadata": {},
   "outputs": [],
   "source": [
    "t1 = np.array(events_data['2017D'].HLT.Ele32_WPTight_Gsf, dtype=int)\n",
    "t2 = np.array(events_data['2017D'].HLT.Ele32_WPTight_Gsf_L1DoubleEG & (events_data['2017D'].L1.SingleIsoEG30er2p1 | events_data['2017D'].L1.SingleIsoEG32 | events_data['2017D'].L1.SingleIsoEG40), dtype=int)"
   ]
  },
  {
   "cell_type": "code",
   "execution_count": 7,
   "id": "c1913a46",
   "metadata": {},
   "outputs": [
    {
     "data": {
      "image/png": "iVBORw0KGgoAAAANSUhEUgAAAXAAAAD4CAYAAAD1jb0+AAAAOXRFWHRTb2Z0d2FyZQBNYXRwbG90bGliIHZlcnNpb24zLjUuMSwgaHR0cHM6Ly9tYXRwbG90bGliLm9yZy/YYfK9AAAACXBIWXMAAAsTAAALEwEAmpwYAAAVcUlEQVR4nO3de5BV5bnn8e8jIGhQSbQxliQ2FooSEbBaAjo6Ikcl0QqmRi2sHIYwnKBOQjJxJgbnVKVmJloxN5hELTOUqGS8YYzn2OWZ8cYRk1CCNpGjCajB62lHBVGDGBWVZ/7oTYdLt73p7t2bF76fqq5e172ed+/mx9rvXuvdkZlIksqzT70LkCR1jwEuSYUywCWpUAa4JBXKAJekQvXvy4Mdcsgh2djY2JeHlKTirVy58vXMbNhxeZ8GeGNjIy0tLX15SEkqXkS82NFyu1AkqVAGuCQVygCXpEL1aR94Rz744ANaW1t577336l2K6mTQoEEMGzaMAQMG1LsUqSh1D/DW1lYOOOAAGhsbiYh6l6M+lpls2LCB1tZWhg8fXu9ypKLUvQvlvffe4+CDDza891IRwcEHH+w7MKkb6h7ggOG9l/P1l7pntwhwSdKuq3sf+I7mP/BMrz7et884ustt+vXrx+jRo9vnp02bxty5cznttNP4yU9+QlNTU6f7zpo1i5aWFjKTo48+mptuuonBgwczb948rr/+evr3709DQwM33HADRxxxRK+0SZJgNwzwethvv/1YtWpVt/adP38+Bx54IACXXnop11xzDXPnzmXcuHG0tLSw//77c91113HZZZexePHiXqxa0q7q7RPEalVzItkddqFU6f7772fixImccMIJnH/++WzatAmgPbwzk3fffbe9P3fSpEnsv//+AEyYMIHW1tb6FC5pj2WAA++++y5jx45t/9nxTPn111/niiuu4MEHH+T3v/89TU1NzJs3r339zJkz+fSnP81TTz3FnDlzdnr8hQsX8oUvfKHm7ZC0d6mqCyUihgDXA8cBCfwH4GlgMdAIvABckJlv1qLIWuuqC2X58uWsXr2ak08+GYDNmzczceLE9vU33ngjH330EXPmzGHx4sXMnDmzfd3NN99MS0sLDz/8cM3ql7R3qvYM/GfAvZl5DDAGWAPMBZZk5lHAksr8HikzOeOMM1i1ahWrVq1i9erVLFy4cLtt+vXrx7Rp0/j1r3/dvuzBBx/kyiuvpLm5mYEDB/Z12ZL2cF0GeEQcBJwKLATIzM2Z+RYwFVhU2WwRcG5tSqy/CRMmsGzZMtauXQvAO++8wzPPPENmti/LTJqbmznmmGMAePzxx7noootobm5m6NChdatd0p6rmi6U4cB64MaIGAOsBL4FHJqZr1S2eRU4tKOdI2I2MBvgs5/9bJcHq9WntR9nax/4VlOmTOGqq65qn29oaOCmm27iwgsv5P333wfgiiuuYMSIEcyYMYONGzeSmYwZM4brrrsOgO985zts2rSJ888/H2hre3Nzc981StIer5oA7w+cAMzJzBUR8TN26C7JzIyI7GjnzFwALABoamrqcJt6++ijjzpcvnTp0vbp008/nccee2ynbZYtW9bhvg8++GCv1CZJnammD7wVaM3MFZX5O2kL9Nci4jCAyu91tSlRktSRLgM8M18F/jUiRlYWTQZWA83AjMqyGcDdNalQktShau/EnAPcEhH7As8BM2kL/zsiYhbwInBBbUqUJHWkqgDPzFVARwOCTO7VaiRJVfNOTEkqlAEuSYXa/UYjfOgHvft4ky7v3ceTpN2EZ+C03Qa/7WBWW2/iOe2002hpafnYfWfNmsWYMWM4/vjjOe+889pHKZw3bx6jRo3i+OOPZ/Lkybz44oudPsYLL7zAcccdt9PyX/3qV3zuc59jn3322a6OpUuXctBBBzFu3DhGjhzJqaeeyj333NOdprc/3jnnnNPhusbGRl5//fWP3b+xsZHRo0e3P3/f/OY329fNmzePY445htGjRzNmzBguvfRSPvjgg27XKumvdr8z8DrYXccDP+6447jrrru46KKLdlp3yimntIf2qlWrOPfcc9lvv/2YPLk+nys/9NBDHHLIIdst+8UvfsH999/P8uXLGTJkCJs3b2bevHm8++67fgO91As8A69SPcYDP/bYYxk5cmSX240dO5bvfe97XHPNNUDbGf3pp5/efvb/0ksvAfDVr36VO++8s32/wYMHt09v3LiRs88+m5EjR3LxxRezZcuWnY5z8803M378eMaOHctFF13U6R2sW1155ZVcd911DBkyBIB9992XuXPntj9nknrGAGfPGA/8hBNO4KmnngJgzpw5zJgxgyeeeIKvfOUr23VpdObRRx/l6quvZvXq1Tz77LPcdddd261fs2YNixcvZtmyZaxatYp+/fpxyy23tK+fNGlS+/M3f/58Nm7cyKZNmxg+fHjvNlRSO7tQ2DPGA8/86zAzjzzySHsAT58+ncsuu6zL/cePH8+RRx4JwIUXXsjvfvc7zjvvvPb1S5YsYeXKlZx44olA2396246yuGMXysaNG7d7/Pvuu4/vfve7vPXWW9x6662cdNJJ3WilpG0Z4FXYOh74bbfd1uk2W8cD/9GPftQe4FvHA3/44YdrPh74448/zrHHHvux2/Tv37+9a2TLli1s3ry5fd3Wrp/O5jOTGTNm8IMfVHeV0IEHHsjgwYN5/vnnGT58OGeddRZnnXUW55xzznbHlfrShJcW1OnIP6nJo+5+Ab4bXvY3YcIEvv71r7N27VpGjBjBO++8w8svv8xRRx3Fs88+y4gRIzodD/zee++t+XjgTzzxBN///ve5/vrrATjppJO4/fbbmT59OrfccgunnHIK0Ha1yMqVK7ngggtobm7e7mqQRx99lOeff54jjjiCxYsXM3v27O2OMXnyZKZOncq3v/1thg4dyhtvvMHbb7/NEUcc0Wldl19+OZdccgm33347Q4YMITN57733avAMSHun3S/A62B3GA/86aefZtiwYe3z8+fPp3///syZM4f169dz9tlnM3bsWO677z4Afvvb3zJu3Dj+8pe/MHToUH7+85+3X4Fy9dVXM3PmTH784x/T0NDAjTfeCMDXvvY1pk6dypgxY5gyZQqf+MQn2o934okn8o1vfIO1a9cyadIkvvzlL29X36hRo7jiiis488wz2bJlCwMGDODaa69tD/BJkybRr18/AI4//nh++ctfcskll/DOO+/w+c9/noEDBzJ48GBOPvlkxo0btwuvjqTOxLZ9p7XW1NSUO15XvWbNmi7f+mvP59+B+sIjC/9LXY47cVbPulAiYmVm7jQelVehSFKh7ELpQ08++STTp0/fbtnAgQNZsWJFJ3tIUud2iwDPzJ2uetgTjR49utt3fO7J+rIbT9qT1L0LZdCgQWzYsMF/xHupzGTDhg0MGjSo3qVIxan7GfiwYcNobW1l/fr19S5FdTJo0KDtrsCRVJ26B/iAAQO83VqSuqHuXSiSpO4xwCWpUAa4JBXKAJekQhngklQoA1ySCmWAS1KhqroOPCJeAN4GPgI+zMymiPgUsBhoBF4ALsjMN2tTpiRpR7tyBj4pM8duM6ThXGBJZh4FLKnMS5L6SE+6UKYCiyrTi4Bze1yNJKlq1QZ4AvdHxMqI2PpdW4dm5iuV6VeBQzvaMSJmR0RLRLQ43okk9Z5qx0L5N5n5ckQMBR6IiKe2XZmZGREdDieYmQuABdD2jTw9qlaS1K6qM/DMfLnyex3wD8B44LWIOAyg8ntdrYqUJO2sywCPiE9ExAFbp4EzgT8AzcCMymYzgLtrVaQkaWfVdKEcCvxD5Rtz+gO3Zua9EfEYcEdEzAJeBC6oXZmSpB11GeCZ+RwwpoPlG4DJtShKktQ178SUpEIZ4JJUKANckgplgEtSoQxwSSqUAS5JhTLAJalQBrgkFcoAl6RCGeCSVCgDXJIKZYBLUqEMcEkqlAEuSYWq9ivV6u+hH9TnuJMur89xJakLnoFLUqEMcEkqlAEuSYUywCWpUAa4JBXKAJekQhngklQoA1ySCmWAS1Khqg7wiOgXEY9HxD2V+eERsSIi1kbE4ojYt3ZlSpJ2tCtn4N8C1mwz/0NgfmaOAN4EZvVmYZKkj1dVgEfEMOBs4PrKfACnA3dWNlkEnFuD+iRJnaj2DPx/ApcBWyrzBwNvZeaHlflW4PCOdoyI2RHREhEt69ev70mtkqRtdBngEXEOsC4zV3bnAJm5IDObMrOpoaGhOw8hSepANcPJngx8KSK+CAwCDgR+BgyJiP6Vs/BhwMu1K1OStKMuz8Az8/LMHJaZjcA04J8z8yvAQ8B5lc1mAHfXrEpJ0k56ch34d4FLI2ItbX3iC3unJElSNXbpG3kycymwtDL9HDC+90uSJFXDOzElqVDFfCfmI89tqMtxJ06qy2ElqUuegUtSoQxwSSqUAS5JhTLAJalQBrgkFcoAl6RCGeCSVCgDXJIKZYBLUqEMcEkqlAEuSYUywCWpUAa4JBXKAJekQhngklQoA1ySCmWAS1KhDHBJKpQBLkmFMsAlqVAGuCQVygCXpEJ1GeARMSgiHo2If4mIP0bEf68sHx4RKyJibUQsjoh9a1+uJGmras7A3wdOz8wxwFhgSkRMAH4IzM/MEcCbwKyaVSlJ2kmXAZ5tNlVmB1R+EjgduLOyfBFwbi0KlCR1rKo+8IjoFxGrgHXAA8CzwFuZ+WFlk1bg8JpUKEnqUFUBnpkfZeZYYBgwHjim2gNExOyIaImIlvXr13evSknSTnbpKpTMfAt4CJgIDImI/pVVw4CXO9lnQWY2ZWZTQ0NDT2qVJG2jmqtQGiJiSGV6P+AMYA1tQX5eZbMZwN01qlGS1IH+XW/CYcCiiOhHW+DfkZn3RMRq4PaIuAJ4HFhYwzolSTvoMsAz8wlgXAfLn6OtP1ySVAfeiSlJhTLAJalQBrgkFcoAl6RCGeCSVCgDXJIKZYBLUqEMcEkqlAEuSYUywCWpUAa4JBXKAJekQhngklQoA1ySCmWAS1KhDHBJKpQBLkmFMsAlqVAGuCQVygCXpEIZ4JJUKANckgplgEtSoQxwSSqUAS5JheoywCPiMxHxUESsjog/RsS3Kss/FREPRMSfKr8/WftyJUlbVXMG/iHwnzNzFDAB+HpEjALmAksy8yhgSWVektRHugzwzHwlM39fmX4bWAMcDkwFFlU2WwScW6MaJUkd2KU+8IhoBMYBK4BDM/OVyqpXgUM72Wd2RLRERMv69et7UqskaRtVB3hEDAZ+DfynzNy47brMTCA72i8zF2RmU2Y2NTQ09KhYSdJfVRXgETGAtvC+JTPvqix+LSIOq6w/DFhXmxIlSR2p5iqUABYCazJz3jarmoEZlekZwN29X54kqTP9q9jmZGA68GRErKos+6/AVcAdETELeBG4oCYVSpI61GWAZ+bvgOhk9eTeLUeSVC3vxJSkQhngklQoA1ySCmWAS1KhDHBJKpQBLkmFMsAlqVAGuCQVygCXpEIZ4JJUKANckgplgEtSoQxwSSqUAS5JhTLAJalQBrgkFcoAl6RCGeCSVCgDXJIKZYBLUqEMcEkqlAEuSYUywCWpUAa4JBWqywCPiBsiYl1E/GGbZZ+KiAci4k+V35+sbZmSpB1VcwZ+EzBlh2VzgSWZeRSwpDIvSepDXQZ4Zv4GeGOHxVOBRZXpRcC5vVuWJKkr3e0DPzQzX6lMvwoc2tmGETE7IloiomX9+vXdPJwkaUc9/hAzMxPIj1m/IDObMrOpoaGhp4eTJFV0N8Bfi4jDACq/1/VeSZKkanQ3wJuBGZXpGcDdvVOOJKla1VxGeBvwCDAyIlojYhZwFXBGRPwJ+JvKvCSpD/XvaoPMvLCTVZN7uRZJ0i7wTkxJKpQBLkmFMsAlqVAGuCQVygCXpEIZ4JJUKANckgplgEtSoQxwSSqUAS5JhTLAJalQBrgkFcoAl6RCGeCSVCgDXJIKZYBLUqEMcEkqlAEuSYUywCWpUAa4JBXKAJekQhngklQoA1ySCmWAS1KhDHBJKlSPAjwipkTE0xGxNiLm9lZRkqSudTvAI6IfcC3wBWAUcGFEjOqtwiRJH68nZ+DjgbWZ+VxmbgZuB6b2TlmSpK7078G+hwP/us18K/D5HTeKiNnA7Mrspoh4upvHOwR4vZv7dt/f/bTPD7mN+rS5vmzz3mHvavPf/bSn7T2io4U9CfCqZOYCYEFPHyciWjKzqRdKKoZt3jvY5j1frdrbky6Ul4HPbDM/rLJMktQHehLgjwFHRcTwiNgXmAY0905ZkqSudLsLJTM/jIhvAPcB/YAbMvOPvVbZznrcDVMg27x3sM17vpq0NzKzFo8rSaox78SUpEIZ4JJUqN0uwLu6PT8iBkbE4sr6FRHRWIcye1UVbb40IlZHxBMRsSQiOrwmtCTVDsMQEf8uIjIiir7krJr2RsQFldf5jxFxa1/X2Nuq+Lv+bEQ8FBGPV/62v1iPOntTRNwQEesi4g+drI+I+HnlOXkiIk7o0QEzc7f5oe3D0GeBI4F9gX8BRu2wzX8EflGZngYsrnfdfdDmScD+lelL9oY2V7Y7APgNsBxoqnfdNX6NjwIeBz5ZmR9a77r7oM0LgEsq06OAF+pddy+0+1TgBOAPnaz/IvB/gQAmACt6crzd7Qy8mtvzpwKLKtN3ApMjIvqwxt7WZZsz86HM/Etldjlt19yXrNphGL4P/BB4ry+Lq4Fq2vs14NrMfBMgM9f1cY29rZo2J3BgZfog4P/1YX01kZm/Ad74mE2mAr/MNsuBIRFxWHePt7sFeEe35x/e2TaZ+SHwZ+DgPqmuNqpp87Zm0fY/eMm6bHPlreVnMvOf+rKwGqnmNT4aODoilkXE8oiY0mfV1UY1bf5vwN9GRCvwf4A5fVNaXe3qv/ePVfNb6dV7IuJvgSbg39a7llqKiH2AecBX61xKX+pPWzfKabS9w/pNRIzOzLfqWVSNXQjclJk/jYiJwP+OiOMyc0u9CyvF7nYGXs3t+e3bRER/2t56beiT6mqjqiEJIuJvgL8HvpSZ7/dRbbXSVZsPAI4DlkbEC7T1FTYX/EFmNa9xK9CcmR9k5vPAM7QFeqmqafMs4A6AzHwEGETbIFd7sl4dgmR3C/Bqbs9vBmZUps8D/jkrnw4Uqss2R8Q44H/RFt6l941CF23OzD9n5iGZ2ZiZjbT1+38pM1vqU26PVfN3/Y+0nX0TEYfQ1qXyXB/W2NuqafNLwGSAiDiWtgBf36dV9r1m4N9XrkaZAPw5M1/p9qPV+1PbTj6lfYa2T7D/vrLsf9D2DxjaXuRfAWuBR4Ej611zH7T5QeA1YFXlp7neNde6zTtsu5SCr0Kp8jUO2rqNVgNPAtPqXXMftHkUsIy2K1RWAWfWu+ZeaPNtwCvAB7S9q5oFXAxcvM3rfG3lOXmyp3/X3kovSYXa3bpQJElVMsAlqVAGuCQVygCXpEIZ4JJUKANckgplgEtSof4/iEak+6Yzl5EAAAAASUVORK5CYII=\n",
      "text/plain": [
       "<Figure size 432x288 with 1 Axes>"
      ]
     },
     "metadata": {
      "needs_background": "light"
     },
     "output_type": "display_data"
    }
   ],
   "source": [
    "plt.hist(t1, alpha=0.5, label='Ele32');\n",
    "plt.hist(t2, alpha=0.5, label='Ele32_L1DoubleEG');\n",
    "plt.legend();"
   ]
  },
  {
   "cell_type": "code",
   "execution_count": 8,
   "id": "0b55fe01",
   "metadata": {},
   "outputs": [
    {
     "data": {
      "image/png": "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\n",
      "text/plain": [
       "<Figure size 1152x432 with 2 Axes>"
      ]
     },
     "metadata": {
      "needs_background": "light"
     },
     "output_type": "display_data"
    }
   ],
   "source": [
    "t1 = np.array(events['2016'].HLT.IsoMu24, dtype=int)\n",
    "t2 = np.array(events['2016'].HLT.IsoTkMu24, dtype=int)\n",
    "t3 = np.array(events['2016'].HLT.Ele27_WPTight_Gsf, dtype=int)\n",
    "t4 = np.array(events['2016'].HLT.Ele27_WPTight_Gsf_L1JetTauSeeded, dtype=int)\n",
    "\n",
    "fig, (ax1, ax2) = plt.subplots(1,2, figsize=[16,6])\n",
    "ax1.hist(t1, alpha=0.5, label='IsoMu24');\n",
    "ax1.hist(t2, alpha=0.5, label='IsoTkMu24');\n",
    "ax1.set_title(\"2016\")\n",
    "ax1.legend();\n",
    "\n",
    "ax2.hist(t1, alpha=0.5, label='Ele27_WPTight_Gsf');\n",
    "ax2.hist(t2, alpha=0.5, label='Ele27_WPTight_Gsf_L1JetTauSeeded');\n",
    "ax2.set_title(\"2016\")\n",
    "ax2.legend();"
   ]
  },
  {
   "cell_type": "code",
   "execution_count": 9,
   "id": "5c40caa0",
   "metadata": {},
   "outputs": [
    {
     "data": {
      "image/png": "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\n",
      "text/plain": [
       "<Figure size 432x288 with 2 Axes>"
      ]
     },
     "metadata": {
      "needs_background": "light"
     },
     "output_type": "display_data"
    }
   ],
   "source": [
    "plt.hist2d(t1, t2, density=True, cmin=0.0001);\n",
    "plt.colorbar();"
   ]
  },
  {
   "cell_type": "code",
   "execution_count": 10,
   "id": "03077110",
   "metadata": {},
   "outputs": [
    {
     "data": {
      "image/png": "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\n",
      "text/plain": [
       "<Figure size 1152x432 with 2 Axes>"
      ]
     },
     "metadata": {
      "needs_background": "light"
     },
     "output_type": "display_data"
    }
   ],
   "source": [
    "t1 = np.array(events['2017'].HLT.IsoMu27, dtype=int)\n",
    "t3 = np.array(events['2017'].HLT.Ele32_WPTight_Gsf_L1DoubleEG, dtype=int)\n",
    "t4 = np.array(events['2017'].HLT.Ele28_eta2p1_WPTight_Gsf_HT150, dtype=int)\n",
    "\n",
    "fig, (ax1, ax2) = plt.subplots(1,2, figsize=[16,6])\n",
    "ax1.hist(t1, alpha=0.5, label='IsoMu27');\n",
    "ax1.set_title(\"2017\")\n",
    "ax1.legend();\n",
    "\n",
    "ax2.hist(t1, alpha=0.5, label='Ele32_WPTight_Gsf_L1DoubleEG');\n",
    "ax2.hist(t2, alpha=0.5, label='Ele28_eta2p1_WPTight_Gsf_HT150');\n",
    "ax2.set_title(\"2017\")\n",
    "ax2.legend();"
   ]
  },
  {
   "cell_type": "code",
   "execution_count": 11,
   "id": "d1e45f0e",
   "metadata": {},
   "outputs": [
    {
     "data": {
      "image/png": "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\n",
      "text/plain": [
       "<Figure size 1152x432 with 2 Axes>"
      ]
     },
     "metadata": {
      "needs_background": "light"
     },
     "output_type": "display_data"
    }
   ],
   "source": [
    "triggers_mu = [\n",
    "                \"IsoMu24_eta2p1_TightChargedIsoPFTauHPS35_Trk1_eta2p1_Reg_CrossL1\",\n",
    "                \"IsoMu24_eta2p1_MediumChargedIsoPFTauHPS35_Trk1_TightID_eta2p1_Reg_CrossL1\",\n",
    "                \"IsoMu24_eta2p1_TightChargedIsoPFTauHPS35_Trk1_TightID_eta2p1_Reg_CrossL1\",\n",
    "                \"IsoMu24_eta2p1_MediumChargedIsoPFTauHPS35_Trk1_eta2p1_Reg_CrossL1\",\n",
    "                \"IsoMu24\",\n",
    "                \"IsoMu24_eta2p1\",\n",
    "                \"IsoMu24_TwoProngs35\",\n",
    "                \"IsoMu24_eta2p1_MediumChargedIsoPFTau50_Trk30_eta2p1_1pr\"\n",
    "]\n",
    "\n",
    "triggers_ele = [\n",
    "                \"Ele32_WPTight_Gsf\",\n",
    "                \"Ele32_WPTight_Gsf_L1DoubleEG\",\n",
    "                \"Ele28_eta2p1_WPTight_Gsf_HT150\"\n",
    "]\n",
    "\n",
    "fig, (ax1, ax2) = plt.subplots(1,2, figsize=[16,6])\n",
    "for t in triggers_mu:\n",
    "    ax1.hist(np.array(events['2018'].HLT[t], dtype=int), alpha=0.5, label=t);\n",
    "ax1.set_title(\"2018\")\n",
    "ax1.legend();\n",
    "\n",
    "for t in triggers_ele:\n",
    "    ax2.hist(np.array(events['2018'].HLT[t], dtype=int), alpha=0.5, label=t);\n",
    "ax2.set_title(\"2018\")\n",
    "ax2.legend();"
   ]
  },
  {
   "cell_type": "code",
   "execution_count": 12,
   "id": "e05437b4",
   "metadata": {},
   "outputs": [
    {
     "data": {
      "text/plain": [
       "['AlwaysTrue',\n",
       " 'BPTX_AND_NIM',\n",
       " 'BPTX_AND_Ref1_VME',\n",
       " 'BPTX_AND_Ref2_NIM',\n",
       " 'BPTX_AND_Ref3_VME',\n",
       " 'BPTX_AND_Ref4_VME',\n",
       " 'BPTX_B1NotB2_NIM',\n",
       " 'BPTX_B1NotB2_VME',\n",
       " 'BPTX_B1_NIM',\n",
       " 'BPTX_B2NotB1_NIM',\n",
       " 'BPTX_B2NotB1_VME',\n",
       " 'BPTX_B2_NIM',\n",
       " 'BPTX_BeamGas_B1_VME',\n",
       " 'BPTX_BeamGas_B2_VME',\n",
       " 'BPTX_BeamGas_Ref1_VME',\n",
       " 'BPTX_BeamGas_Ref2_VME',\n",
       " 'BPTX_NotOR_NIM',\n",
       " 'BPTX_NotOR_VME',\n",
       " 'BPTX_OR_NIM',\n",
       " 'BPTX_OR_Ref3_VME',\n",
       " 'BPTX_OR_Ref4_VME',\n",
       " 'BPTX_RefAND_VME',\n",
       " 'BptxMinus',\n",
       " 'BptxOR',\n",
       " 'BptxPlus',\n",
       " 'BptxXOR',\n",
       " 'DoubleEG6_HTT240er',\n",
       " 'DoubleEG6_HTT250er',\n",
       " 'DoubleEG6_HTT255er',\n",
       " 'DoubleEG6_HTT270er',\n",
       " 'DoubleEG6_HTT300er',\n",
       " 'DoubleEG_15_10',\n",
       " 'DoubleEG_18_17',\n",
       " 'DoubleEG_20_18',\n",
       " 'DoubleEG_22_10',\n",
       " 'DoubleEG_22_12',\n",
       " 'DoubleEG_22_15',\n",
       " 'DoubleEG_23_10',\n",
       " 'DoubleEG_24_17',\n",
       " 'DoubleEG_25_12',\n",
       " 'DoubleEG_25_13',\n",
       " 'DoubleEG_25_14',\n",
       " 'DoubleEG_Iso23_10',\n",
       " 'DoubleEG_Iso24_10',\n",
       " 'DoubleIsoTau28er2p1',\n",
       " 'DoubleIsoTau30er2p1',\n",
       " 'DoubleIsoTau32er2p1',\n",
       " 'DoubleIsoTau33er2p1',\n",
       " 'DoubleIsoTau34er2p1',\n",
       " 'DoubleIsoTau35er2p1',\n",
       " 'DoubleIsoTau36er2p1',\n",
       " 'DoubleIsoTau38er2p1',\n",
       " 'DoubleJet100er2p3_dEta_Max1p6',\n",
       " 'DoubleJet100er3p0',\n",
       " 'DoubleJet112er3p0',\n",
       " 'DoubleJet120er3p0',\n",
       " 'DoubleJet30_Mass_Min400_Mu10',\n",
       " 'DoubleJet30_Mass_Min400_Mu6',\n",
       " 'DoubleJet40er3p0',\n",
       " 'DoubleJet50er3p0',\n",
       " 'DoubleJet60er3p0',\n",
       " 'DoubleJet60er3p0_ETM100',\n",
       " 'DoubleJet60er3p0_ETM60',\n",
       " 'DoubleJet60er3p0_ETM70',\n",
       " 'DoubleJet60er3p0_ETM80',\n",
       " 'DoubleJet60er3p0_ETM90',\n",
       " 'DoubleJet80er3p0',\n",
       " 'DoubleJet_100_30_DoubleJet30_Mass_Min620',\n",
       " 'DoubleJet_100_35_DoubleJet35_Mass_Min620',\n",
       " 'DoubleJet_90_30_DoubleJet30_Mass_Min620',\n",
       " 'DoubleMu0',\n",
       " 'DoubleMu0_ETM40',\n",
       " 'DoubleMu0_ETM55',\n",
       " 'DoubleMu0_ETM60',\n",
       " 'DoubleMu0_ETM65',\n",
       " 'DoubleMu0_ETM70',\n",
       " 'DoubleMu0_ETMHF40_Jet60_OR_DoubleJet30',\n",
       " 'DoubleMu0_ETMHF50_Jet60_OR_DoubleJet30',\n",
       " 'DoubleMu0_ETMHF60_Jet60_OR_DoubleJet30',\n",
       " 'DoubleMu0_ETMHF70_Jet60_OR_DoubleJet30',\n",
       " 'DoubleMu0_ETMHF80_Jet60_OR_DoubleJet30',\n",
       " 'DoubleMu0er1p4_SQ_OS_dR_Max1p4',\n",
       " 'DoubleMu0er1p4_dEta_Max1p8_OS',\n",
       " 'DoubleMu0er1p5_SQ_OS_dR_Max1p4',\n",
       " 'DoubleMu3_SQ_ETMHF40_Jet60_OR_DoubleJet30',\n",
       " 'DoubleMu3_SQ_ETMHF50_Jet60_OR_DoubleJet30',\n",
       " 'DoubleMu3_SQ_ETMHF60_Jet60_OR_DoubleJet30',\n",
       " 'DoubleMu3_SQ_ETMHF70_Jet60_OR_DoubleJet30',\n",
       " 'DoubleMu3_SQ_ETMHF80_Jet60_OR_DoubleJet30',\n",
       " 'DoubleMu3_SQ_HTT100er',\n",
       " 'DoubleMu3_SQ_HTT200er',\n",
       " 'DoubleMu3_SQ_HTT220er',\n",
       " 'DoubleMu3_SQ_HTT240er',\n",
       " 'DoubleMu4_OS_EG12',\n",
       " 'DoubleMu4_SQ_OS_dR_Max1p2',\n",
       " 'DoubleMu4p5_SQ_OS_dR_Max1p2',\n",
       " 'DoubleMu4p5er2p0_SQ_OS_Mass7to18',\n",
       " 'DoubleMu5_OS_EG12',\n",
       " 'DoubleMu5_SQ_OS_Mass7to18',\n",
       " 'DoubleMu6_SQ_OS',\n",
       " 'DoubleMu7_EG7',\n",
       " 'DoubleMu7_SQ_EG7',\n",
       " 'DoubleMu_10_0_dEta_Max1p8',\n",
       " 'DoubleMu_11_4',\n",
       " 'DoubleMu_12_5',\n",
       " 'DoubleMu_12_8',\n",
       " 'DoubleMu_13_6',\n",
       " 'DoubleMu_15_5',\n",
       " 'DoubleMu_15_7',\n",
       " 'DoubleMu_15_7_SQ',\n",
       " 'DoubleMu_15_7_SQ_Mass_Min4',\n",
       " 'DoubleMu_20_2_SQ_Mass_Max20',\n",
       " 'DoubleTau50er2p1',\n",
       " 'DoubleTau70er2p1',\n",
       " 'EG25er2p1_HTT125er',\n",
       " 'EG27er2p1_HTT200er',\n",
       " 'ETM100',\n",
       " 'ETM100_Jet60_dPhi_Min0p4',\n",
       " 'ETM105',\n",
       " 'ETM110',\n",
       " 'ETM110_Jet60_dPhi_Min0p4',\n",
       " 'ETM115',\n",
       " 'ETM120',\n",
       " 'ETM150',\n",
       " 'ETM30',\n",
       " 'ETM40',\n",
       " 'ETM50',\n",
       " 'ETM60',\n",
       " 'ETM70',\n",
       " 'ETM75',\n",
       " 'ETM75_Jet60_dPhi_Min0p4',\n",
       " 'ETM80',\n",
       " 'ETM80_Jet60_dPhi_Min0p4',\n",
       " 'ETM85',\n",
       " 'ETM90',\n",
       " 'ETM90_Jet60_dPhi_Min0p4',\n",
       " 'ETM95',\n",
       " 'ETMHF100',\n",
       " 'ETMHF100_HTT60',\n",
       " 'ETMHF100_Jet60_OR_DiJet30woTT28',\n",
       " 'ETMHF100_Jet60_OR_DoubleJet30',\n",
       " 'ETMHF100_Jet90_OR_DoubleJet45_OR_TripleJet30',\n",
       " 'ETMHF105_Jet60_OR_DoubleJet30',\n",
       " 'ETMHF110',\n",
       " 'ETMHF110_HTT60',\n",
       " 'ETMHF110_Jet60_OR_DiJet30woTT28',\n",
       " 'ETMHF110_Jet60_OR_DoubleJet30',\n",
       " 'ETMHF110_Jet90_OR_DoubleJet45_OR_TripleJet30',\n",
       " 'ETMHF115_Jet60_OR_DoubleJet30',\n",
       " 'ETMHF120',\n",
       " 'ETMHF120_HTT60',\n",
       " 'ETMHF120_Jet60_OR_DiJet30woTT28',\n",
       " 'ETMHF120_Jet60_OR_DoubleJet30',\n",
       " 'ETMHF150',\n",
       " 'ETMHF70',\n",
       " 'ETMHF70_Jet60_OR_DiJet30woTT28',\n",
       " 'ETMHF70_Jet60_OR_DoubleJet30',\n",
       " 'ETMHF70_Jet90_OR_DoubleJet45_OR_TripleJet30',\n",
       " 'ETMHF75_Jet60_OR_DoubleJet30',\n",
       " 'ETMHF80',\n",
       " 'ETMHF80_HTT60',\n",
       " 'ETMHF80_Jet60_OR_DiJet30woTT28',\n",
       " 'ETMHF80_Jet60_OR_DoubleJet30',\n",
       " 'ETMHF80_Jet90_OR_DoubleJet45_OR_TripleJet30',\n",
       " 'ETMHF85_Jet60_OR_DoubleJet30',\n",
       " 'ETMHF90',\n",
       " 'ETMHF90_HTT60',\n",
       " 'ETMHF90_Jet60_OR_DiJet30woTT28',\n",
       " 'ETMHF90_Jet60_OR_DoubleJet30',\n",
       " 'ETMHF90_Jet90_OR_DoubleJet45_OR_TripleJet30',\n",
       " 'ETMHF95_Jet60_OR_DoubleJet30',\n",
       " 'ETT55_BptxAND',\n",
       " 'ETT70_BptxAND',\n",
       " 'ETT75_BptxAND',\n",
       " 'FirstBunchAfterTrain',\n",
       " 'FirstBunchInTrain',\n",
       " 'FirstCollisionInOrbit',\n",
       " 'FirstCollisionInTrain',\n",
       " 'HTT120er',\n",
       " 'HTT160er',\n",
       " 'HTT200er',\n",
       " 'HTT220er',\n",
       " 'HTT240er',\n",
       " 'HTT250er_QuadJet_70_55_40_35_er2p5',\n",
       " 'HTT255er',\n",
       " 'HTT270er',\n",
       " 'HTT280er',\n",
       " 'HTT280er_QuadJet_70_55_40_35_er2p5',\n",
       " 'HTT300er',\n",
       " 'HTT300er_QuadJet_70_55_40_35_er2p5',\n",
       " 'HTT320er',\n",
       " 'HTT340er',\n",
       " 'HTT380er',\n",
       " 'HTT400er',\n",
       " 'HTT450er',\n",
       " 'HTT500er',\n",
       " 'IsoEG18er2p1_IsoTau24er2p1_dEta_Min0p2',\n",
       " 'IsoEG20er2p1_IsoTau25er2p1_dEta_Min0p2',\n",
       " 'IsoEG22er2p1_IsoTau26er2p1_dEta_Min0p2',\n",
       " 'IsoEG24er2p1_HTT100er',\n",
       " 'IsoEG24er2p1_Jet26er3p0_dR_Min0p3',\n",
       " 'IsoEG24er2p1_TripleJet_26er3p0_26_26er3p0',\n",
       " 'IsoEG26er2p1_HTT100er',\n",
       " 'IsoEG26er2p1_Jet34er3p0_dR_Min0p3',\n",
       " 'IsoEG28er2p1_HTT100er',\n",
       " 'IsoEG28er2p1_Jet34er3p0_dR_Min0p3',\n",
       " 'IsoEG30er2p1_Jet34er3p0_dR_Min0p3',\n",
       " 'IsoTau40er_ETM100',\n",
       " 'IsoTau40er_ETM80',\n",
       " 'IsoTau40er_ETM85',\n",
       " 'IsoTau40er_ETM90',\n",
       " 'IsoTau40er_ETM95',\n",
       " 'IsoTau40er_ETMHF80',\n",
       " 'IsoTau40er_ETMHF90',\n",
       " 'IsolatedBunch',\n",
       " 'Jet32_DoubleMu_10_0_dPhi_Jet_Mu0_Max0p4_dPhi_Mu_Mu_Min1p0',\n",
       " 'Jet32_Mu0_EG10_dPhi_Jet_Mu_Max0p4_dPhi_Mu_EG_Min1p0',\n",
       " 'LastCollisionInTrain',\n",
       " 'MU20_EG15',\n",
       " 'MinimumBiasHF0_AND_BptxAND',\n",
       " 'MinimumBiasHF0_OR_BptxAND',\n",
       " 'Mu10er2p1_ETM30',\n",
       " 'Mu10er2p3_Jet32er2p3_dR_Max0p4_DoubleJet32er2p3_dEta_Max1p6',\n",
       " 'Mu12_EG10',\n",
       " 'Mu12er2p3_Jet40er2p3_dR_Max0p4_DoubleJet40er2p3_dEta_Max1p6',\n",
       " 'Mu14er2p1_ETM30',\n",
       " 'Mu15_HTT100er',\n",
       " 'Mu16er2p1_Tau20er2p1',\n",
       " 'Mu16er2p1_Tau24er2p1',\n",
       " 'Mu18_HTT100er',\n",
       " 'Mu18_Jet24er3p0',\n",
       " 'Mu18er2p1_IsoTau26er2p1',\n",
       " 'Mu18er2p1_Tau20er2p1',\n",
       " 'Mu18er2p1_Tau24er2p1',\n",
       " 'Mu20_EG10',\n",
       " 'Mu20_EG17',\n",
       " 'Mu20_IsoEG6',\n",
       " 'Mu20er2p1_IsoTau26er2p1',\n",
       " 'Mu22er2p1_IsoTau40er2p1',\n",
       " 'Mu23_EG10',\n",
       " 'Mu23_IsoEG10',\n",
       " 'Mu3_JetC120_dEta_Max0p4_dPhi_Max0p4',\n",
       " 'Mu3_JetC16_dEta_Max0p4_dPhi_Max0p4',\n",
       " 'Mu3_JetC60_dEta_Max0p4_dPhi_Max0p4',\n",
       " 'Mu5_EG15',\n",
       " 'Mu5_EG20',\n",
       " 'Mu5_EG23',\n",
       " 'Mu5_IsoEG18',\n",
       " 'Mu5_IsoEG20',\n",
       " 'Mu6_DoubleEG10',\n",
       " 'Mu6_DoubleEG17',\n",
       " 'Mu6_HTT200er',\n",
       " 'Mu6_HTT240er',\n",
       " 'Mu6_HTT250er',\n",
       " 'Mu7_EG23',\n",
       " 'Mu7_IsoEG20',\n",
       " 'Mu7_IsoEG23',\n",
       " 'Mu8_HTT150er',\n",
       " 'NotBptxOR',\n",
       " 'QuadJet36er3p0_IsoTau52er2p1',\n",
       " 'QuadJet36er3p0_Tau52',\n",
       " 'QuadJet40er3p0',\n",
       " 'QuadJet50er3p0',\n",
       " 'QuadJet60er3p0',\n",
       " 'QuadMu0',\n",
       " 'SingleEG10',\n",
       " 'SingleEG15',\n",
       " 'SingleEG18',\n",
       " 'SingleEG24',\n",
       " 'SingleEG26',\n",
       " 'SingleEG28',\n",
       " 'SingleEG2_BptxAND',\n",
       " 'SingleEG30',\n",
       " 'SingleEG32',\n",
       " 'SingleEG34',\n",
       " 'SingleEG34er2p1',\n",
       " 'SingleEG36',\n",
       " 'SingleEG36er2p1',\n",
       " 'SingleEG38',\n",
       " 'SingleEG38er2p1',\n",
       " 'SingleEG40',\n",
       " 'SingleEG45',\n",
       " 'SingleEG5',\n",
       " 'SingleIsoEG18',\n",
       " 'SingleIsoEG18er2p1',\n",
       " 'SingleIsoEG20',\n",
       " 'SingleIsoEG20er2p1',\n",
       " 'SingleIsoEG22',\n",
       " 'SingleIsoEG22er2p1',\n",
       " 'SingleIsoEG24',\n",
       " 'SingleIsoEG24er2p1',\n",
       " 'SingleIsoEG26',\n",
       " 'SingleIsoEG26er2p1',\n",
       " 'SingleIsoEG28',\n",
       " 'SingleIsoEG28er2p1',\n",
       " 'SingleIsoEG30',\n",
       " 'SingleIsoEG30er2p1',\n",
       " 'SingleIsoEG32',\n",
       " 'SingleIsoEG32er2p1',\n",
       " 'SingleIsoEG34',\n",
       " 'SingleIsoEG34er2p1',\n",
       " 'SingleIsoEG36',\n",
       " 'SingleIsoEG36er2p1',\n",
       " 'SingleIsoEG38',\n",
       " 'SingleJet120',\n",
       " 'SingleJet12_BptxAND',\n",
       " 'SingleJet140',\n",
       " 'SingleJet150',\n",
       " 'SingleJet16',\n",
       " 'SingleJet160',\n",
       " 'SingleJet170',\n",
       " 'SingleJet180',\n",
       " 'SingleJet20',\n",
       " 'SingleJet200',\n",
       " 'SingleJet20er3p0_NotBptxOR',\n",
       " 'SingleJet20er3p0_NotBptxOR_3BX',\n",
       " 'SingleJet35',\n",
       " 'SingleJet35_HFm',\n",
       " 'SingleJet35_HFp',\n",
       " 'SingleJet43er3p0_NotBptxOR_3BX',\n",
       " 'SingleJet46er3p0_NotBptxOR_3BX',\n",
       " 'SingleJet60',\n",
       " 'SingleJet60_HFm',\n",
       " 'SingleJet60_HFp',\n",
       " 'SingleJet90',\n",
       " 'SingleMu0_BMTF',\n",
       " 'SingleMu0_EMTF',\n",
       " 'SingleMu0_OMTF',\n",
       " 'SingleMu10_LowQ',\n",
       " 'SingleMu11_LowQ',\n",
       " 'SingleMu12_LowQ_BMTF',\n",
       " 'SingleMu12_LowQ_EMTF',\n",
       " 'SingleMu12_LowQ_OMTF',\n",
       " 'SingleMu14er2p1',\n",
       " 'SingleMu16',\n",
       " 'SingleMu16er2p1',\n",
       " 'SingleMu18',\n",
       " 'SingleMu18er2p1',\n",
       " 'SingleMu20',\n",
       " 'SingleMu20er2p1',\n",
       " 'SingleMu22',\n",
       " 'SingleMu22_BMTF',\n",
       " 'SingleMu22_EMTF',\n",
       " 'SingleMu22_OMTF',\n",
       " 'SingleMu22er2p1',\n",
       " 'SingleMu25',\n",
       " 'SingleMu3',\n",
       " 'SingleMu30',\n",
       " 'SingleMu5',\n",
       " 'SingleMu7',\n",
       " 'SingleMuCosmics',\n",
       " 'SingleMuCosmics_BMTF',\n",
       " 'SingleMuCosmics_EMTF',\n",
       " 'SingleMuCosmics_OMTF',\n",
       " 'SingleMuOpen',\n",
       " 'SingleMuOpen_NotBptxOR',\n",
       " 'SingleMuOpen_NotBptxOR_3BX',\n",
       " 'SingleTau100er2p1',\n",
       " 'SingleTau120er2p1',\n",
       " 'SingleTau20',\n",
       " 'SingleTau80er2p1',\n",
       " 'TripleEG_14_10_8',\n",
       " 'TripleEG_18_17_8',\n",
       " 'TripleEG_Iso20_10_5',\n",
       " 'TripleJet_84_68_48_VBF',\n",
       " 'TripleJet_88_72_56_VBF',\n",
       " 'TripleJet_92_76_64_VBF',\n",
       " 'TripleMu0',\n",
       " 'TripleMu3',\n",
       " 'TripleMu3_SQ',\n",
       " 'TripleMu_4_4_4',\n",
       " 'TripleMu_5_0_0',\n",
       " 'TripleMu_5_0_0_DoubleMu_5_0_OS_Mass_Max17',\n",
       " 'TripleMu_5_3_0_DoubleMu_5_3_OS_Mass_Max17',\n",
       " 'TripleMu_5_3_3',\n",
       " 'TripleMu_5_5_3',\n",
       " 'ZeroBias',\n",
       " 'ZeroBias_copy',\n",
       " 'UnprefireableEvent']"
      ]
     },
     "execution_count": 12,
     "metadata": {},
     "output_type": "execute_result"
    }
   ],
   "source": [
    "l1 = events_data['2017B'].L1.fields\n",
    "l1"
   ]
  },
  {
   "cell_type": "code",
   "execution_count": 13,
   "id": "894ecbcd",
   "metadata": {
    "scrolled": true
   },
   "outputs": [
    {
     "data": {
      "text/plain": [
       "['SingleEG10',\n",
       " 'SingleEG15',\n",
       " 'SingleEG18',\n",
       " 'SingleEG24',\n",
       " 'SingleEG26',\n",
       " 'SingleEG28',\n",
       " 'SingleEG2_BptxAND',\n",
       " 'SingleEG30',\n",
       " 'SingleEG32',\n",
       " 'SingleEG34',\n",
       " 'SingleEG34er2p1',\n",
       " 'SingleEG36',\n",
       " 'SingleEG36er2p1',\n",
       " 'SingleEG38',\n",
       " 'SingleEG38er2p1',\n",
       " 'SingleEG40',\n",
       " 'SingleEG45',\n",
       " 'SingleEG5',\n",
       " 'SingleIsoEG18',\n",
       " 'SingleIsoEG18er2p1',\n",
       " 'SingleIsoEG20',\n",
       " 'SingleIsoEG20er2p1',\n",
       " 'SingleIsoEG22',\n",
       " 'SingleIsoEG22er2p1',\n",
       " 'SingleIsoEG24',\n",
       " 'SingleIsoEG24er2p1',\n",
       " 'SingleIsoEG26',\n",
       " 'SingleIsoEG26er2p1',\n",
       " 'SingleIsoEG28',\n",
       " 'SingleIsoEG28er2p1',\n",
       " 'SingleIsoEG30',\n",
       " 'SingleIsoEG30er2p1',\n",
       " 'SingleIsoEG32',\n",
       " 'SingleIsoEG32er2p1',\n",
       " 'SingleIsoEG34',\n",
       " 'SingleIsoEG34er2p1',\n",
       " 'SingleIsoEG36',\n",
       " 'SingleIsoEG36er2p1',\n",
       " 'SingleIsoEG38',\n",
       " 'SingleJet120',\n",
       " 'SingleJet12_BptxAND',\n",
       " 'SingleJet140',\n",
       " 'SingleJet150',\n",
       " 'SingleJet16',\n",
       " 'SingleJet160',\n",
       " 'SingleJet170',\n",
       " 'SingleJet180',\n",
       " 'SingleJet20',\n",
       " 'SingleJet200',\n",
       " 'SingleJet20er3p0_NotBptxOR',\n",
       " 'SingleJet20er3p0_NotBptxOR_3BX',\n",
       " 'SingleJet35',\n",
       " 'SingleJet35_HFm',\n",
       " 'SingleJet35_HFp',\n",
       " 'SingleJet43er3p0_NotBptxOR_3BX',\n",
       " 'SingleJet46er3p0_NotBptxOR_3BX',\n",
       " 'SingleJet60',\n",
       " 'SingleJet60_HFm',\n",
       " 'SingleJet60_HFp',\n",
       " 'SingleJet90',\n",
       " 'SingleMu0_BMTF',\n",
       " 'SingleMu0_EMTF',\n",
       " 'SingleMu0_OMTF',\n",
       " 'SingleMu10_LowQ',\n",
       " 'SingleMu11_LowQ',\n",
       " 'SingleMu12_LowQ_BMTF',\n",
       " 'SingleMu12_LowQ_EMTF',\n",
       " 'SingleMu12_LowQ_OMTF',\n",
       " 'SingleMu14er2p1',\n",
       " 'SingleMu16',\n",
       " 'SingleMu16er2p1',\n",
       " 'SingleMu18',\n",
       " 'SingleMu18er2p1',\n",
       " 'SingleMu20',\n",
       " 'SingleMu20er2p1',\n",
       " 'SingleMu22',\n",
       " 'SingleMu22_BMTF',\n",
       " 'SingleMu22_EMTF',\n",
       " 'SingleMu22_OMTF',\n",
       " 'SingleMu22er2p1',\n",
       " 'SingleMu25',\n",
       " 'SingleMu3',\n",
       " 'SingleMu30',\n",
       " 'SingleMu5',\n",
       " 'SingleMu7',\n",
       " 'SingleMuCosmics',\n",
       " 'SingleMuCosmics_BMTF',\n",
       " 'SingleMuCosmics_EMTF',\n",
       " 'SingleMuCosmics_OMTF',\n",
       " 'SingleMuOpen',\n",
       " 'SingleMuOpen_NotBptxOR',\n",
       " 'SingleMuOpen_NotBptxOR_3BX',\n",
       " 'SingleTau100er2p1',\n",
       " 'SingleTau120er2p1',\n",
       " 'SingleTau20',\n",
       " 'SingleTau80er2p1']"
      ]
     },
     "execution_count": 13,
     "metadata": {},
     "output_type": "execute_result"
    }
   ],
   "source": [
    "[l for l in l1 if 'Single' in l]"
   ]
  },
  {
   "cell_type": "code",
   "execution_count": 14,
   "id": "116e8d1d",
   "metadata": {},
   "outputs": [
    {
     "data": {
      "text/plain": [
       "<Array [False, False, False, ... True, False] type='100 * bool[parameters={\"__do...'>"
      ]
     },
     "execution_count": 14,
     "metadata": {},
     "output_type": "execute_result"
    }
   ],
   "source": [
    "events['2017'].L1.SingleEG32"
   ]
  },
  {
   "cell_type": "code",
   "execution_count": 15,
   "id": "5ef090ad",
   "metadata": {},
   "outputs": [
    {
     "data": {
      "text/plain": [
       "<Array [[242, 124, 97, ... 24.3, 19.2, 18.3]] type='100 * var * float32[paramete...'>"
      ]
     },
     "execution_count": 15,
     "metadata": {},
     "output_type": "execute_result"
    }
   ],
   "source": [
    "pt = events['2017'].Jet.pt\n",
    "pt"
   ]
  },
  {
   "cell_type": "code",
   "execution_count": 16,
   "id": "de9e1679",
   "metadata": {},
   "outputs": [
    {
     "data": {
      "text/plain": [
       "<Array [667, 519, 508, 761, ... 952, 783, 719] type='100 * float32'>"
      ]
     },
     "execution_count": 16,
     "metadata": {},
     "output_type": "execute_result"
    }
   ],
   "source": [
    "ht = ak.sum(abs(pt), axis=1)\n",
    "ht"
   ]
  },
  {
   "cell_type": "code",
   "execution_count": 17,
   "id": "b58961d1",
   "metadata": {},
   "outputs": [
    {
     "data": {
      "image/png": "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\n",
      "text/plain": [
       "<Figure size 432x288 with 1 Axes>"
      ]
     },
     "metadata": {
      "needs_background": "light"
     },
     "output_type": "display_data"
    }
   ],
   "source": [
    "plt.hist(ht, bins=40);"
   ]
  },
  {
   "cell_type": "code",
   "execution_count": 27,
   "id": "62d7fbcb",
   "metadata": {},
   "outputs": [
    {
     "data": {
      "text/plain": [
       "['IsoMu24_eta2p1_LooseChargedIsoPFTau20_SingleL1',\n",
       " 'IsoMu24_eta2p1_MediumChargedIsoPFTau20_SingleL1',\n",
       " 'IsoMu24_eta2p1_TightChargedIsoPFTau20_SingleL1',\n",
       " 'IsoMu24_eta2p1_LooseChargedIsoPFTau20_TightID_SingleL1',\n",
       " 'IsoMu24_eta2p1_MediumChargedIsoPFTau20_TightID_SingleL1',\n",
       " 'IsoMu24_eta2p1_TightChargedIsoPFTau20_TightID_SingleL1',\n",
       " 'IsoMu24',\n",
       " 'IsoMu24_eta2p1',\n",
       " 'IsoMu24_eta2p1_MediumChargedIsoPFTau50_Trk30_eta2p1_1pr',\n",
       " 'IsoMu24_eta2p1_LooseChargedIsoPFTau35_Trk1_eta2p1_Reg_CrossL1',\n",
       " 'IsoMu24_eta2p1_LooseChargedIsoPFTau35_Trk1_TightID_eta2p1_Reg_CrossL1',\n",
       " 'IsoMu24_eta2p1_MediumChargedIsoPFTau35_Trk1_eta2p1_Reg_CrossL1',\n",
       " 'IsoMu24_eta2p1_MediumChargedIsoPFTau35_Trk1_TightID_eta2p1_Reg_CrossL1',\n",
       " 'IsoMu24_eta2p1_TightChargedIsoPFTau35_Trk1_eta2p1_Reg_CrossL1',\n",
       " 'IsoMu24_eta2p1_TightChargedIsoPFTau35_Trk1_TightID_eta2p1_Reg_CrossL1']"
      ]
     },
     "execution_count": 27,
     "metadata": {},
     "output_type": "execute_result"
    }
   ],
   "source": [
    "list(filter(lambda x : 'IsoMu24' in x, events_data['2017B'].HLT.fields))"
   ]
  },
  {
   "cell_type": "code",
   "execution_count": null,
   "id": "77338e6a",
   "metadata": {},
   "outputs": [],
   "source": [
    "filename = \n",
    "events_single_muon = NanoEventsFactory.from_root({filename: "Events"}, schemaclass=NanoAODSchema, entry_stop=100).events()"
   ]
  }
 ],
 "metadata": {
  "kernelspec": {
   "display_name": "Python 3 (ipykernel)",
   "language": "python",
   "name": "python3"
  },
  "language_info": {
   "codemirror_mode": {
    "name": "ipython",
    "version": 3
   },
   "file_extension": ".py",
   "mimetype": "text/x-python",
   "name": "python",
   "nbconvert_exporter": "python",
   "pygments_lexer": "ipython3",
   "version": "3.9.7"
  }
 },
 "nbformat": 4,
 "nbformat_minor": 5
}
