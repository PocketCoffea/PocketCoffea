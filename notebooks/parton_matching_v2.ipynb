{
 "cells": [
  {
   "cell_type": "code",
   "execution_count": 1,
   "id": "7acee39f",
   "metadata": {},
   "outputs": [
    {
     "name": "stderr",
     "output_type": "stream",
     "text": [
      "/work/dvalsecc/miniconda3/envs/coffea3/lib/python3.10/site-packages/coffea/util.py:154: FutureWarning: In coffea version v0.8.0 (target date: 31 Dec 2022), this will be an error.\n",
      "(Set coffea.deprecations_as_errors = True to get a stack trace now.)\n",
      "ImportError: coffea.hist is deprecated\n",
      "  warnings.warn(message, FutureWarning)\n"
     ]
    }
   ],
   "source": [
    "from coffea.nanoevents import NanoEventsFactory, NanoAODSchema\n",
    "from coffea import hist, processor\n",
    "import numpy as np\n",
    "import awkward as ak\n",
    "import matplotlib.pyplot as plt\n",
    "from hist import Hist\n",
    "\n",
    "import sys\n",
    "sys.path.append('/work/dvalsecc/ttHbb/PocketCoffea')"
   ]
  },
  {
   "cell_type": "code",
   "execution_count": 3,
   "id": "27a5dda1",
   "metadata": {},
   "outputs": [],
   "source": [
    "from PocketCoffea.lib.objects import jet_selection, lepton_selection"
   ]
  },
  {
   "cell_type": "code",
   "execution_count": 4,
   "id": "0c89709e",
   "metadata": {},
   "outputs": [],
   "source": [
    "filename = \"/pnfs/psi.ch/cms/trivcat/store/user/mmarcheg/RunIIFall17NanoAODv7/ttHTobb_M125_TuneCP5_13TeV-powheg-pythia8/587E2464-42CA-3A45-BD49-D23E49F658E6.root\"\n",
    "#events = NanoEventsFactory.from_root({filename: "Events"}, schemaclass=NanoAODSchema).events()\n",
    "events = NanoEventsFactory.from_root({filename: "Events"}, schemaclass=NanoAODSchema, entry_stop=10).events()"
   ]
  },
  {
   "cell_type": "code",
   "execution_count": 5,
   "id": "de6c4876",
   "metadata": {},
   "outputs": [],
   "source": [
    "minDR = 0.4"
   ]
  },
  {
   "cell_type": "code",
   "execution_count": 7,
   "id": "6f7b7f03",
   "metadata": {},
   "outputs": [],
   "source": [
    "events[\"MuonGood\"]     = lepton_selection(events, \"Muon\", \"dilepton\")\n",
    "events[\"ElectronGood\"] = lepton_selection(events, \"Electron\", \"dilepton\")\n",
    "leptons = ak.with_name( ak.concatenate( (events.MuonGood, events.ElectronGood), axis=1 ), name='PtEtaPhiMCandidate' )\n",
    "events[\"LeptonGood\"]   = leptons[ak.argsort(leptons.pt, ascending=False)]\n",
    "events[\"JetGood\"], _  = jet_selection(events, \"Jet\", \"dilepton\")"
   ]
  },
  {
   "cell_type": "code",
   "execution_count": null,
   "id": "3ade54b7",
   "metadata": {},
   "outputs": [],
   "source": [
    "events = events[ak.num(events.JetGood)>=4]"
   ]
  },
  {
   "cell_type": "code",
   "execution_count": null,
   "id": "7b3a934a",
   "metadata": {},
   "outputs": [],
   "source": [
    "# Select b-quarks at LHE level\n",
    "isOutgoing = events.LHEPart.status == 1\n",
    "isB = abs(events.LHEPart.pdgId) == 5\n",
    "bquarks = events.LHEPart[isB & isOutgoing]\n",
    "\n",
    "# Select b-quarks at Gen level, coming from H->bb decay\n",
    "dataset = \"ttHTobb\"\n",
    "if dataset == 'ttHTobb':\n",
    "    isHiggs = events.GenPart.pdgId == 25\n",
    "    isHard = events.GenPart.hasFlags(['fromHardProcess'])\n",
    "    hasTwoChildren = ak.num(events.GenPart.childrenIdxG, axis=2) == 2\n",
    "    higgs = events.GenPart[isHiggs & isHard & hasTwoChildren]\n",
    "    bquarks = ak.concatenate( (bquarks, ak.flatten(higgs.children, axis=2)), axis=1 )\n",
    "    # Sort b-quarks by pt\n",
    "    bquarks = ak.with_name(bquarks[ak.argsort(bquarks.pt, ascending=False)], name='PtEtaPhiMCandidate')\n",
    "    "
   ]
  },
  {
   "cell_type": "code",
   "execution_count": 119,
   "id": "07ef432b-7ef0-4388-9878-d286d388996d",
   "metadata": {},
   "outputs": [],
   "source": [
    "\n",
    "# Compute deltaR(b, jet) and save the nearest jet (deltaR matching)\n",
    "deltaR = ak.flatten(bquarks.metric_table(events.JetGood), axis=2)\n",
    "# keeping only the pairs with a deltaR min\n",
    "maskDR = deltaR<  minDR\n",
    "deltaRcut = deltaR[maskDR]\n",
    "idx_pairs_sorted = ak.argsort(deltaRcut, axis=1)\n",
    "pairs = ak.argcartesian([bquarks, events.JetGood])[maskDR]\n",
    "pairs_sorted = pairs[idx_pairs_sorted]\n",
    "idx_bquarks, idx_JetGood = ak.unzip(pairs_sorted)\n"
   ]
  },
  {
   "cell_type": "code",
   "execution_count": 121,
   "id": "5a5a85a1-6297-42c8-a42d-0ccc7b4e4018",
   "metadata": {},
   "outputs": [
    {
     "data": {
      "text/plain": [
       "[3.068033456802368,\n",
       " 0.023734750226140022,\n",
       " 0.6439067721366882,\n",
       " 2.0722455978393555,\n",
       " 2.544515371322632,\n",
       " 1.378913164138794,\n",
       " 3.9343597888946533,\n",
       " 2.9576520919799805,\n",
       " 0.6336449384689331,\n",
       " 0.013542654924094677,\n",
       " 1.585062026977539,\n",
       " 3.1971065998077393,\n",
       " 1.086021900177002,\n",
       " 3.309568405151367,\n",
       " 2.0437068939208984,\n",
       " 2.1167399883270264,\n",
       " 1.6697065830230713,\n",
       " 0.09833559393882751,\n",
       " 1.842951774597168,\n",
       " 2.502495050430298,\n",
       " 3.172234296798706,\n",
       " 3.12044358253479,\n",
       " 1.2725880146026611,\n",
       " 1.0046820640563965,\n",
       " 2.3516218662261963,\n",
       " 3.424485921859741,\n",
       " 0.09948761761188507,\n",
       " 2.9615819454193115]"
      ]
     },
     "execution_count": 121,
     "metadata": {},
     "output_type": "execute_result"
    }
   ],
   "source": [
    "deltaR[7].tolist()"
   ]
  },
  {
   "cell_type": "code",
   "execution_count": null,
   "id": "cc865c3c-a5d0-4c36-a5ef-7aa9defe243c",
   "metadata": {},
   "outputs": [],
   "source": []
  },
  {
   "cell_type": "code",
   "execution_count": null,
   "id": "1f0df548-449e-4a16-833e-1317a1f38297",
   "metadata": {},
   "outputs": [],
   "source": []
  },
  {
   "cell_type": "code",
   "execution_count": null,
   "id": "d2ca0efc-27f6-43a8-b21f-b604ddd5d153",
   "metadata": {},
   "outputs": [],
   "source": []
  },
  {
   "cell_type": "code",
   "execution_count": null,
   "id": "a684ea25-fcdc-46f0-9217-7504c91769d6",
   "metadata": {},
   "outputs": [],
   "source": []
  },
  {
   "cell_type": "code",
   "execution_count": null,
   "id": "db04a805-fe2f-4da3-bb37-26aecc9ffc79",
   "metadata": {},
   "outputs": [],
   "source": []
  },
  {
   "cell_type": "code",
   "execution_count": null,
   "id": "5084b779-83d2-415c-87c3-887f6da31146",
   "metadata": {},
   "outputs": [],
   "source": []
  },
  {
   "cell_type": "code",
   "execution_count": 129,
   "id": "b72f8e8d",
   "metadata": {},
   "outputs": [
    {
     "data": {
      "text/plain": [
       "<Array [[1, 2, 3, 0], [0, ... 1], [2, 0, 3, 1]] type='10 * var * ?int64'>"
      ]
     },
     "execution_count": 129,
     "metadata": {},
     "output_type": "execute_result"
    }
   ],
   "source": [
    "idx_pairs_sorted"
   ]
  },
  {
   "cell_type": "code",
   "execution_count": 130,
   "id": "8f449536",
   "metadata": {},
   "outputs": [
    {
     "data": {
      "text/plain": [
       "<Array [[3.13, 0.186, 1.56, ... 2.7, 3.19]] type='10 * var * ?float32'>"
      ]
     },
     "execution_count": 130,
     "metadata": {},
     "output_type": "execute_result"
    }
   ],
   "source": [
    "deltaR"
   ]
  },
  {
   "cell_type": "code",
   "execution_count": 140,
   "id": "dd3bcc22",
   "metadata": {},
   "outputs": [
    {
     "name": "stdout",
     "output_type": "stream",
     "text": [
      "parton eta [0.144, 1.17, -0.514, 0.344]\n",
      "parton phi [-2, 2.78, 1.81, -1.02]\n",
      "parton pt [147, 86, 55.1, 42]\n",
      "J eta [0.137, -0.178, 1.12, -0.449, -0.532, 0.329, -1.14]\n",
      "J phi [-2.04, 0.263, 2.67, -2.29, 1.84, -0.979, -0.771]\n",
      "J pt [150, 114, 103, 57.1, 55.5, 43, 40.2]\n",
      "deltaR\n",
      "[0.0408, 0.12, 0.0366, 0.0429]\n",
      "deltaR index sorted\n",
      "[2, 0, 3, 1]\n",
      "All pairs\n",
      "[(0, 0), (1, 2), (2, 4), (3, 5)]\n",
      "Pairs sorted\n",
      "[(2, 4), (0, 0), (3, 5), (1, 2)]\n",
      "Id quarks\n",
      "[2, 0, 3, 1]\n",
      "Id jets\n",
      "[4, 0, 5, 2]\n"
     ]
    }
   ],
   "source": [
    "N = 3\n",
    "print(\"parton eta\", bquarks.eta[N])\n",
    "print(\"parton phi\", bquarks.phi[N])\n",
    "print(\"parton pt\", bquarks.pt[N])\n",
    "print(\"J eta\", events.JetGood.eta[N])\n",
    "print(\"J phi\", events.JetGood.phi[N])\n",
    "print(\"J pt\", events.JetGood.pt[N])\n",
    "\n",
    "print(\"deltaR\")\n",
    "print(deltaRcut[N])\n",
    "print(\"deltaR index sorted\")\n",
    "print(idx_pairs_sorted[N])\n",
    "\n",
    "print(\"All pairs\")\n",
    "print(pairs[N])\n",
    "\n",
    "print(\"Pairs sorted\")\n",
    "print(pairs_sorted[N])\n",
    "\n",
    "print(\"Id quarks\")\n",
    "print(idx_bquarks[N])\n",
    "print(\"Id jets\")\n",
    "print(idx_JetGood[N])\n"
   ]
  },
  {
   "cell_type": "code",
   "execution_count": 142,
   "id": "135191f9",
   "metadata": {},
   "outputs": [
    {
     "name": "stdout",
     "output_type": "stream",
     "text": [
      "0.036627857855135136\n",
      "0.040841371064381\n",
      "0.04287557904322346\n",
      "0.1200797169864631\n"
     ]
    }
   ],
   "source": [
    "for i,j in pairs_sorted[N].to_list():\n",
    "    print(bquarks[N,i].delta_r(events.JetGood[N,j]))"
   ]
  },
  {
   "cell_type": "code",
   "execution_count": null,
   "id": "c9be43f7",
   "metadata": {},
   "outputs": [],
   "source": []
  },
  {
   "cell_type": "code",
   "execution_count": null,
   "id": "7f7cc982",
   "metadata": {},
   "outputs": [],
   "source": []
  },
  {
   "cell_type": "code",
   "execution_count": 42,
   "id": "279fd0a5",
   "metadata": {},
   "outputs": [
    {
     "data": {
      "text/plain": [
       "[[(0, 1), (1, 2), (2, 4), (3, 5)],\n",
       " [(0, 0), (1, 1)],\n",
       " [(0, 0), (1, 2)],\n",
       " [(0, 0), (1, 2), (2, 4), (3, 5)],\n",
       " [(0, 1), (1, 2), (2, 1)],\n",
       " [(0, 1), (0, 2), (1, 0), (2, 2), (2, 3)],\n",
       " [(0, 2), (1, 1), (2, 4)],\n",
       " [(0, 1), (1, 2), (2, 3), (3, 5)],\n",
       " [(0, 1), (1, 4), (2, 3)],\n",
       " [(0, 0), (1, 4), (2, 1), (3, 2)]]"
      ]
     },
     "execution_count": 42,
     "metadata": {},
     "output_type": "execute_result"
    }
   ],
   "source": [
    "pairs.tolist()"
   ]
  },
  {
   "cell_type": "code",
   "execution_count": null,
   "id": "7fd88516",
   "metadata": {},
   "outputs": [],
   "source": []
  },
  {
   "cell_type": "code",
   "execution_count": null,
   "id": "1fceed9a",
   "metadata": {},
   "outputs": [],
   "source": []
  },
  {
   "cell_type": "code",
   "execution_count": null,
   "id": "aae7e28f",
   "metadata": {},
   "outputs": [],
   "source": []
  },
  {
   "cell_type": "code",
   "execution_count": null,
   "id": "87358293",
   "metadata": {},
   "outputs": [],
   "source": []
  },
  {
   "cell_type": "code",
   "execution_count": null,
   "id": "af3b99b9",
   "metadata": {},
   "outputs": [],
   "source": []
  },
  {
   "cell_type": "code",
   "execution_count": null,
   "id": "1686d9a1",
   "metadata": {},
   "outputs": [],
   "source": []
  },
  {
   "cell_type": "code",
   "execution_count": null,
   "id": "5a25947e",
   "metadata": {},
   "outputs": [],
   "source": []
  },
  {
   "cell_type": "code",
   "execution_count": null,
   "id": "b52ac7c6",
   "metadata": {},
   "outputs": [],
   "source": []
  },
  {
   "cell_type": "code",
   "execution_count": null,
   "id": "f4d68d73",
   "metadata": {},
   "outputs": [],
   "source": [
    "\n",
    "print(pairs_sorted[ievt].tolist(), end='\\n\\n')\n",
    "\n",
    "hasMatch = ak.zeros_like(idx_Jet, dtype=bool)\n",
    "Npairmax = ak.max(ak.num(idx_bquarks))\n",
    "# Loop over the (parton, jet) pairs\n",
    "for idx_pair in range(Npairmax):\n",
    "    idx_bquark = ak.pad_none(idx_bquarks, Npairmax)[:,idx_pair]\n",
    "    idx_match_candidates = idx_Jet[ak.fill_none( (idx_bquarks == idx_bquark) & ~hasMatch, False)]\n",
    "    idx_pair_candidates  = ak.local_index(idx_Jet)[ak.fill_none( (idx_bquarks == idx_bquark) & ~hasMatch, False)]\n",
    "    print(idx_bquark[ievt], idx_match_candidates[ievt])\n",
    "    print(idx_bquark[ievt], idx_pair_candidates[ievt])\n",
    "    if idx_pair == 0:\n",
    "        idx_matchedJet    = ak.unflatten( ak.firsts(idx_match_candidates), 1 )\n",
    "        idx_matchedParton = ak.unflatten( idx_bquark, 1 )\n",
    "        idx_matchedPair   = ak.unflatten( ak.firsts(idx_pair_candidates), 1 )\n",
    "    else:\n",
    "        # If the partons are matched in all events or the number of jets is smaller than the number of partons, stop iterating\n",
    "        if ak.all( ( (ak.count(idx_matchedJet, axis=1) == ak.count(bquarks.pt, axis=1)) | (ak.count(events.Jet.pt, axis=1) < ak.count(bquarks.pt, axis=1) ) ) ): break\n",
    "        idx_matchedJet    = ak.concatenate( (idx_matchedJet, ak.unflatten( ak.firsts(idx_match_candidates), 1 ) ), axis=1 )\n",
    "        idx_matchedParton = ak.concatenate( (idx_matchedParton, ak.unflatten( idx_bquark, 1 )), axis=1 )\n",
    "        idx_matchedPair   = ak.concatenate( (idx_matchedPair, ak.unflatten( ak.firsts(idx_pair_candidates), 1 ) ), axis=1 )\n",
    "    # The mask `hasMatch` masks to False the \n",
    "    hasMatch = hasMatch | ak.fill_none(idx_Jet == ak.fill_none(ak.firsts(idx_match_candidates), -99), False) | ak.fill_none(idx_bquarks == idx_bquark, False)\n",
    "    print(idx_pair, hasMatch[ievt].tolist(), end='\\n\\n')\n",
    "\n",
    "idx_matchedParton = idx_matchedParton[~ak.is_none(idx_matchedJet, axis=1)]\n",
    "idx_matchedJet = idx_matchedJet[~ak.is_none(idx_matchedJet, axis=1)]\n",
    "dr_matchedJet = deltaR[idx_pairs_sorted][~ak.is_none(idx_matchedPair, axis=1)]\n",
    "print(\"idx_matchedPair\", idx_matchedPair)\n",
    "idx_matchedPair = idx_matchedPair[~ak.is_none(idx_matchedPair, axis=1)]\n",
    "matchedJet    = events.Jet[idx_matchedJet]\n",
    "matchedParton = bquarks[idx_matchedParton]\n",
    "print(\"matchedJet\", matchedJet)\n",
    "hasMatchedPartons = ak.count(idx_matchedParton, axis=1) == ak.count(bquarks.pt, axis=1)\n",
    "print(hasMatchedPartons)\n",
    "#for cut in self._selections.keys():\n",
    "#    print(events.metadata[\"dataset\"], cut, \"matched partons =\", round(100*ak.sum(hasMatchedPartons[self._cuts.all(*self._selections[cut])])/ak.size(hasMatchedPartons[self._cuts.all(*self._selections[cut])]), 2), \"%\")\n",
    "events[\"BQuark\"] = bquarks\n",
    "events[\"JetMatched\"] = matchedJet\n",
    "events[\"BQuarkMatched\"] = matchedParton\n",
    "events[\"BQuarkMatched\"] = ak.with_field(events.BQuarkMatched, dr_matchedJet, \"drMatchedJet\")\n",
    "print(\"deltaR\", deltaR)\n",
    "return bquarks, idx_matchedJet, idx_matchedParton, idx_matchedPair, dr_matchedJet"
   ]
  },
  {
   "cell_type": "code",
   "execution_count": 51,
   "id": "d29f5d66",
   "metadata": {},
   "outputs": [
    {
     "name": "stdout",
     "output_type": "stream",
     "text": [
      "[(0, 0), (2, 5), (1, 1), (0, 7), (3, 7), (1, 5), (2, 1), (1, 2), (3, 0), (1, 3), (0, 3), (3, 3), (3, 4), (2, 3), (1, 0), (0, 5), (2, 0), (2, 2), (3, 2), (0, 1), (1, 7), (0, 2), (3, 8), (2, 7), (3, 1), (0, 4), (3, 5), (0, 8), (1, 8), (1, 4), (3, 6), (2, 8), (2, 4), (1, 6), (0, 6), (2, 6)]\n",
      "\n",
      "0 [0, 7, 3, 5, 1, 2, 4, 8, 6]\n",
      "0 [0, 3, 10, 15, 19, 21, 25, 27, 34]\n",
      "0 [True, False, False, True, False, False, False, False, True, False, True, False, False, False, True, True, True, False, False, True, False, True, False, False, False, True, False, True, False, False, False, False, False, False, True, False]\n",
      "\n",
      "2 [5, 1, 3, 2, 7, 8, 4, 6]\n",
      "2 [1, 6, 13, 17, 23, 31, 32, 35]\n",
      "1 [True, True, False, True, False, True, True, False, True, False, True, False, False, True, True, True, True, True, False, True, False, True, False, True, False, True, True, True, False, False, False, True, True, False, True, True]\n",
      "\n",
      "1 [1, 2, 3, 7, 8, 4, 6]\n",
      "1 [2, 7, 9, 20, 28, 29, 33]\n",
      "2 [True, True, True, True, False, True, True, True, True, True, True, False, False, True, True, True, True, True, False, True, True, True, False, True, True, True, True, True, True, True, False, True, True, True, True, True]\n",
      "\n",
      "0 []\n",
      "0 []\n",
      "3 [True, True, True, True, False, True, True, True, True, True, True, False, False, True, True, True, True, True, False, True, True, True, False, True, True, True, True, True, True, True, False, True, True, True, True, True]\n",
      "\n",
      "3 [7, 3, 4, 2, 8, 6]\n",
      "3 [4, 11, 12, 18, 22, 30]\n",
      "4 [True, True, True, True, True, True, True, True, True, True, True, True, True, True, True, True, True, True, True, True, True, True, True, True, True, True, True, True, True, True, True, True, True, True, True, True]\n",
      "\n",
      "1 []\n",
      "1 []\n",
      "5 [True, True, True, True, True, True, True, True, True, True, True, True, True, True, True, True, True, True, True, True, True, True, True, True, True, True, True, True, True, True, True, True, True, True, True, True]\n",
      "\n",
      "2 []\n",
      "2 []\n",
      "6 [True, True, True, True, True, True, True, True, True, True, True, True, True, True, True, True, True, True, True, True, True, True, True, True, True, True, True, True, True, True, True, True, True, True, True, True]\n",
      "\n",
      "1 []\n",
      "1 []\n",
      "7 [True, True, True, True, True, True, True, True, True, True, True, True, True, True, True, True, True, True, True, True, True, True, True, True, True, True, True, True, True, True, True, True, True, True, True, True]\n",
      "\n",
      "3 []\n",
      "3 []\n",
      "8 [True, True, True, True, True, True, True, True, True, True, True, True, True, True, True, True, True, True, True, True, True, True, True, True, True, True, True, True, True, True, True, True, True, True, True, True]\n",
      "\n",
      "1 []\n",
      "1 []\n",
      "9 [True, True, True, True, True, True, True, True, True, True, True, True, True, True, True, True, True, True, True, True, True, True, True, True, True, True, True, True, True, True, True, True, True, True, True, True]\n",
      "\n",
      "0 []\n",
      "0 []\n",
      "10 [True, True, True, True, True, True, True, True, True, True, True, True, True, True, True, True, True, True, True, True, True, True, True, True, True, True, True, True, True, True, True, True, True, True, True, True]\n",
      "\n",
      "3 []\n",
      "3 []\n",
      "11 [True, True, True, True, True, True, True, True, True, True, True, True, True, True, True, True, True, True, True, True, True, True, True, True, True, True, True, True, True, True, True, True, True, True, True, True]\n",
      "\n",
      "3 []\n",
      "3 []\n",
      "12 [True, True, True, True, True, True, True, True, True, True, True, True, True, True, True, True, True, True, True, True, True, True, True, True, True, True, True, True, True, True, True, True, True, True, True, True]\n",
      "\n",
      "2 []\n",
      "2 []\n",
      "13 [True, True, True, True, True, True, True, True, True, True, True, True, True, True, True, True, True, True, True, True, True, True, True, True, True, True, True, True, True, True, True, True, True, True, True, True]\n",
      "\n",
      "1 []\n",
      "1 []\n",
      "idx_matchedPair [[0, 1, 2, 3, None, None, None, None, ... None, None, None, None, None, None, None]]\n",
      "matchedJet [[Jet, Jet, Jet, Jet], [Jet, Jet, Jet, Jet, ... Jet, Jet, Jet], [Jet, Jet, Jet, Jet]]\n",
      "[True, True, True, True, True, True, True, ... True, True, True, True, True, True]\n",
      "deltaR [[3.13, 0.186, 1.56, 0.423, 1.68, 1.68, ... 0.0284, 2.37, 3.82, 2.03, 2.53, 2.15]]\n"
     ]
    }
   ],
   "source": [
    "dataset = \"ttHTobb\"\n",
    "bquarks, idx_matchedJet, idx_matchedParton, idx_matchedPair, dr_matchedJet = parton_matching()"
   ]
  },
  {
   "cell_type": "code",
   "execution_count": 44,
   "id": "01499ba4",
   "metadata": {},
   "outputs": [
    {
     "data": {
      "text/plain": [
       "[[0, 1, 2, 4], [0, 1, 2, 3]]"
      ]
     },
     "execution_count": 44,
     "metadata": {},
     "output_type": "execute_result"
    }
   ],
   "source": [
    "idx_matchedPair[1:3].tolist()"
   ]
  },
  {
   "cell_type": "code",
   "execution_count": 45,
   "id": "49c8f7be",
   "metadata": {},
   "outputs": [
    {
     "data": {
      "text/plain": [
       "[[0, 5, 1, 7], [2, 0, 8, 5]]"
      ]
     },
     "execution_count": 45,
     "metadata": {},
     "output_type": "execute_result"
    }
   ],
   "source": [
    "idx_matchedJet[1:3].tolist()"
   ]
  },
  {
   "cell_type": "code",
   "execution_count": 46,
   "id": "00773b40",
   "metadata": {},
   "outputs": [
    {
     "data": {
      "text/plain": [
       "[[0, 2, 1, 3], [1, 0, 3, 2]]"
      ]
     },
     "execution_count": 46,
     "metadata": {},
     "output_type": "execute_result"
    }
   ],
   "source": [
    "idx_matchedParton[1:3].tolist()"
   ]
  },
  {
   "cell_type": "code",
   "execution_count": 61,
   "id": "13f09baa",
   "metadata": {
    "scrolled": true
   },
   "outputs": [
    {
     "data": {
      "text/plain": [
       "<Array [[2, 4, 5, 1], [0, ... 2], [3, 2, 5, 0]] type='100 * var * ?int64'>"
      ]
     },
     "execution_count": 61,
     "metadata": {},
     "output_type": "execute_result"
    }
   ],
   "source": [
    "idx_matchedJet"
   ]
  },
  {
   "cell_type": "code",
   "execution_count": 77,
   "id": "9da3223d",
   "metadata": {},
   "outputs": [],
   "source": [
    "ak.num?"
   ]
  },
  {
   "cell_type": "code",
   "execution_count": 83,
   "id": "ec6b7cdd",
   "metadata": {},
   "outputs": [
    {
     "data": {
      "text/plain": [
       "<JetArray [Jet, Jet, Jet, Jet, ... Jet, Jet, Jet] type='10 * jet'>"
      ]
     },
     "execution_count": 83,
     "metadata": {},
     "output_type": "execute_result"
    }
   ],
   "source": [
    "events.Jet[0]"
   ]
  },
  {
   "cell_type": "code",
   "execution_count": 16,
   "id": "8d71d14d",
   "metadata": {},
   "outputs": [],
   "source": [
    "deltaR = ak.flatten(bquarks.metric_table(events.Jet), axis=2)\n",
    "idx_pairs_sorted = ak.argsort(deltaR, axis=1)\n",
    "pairs = ak.argcartesian([bquarks, events.Jet])\n",
    "pairs_sorted = pairs[idx_pairs_sorted]"
   ]
  },
  {
   "cell_type": "code",
   "execution_count": 17,
   "id": "250cd760",
   "metadata": {},
   "outputs": [
    {
     "name": "stdout",
     "output_type": "stream",
     "text": [
      "[1.6532708406448364, 3.295625925064087, 2.91536545753479, 2.0690457820892334, 2.5431392192840576, 4.349359035491943, 5.780805587768555, 1.165016770362854, 3.1722655296325684, 2.900911569595337, 1.5443878173828125, 2.912795066833496, 2.659679412841797, 6.519222259521484, 0.06480082869529724, 8.262446403503418, 3.281663179397583, 5.993892192840576, 2.818077564239502, 0.24081091582775116, 1.573973536491394, 1.7338595390319824, 5.17755651473999, 1.4222795963287354, 6.949051856994629, 3.0221166610717773, 4.846456527709961, 0.057874202728271484, 3.0177724361419678, 3.119097948074341, 1.7795755863189697, 4.232578754425049, 2.8521833419799805, 7.220786094665527, 0.5494140386581421, 4.435528755187988]\n",
      "[(3, 0), (1, 5), (2, 1), (3, 7), (0, 7), (2, 5), (1, 1), (2, 2), (0, 0), (2, 3), (3, 3), (0, 3), (0, 4), (1, 3), (2, 0), (3, 5), (1, 0), (1, 2), (0, 2), (3, 1), (2, 7), (3, 2), (0, 8), (1, 7), (0, 1), (3, 4), (0, 5), (3, 8), (2, 8), (2, 4), (0, 6), (1, 8), (1, 4), (2, 6), (3, 6), (1, 6)]\n"
     ]
    }
   ],
   "source": [
    "print(deltaR[ievt].tolist())\n",
    "print(pairs_sorted[ievt].tolist())"
   ]
  },
  {
   "cell_type": "code",
   "execution_count": 18,
   "id": "21516f70",
   "metadata": {
    "scrolled": true
   },
   "outputs": [
    {
     "data": {
      "text/plain": [
       "[0.057874202728271484,\n",
       " 0.06480082869529724,\n",
       " 0.24081091582775116,\n",
       " 0.5494140386581421,\n",
       " 1.165016770362854,\n",
       " 1.4222795963287354,\n",
       " 1.5443878173828125,\n",
       " 1.573973536491394,\n",
       " 1.6532708406448364,\n",
       " 1.7338595390319824,\n",
       " 1.7795755863189697,\n",
       " 2.0690457820892334,\n",
       " 2.5431392192840576,\n",
       " 2.659679412841797,\n",
       " 2.818077564239502,\n",
       " 2.8521833419799805,\n",
       " 2.900911569595337,\n",
       " 2.912795066833496,\n",
       " 2.91536545753479,\n",
       " 3.0177724361419678,\n",
       " 3.0221166610717773,\n",
       " 3.119097948074341,\n",
       " 3.1722655296325684,\n",
       " 3.281663179397583,\n",
       " 3.295625925064087,\n",
       " 4.232578754425049,\n",
       " 4.349359035491943,\n",
       " 4.435528755187988,\n",
       " 4.846456527709961,\n",
       " 5.17755651473999,\n",
       " 5.780805587768555,\n",
       " 5.993892192840576,\n",
       " 6.519222259521484,\n",
       " 6.949051856994629,\n",
       " 7.220786094665527,\n",
       " 8.262446403503418]"
      ]
     },
     "execution_count": 18,
     "metadata": {},
     "output_type": "execute_result"
    }
   ],
   "source": [
    "deltaR[idx_pairs_sorted][ievt].tolist()"
   ]
  },
  {
   "cell_type": "code",
   "execution_count": 19,
   "id": "5148db8f",
   "metadata": {
    "scrolled": true
   },
   "outputs": [
    {
     "name": "stdout",
     "output_type": "stream",
     "text": [
      "[(2, 2), (1, 4), (0, 5), (3, 1), (3, 3), (1, 2), (2, 4), (0, 8), (0, 6), (3, 8), (0, 7), (0, 1), (2, 9), (3, 2), (2, 1), (1, 1), (2, 3), (1, 9), (3, 4), (3, 5), (0, 0), (1, 3), (0, 3), (1, 8), (2, 8), (3, 6), (0, 4), (1, 5), (2, 0), (3, 7), (0, 2), (2, 7), (2, 5), (1, 6), (3, 9), (2, 6), (0, 9), (3, 0), (1, 0), (1, 7)]\n",
      "[2, 1, 0, 3]\n",
      "[2, 4, 5, 1]\n",
      "\n",
      "[(3, 0), (1, 5), (2, 1), (3, 7), (0, 7), (2, 5), (1, 1), (2, 2), (0, 0), (2, 3), (3, 3), (0, 3), (0, 4), (1, 3), (2, 0), (3, 5), (1, 0), (1, 2), (0, 2), (3, 1), (2, 7), (3, 2), (0, 8), (1, 7), (0, 1), (3, 4), (0, 5), (3, 8), (2, 8), (2, 4), (0, 6), (1, 8), (1, 4), (2, 6), (3, 6), (1, 6)]\n",
      "[3, 1, 2, 0]\n",
      "[0, 5, 1, 7]\n",
      "\n",
      "[(2, 2), (3, 0), (0, 8), (1, 5), (0, 4), (2, 8), (3, 7), (1, 4), (0, 2), (2, 3), (3, 8), (3, 5), (0, 0), (0, 5), (1, 1), (1, 0), (3, 2), (2, 0), (3, 9), (1, 8), (1, 7), (2, 6), (3, 4), (2, 1), (0, 3), (2, 4), (1, 3), (3, 1), (2, 5), (1, 9), (0, 7), (2, 7), (1, 2), (3, 3), (3, 6), (0, 1), (0, 6), (0, 9), (2, 9), (1, 6)]\n",
      "[2, 3, 0, 1]\n",
      "[2, 0, 8, 5]\n",
      "\n",
      "[(1, 4), (3, 0), (0, 5), (2, 2), (3, 3), (0, 7), (3, 5), (0, 0), (0, 1), (0, 3), (0, 6), (1, 1), (3, 7), (3, 6), (2, 0), (1, 2), (3, 2), (2, 4), (2, 3), (1, 3), (1, 7), (3, 1), (1, 0), (3, 4), (1, 6), (2, 5), (0, 2), (2, 1), (1, 5), (0, 4), (2, 7), (2, 6)]\n",
      "[1, 3, 0, 2]\n",
      "[4, 0, 5, 2]\n",
      "\n",
      "[(3, 1), (2, 3), (1, 1), (2, 2), (0, 3), (2, 0), (1, 3), (0, 2), (2, 1), (3, 3), (0, 1), (1, 2), (0, 0), (2, 4), (3, 4), (3, 2), (3, 0), (1, 4), (0, 4), (1, 0)]\n",
      "[3, 2, 1, 0]\n",
      "[1, 3, 2, 0]\n",
      "\n",
      "[(1, 2), (2, 0), (0, 5), (3, 2), (3, 1), (1, 3), (3, 3), (1, 1), (2, 4), (2, 5), (0, 0), (0, 6), (0, 4), (2, 6), (3, 6), (0, 1), (1, 6), (3, 5), (2, 1), (1, 5), (0, 2), (3, 0), (0, 3), (2, 2), (1, 0), (2, 3), (3, 4), (1, 4)]\n",
      "[1, 2, 0, 3]\n",
      "[2, 0, 5, 1]\n",
      "\n",
      "[(2, 1), (3, 2), (1, 4), (0, 5), (0, 4), (1, 5), (2, 2), (3, 1), (1, 2), (3, 4), (0, 0), (0, 3), (0, 2), (1, 1), (3, 5), (1, 0), (2, 4), (1, 3), (0, 1), (2, 5), (2, 3), (3, 0), (2, 0), (3, 3)]\n",
      "[2, 3, 1, 0]\n",
      "[1, 2, 4, 5]\n",
      "\n",
      "[(2, 2), (3, 1), (1, 3), (0, 6), (2, 1), (3, 2), (0, 2), (2, 6), (0, 1), (3, 6), (2, 3), (1, 2), (1, 4), (0, 8), (1, 0), (3, 3), (3, 5), (1, 1), (3, 10), (1, 10), (0, 3), (1, 6), (0, 10), (3, 4), (2, 5), (2, 10), (2, 0), (0, 7), (2, 8), (1, 5), (3, 0), (0, 9), (0, 0), (3, 8), (1, 7), (2, 4), (2, 7), (0, 5), (0, 4), (3, 7), (2, 9), (3, 9), (1, 8), (1, 9)]\n",
      "[2, 3, 1, 0]\n",
      "[2, 1, 3, 6]\n",
      "\n",
      "[(3, 2), (1, 5), (2, 6), (1, 7), (3, 1), (0, 2), (3, 3), (0, 5), (0, 7), (1, 6), (3, 4), (2, 3), (1, 0), (2, 5), (0, 1), (3, 8), (2, 1), (0, 4), (1, 3), (2, 7), (0, 6), (1, 2), (3, 5), (0, 3), (0, 0), (3, 7), (2, 2), (1, 4), (3, 6), (0, 8), (1, 8), (1, 1), (2, 8), (2, 9), (2, 0), (3, 0), (3, 9), (2, 4), (0, 9), (1, 9)]\n",
      "[3, 1, 2, 0]\n",
      "[2, 5, 6, 7]\n",
      "\n",
      "[(1, 1), (3, 0), (0, 2), (2, 5), (3, 11), (1, 5), (2, 1), (0, 8), (2, 6), (1, 6), (3, 8), (1, 3), (0, 10), (0, 0), (2, 3), (3, 2), (3, 4), (0, 11), (2, 2), (0, 5), (1, 11), (1, 7), (1, 8), (3, 1), (2, 10), (0, 6), (1, 0), (2, 7), (1, 2), (0, 1), (2, 8), (3, 6), (2, 11), (2, 0), (0, 7), (0, 4), (0, 3), (3, 10), (3, 5), (3, 3), (1, 9), (1, 10), (3, 9), (2, 9), (3, 7), (2, 4), (1, 4), (0, 9)]\n",
      "[1, 3, 0, 2]\n",
      "[1, 0, 2, 5]\n",
      "\n"
     ]
    }
   ],
   "source": [
    "for ievt in range(10):\n",
    "    print(pairs_sorted[ievt].tolist())\n",
    "    print(idx_matchedParton[ievt])\n",
    "    print(idx_matchedJet[ievt], end='\\n\\n')"
   ]
  },
  {
   "cell_type": "code",
   "execution_count": 20,
   "id": "e935d2ec",
   "metadata": {},
   "outputs": [
    {
     "name": "stdout",
     "output_type": "stream",
     "text": [
      "[3, 1, 2, 0]\n",
      "[0, 5, 1, 7]\n",
      "\n"
     ]
    }
   ],
   "source": [
    "ievt=1\n",
    "print(idx_matchedParton[ievt])\n",
    "print(idx_matchedJet[ievt], end='\\n\\n')"
   ]
  },
  {
   "cell_type": "code",
   "execution_count": 21,
   "id": "a8a4bb44",
   "metadata": {
    "scrolled": true
   },
   "outputs": [
    {
     "data": {
      "text/plain": [
       "[(3, 0),\n",
       " (1, 5),\n",
       " (2, 1),\n",
       " (3, 7),\n",
       " (0, 7),\n",
       " (2, 5),\n",
       " (1, 1),\n",
       " (2, 2),\n",
       " (0, 0),\n",
       " (2, 3),\n",
       " (3, 3),\n",
       " (0, 3),\n",
       " (0, 4),\n",
       " (1, 3),\n",
       " (2, 0),\n",
       " (3, 5),\n",
       " (1, 0),\n",
       " (1, 2),\n",
       " (0, 2),\n",
       " (3, 1),\n",
       " (2, 7),\n",
       " (3, 2),\n",
       " (0, 8),\n",
       " (1, 7),\n",
       " (0, 1),\n",
       " (3, 4),\n",
       " (0, 5),\n",
       " (3, 8),\n",
       " (2, 8),\n",
       " (2, 4),\n",
       " (0, 6),\n",
       " (1, 8),\n",
       " (1, 4),\n",
       " (2, 6),\n",
       " (3, 6),\n",
       " (1, 6)]"
      ]
     },
     "execution_count": 21,
     "metadata": {},
     "output_type": "execute_result"
    }
   ],
   "source": [
    "pairs_sorted[ievt].tolist()"
   ]
  },
  {
   "cell_type": "code",
   "execution_count": 22,
   "id": "668e8399",
   "metadata": {},
   "outputs": [
    {
     "data": {
      "text/plain": [
       "[0.057874202728271484,\n",
       " 0.06480082869529724,\n",
       " 0.24081091582775116,\n",
       " 1.165016770362854]"
      ]
     },
     "execution_count": 22,
     "metadata": {},
     "output_type": "execute_result"
    }
   ],
   "source": [
    "deltaR[idx_pairs_sorted][idx_matchedPair][ievt].tolist()"
   ]
  },
  {
   "cell_type": "code",
   "execution_count": 54,
   "id": "d1b1d94b",
   "metadata": {},
   "outputs": [
    {
     "data": {
      "text/plain": [
       "<Array [[2, 4, 5, 1], [0, ... 2], [3, 2, 5, 0]] type='100 * var * ?int64'>"
      ]
     },
     "execution_count": 54,
     "metadata": {},
     "output_type": "execute_result"
    }
   ],
   "source": []
  },
  {
   "cell_type": "code",
   "execution_count": 23,
   "id": "0d72e50f",
   "metadata": {
    "scrolled": true
   },
   "outputs": [
    {
     "data": {
      "text/plain": [
       "[0.057874202728271484,\n",
       " 0.06480082869529724,\n",
       " 0.24081091582775116,\n",
       " 0.5494140386581421,\n",
       " 1.165016770362854,\n",
       " 1.4222795963287354,\n",
       " 1.5443878173828125,\n",
       " 1.573973536491394,\n",
       " 1.6532708406448364,\n",
       " 1.7338595390319824,\n",
       " 1.7795755863189697,\n",
       " 2.0690457820892334,\n",
       " 2.5431392192840576,\n",
       " 2.659679412841797,\n",
       " 2.818077564239502,\n",
       " 2.8521833419799805,\n",
       " 2.900911569595337,\n",
       " 2.912795066833496,\n",
       " 2.91536545753479,\n",
       " 3.0177724361419678,\n",
       " 3.0221166610717773,\n",
       " 3.119097948074341,\n",
       " 3.1722655296325684,\n",
       " 3.281663179397583,\n",
       " 3.295625925064087,\n",
       " 4.232578754425049,\n",
       " 4.349359035491943,\n",
       " 4.435528755187988,\n",
       " 4.846456527709961,\n",
       " 5.17755651473999,\n",
       " 5.780805587768555,\n",
       " 5.993892192840576,\n",
       " 6.519222259521484,\n",
       " 6.949051856994629,\n",
       " 7.220786094665527,\n",
       " 8.262446403503418]"
      ]
     },
     "execution_count": 23,
     "metadata": {},
     "output_type": "execute_result"
    }
   ],
   "source": [
    "deltaR[idx_pairs_sorted][ievt].tolist()"
   ]
  },
  {
   "cell_type": "code",
   "execution_count": 24,
   "id": "98aba475",
   "metadata": {},
   "outputs": [
    {
     "data": {
      "text/plain": [
       "<Array [[0, 1, 2, 3, 4, ... 40, 41, 42, 43]] type='100 * var * int64'>"
      ]
     },
     "execution_count": 24,
     "metadata": {},
     "output_type": "execute_result"
    }
   ],
   "source": [
    "ak.local_index(pairs)"
   ]
  },
  {
   "cell_type": "code",
   "execution_count": 25,
   "id": "219989a0",
   "metadata": {},
   "outputs": [
    {
     "data": {
      "text/plain": [
       "<Array [16.9, 39.3, 66.4, 246] type='4 * ?float32'>"
      ]
     },
     "execution_count": 25,
     "metadata": {},
     "output_type": "execute_result"
    }
   ],
   "source": [
    "events.BQuark.pt[1]"
   ]
  },
  {
   "cell_type": "code",
   "execution_count": 26,
   "id": "255106e7",
   "metadata": {},
   "outputs": [
    {
     "data": {
      "text/plain": [
       "<Array [246, 39.3, 66.4, 16.9] type='4 * ?float32'>"
      ]
     },
     "execution_count": 26,
     "metadata": {},
     "output_type": "execute_result"
    }
   ],
   "source": [
    "events.BQuarkMatched.pt[1]"
   ]
  },
  {
   "cell_type": "code",
   "execution_count": 27,
   "id": "4e49f074",
   "metadata": {},
   "outputs": [
    {
     "data": {
      "text/plain": [
       "<Array [0.0579, 0.0648, 0.241, 1.17] type='4 * ?float32'>"
      ]
     },
     "execution_count": 27,
     "metadata": {},
     "output_type": "execute_result"
    }
   ],
   "source": [
    "events.BQuarkMatched.drMatchedJet[1]"
   ]
  },
  {
   "cell_type": "code",
   "execution_count": 28,
   "id": "a39cacb2",
   "metadata": {},
   "outputs": [
    {
     "data": {
      "text/plain": [
       "<Array [1.58, 3.2, 1.9, -0.0397] type='4 * ?float32'>"
      ]
     },
     "execution_count": 28,
     "metadata": {},
     "output_type": "execute_result"
    }
   ],
   "source": [
    "events.BQuarkMatched.eta[1]"
   ]
  },
  {
   "cell_type": "code",
   "execution_count": 29,
   "id": "6def3622",
   "metadata": {},
   "outputs": [
    {
     "data": {
      "text/plain": [
       "<Array [1.52, 3.24, 1.79, 1.04] type='4 * ?float32[parameters={\"__doc__\": \"eta\"}]'>"
      ]
     },
     "execution_count": 29,
     "metadata": {},
     "output_type": "execute_result"
    }
   ],
   "source": [
    "events.JetMatched.eta[1]"
   ]
  },
  {
   "cell_type": "code",
   "execution_count": 30,
   "id": "b1a11a16",
   "metadata": {},
   "outputs": [
    {
     "data": {
      "image/png": "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\n",
      "text/plain": [
       "<Figure size 432x288 with 1 Axes>"
      ]
     },
     "metadata": {
      "needs_background": "light"
     },
     "output_type": "display_data"
    }
   ],
   "source": [
    "plt.hist(ak.flatten(events.BQuarkMatched.drMatchedJet), bins=np.linspace(0,1,40));"
   ]
  },
  {
   "cell_type": "markdown",
   "id": "a2a1c222-7ed3-4a16-b232-372223e20ddf",
   "metadata": {},
   "source": [
    "# Alternative code\n",
    "Interesting use of ak.cartesian but no keeping unique pairs\n"
   ]
  },
  {
   "cell_type": "code",
   "execution_count": 130,
   "id": "9c7dc13b-f8e9-4d1a-8833-38ae9ff5731d",
   "metadata": {},
   "outputs": [],
   "source": [
    "obj1 = events.JetGood\n",
    "obj2 = bquarks\n",
    "_, obj2 = ak.unzip(ak.cartesian([obj1, obj2], nested=True)) # Obj2 is now NxMxG\n",
    "obj2['dR'] = obj1.delta_r(obj2)  # Calculating delta R\n",
    "t_index = ak.argmin(obj2.dR, axis=-2) # Finding the smallest dR (NxG array)\n",
    "s_index = ak.local_index(obj1.eta, axis=-1) #  NxM array\n",
    "_, t_index = ak.unzip(ak.cartesian([s_index, t_index], nested=True)) \n",
    "obj2 = ak.mask(obj2,s_index == t_index) # Pairwise comparison to keep smallest delta R\n",
    "\n",
    "# Cutting on delta R\n",
    "obj2 = obj2[obj2.dR < 0.4]# Additional cut on delta R, now a NxMxG' array "
   ]
  },
  {
   "cell_type": "code",
   "execution_count": null,
   "id": "2d6f60d8-3c83-4c7a-bcd9-e558ba562eaf",
   "metadata": {},
   "outputs": [],
   "source": []
  }
 ],
 "metadata": {
  "kernelspec": {
   "display_name": "Python 3 (ipykernel)",
   "language": "python",
   "name": "python3"
  },
  "language_info": {
   "codemirror_mode": {
    "name": "ipython",
    "version": 3
   },
   "file_extension": ".py",
   "mimetype": "text/x-python",
   "name": "python",
   "nbconvert_exporter": "python",
   "pygments_lexer": "ipython3",
   "version": "3.10.5"
  }
 },
 "nbformat": 4,
 "nbformat_minor": 5
}
