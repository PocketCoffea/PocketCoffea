{
 "cells": [
  {
   "cell_type": "code",
   "execution_count": 1,
   "id": "1642597d-f669-41c0-8298-43558e731631",
   "metadata": {},
   "outputs": [],
   "source": [
    "from coffea.nanoevents import NanoEventsFactory, NanoAODSchema\n",
    "from coffea import hist, processor\n",
    "import numpy as np\n",
    "import awkward as ak\n",
    "import matplotlib.pyplot as plt"
   ]
  },
  {
   "cell_type": "code",
   "execution_count": 2,
   "id": "697116bd-e813-41ec-bd71-29a5af36fa49",
   "metadata": {},
   "outputs": [],
   "source": [
    "#filename = \"/pnfs/psi.ch/cms/trivcat/store/user/mmarcheg/ttHbb/store/mc/RunIISummer20UL18NanoAODv9/ttHTobb_M125_TuneCP5_13TeV-powheg-pythia8/NANOAODSIM/106X_upgrade2018_realistic_v16_L1v1-v2/2500000/6BF93845-49D5-2547-B860-4F7601074715.root\"\n",
    "filename = \"/pnfs/psi.ch/cms/trivcat/store/user/mmarcheg/ttHbb/store/mc/RunIISummer20UL18NanoAODv9/TTTo2L2Nu_TuneCP5_13TeV-powheg-pythia8/NANOAODSIM/106X_upgrade2018_realistic_v16_L1v1-v1/130000/44187D37-0301-3942-A6F7-C723E9F4813D.root\"\n",
    "#events = NanoEventsFactory.from_root({filename: "Events"}, schemaclass=NanoAODSchema).events()\n",
    "events = NanoEventsFactory.from_root({filename: "Events"}, schemaclass=NanoAODSchema, entry_stop=10000).events()"
   ]
  },
  {
   "cell_type": "code",
   "execution_count": 3,
   "id": "c396bf56-9f39-43a9-914c-1f4f36db1fa1",
   "metadata": {},
   "outputs": [],
   "source": [
    "muon = events.Muon\n",
    "jets = events.Jet"
   ]
  },
  {
   "cell_type": "code",
   "execution_count": 4,
   "id": "c1ec785e-dc5e-423e-a3bc-8f98ff702e0b",
   "metadata": {},
   "outputs": [
    {
     "data": {
      "text/plain": [
       "<MuonArray [[Muon, Muon, Muon, ... Muon, Muon]] type='10000 * var * muon'>"
      ]
     },
     "execution_count": 4,
     "metadata": {},
     "output_type": "execute_result"
    }
   ],
   "source": [
    "muon"
   ]
  },
  {
   "cell_type": "code",
   "execution_count": 5,
   "id": "5434b528-c9fb-4ab0-b5d1-1c84837d6d1f",
   "metadata": {},
   "outputs": [],
   "source": [
    "good_jets_mask = ak.ones_like(jets.pt, dtype=bool)"
   ]
  },
  {
   "cell_type": "code",
   "execution_count": 6,
   "id": "f0de8615-dce7-47bb-9a39-263ae355d52b",
   "metadata": {},
   "outputs": [],
   "source": [
    "good_jets_mask = good_jets_mask & (jets.pt > 20) & (np.abs(jets.eta) < 4.5) & (jets.jetId >=2)"
   ]
  },
  {
   "cell_type": "code",
   "execution_count": 8,
   "id": "dc3cdeff-479c-4b39-a681-15dfb5692ae1",
   "metadata": {},
   "outputs": [
    {
     "data": {
      "text/plain": [
       "<Array [[True, True, True, ... False, False]] type='10000 * var * bool'>"
      ]
     },
     "execution_count": 8,
     "metadata": {},
     "output_type": "execute_result"
    }
   ],
   "source": [
    "good_jets_mask"
   ]
  },
  {
   "cell_type": "code",
   "execution_count": 9,
   "id": "e7535cf3-1dab-40f3-aacc-792ec706d44c",
   "metadata": {},
   "outputs": [
    {
     "data": {
      "text/plain": [
       "(array([  41.,  303., 3496., 2392., 1755., 1572.,  269.,  156.,   12.,\n",
       "           4.]),\n",
       " array([ 0. ,  1.4,  2.8,  4.2,  5.6,  7. ,  8.4,  9.8, 11.2, 12.6, 14. ]),\n",
       " <BarContainer object of 10 artists>)"
      ]
     },
     "execution_count": 9,
     "metadata": {},
     "output_type": "execute_result"
    },
    {
     "data": {
      "image/png": "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\n",
      "text/plain": [
       "<Figure size 432x288 with 1 Axes>"
      ]
     },
     "metadata": {
      "needs_background": "light"
     },
     "output_type": "display_data"
    }
   ],
   "source": [
    "plt.hist(ak.num(jets[good_jets_mask]))"
   ]
  },
  {
   "cell_type": "code",
   "execution_count": 10,
   "id": "8dfa4ae5-82ff-4b36-a24d-966727243800",
   "metadata": {},
   "outputs": [
    {
     "data": {
      "text/plain": [
       "<Array [[[3.46, 2.41, 2.99, ... 3.84, 5.02]]] type='10000 * var * var * float32'>"
      ]
     },
     "execution_count": 10,
     "metadata": {},
     "output_type": "execute_result"
    }
   ],
   "source": [
    "jets.metric_table(muon)"
   ]
  },
  {
   "cell_type": "code",
   "execution_count": 11,
   "id": "153a2979-b9a2-45eb-abc5-c9e3600b912e",
   "metadata": {},
   "outputs": [],
   "source": [
    "dR_jets_muon = jets.metric_table(muon)"
   ]
  },
  {
   "cell_type": "code",
   "execution_count": 12,
   "id": "c33f742a-952a-4d04-a3f9-f150faff204d",
   "metadata": {},
   "outputs": [
    {
     "data": {
      "text/plain": [
       "[[[3.4608163833618164, 2.4145047664642334, 2.9903438091278076],\n",
       "  [3.546807050704956, 1.2872371673583984, 1.904130458831787],\n",
       "  [3.7011148929595947, 0.004979511257261038, 2.667754650115967],\n",
       "  [5.3689188957214355, 2.722442865371704, 0.06658194214105606],\n",
       "  [6.6255412101745605, 3.937771797180176, 1.3439323902130127]],\n",
       " [[3.2887911796569824, 4.001104831695557],\n",
       "  [1.9008373022079468, 2.6798179149627686],\n",
       "  [0.05326253920793533, 1.213828444480896],\n",
       "  [1.506186604499817, 2.006315231323242],\n",
       "  [3.2177135944366455, 4.4769606590271],\n",
       "  [4.640990257263184, 5.8903303146362305],\n",
       "  [2.050309419631958, 0.93873530626297]],\n",
       " [[], [], [], [], [], []]]"
      ]
     },
     "execution_count": 12,
     "metadata": {},
     "output_type": "execute_result"
    }
   ],
   "source": [
    "dR_jets_muon[0:3].tolist()"
   ]
  },
  {
   "cell_type": "code",
   "execution_count": 13,
   "id": "63269022-84b2-420e-9068-773868a81d31",
   "metadata": {},
   "outputs": [
    {
     "name": "stdout",
     "output_type": "stream",
     "text": [
      "N muons: [3, 2, 0]\n",
      "N jets: [5, 7, 6]\n"
     ]
    }
   ],
   "source": [
    "print(\"N muons:\", ak.num(muon)[0:3].tolist())\n",
    "print(\"N jets:\", ak.num(jets)[0:3].tolist())"
   ]
  },
  {
   "cell_type": "code",
   "execution_count": 14,
   "id": "f29b8a08-f65f-43fa-ac4d-dbe6006f78a3",
   "metadata": {},
   "outputs": [
    {
     "data": {
      "text/plain": [
       "<Array [[[False, False, ... False, False]]] type='10000 * var * var * bool'>"
      ]
     },
     "execution_count": 14,
     "metadata": {},
     "output_type": "execute_result"
    }
   ],
   "source": [
    "dR_jets_muon < 0.4"
   ]
  },
  {
   "cell_type": "code",
   "execution_count": 15,
   "id": "a81c756d-7257-4431-a0f9-5ff7f6edb371",
   "metadata": {},
   "outputs": [
    {
     "data": {
      "text/plain": [
       "[[1, 1, 0, 0, 1], [1, 1, 0, 1, 1, 1, 1], [1, 1, 1, 1, 1, 1]]"
      ]
     },
     "execution_count": 15,
     "metadata": {},
     "output_type": "execute_result"
    }
   ],
   "source": [
    "ak.prod(dR_jets_muon>0.4, axis=2)[0:3].tolist()"
   ]
  },
  {
   "cell_type": "markdown",
   "id": "3f1c5ded-b830-47e9-8a0e-fdf1841a96cf",
   "metadata": {},
   "source": [
    "Doing an or of the mask to check if the jet has at least a lepton close enough"
   ]
  },
  {
   "cell_type": "code",
   "execution_count": 16,
   "id": "4069b651-fb7e-4044-8f94-dfbdd74c7d76",
   "metadata": {},
   "outputs": [],
   "source": [
    "jets_lep_mask = ak.prod(dR_jets_muon>0.4, axis=2) == 1"
   ]
  },
  {
   "cell_type": "code",
   "execution_count": 17,
   "id": "9e26a540-88b5-48d4-b670-7ce188d7290c",
   "metadata": {},
   "outputs": [
    {
     "data": {
      "text/plain": [
       "<Array [[True, True, False, ... False, False]] type='10000 * var * bool'>"
      ]
     },
     "execution_count": 17,
     "metadata": {},
     "output_type": "execute_result"
    }
   ],
   "source": [
    "good_jets_mask & jets_lep_mask "
   ]
  },
  {
   "cell_type": "code",
   "execution_count": 18,
   "id": "34e22e12-3e67-4024-ab03-56d6d26a2248",
   "metadata": {},
   "outputs": [],
   "source": [
    "cleaned_jets = jets[good_jets_mask & jets_lep_mask ]"
   ]
  },
  {
   "cell_type": "code",
   "execution_count": 22,
   "id": "134732dc-c851-4178-ba5f-0b9b84f02940",
   "metadata": {},
   "outputs": [
    {
     "data": {
      "text/plain": [
       "<matplotlib.legend.Legend at 0x7f0fbf515be0>"
      ]
     },
     "execution_count": 22,
     "metadata": {},
     "output_type": "execute_result"
    },
    {
     "data": {
      "image/png": "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\n",
      "text/plain": [
       "<Figure size 432x288 with 1 Axes>"
      ]
     },
     "metadata": {
      "needs_background": "light"
     },
     "output_type": "display_data"
    }
   ],
   "source": [
    "plt.hist(ak.num(jets), histtype=\"step\", bins=(12), range=(0,12),label=\"All\")\n",
    "plt.hist(ak.num(jets[good_jets_mask]), histtype=\"step\", bins=(12), range=(0,12),label=\"passing presel\")\n",
    "plt.hist(ak.num(jets[jets_lep_mask]), histtype=\"step\", bins=(12), range=(0,12),label=\"passing lepton cut\")\n",
    "plt.hist(ak.num(cleaned_jets), histtype=\"step\", bins=(12), range=(0,12),label=\"passing all cuts\")\n",
    "plt.legend()"
   ]
  },
  {
   "cell_type": "code",
   "execution_count": 21,
   "id": "c53d7586-104c-48c5-a123-14acfb25cb5b",
   "metadata": {},
   "outputs": [
    {
     "data": {
      "text/plain": [
       "<matplotlib.collections.PathCollection at 0x7f0fbf587820>"
      ]
     },
     "execution_count": 21,
     "metadata": {},
     "output_type": "execute_result"
    },
    {
     "data": {
      "image/png": "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\n",
      "text/plain": [
       "<Figure size 432x288 with 1 Axes>"
      ]
     },
     "metadata": {
      "needs_background": "light"
     },
     "output_type": "display_data"
    }
   ],
   "source": [
    "plt.scatter(ak.num(jets), ak.num(cleaned_jets))"
   ]
  },
  {
   "cell_type": "code",
   "execution_count": null,
   "id": "0512176d-5c4d-49b4-a2fd-94e48ed72234",
   "metadata": {},
   "outputs": [],
   "source": []
  }
 ],
 "metadata": {
  "kernelspec": {
   "display_name": "Python 3 (ipykernel)",
   "language": "python",
   "name": "python3"
  },
  "language_info": {
   "codemirror_mode": {
    "name": "ipython",
    "version": 3
   },
   "file_extension": ".py",
   "mimetype": "text/x-python",
   "name": "python",
   "nbconvert_exporter": "python",
   "pygments_lexer": "ipython3",
   "version": "3.10.5"
  }
 },
 "nbformat": 4,
 "nbformat_minor": 5
}
