{
 "cells": [
  {
   "cell_type": "code",
   "execution_count": 1,
   "id": "7d7d2e28",
   "metadata": {},
   "outputs": [],
   "source": [
    "from collections.abc import Iterable\n",
    "import matplotlib.pyplot as plt\n",
    "import numpy as np\n",
    "import awkward as ak\n",
    "import numba\n",
    "import correctionlib\n",
    "from coffea.nanoevents import NanoEventsFactory, NanoAODSchema"
   ]
  },
  {
   "cell_type": "code",
   "execution_count": 2,
   "id": "63feb596",
   "metadata": {},
   "outputs": [],
   "source": [
    "nevts = 10000\n",
    "filename = \"/pnfs/psi.ch/cms/trivcat/store/user/mmarcheg/RunIIFall17NanoAODv7/ttHTobb_M125_TuneCP5_13TeV-powheg-pythia8/587E2464-42CA-3A45-BD49-D23E49F658E6.root\"\n",
    "#events = NanoEventsFactory.from_root({filename: "Events"}, schemaclass=NanoAODSchema).events()\n",
    "events = NanoEventsFactory.from_root({filename: "Events"}, schemaclass=NanoAODSchema, entry_stop=nevts).events()"
   ]
  },
  {
   "cell_type": "code",
   "execution_count": 3,
   "id": "85faf3f9",
   "metadata": {},
   "outputs": [],
   "source": [
    "def metric_pt(obj, obj2):\n",
    "    return abs(obj.pt - obj2.pt)\n",
    "\n",
    "@numba.jit\n",
    "def get_matching_pairs_indices(idx_quark, idx_jets, builder, builder2):\n",
    "    for ev_q, ev_j in zip(idx_quark, idx_jets):\n",
    "        builder.begin_list()\n",
    "        builder2.begin_list()\n",
    "        q_done = []\n",
    "        j_done = []\n",
    "        for i, (q,j) in enumerate(zip(ev_q, ev_j)):\n",
    "            if q not in q_done:\n",
    "                if j not in j_done:\n",
    "                    builder.append(i)\n",
    "                    q_done.append(q)\n",
    "                    j_done.append(j)\n",
    "                else:\n",
    "                    #builder.append(None)\n",
    "                    builder2.append(i)\n",
    "        builder.end_list()\n",
    "        builder2.end_list()\n",
    "    return builder, builder2\n",
    "\n",
    "@numba.jit\n",
    "def get_matching_objects_indices_padnone(idx_matched_obj, idx_matched_obj2, num_jets, deltaR, builder, builder2, builder3):\n",
    "    for ev1_match, ev2_match, nj, dr in zip(idx_matched_obj, idx_matched_obj2, num_jets, deltaR):\n",
    "        #print(ev1_match, ev2_match)\n",
    "        builder.begin_list()\n",
    "        builder2.begin_list()\n",
    "        builder3.begin_list()\n",
    "        row1_length = len(ev1_match)\n",
    "        row2_length = nj\n",
    "        missed = 0\n",
    "        for i in range(row2_length):\n",
    "            if i in ev2_match:\n",
    "                #print(i, row1_length)\n",
    "                builder2.append(i)\n",
    "                if i-missed < row1_length:\n",
    "                    builder.append(ev1_match[i-missed])\n",
    "                    builder3.append(dr[i-missed])\n",
    "            else:\n",
    "                builder.append(None)\n",
    "                builder2.append(None)\n",
    "                builder3.append(None)\n",
    "                missed += 1\n",
    "        builder.end_list()\n",
    "        builder2.end_list()\n",
    "        builder3.end_list()\n",
    "    return builder, builder2, builder3"
   ]
  },
  {
   "cell_type": "code",
   "execution_count": 4,
   "id": "372feed8",
   "metadata": {},
   "outputs": [],
   "source": [
    "def object_matching_padnone(obj, obj2, dr_min, dpt_max=None):\n",
    "    # Compute deltaR(quark, jet) and save the nearest jet (deltaR matching)\n",
    "    deltaR = ak.flatten(obj.metric_table(obj2), axis=2)\n",
    "    # Keeping only the pairs with a deltaR min\n",
    "    maskDR = deltaR < dr_min\n",
    "    if dpt_max is not None:\n",
    "        deltaPt_table = obj.metric_table(obj2, metric=metric_pt)\n",
    "        # Check if the pt cut is an iterable or a scalar\n",
    "        if isinstance(dpt_max, Iterable):\n",
    "            # Broadcast and flatten pt_min array in order to match the shape of the metric_table()\n",
    "            dpt_max_broadcast = ak.broadcast_arrays(dpt_max[:,np.newaxis], deltaPt_table)[0]\n",
    "            dpt_max  = ak.flatten(dpt_max_broadcast, axis=2)\n",
    "        deltaPt = ak.flatten(deltaPt_table, axis=2)\n",
    "        maskPt = deltaPt < dpt_max\n",
    "        maskDR = maskDR & maskPt\n",
    "    idx_pairs_sorted = ak.argsort(deltaR, axis=1)\n",
    "    pairs = ak.argcartesian([obj, obj2])\n",
    "    pairs_sorted  = pairs[idx_pairs_sorted]\n",
    "    deltaR_sorted = deltaR[idx_pairs_sorted]\n",
    "    maskDR_sorted = maskDR[idx_pairs_sorted]\n",
    "    idx_obj, idx_obj2 = ak.unzip(pairs_sorted)\n",
    "    \n",
    "    _idx_matched_pairs, _idx_missed_pairs = get_matching_pairs_indices(idx_obj, idx_obj2, ak.ArrayBuilder(), ak.ArrayBuilder())\n",
    "    idx_matched_pairs = _idx_matched_pairs.snapshot()\n",
    "    idx_missed_pairs  = _idx_missed_pairs.snapshot()\n",
    "    # The indices related to the invalid jet matches are skipped\n",
    "    idx_matched_obj  = idx_obj[idx_matched_pairs]\n",
    "    idx_matched_obj2 = idx_obj2[idx_matched_pairs]\n",
    "    deltaR_matched = deltaR_sorted[idx_matched_pairs]\n",
    "    maskDR_matched = maskDR_sorted[idx_matched_pairs]\n",
    "    # In order to keep track of the invalid jet matches, the indices of the second collection\n",
    "    # are sorted, and the order of the first collection of indices is reshuffled accordingly\n",
    "    obj2_order = ak.argsort(idx_matched_obj2)\n",
    "    idx_obj_obj2sorted  = idx_matched_obj[obj2_order]\n",
    "    idx_obj2_obj2sorted = idx_matched_obj2[obj2_order]\n",
    "    deltaR_obj2sorted = deltaR_matched[obj2_order]\n",
    "    maskDR_obj2sorted = maskDR_matched[obj2_order]\n",
    "    # Here we apply the deltaR + pT requirements on the objects\n",
    "    idx_obj_obj2sorted_masked  = idx_obj_obj2sorted[maskDR_obj2sorted]\n",
    "    idx_obj2_obj2sorted_masked = idx_obj2_obj2sorted[maskDR_obj2sorted]\n",
    "    deltaR_final = deltaR_obj2sorted[maskDR_obj2sorted]\n",
    "    #idx_obj_sorted_masked  = idx_obj_sorted\n",
    "    #idx_obj2_sorted_masked = idx_obj2_sorted\n",
    "\n",
    "    _idx_obj_sorted_padnone, _idx_obj2_sorted_padnone, _deltaR_final_padnone = get_matching_objects_indices_padnone(idx_obj_obj2sorted_masked, \n",
    "                                                                                             idx_obj2_obj2sorted_masked, \n",
    "                                                                                             ak.num(obj2), deltaR_final,\n",
    "                                                                                             ak.ArrayBuilder(), ak.ArrayBuilder(), ak.ArrayBuilder())\n",
    "    idx_obj_sorted_padnone  = _idx_obj_sorted_padnone.snapshot()\n",
    "    idx_obj2_sorted_padnone = _idx_obj2_sorted_padnone.snapshot()\n",
    "    deltaR_final_padnone    = _deltaR_final_padnone.snapshot()\n",
    "    # Finally the objects are sliced through the padded indices\n",
    "    # In this way, to a None entry in the indices will correspond a None entry in the object\n",
    "    matched_obj  = obj[idx_obj_sorted_padnone]\n",
    "    matched_obj2 = obj2[idx_obj2_sorted_padnone]\n",
    "\n",
    "    return matched_obj, matched_obj2, deltaR_final_padnone, maskDR_obj2sorted"
   ]
  },
  {
   "cell_type": "code",
   "execution_count": 5,
   "id": "e4bc00c1",
   "metadata": {},
   "outputs": [],
   "source": [
    "jsonfile = '/cvmfs/cms.cern.ch/rsync/cms-nanoAOD/jsonpog-integration/POG/JME/2017_UL/jet_jerc.json.gz'\n",
    "JECfile = correctionlib.CorrectionSet.from_file(jsonfile)\n",
    "corrected_jets = events.Jet\n",
    "corrected_jets['rho'] = ak.broadcast_arrays(events.fixedGridRhoFastjetAll, events.Jet.pt)[0]\n",
    "\n",
    "JERversion = \"Summer19UL17_JRV2_MC\"\n",
    "typeJet    = \"AK4PFchs\"\n",
    "sf  = JECfile[f'{JERversion}_ScaleFactor_{typeJet}']\n",
    "res = JECfile[f'{JERversion}_PtResolution_{typeJet}']\n",
    "genjets = events['GenJet']\n",
    "j, nj   = ak.flatten(corrected_jets), ak.num(corrected_jets)\n",
    "gj, ngj = ak.flatten(genjets), ak.num(genjets)\n",
    "flatScaleFactor  = sf.evaluate(j['eta'].to_numpy(), 'nom')\n",
    "flatPtResolution = res.evaluate(j['eta'].to_numpy(), j['pt'].to_numpy(), j['rho'].to_numpy())\n",
    "scaleFactor  = ak.unflatten(flatScaleFactor, nj)\n",
    "ptResolution = ak.unflatten(flatPtResolution, nj)\n",
    "# Match jets with gen-level jets, with DeltaR and DeltaPt requirements\n",
    "dr_min = {'AK4PFchs' : 0.2, 'AK8PFPuppi' : 0.4}[typeJet]  # Match jets within a cone with half the jet radius\n",
    "dpt_max = 3 * ptResolution * corrected_jets['pt']          # Match jets whose pt does not differ more than 3 sigmas from the gen-level pt"
   ]
  },
  {
   "cell_type": "code",
   "execution_count": 6,
   "id": "90fd47bf",
   "metadata": {},
   "outputs": [],
   "source": [
    "matched_genjets, matched_jets, deltaR_matched, maskDR_matched = object_matching_padnone(genjets, corrected_jets, dr_min, dpt_max)"
   ]
  },
  {
   "cell_type": "code",
   "execution_count": 7,
   "id": "87732665",
   "metadata": {
    "scrolled": true
   },
   "outputs": [
    {
     "name": "stdout",
     "output_type": "stream",
     "text": [
      "[178.25, 95.125, 75.1875, 51.5625, 43.625, 35.21875, 35.03125, 28.296875, 22.375, 19.484375]\n",
      "[215.375, None, 96.875, 55.875, 35.375, 22.3125, 19.171875, 17.578125, None]\n",
      "[115.8125, 107.5, 98.3125, 64.125, 36.28125, 22.34375, 21.265625, 19.40625, 17.53125, None]\n",
      "[149.75, 113.8125, 103.4375, 57.0625, 55.53125, 43.03125, 40.1875, 18.78125]\n",
      "[119.4375, 96.875, 55.03125, 44.34375, 41.71875]\n",
      "[95.3125, 75.75, None, None, 43.59375, 26.75, 15.859375]\n",
      "[368.0, 138.75, 130.25, 101.625, 39.84375, 24.125]\n",
      "[378.75, 205.75, 174.5, 68.5625, 46.34375, 42.0, 38.5625, 31.375, 19.515625, None, 15.4140625]\n",
      "[79.0625, 66.4375, 59.1875, 51.90625, 49.15625, 44.09375, 42.375, 31.265625, None, None]\n",
      "[85.0, 68.0, 62.25, 51.5625, 50.34375, 38.875, 38.84375, 31.3125, 22.359375, None, 20.765625, None]\n"
     ]
    }
   ],
   "source": [
    "for i in range(10):\n",
    "    print(matched_jets.pt[i].tolist())"
   ]
  },
  {
   "cell_type": "code",
   "execution_count": 8,
   "id": "48434edc",
   "metadata": {},
   "outputs": [
    {
     "data": {
      "text/plain": [
       "[0.9967811331070755,\n",
       " 0.9878965419921875,\n",
       " 1.0005662163566256,\n",
       " 1.0131196739651864,\n",
       " 1.0241678384024702,\n",
       " 1.0535656845113477,\n",
       " 0.9921053302887561,\n",
       " 0.9877961891351744,\n",
       " None,\n",
       " None,\n",
       " 0.9804368606166926]"
      ]
     },
     "execution_count": 8,
     "metadata": {},
     "output_type": "execute_result"
    }
   ],
   "source": [
    "corrFactor = 1 + (scaleFactor - 1) * (matched_jets['pt'] - matched_genjets['pt']) / matched_jets['pt']\n",
    "corrFactor[15].tolist()"
   ]
  },
  {
   "cell_type": "code",
   "execution_count": 9,
   "id": "257f6348",
   "metadata": {},
   "outputs": [
    {
     "data": {
      "image/png": "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\n",
      "text/plain": [
       "<Figure size 432x288 with 1 Axes>"
      ]
     },
     "metadata": {
      "needs_background": "light"
     },
     "output_type": "display_data"
    }
   ],
   "source": [
    "n, bins, patches = plt.hist(ak.flatten(matched_jets.pt - matched_genjets.pt), bins=np.linspace(-100,100,41));\n",
    "plt.hist(ak.flatten(ptResolution), bins=bins);"
   ]
  },
  {
   "cell_type": "markdown",
   "id": "9b17f6d6",
   "metadata": {},
   "source": [
    "## Plot of $\\Delta p_T$ cut as a function of $p_T$"
   ]
  },
  {
   "cell_type": "code",
   "execution_count": 10,
   "id": "dd1163c0",
   "metadata": {},
   "outputs": [
    {
     "data": {
      "image/png": "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\n",
      "text/plain": [
       "<Figure size 864x576 with 1 Axes>"
      ]
     },
     "metadata": {
      "needs_background": "light"
     },
     "output_type": "display_data"
    }
   ],
   "source": [
    "eta_bins = np.linspace(0, 4.8, 13)\n",
    "binwidth = eta_bins[1] - eta_bins[0]\n",
    "regions = [((abs(corrected_jets.eta) > eta_min) & (abs(corrected_jets.eta) < eta_max)) for eta_min, eta_max in zip(eta_bins[:-1], eta_bins[1:])]\n",
    "plt.figure(figsize=[12,8])\n",
    "for region, eta_bin in zip(regions, eta_bins):\n",
    "    plt.scatter(ak.flatten(corrected_jets.pt[region]), ak.flatten(dpt_max[region]), label=f'$\\eta$ $\\in$ ({round(eta_bin,1)}, {round(eta_bin+binwidth,1)})');\n",
    "plt.xlabel(\"Jet $p_T$\")\n",
    "plt.ylabel(\"$\\Delta p_T$ cut\")\n",
    "plt.legend(loc='best');"
   ]
  },
  {
   "cell_type": "code",
   "execution_count": 11,
   "id": "8c14f584",
   "metadata": {},
   "outputs": [
    {
     "data": {
      "text/plain": [
       "[186.9935302734375,\n",
       " 96.59854125976562,\n",
       " 70.84357452392578,\n",
       " 46.89046859741211,\n",
       " 45.410621643066406,\n",
       " 37.62003707885742,\n",
       " 21.63822364807129,\n",
       " 20.361167907714844,\n",
       " 16.838815689086914,\n",
       " 13.847952842712402]"
      ]
     },
     "execution_count": 11,
     "metadata": {},
     "output_type": "execute_result"
    }
   ],
   "source": [
    "genjets[0].pt.tolist()"
   ]
  },
  {
   "cell_type": "code",
   "execution_count": 12,
   "id": "1b83a177",
   "metadata": {},
   "outputs": [
    {
     "data": {
      "text/plain": [
       "[47.46838611685613,\n",
       " 28.857709804554297,\n",
       " 27.202739919588147,\n",
       " 19.96952391879229,\n",
       " 22.58590234259607,\n",
       " 15.561919495444622,\n",
       " 15.513431723361212,\n",
       " 14.141391188553516,\n",
       " 12.067688479301513,\n",
       " 15.710699907735421]"
      ]
     },
     "execution_count": 12,
     "metadata": {},
     "output_type": "execute_result"
    }
   ],
   "source": [
    "dpt_max[0].tolist()"
   ]
  },
  {
   "cell_type": "code",
   "execution_count": 13,
   "id": "a1fb2a95",
   "metadata": {},
   "outputs": [
    {
     "data": {
      "image/png": "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\n",
      "text/plain": [
       "<Figure size 432x288 with 1 Axes>"
      ]
     },
     "metadata": {
      "needs_background": "light"
     },
     "output_type": "display_data"
    }
   ],
   "source": [
    "plt.hist(ak.flatten(deltaR_matched), bins=np.linspace(0,1,51));\n",
    "plt.vlines(0.2, 0, 35000, color='red');"
   ]
  },
  {
   "cell_type": "code",
   "execution_count": 14,
   "id": "82e0d524",
   "metadata": {},
   "outputs": [
    {
     "data": {
      "text/plain": [
       "[0.010021667927503586,\n",
       " 0.02249971404671669,\n",
       " 0.02221008948981762,\n",
       " 0.028414864093065262,\n",
       " 0.009599415585398674,\n",
       " 0.0732421875,\n",
       " 0.06163635477423668,\n",
       " 0.02250865288078785,\n",
       " None,\n",
       " None,\n",
       " 0.033886827528476715]"
      ]
     },
     "execution_count": 14,
     "metadata": {},
     "output_type": "execute_result"
    }
   ],
   "source": [
    "deltaR_matched[15].tolist()"
   ]
  },
  {
   "cell_type": "code",
   "execution_count": 15,
   "id": "da30c6f9",
   "metadata": {},
   "outputs": [
    {
     "data": {
      "text/plain": [
       "<Array [10, 9, 10, 8, 5, 7, ... 6, 8, 9, 8, 9] type='10000 * int64'>"
      ]
     },
     "execution_count": 15,
     "metadata": {},
     "output_type": "execute_result"
    }
   ],
   "source": [
    "ptResolution_flat, njet = ak.flatten(ptResolution), ak.num(ptResolution)\n",
    "njet"
   ]
  },
  {
   "cell_type": "code",
   "execution_count": 16,
   "id": "152be0c7",
   "metadata": {},
   "outputs": [
    {
     "data": {
      "text/plain": [
       "array([-0.06951774, -0.07037635,  0.15155881, ...,  0.49668992,\n",
       "        0.11933626,  0.29674959])"
      ]
     },
     "execution_count": 16,
     "metadata": {},
     "output_type": "execute_result"
    }
   ],
   "source": [
    "rand_gaus = np.random.normal(np.zeros_like(ptResolution_flat), ptResolution_flat)\n",
    "rand_gaus"
   ]
  },
  {
   "cell_type": "code",
   "execution_count": 17,
   "id": "0f724284",
   "metadata": {},
   "outputs": [
    {
     "data": {
      "text/plain": [
       "<Array [[-0.0695, -0.0704, ... 0.119, 0.297]] type='10000 * var * float64'>"
      ]
     },
     "execution_count": 17,
     "metadata": {},
     "output_type": "execute_result"
    }
   ],
   "source": [
    "jersmear = ak.unflatten(rand_gaus, njet)\n",
    "jersmear"
   ]
  },
  {
   "cell_type": "code",
   "execution_count": 18,
   "id": "81c7943a",
   "metadata": {},
   "outputs": [
    {
     "data": {
      "image/png": "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\n",
      "text/plain": [
       "<Figure size 432x288 with 1 Axes>"
      ]
     },
     "metadata": {
      "needs_background": "light"
     },
     "output_type": "display_data"
    }
   ],
   "source": [
    "plt.hist(rand_gaus, bins=np.linspace(-2, 2, 51));"
   ]
  },
  {
   "cell_type": "code",
   "execution_count": 19,
   "id": "c9b585eb",
   "metadata": {},
   "outputs": [
    {
     "data": {
      "text/plain": [
       "<Array [0.192, 0.228, 0.192, ... 0.289, 0.248] type='108487 * float64'>"
      ]
     },
     "execution_count": 19,
     "metadata": {},
     "output_type": "execute_result"
    }
   ],
   "source": [
    "w = ak.where(flatScaleFactor**2 - 1 > 0, flatScaleFactor**2 - 1, ak.zeros_like(flatScaleFactor))\n",
    "w"
   ]
  },
  {
   "cell_type": "code",
   "execution_count": 20,
   "id": "6bcc07c5",
   "metadata": {},
   "outputs": [
    {
     "data": {
      "text/plain": [
       "<Array [0.438, 0.478, 0.438, ... 0.537, 0.498] type='108487 * float64'>"
      ]
     },
     "execution_count": 20,
     "metadata": {},
     "output_type": "execute_result"
    }
   ],
   "source": [
    "np.sqrt(w)"
   ]
  },
  {
   "cell_type": "code",
   "execution_count": null,
   "id": "7358e72a",
   "metadata": {},
   "outputs": [],
   "source": []
  }
 ],
 "metadata": {
  "kernelspec": {
   "display_name": "Python 3 (ipykernel)",
   "language": "python",
   "name": "python3"
  },
  "language_info": {
   "codemirror_mode": {
    "name": "ipython",
    "version": 3
   },
   "file_extension": ".py",
   "mimetype": "text/x-python",
   "name": "python",
   "nbconvert_exporter": "python",
   "pygments_lexer": "ipython3",
   "version": "3.9.7"
  }
 },
 "nbformat": 4,
 "nbformat_minor": 5
}
