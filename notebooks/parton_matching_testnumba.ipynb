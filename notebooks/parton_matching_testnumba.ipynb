{
 "cells": [
  {
   "cell_type": "code",
   "execution_count": 1,
   "id": "7acee39f",
   "metadata": {},
   "outputs": [
    {
     "name": "stderr",
     "output_type": "stream",
     "text": [
      "/work/dvalsecc/miniconda3/envs/coffea3/lib/python3.10/site-packages/coffea/util.py:154: FutureWarning: In coffea version v0.8.0 (target date: 31 Dec 2022), this will be an error.\n",
      "(Set coffea.deprecations_as_errors = True to get a stack trace now.)\n",
      "ImportError: coffea.hist is deprecated\n",
      "  warnings.warn(message, FutureWarning)\n"
     ]
    }
   ],
   "source": [
    "from coffea.nanoevents import NanoEventsFactory, NanoAODSchema\n",
    "from coffea import hist, processor\n",
    "import numpy as np\n",
    "import awkward as ak\n",
    "import matplotlib.pyplot as plt\n",
    "from pprint import pprint\n",
    "import numba"
   ]
  },
  {
   "cell_type": "code",
   "execution_count": 2,
   "id": "eabe73ee-e659-4878-90c6-d777de8fb1be",
   "metadata": {},
   "outputs": [],
   "source": [
    "def show(a, ievt=0):\n",
    "    pprint(a[ievt].tolist())"
   ]
  },
  {
   "cell_type": "code",
   "execution_count": 30,
   "id": "0c89709e",
   "metadata": {},
   "outputs": [],
   "source": [
    "filename = \"/pnfs/psi.ch/cms/trivcat/store/user/mmarcheg/RunIIFall17NanoAODv7/ttHTobb_M125_TuneCP5_13TeV-powheg-pythia8/587E2464-42CA-3A45-BD49-D23E49F658E6.root\"\n",
    "#events = NanoEventsFactory.from_root({filename: "Events"}, schemaclass=NanoAODSchema).events()\n",
    "events = NanoEventsFactory.from_root({filename: "Events"}, schemaclass=NanoAODSchema, entry_stop=500000).events()\n",
    "\n",
    "dataset = \"ttHTobb\""
   ]
  },
  {
   "cell_type": "code",
   "execution_count": 4,
   "id": "bbbfdba9",
   "metadata": {},
   "outputs": [],
   "source": [
    "ievt = 0"
   ]
  },
  {
   "cell_type": "code",
   "execution_count": 5,
   "id": "b77cb2ad-921c-4539-97c5-77b370a63481",
   "metadata": {},
   "outputs": [],
   "source": [
    "%load_ext snakeviz"
   ]
  },
  {
   "cell_type": "code",
   "execution_count": 31,
   "id": "9f343764-22b9-4f96-a0e4-8b75aa719d26",
   "metadata": {},
   "outputs": [
    {
     "name": "stdout",
     "output_type": "stream",
     "text": [
      "CPU times: user 24.4 s, sys: 15.8 s, total: 40.2 s\n",
      "Wall time: 43.5 s\n"
     ]
    }
   ],
   "source": [
    "%%time\n",
    "isOutgoing = events.LHEPart.status == 1\n",
    "isB = abs(events.LHEPart.pdgId) == 5\n",
    "bquarks = events.LHEPart[isB & isOutgoing]\n",
    "\n",
    "# Select b-quarks at Gen level, coming from H->bb decay\n",
    "if dataset == 'ttHTobb':\n",
    "    isHiggs = events.GenPart.pdgId == 25\n",
    "    isHard = events.GenPart.hasFlags(['fromHardProcess'])\n",
    "    hasTwoChildren = ak.num(events.GenPart.childrenIdxG, axis=2) == 2\n",
    "    higgs = events.GenPart[isHiggs & isHard & hasTwoChildren]\n",
    "    bquarks = ak.concatenate( (bquarks, ak.flatten(higgs.children, axis=2)), axis=1 )\n",
    "    # Sort b-quarks by pt\n",
    "    bquarks = ak.with_name(bquarks[ak.argsort(bquarks.pt, ascending=False)], name='PtEtaPhiMCandidate')\n"
   ]
  },
  {
   "cell_type": "code",
   "execution_count": 32,
   "id": "241e9507-d5f1-4b63-9705-5a5a1ba4e701",
   "metadata": {},
   "outputs": [
    {
     "name": "stdout",
     "output_type": "stream",
     "text": [
      "CPU times: user 18 s, sys: 6.24 s, total: 24.2 s\n",
      "Wall time: 24.2 s\n"
     ]
    }
   ],
   "source": [
    "%%time\n",
    "# Compute deltaR(b, jet) and save the nearest jet (deltaR matching)\n",
    "dr_min = 0.4\n",
    "deltaR = ak.flatten(bquarks.metric_table(events.Jet), axis=2)\n",
    "# keeping only the pairs with a deltaR min\n",
    "maskDR = deltaR < dr_min\n",
    "deltaRcut = deltaR[maskDR] #--> the mask works since we are applying it also to the argcartesian\n",
    "idx_pairs_sorted = ak.argsort(deltaRcut, axis=1)\n",
    "pairs = ak.argcartesian([bquarks, events.Jet])[maskDR]\n",
    "pairs_sorted = pairs[idx_pairs_sorted]\n",
    "deltaR_sorted = deltaRcut[idx_pairs_sorted]\n",
    "idx_quark, idx_jets = ak.unzip(pairs_sorted)"
   ]
  },
  {
   "cell_type": "code",
   "execution_count": 8,
   "id": "b4ac315f-0119-425f-a03f-e2ce669af676",
   "metadata": {},
   "outputs": [
    {
     "name": "stdout",
     "output_type": "stream",
     "text": [
      "[0.057874202728271484,\n",
      " 0.5494140386581421,\n",
      " 0.24081091582775116,\n",
      " 0.06480082869529724]\n"
     ]
    }
   ],
   "source": [
    "show(deltaRcut,1)"
   ]
  },
  {
   "cell_type": "code",
   "execution_count": 38,
   "id": "2127bf99-e92e-417e-817f-37d7850b88a6",
   "metadata": {},
   "outputs": [
    {
     "data": {
      "text/plain": [
       "{'byte': awkward.behaviors.string.ByteBehavior,\n",
       " ('__typestr__', 'byte'): 'byte',\n",
       " 'char': awkward.behaviors.string.CharBehavior,\n",
       " ('__typestr__', 'char'): 'char',\n",
       " 'bytestring': awkward.behaviors.string.ByteStringBehavior,\n",
       " ('__typestr__', 'bytestring'): 'bytes',\n",
       " 'string': awkward.behaviors.string.StringBehavior,\n",
       " ('__typestr__', 'string'): 'string',\n",
       " (<ufunc 'equal'>,\n",
       "  'bytestring',\n",
       "  'bytestring'): <function awkward.behaviors.string._string_equal(one, two)>,\n",
       " (<ufunc 'equal'>,\n",
       "  'string',\n",
       "  'string'): <function awkward.behaviors.string._string_equal(one, two)>,\n",
       " (<ufunc 'not_equal'>,\n",
       "  'bytestring',\n",
       "  'bytestring'): <function awkward.behaviors.string._string_notequal(one, two)>,\n",
       " (<ufunc 'not_equal'>,\n",
       "  'string',\n",
       "  'string'): <function awkward.behaviors.string._string_notequal(one, two)>,\n",
       " ('__broadcast__',\n",
       "  'bytestring'): <function awkward.behaviors.string._string_broadcast(layout, offsets)>,\n",
       " ('__broadcast__',\n",
       "  'string'): <function awkward.behaviors.string._string_broadcast(layout, offsets)>,\n",
       " ('__numba_typer__',\n",
       "  'bytestring'): <function awkward.behaviors.string._string_numba_typer(viewtype)>,\n",
       " ('__numba_lower__',\n",
       "  'bytestring'): <function awkward.behaviors.string._string_numba_lower(context, builder, rettype, viewtype, viewval, viewproxy, attype, atval)>,\n",
       " ('__numba_typer__',\n",
       "  'string'): <function awkward.behaviors.string._string_numba_typer(viewtype)>,\n",
       " ('__numba_lower__',\n",
       "  'string'): <function awkward.behaviors.string._string_numba_lower(context, builder, rettype, viewtype, viewval, viewproxy, attype, atval)>,\n",
       " 'categorical': awkward.behaviors.categorical.CategoricalBehavior,\n",
       " (<ufunc 'equal'>,\n",
       "  'categorical',\n",
       "  'categorical'): <function awkward.behaviors.categorical._categorical_equal(one, two)>,\n",
       " (numpy.ufunc,\n",
       "  'categorical'): <function awkward.behaviors.categorical._apply_ufunc(ufunc, method, inputs, kwargs)>,\n",
       " ('__numba_typer__',\n",
       "  'Vector2D'): <function vector._backends.awkward_._numba_typer_Vector2D(viewtype: Any) -> Any>,\n",
       " ('__numba_typer__',\n",
       "  'Vector3D'): <function vector._backends.awkward_._numba_typer_Vector3D(viewtype: Any) -> Any>,\n",
       " ('__numba_typer__',\n",
       "  'Vector4D'): <function vector._backends.awkward_._numba_typer_Vector4D(viewtype: Any) -> Any>,\n",
       " ('__numba_typer__',\n",
       "  'Momentum2D'): <function vector._backends.awkward_._numba_typer_Momentum2D(viewtype: Any) -> Any>,\n",
       " ('__numba_typer__',\n",
       "  'Momentum3D'): <function vector._backends.awkward_._numba_typer_Momentum3D(viewtype: Any) -> Any>,\n",
       " ('__numba_typer__',\n",
       "  'Momentum4D'): <function vector._backends.awkward_._numba_typer_Momentum4D(viewtype: Any) -> Any>,\n",
       " ('__numba_lower__',\n",
       "  'Vector2D'): <function vector._backends.awkward_._numba_lower(context: Any, builder: Any, sig: Any, args: Any) -> Any>,\n",
       " ('__numba_lower__',\n",
       "  'Vector3D'): <function vector._backends.awkward_._numba_lower(context: Any, builder: Any, sig: Any, args: Any) -> Any>,\n",
       " ('__numba_lower__',\n",
       "  'Vector4D'): <function vector._backends.awkward_._numba_lower(context: Any, builder: Any, sig: Any, args: Any) -> Any>,\n",
       " ('__numba_lower__',\n",
       "  'Momentum2D'): <function vector._backends.awkward_._numba_lower(context: Any, builder: Any, sig: Any, args: Any) -> Any>,\n",
       " ('__numba_lower__',\n",
       "  'Momentum3D'): <function vector._backends.awkward_._numba_lower(context: Any, builder: Any, sig: Any, args: Any) -> Any>,\n",
       " ('__numba_lower__',\n",
       "  'Momentum4D'): <function vector._backends.awkward_._numba_lower(context: Any, builder: Any, sig: Any, args: Any) -> Any>,\n",
       " 'int64': None}"
      ]
     },
     "execution_count": 38,
     "metadata": {},
     "output_type": "execute_result"
    }
   ],
   "source": [
    "ak.behavior"
   ]
  },
  {
   "cell_type": "code",
   "execution_count": 9,
   "id": "e5500926-ddbd-4c11-9521-479891be9a89",
   "metadata": {},
   "outputs": [
    {
     "name": "stdout",
     "output_type": "stream",
     "text": [
      "[(0, 0), (0, 7), (1, 1), (2, 5)]\n"
     ]
    }
   ],
   "source": [
    "show(pairs,1)"
   ]
  },
  {
   "cell_type": "code",
   "execution_count": 10,
   "id": "6ca2bf42-75ce-46f0-9618-679ccd2ea2b0",
   "metadata": {},
   "outputs": [
    {
     "name": "stdout",
     "output_type": "stream",
     "text": [
      "[0, 3, 2, 1]\n"
     ]
    }
   ],
   "source": [
    "show(idx_pairs_sorted,1)"
   ]
  },
  {
   "cell_type": "code",
   "execution_count": 11,
   "id": "78a8310d-efbd-434e-9de2-ec467e0f6877",
   "metadata": {},
   "outputs": [
    {
     "data": {
      "text/plain": [
       "[[(1, 2),\n",
       "  (2, 4),\n",
       "  (3, 5),\n",
       "  (0, 1),\n",
       "  (0, 3),\n",
       "  (2, 2),\n",
       "  (1, 4),\n",
       "  (3, 8),\n",
       "  (3, 6),\n",
       "  (0, 8)],\n",
       " [(0, 0), (2, 5), (1, 1), (0, 7)],\n",
       " [(1, 2), (0, 0), (3, 8), (2, 5)],\n",
       " [(2, 4), (0, 0), (3, 5), (1, 2), (0, 3), (3, 7)],\n",
       " [(0, 1), (1, 3), (2, 1)],\n",
       " [(2, 2),\n",
       "  (1, 0),\n",
       "  (3, 5),\n",
       "  (0, 2),\n",
       "  (0, 1),\n",
       "  (2, 3),\n",
       "  (0, 3),\n",
       "  (2, 1),\n",
       "  (1, 4),\n",
       "  (1, 5),\n",
       "  (3, 0),\n",
       "  (3, 6)],\n",
       " [(1, 1), (0, 2), (2, 4), (3, 5), (3, 4), (2, 5), (1, 2), (0, 1)],\n",
       " [(1, 2), (0, 1), (2, 3), (3, 6), (1, 1), (0, 2)],\n",
       " [(0, 2), (2, 5), (1, 6), (2, 7), (0, 1)],\n",
       " [(2, 1), (0, 0), (3, 2), (1, 5), (0, 11), (2, 5), (1, 1), (3, 8)]]"
      ]
     },
     "execution_count": 11,
     "metadata": {},
     "output_type": "execute_result"
    }
   ],
   "source": [
    "pairs_sorted[0:10].tolist()"
   ]
  },
  {
   "cell_type": "code",
   "execution_count": 39,
   "id": "f3cf981f-3d48-4148-b864-229e64ce59db",
   "metadata": {},
   "outputs": [],
   "source": [
    "def get_valid_pairs_masks(idx_bquarks, idx_Jet):\n",
    "    hasMatch = ak.zeros_like(idx_Jet, dtype=bool)\n",
    "    Npairmax = ak.max(ak.num(idx_bquarks))\n",
    "    # Loop over the (parton, jet) pairs\n",
    "    for idx_pair in range(Npairmax):\n",
    "        idx_bquark = ak.pad_none(idx_bquarks, Npairmax)[:,idx_pair]\n",
    "        idx_match_candidates = idx_Jet[ak.fill_none( (idx_bquarks == idx_bquark) & ~hasMatch, False)]\n",
    "        idx_pair_candidates  = ak.local_index(idx_Jet)[ak.fill_none( (idx_bquarks == idx_bquark) & ~hasMatch, False)]\n",
    "        #print(idx_bquark[ievt], idx_match_candidates[ievt])\n",
    "        #print(idx_bquark[ievt], idx_pair_candidates[ievt])\n",
    "        if idx_pair == 0:\n",
    "            idx_matchedJet    = ak.unflatten( ak.firsts(idx_match_candidates), 1 )\n",
    "            idx_matchedParton = ak.unflatten( idx_bquark, 1 )\n",
    "            idx_matchedPair   = ak.unflatten( ak.firsts(idx_pair_candidates), 1 )\n",
    "        else:\n",
    "            # If the partons are matched in all events or the number of jets is smaller than the number of partons, stop iterating\n",
    "            if ak.all( ( (ak.count(idx_matchedJet, axis=1) == ak.count(bquarks.pt, axis=1)) | (ak.count(events.Jet.pt, axis=1) < ak.count(bquarks.pt, axis=1) ) ) ): break\n",
    "            idx_matchedJet    = ak.concatenate( (idx_matchedJet, ak.unflatten( ak.firsts(idx_match_candidates), 1 ) ), axis=1 )\n",
    "            idx_matchedParton = ak.concatenate( (idx_matchedParton, ak.unflatten( idx_bquark, 1 )), axis=1 )\n",
    "            idx_matchedPair   = ak.concatenate( (idx_matchedPair, ak.unflatten( ak.firsts(idx_pair_candidates), 1 ) ), axis=1 )\n",
    "        # The mask `hasMatch` masks to False the \n",
    "        hasMatch = hasMatch | ak.fill_none(idx_Jet == ak.fill_none(ak.firsts(idx_match_candidates), -99), False) | ak.fill_none(idx_bquarks == idx_bquark, False)\n",
    "        #print(idx_pair, hasMatch[ievt].tolist(), end='\\n\\n')\n",
    "\n",
    "    idx_matchedParton = idx_matchedParton[~ak.is_none(idx_matchedJet, axis=1)]\n",
    "    idx_matchedJet = idx_matchedJet[~ak.is_none(idx_matchedJet, axis=1)]\n",
    "    return idx_matchedParton, idx_matchedJet"
   ]
  },
  {
   "cell_type": "code",
   "execution_count": 40,
   "id": "2a1d823b-5e9a-4b61-a876-93f2a4930f03",
   "metadata": {},
   "outputs": [],
   "source": [
    "def get_valid_pairs_nonumba(idx_quark, idx_jets, builder):\n",
    "    for ev_q, ev_j in zip(idx_quark, idx_jets):\n",
    "        builder.begin_list()\n",
    "        q_done = []\n",
    "        j_done = []\n",
    "        for q,j in zip(ev_q, ev_j):\n",
    "            if q not in q_done and j not in j_done:\n",
    "                builder.begin_record(\"pair\")\n",
    "                builder.field(\"quark\").append(q)\n",
    "                builder.field(\"jet\").append(j)\n",
    "                builder.end_record()\n",
    "                q_done.append(q)\n",
    "                j_done.append(j)\n",
    "        builder.end_list()\n",
    "    return builder"
   ]
  },
  {
   "cell_type": "code",
   "execution_count": 41,
   "id": "ec9daa7f-4c61-4a0e-bbc5-f39386e501f4",
   "metadata": {},
   "outputs": [],
   "source": [
    "@numba.jit\n",
    "def get_valid_pairs_numba(idx_quark, idx_jets, builder):\n",
    "    for ev_q, ev_j in zip(idx_quark, idx_jets):\n",
    "        builder.begin_list()\n",
    "        q_done = []\n",
    "        j_done = []\n",
    "        for q,j in zip(ev_q, ev_j):\n",
    "            if q not in q_done and j not in j_done:\n",
    "                builder.begin_record(\"pair\")\n",
    "                builder.field(\"quark\").append(q)\n",
    "                builder.field(\"jet\").append(j)\n",
    "                builder.end_record()\n",
    "                q_done.append(q)\n",
    "                j_done.append(j)\n",
    "        builder.end_list()\n",
    "    return builder"
   ]
  },
  {
   "cell_type": "code",
   "execution_count": 42,
   "id": "bb7f35df-5d04-4245-a46b-eef61eeb6d7d",
   "metadata": {},
   "outputs": [],
   "source": [
    "@numba.jit\n",
    "def get_valid_pairs_numba_extra(idx_quark, idx_jets, builder, builder2):\n",
    "    for ev_q, ev_j in zip(idx_quark, idx_jets):\n",
    "        builder.begin_list()\n",
    "        builder2.begin_list()\n",
    "        q_done = []\n",
    "        j_done = []\n",
    "        for q,j in zip(ev_q, ev_j):\n",
    "            if q not in q_done:\n",
    "                if j not in j_done:\n",
    "                    builder.begin_record(\"pair\")\n",
    "                    builder.field(\"quark\").append(q)\n",
    "                    builder.field(\"jet\").append(j)\n",
    "                    builder.end_record()\n",
    "                    q_done.append(q)\n",
    "                    j_done.append(j)\n",
    "                else:\n",
    "                    builder2.begin_record(\"missed_pair\")\n",
    "                    builder2.field(\"quark\").append(q)\n",
    "                    builder2.field(\"jet\").append(j)\n",
    "                    builder2.end_record()\n",
    "        builder.end_list()\n",
    "        builder2.end_list()\n",
    "    return builder, builder2"
   ]
  },
  {
   "cell_type": "code",
   "execution_count": 43,
   "id": "b06796dc-b201-47b3-b177-bf22008a918f",
   "metadata": {},
   "outputs": [],
   "source": [
    "@numba.jit\n",
    "def get_valid_pairs_index_numba(idx_quark, idx_jets, builder):\n",
    "    for ev_q, ev_j in zip(idx_quark, idx_jets):\n",
    "        builder.begin_list()\n",
    "        q_done = []\n",
    "        j_done = []\n",
    "        for i, (q,j) in enumerate(zip(ev_q, ev_j)):\n",
    "            if q not in q_done and j not in j_done:\n",
    "                builder.append(i)\n",
    "                q_done.append(q)\n",
    "                j_done.append(j)\n",
    "        builder.end_list()\n",
    "    return builder"
   ]
  },
  {
   "cell_type": "code",
   "execution_count": 44,
   "id": "b31067e8-14fc-48c8-8a83-c3886af4dc82",
   "metadata": {},
   "outputs": [],
   "source": [
    "def get_valid_pairs_index(idx_quark, idx_jets, builder):\n",
    "    for ev_q, ev_j in zip(idx_quark, idx_jets):\n",
    "        builder.begin_list()\n",
    "        q_done = []\n",
    "        j_done = []\n",
    "        for i, (q,j) in enumerate(zip(ev_q, ev_j)):\n",
    "            if q not in q_done and j not in j_done:\n",
    "                builder.append(i)\n",
    "                q_done.append(q)\n",
    "                j_done.append(j)\n",
    "        builder.end_list()\n",
    "    return builder"
   ]
  },
  {
   "cell_type": "code",
   "execution_count": 45,
   "id": "a25c5ece-a60b-45eb-97ce-32e8e465256f",
   "metadata": {},
   "outputs": [],
   "source": [
    "@numba.jit\n",
    "def get_valid_pairs_index_more_numba(idx_quark, idx_jets, builder, builder2):\n",
    "    for ev_q, ev_j in zip(idx_quark, idx_jets):\n",
    "        builder.begin_list()\n",
    "        builder2.begin_list()\n",
    "        q_done = []\n",
    "        j_done = []\n",
    "        for i, (q,j) in enumerate(zip(ev_q, ev_j)):\n",
    "            if q not in q_done:\n",
    "                if j not in j_done:\n",
    "                    builder.append(i)\n",
    "                    q_done.append(q)\n",
    "                    j_done.append(j)\n",
    "                else: \n",
    "                    builder2.append(i)\n",
    "        builder.end_list()\n",
    "        builder2.end_list()\n",
    "    return builder, builder2"
   ]
  },
  {
   "cell_type": "code",
   "execution_count": 26,
   "id": "e9dd81ee-1c4d-4b08-81a3-e5d0b5bfe401",
   "metadata": {},
   "outputs": [],
   "source": [
    "@numba.njit\n",
    "def get_valid_pairs_numba_set(idx_1, idx_2, builder, builder2):\n",
    "    for ev_q, ev_j in zip(idx_1, idx_2):\n",
    "        builder.begin_list()\n",
    "        builder2.begin_list()\n",
    "        q_done = set()\n",
    "        j_done = set()\n",
    "        for i, (q,j) in enumerate(zip(ev_q, ev_j)):\n",
    "            if q not in q_done:\n",
    "                if j not in j_done:\n",
    "                    builder.append(i)\n",
    "                    q_done.add(int(q))\n",
    "                    j_done.add(int(j))\n",
    "                else: \n",
    "                    builder2.append(i)\n",
    "        builder.end_list()\n",
    "        builder2.end_list()\n",
    "    return builder, builder2"
   ]
  },
  {
   "cell_type": "code",
   "execution_count": 18,
   "id": "ab7f8f5a-240e-4b43-b4af-ba796e10d091",
   "metadata": {
    "jupyter": {
     "source_hidden": true
    },
    "tags": []
   },
   "outputs": [
    {
     "name": "stdout",
     "output_type": "stream",
     "text": [
      "346 ms ± 9.42 ms per loop (mean ± std. dev. of 7 runs, 1 loop each)\n"
     ]
    }
   ],
   "source": [
    "%%timeit\n",
    "results1 = get_valid_pairs_masks(idx_quark, idx_jets)"
   ]
  },
  {
   "cell_type": "code",
   "execution_count": 20,
   "id": "b5238589-00e7-4589-baeb-18ef598af004",
   "metadata": {
    "jupyter": {
     "source_hidden": true
    },
    "tags": []
   },
   "outputs": [
    {
     "name": "stdout",
     "output_type": "stream",
     "text": [
      "1.02 s ± 25.6 ms per loop (mean ± std. dev. of 7 runs, 1 loop each)\n"
     ]
    }
   ],
   "source": [
    "%%timeit\n",
    "results2 = get_valid_pairs_nonumba(idx_quark, idx_jets, ak.ArrayBuilder())"
   ]
  },
  {
   "cell_type": "code",
   "execution_count": 36,
   "id": "569cc605-1cdb-4ce8-8dfc-03a532c1f112",
   "metadata": {},
   "outputs": [
    {
     "name": "stdout",
     "output_type": "stream",
     "text": [
      "577 ms ± 53.6 ms per loop (mean ± std. dev. of 7 runs, 1 loop each)\n"
     ]
    }
   ],
   "source": [
    "%%timeit\n",
    "results3 = get_valid_pairs_numba(idx_quark, idx_jets, ak.ArrayBuilder())"
   ]
  },
  {
   "cell_type": "code",
   "execution_count": 60,
   "id": "d3b7f062-c5b3-472c-874e-f06aeb076cb2",
   "metadata": {},
   "outputs": [
    {
     "name": "stdout",
     "output_type": "stream",
     "text": [
      "302 ms ± 3.07 ms per loop (mean ± std. dev. of 7 runs, 1 loop each)\n"
     ]
    }
   ],
   "source": [
    "%%timeit\n",
    "results10 = get_valid_pairs_numba_set(idx_quark, idx_jets, ak.ArrayBuilder(),ak.ArrayBuilder())"
   ]
  },
  {
   "cell_type": "code",
   "execution_count": 46,
   "id": "356eefc0-f8e9-4269-84ff-57aa9bf978bd",
   "metadata": {},
   "outputs": [
    {
     "name": "stdout",
     "output_type": "stream",
     "text": [
      "535 ms ± 15.9 ms per loop (mean ± std. dev. of 7 runs, 1 loop each)\n"
     ]
    }
   ],
   "source": [
    "%%timeit\n",
    "results4 = get_valid_pairs_numba_extra(idx_quark, idx_jets, ak.ArrayBuilder(),ak.ArrayBuilder())"
   ]
  },
  {
   "cell_type": "code",
   "execution_count": 58,
   "id": "7315bd31-8f3b-4a22-8877-98288a991291",
   "metadata": {},
   "outputs": [
    {
     "name": "stdout",
     "output_type": "stream",
     "text": [
      "279 ms ± 6.01 ms per loop (mean ± std. dev. of 7 runs, 1 loop each)\n"
     ]
    }
   ],
   "source": [
    "%%timeit\n",
    "results5 = get_valid_pairs_index_numba(idx_quark, idx_jets, ak.ArrayBuilder())"
   ]
  },
  {
   "cell_type": "code",
   "execution_count": 59,
   "id": "933bd938-3b2f-4270-afd7-0029705e288c",
   "metadata": {},
   "outputs": [
    {
     "name": "stdout",
     "output_type": "stream",
     "text": [
      "328 ms ± 24.1 ms per loop (mean ± std. dev. of 7 runs, 1 loop each)\n"
     ]
    }
   ],
   "source": [
    "%%timeit\n",
    "get_valid_pairs_index_more_numba(idx_quark, idx_jets, ak.ArrayBuilder(), ak.ArrayBuilder())"
   ]
  },
  {
   "cell_type": "code",
   "execution_count": 25,
   "id": "d31e7405-f1d2-4c9e-aed9-03b760f4ac7d",
   "metadata": {},
   "outputs": [
    {
     "name": "stdout",
     "output_type": "stream",
     "text": [
      "882 ms ± 6.04 ms per loop (mean ± std. dev. of 7 runs, 1 loop each)\n"
     ]
    }
   ],
   "source": [
    "%%timeit\n",
    "get_valid_pairs_index(idx_quark, idx_jets, ak.ArrayBuilder())"
   ]
  },
  {
   "cell_type": "code",
   "execution_count": 16,
   "id": "0da2de94-5d1f-4dba-bef6-9e85b6b875f6",
   "metadata": {},
   "outputs": [],
   "source": [
    "A = ak.Array(idx_quark, behavior={})"
   ]
  },
  {
   "cell_type": "code",
   "execution_count": 18,
   "id": "05caa204-f837-4687-942b-b102f2360dfa",
   "metadata": {},
   "outputs": [
    {
     "data": {
      "text/plain": [
       "ak.ArrayView(ak.ListArrayType(array(int64, 1d, C), ak.IndexedOptionArrayType(array(int64, 1d, C), ak.NumpyArrayType(array(int64, 1d, A), none, {}), none, {}), none, {}), {}, ())"
      ]
     },
     "execution_count": 18,
     "metadata": {},
     "output_type": "execute_result"
    }
   ],
   "source": [
    "A.numba_type"
   ]
  },
  {
   "cell_type": "code",
   "execution_count": 19,
   "id": "2d080e1b-61ae-46a8-a41a-e03adec5c242",
   "metadata": {},
   "outputs": [],
   "source": [
    "#results1 = get_valid_pairs_masks(ak.Array(idx_quark, behavior={}), ak.Array(idx_jets, behavior={}))\n",
    "results2 = get_valid_pairs_numba(ak.Array(idx_quark, behavior={}), ak.Array(idx_jets, behavior={}), ak.ArrayBuilder())"
   ]
  },
  {
   "cell_type": "code",
   "execution_count": 20,
   "id": "d098f521-d970-45c9-bf83-f3f1932197b6",
   "metadata": {},
   "outputs": [
    {
     "data": {
      "text/plain": [
       "odict_keys([(ak.ArrayView(ak.ListArrayType(array(int64, 1d, C), ak.IndexedOptionArrayType(array(int64, 1d, C), ak.NumpyArrayType(array(int64, 1d, A), none, {}), none, {}), none, {}), {}, ()), ak.ArrayView(ak.ListArrayType(array(int64, 1d, C), ak.IndexedOptionArrayType(array(int64, 1d, C), ak.NumpyArrayType(array(int64, 1d, A), none, {}), none, {}), none, {}), {}, ()), ak.ArrayBuilderType(None))])"
      ]
     },
     "execution_count": 20,
     "metadata": {},
     "output_type": "execute_result"
    }
   ],
   "source": [
    "get_valid_pairs_numba.overloads.keys()"
   ]
  },
  {
   "cell_type": "code",
   "execution_count": 27,
   "id": "83393df1-961f-47ea-9dae-4c4e9b630471",
   "metadata": {},
   "outputs": [
    {
     "data": {
      "text/plain": [
       "<ListOffsetArray64>\n",
       "    <offsets><Index64 i=\"[0 4 7 11 15 18 24 28 32 35 ... 36683 36687 36690 36693 36695 36699 36703 36707 36711 36714]\" offset=\"0\" length=\"10001\" at=\"0x5635a661ade0\"/></offsets>\n",
       "    <content><IndexedOptionArray64>\n",
       "        <index><Index64 i=\"[12 24 35 1 40 63 50 88 76 114 ... 434573 434565 434581 434609 434598 434614 434625 434640 434630 434651]\" offset=\"0\" length=\"36714\" at=\"0x5635a8a835a0\"/></index>\n",
       "        <content><NumpyArray format=\"l\" shape=\"434666\" data=\"0 0 0 0 0 ... 3 3 3 3 3\" at=\"0x5635a8732640\"/></content>\n",
       "    </IndexedOptionArray64></content>\n",
       "</ListOffsetArray64>"
      ]
     },
     "execution_count": 27,
     "metadata": {},
     "output_type": "execute_result"
    }
   ],
   "source": [
    "idx_quark.layout"
   ]
  },
  {
   "cell_type": "code",
   "execution_count": 28,
   "id": "fcf63441-003a-4f48-a020-b567afa90622",
   "metadata": {},
   "outputs": [
    {
     "data": {
      "text/plain": [
       "10000 * var * ?int64"
      ]
     },
     "execution_count": 28,
     "metadata": {},
     "output_type": "execute_result"
    }
   ],
   "source": [
    "idx_quark.type"
   ]
  },
  {
   "cell_type": "code",
   "execution_count": 26,
   "id": "b9a3cc0b-a81a-4949-991e-03daa5dc3a29",
   "metadata": {},
   "outputs": [],
   "source": [
    "ak.behavior[\"int64\"] = None"
   ]
  },
  {
   "cell_type": "code",
   "execution_count": 30,
   "id": "d9e6c535-4cb9-4673-90a0-9118322490af",
   "metadata": {},
   "outputs": [],
   "source": [
    "idx_quark.behavior = None"
   ]
  },
  {
   "cell_type": "code",
   "execution_count": null,
   "id": "c4816653-4e43-4143-b6f6-916949732a28",
   "metadata": {},
   "outputs": [],
   "source": [
    "behavior"
   ]
  },
  {
   "cell_type": "code",
   "execution_count": 37,
   "id": "7c4b4461-18ae-48f8-941a-68f41df2583b",
   "metadata": {},
   "outputs": [
    {
     "data": {
      "text/plain": [
       "ak.ArrayView(ak.ListArrayType(array(int64, 1d, C), ak.IndexedOptionArrayType(array(int64, 1d, C), ak.NumpyArrayType(array(int64, 1d, A), none, {}), none, {}), none, {}), {'Systematic': <class 'coffea.nanoevents.methods.base.SystematicRecord'>, ('*', 'Systematic'): <class 'coffea.nanoevents.methods.base.SystematicArray'>, ('__typestr__', 'Systematic'): 'Systematic', 'UpDownSystematic': <class 'coffea.nanoevents.methods.systematics.UpDownSystematic.UpDownSystematicRecord'>, ('*', 'UpDownSystematic'): <class 'coffea.nanoevents.methods.systematics.UpDownSystematic.UpDownSystematicArray'>, ('__typestr__', 'UpDownSystematic'): 'UpDownSystematic', 'NanoEvents': <class 'coffea.nanoevents.methods.nanoaod._NanoAODEvents'>, ('*', 'NanoEvents'): <class 'coffea.nanoevents.methods.base.NanoEventsArray'>, ('__typestr__', 'NanoEvents'): 'event', 'NanoCollection': <class 'coffea.nanoevents.methods.base.NanoCollectionRecord'>, ('*', 'NanoCollection'): <class 'coffea.nanoevents.methods.base.NanoCollectionArray'>, 'TwoVector': <class 'coffea.nanoevents.methods.vector.TwoVectorRecord'>, ('*', 'TwoVector'): <class 'coffea.nanoevents.methods.vector.TwoVectorArray'>, (<ufunc 'absolute'>, 'TwoVector'): <function TwoVector.absolute at 0x7f7259ca75b0>, (<ufunc 'negative'>, 'TwoVector'): <function TwoVector.negative at 0x7f7259ca7e20>, (<ufunc 'add'>, 'TwoVector', 'TwoVector'): <function TwoVector.add at 0x7f7259ca7c70>, (<ufunc 'subtract'>, 'TwoVector', 'TwoVector'): <function TwoVector.subtract at 0x7f7259ca4280>, (<ufunc 'multiply'>, 'TwoVector', <class 'numbers.Number'>): <function TwoVector.multiply at 0x7f7259ca63b0>, (<ufunc 'multiply'>, <class 'numbers.Number'>, 'TwoVector'): <function mixin_class_method.<locals>.register.<locals>.transposed at 0x7f7259ca71c0>, (<ufunc 'multiply'>, 'TwoVector', 'TwoVector'): <function TwoVector.multiply at 0x7f7259ca63b0>, (<ufunc 'true_divide'>, 'TwoVector', <class 'numbers.Number'>): <function TwoVector.divide at 0x7f7259ca79a0>, (<ufunc 'true_divide'>, <class 'numbers.Number'>, 'TwoVector'): <function mixin_class_method.<locals>.register.<locals>.transposed at 0x7f7259ca4160>, (<ufunc 'true_divide'>, 'TwoVector', 'TwoVector'): <function TwoVector.divide at 0x7f7259ca79a0>, 'PolarTwoVector': <class 'coffea.nanoevents.methods.vector.PolarTwoVectorRecord'>, ('*', 'PolarTwoVector'): <class 'coffea.nanoevents.methods.vector.PolarTwoVectorArray'>, (<ufunc 'multiply'>, 'PolarTwoVector', <class 'numbers.Number'>): <function PolarTwoVector.multiply at 0x7f7259c8c3a0>, (<ufunc 'multiply'>, <class 'numbers.Number'>, 'PolarTwoVector'): <function mixin_class_method.<locals>.register.<locals>.transposed at 0x7f7259c8c430>, (<ufunc 'multiply'>, 'PolarTwoVector', 'PolarTwoVector'): <function PolarTwoVector.multiply at 0x7f7259c8c3a0>, (<ufunc 'negative'>, 'PolarTwoVector'): <function PolarTwoVector.negative at 0x7f7259c8c4c0>, (<ufunc 'absolute'>, 'PolarTwoVector'): <function TwoVector.absolute at 0x7f7259ca75b0>, (<ufunc 'add'>, 'PolarTwoVector', 'TwoVector'): <function TwoVector.add at 0x7f7259ca7c70>, (<ufunc 'add'>, 'TwoVector', 'PolarTwoVector'): <function mixin_class_method.<locals>.register.<locals>.transposed at 0x7f7259ca7370>, (<ufunc 'add'>, 'PolarTwoVector', 'PolarTwoVector'): <function TwoVector.add at 0x7f7259ca7c70>, (<ufunc 'subtract'>, 'PolarTwoVector', 'TwoVector'): <function TwoVector.subtract at 0x7f7259ca4280>, (<ufunc 'subtract'>, 'TwoVector', 'PolarTwoVector'): <function mixin_class_method.<locals>.register.<locals>.transposed at 0x7f7259ca70a0>, (<ufunc 'subtract'>, 'PolarTwoVector', 'PolarTwoVector'): <function TwoVector.subtract at 0x7f7259ca4280>, (<ufunc 'true_divide'>, 'PolarTwoVector', <class 'numbers.Number'>): <function TwoVector.divide at 0x7f7259ca79a0>, (<ufunc 'true_divide'>, <class 'numbers.Number'>, 'PolarTwoVector'): <function mixin_class_method.<locals>.register.<locals>.transposed at 0x7f7259ca4160>, (<ufunc 'true_divide'>, 'PolarTwoVector', 'PolarTwoVector'): <function TwoVector.divide at 0x7f7259ca79a0>, 'ThreeVector': <class 'coffea.nanoevents.methods.vector.ThreeVectorRecord'>, ('*', 'ThreeVector'): <class 'coffea.nanoevents.methods.vector.ThreeVectorArray'>, (<ufunc 'absolute'>, 'ThreeVector'): <function ThreeVector.absolute at 0x7f7259c8c8b0>, (<ufunc 'negative'>, 'ThreeVector'): <function ThreeVector.negative at 0x7f7259c8c940>, (<ufunc 'add'>, 'ThreeVector', 'ThreeVector'): <function ThreeVector.add at 0x7f7259c8c9d0>, (<ufunc 'subtract'>, 'ThreeVector', 'ThreeVector'): <function ThreeVector.subtract at 0x7f7259c8caf0>, (<ufunc 'multiply'>, 'ThreeVector', <class 'numbers.Number'>): <function ThreeVector.multiply at 0x7f7259c8cca0>, (<ufunc 'multiply'>, <class 'numbers.Number'>, 'ThreeVector'): <function mixin_class_method.<locals>.register.<locals>.transposed at 0x7f7259c8cd30>, (<ufunc 'multiply'>, 'ThreeVector', 'ThreeVector'): <function ThreeVector.multiply at 0x7f7259c8cca0>, (<ufunc 'add'>, 'ThreeVector', 'TwoVector'): <function TwoVector.add at 0x7f7259ca7c70>, (<ufunc 'add'>, 'TwoVector', 'ThreeVector'): <function mixin_class_method.<locals>.register.<locals>.transposed at 0x7f7259ca7370>, (<ufunc 'add'>, 'ThreeVector', 'PolarTwoVector'): <function TwoVector.add at 0x7f7259ca7c70>, (<ufunc 'add'>, 'PolarTwoVector', 'ThreeVector'): <function mixin_class_method.<locals>.register.<locals>.transposed at 0x7f7259ca7370>, (<ufunc 'subtract'>, 'ThreeVector', 'TwoVector'): <function TwoVector.subtract at 0x7f7259ca4280>, (<ufunc 'subtract'>, 'TwoVector', 'ThreeVector'): <function mixin_class_method.<locals>.register.<locals>.transposed at 0x7f7259ca70a0>, (<ufunc 'subtract'>, 'ThreeVector', 'PolarTwoVector'): <function TwoVector.subtract at 0x7f7259ca4280>, (<ufunc 'subtract'>, 'PolarTwoVector', 'ThreeVector'): <function mixin_class_method.<locals>.register.<locals>.transposed at 0x7f7259ca70a0>, (<ufunc 'true_divide'>, 'ThreeVector', <class 'numbers.Number'>): <function TwoVector.divide at 0x7f7259ca79a0>, (<ufunc 'true_divide'>, <class 'numbers.Number'>, 'ThreeVector'): <function mixin_class_method.<locals>.register.<locals>.transposed at 0x7f7259ca4160>, (<ufunc 'true_divide'>, 'ThreeVector', 'ThreeVector'): <function TwoVector.divide at 0x7f7259ca79a0>, 'SphericalThreeVector': <class 'coffea.nanoevents.methods.vector.SphericalThreeVectorRecord'>, ('*', 'SphericalThreeVector'): <class 'coffea.nanoevents.methods.vector.SphericalThreeVectorArray'>, (<ufunc 'multiply'>, 'SphericalThreeVector', <class 'numbers.Number'>): <function SphericalThreeVector.multiply at 0x7f7259c8d2d0>, (<ufunc 'multiply'>, <class 'numbers.Number'>, 'SphericalThreeVector'): <function mixin_class_method.<locals>.register.<locals>.transposed at 0x7f7259c8d360>, (<ufunc 'multiply'>, 'SphericalThreeVector', 'SphericalThreeVector'): <function SphericalThreeVector.multiply at 0x7f7259c8d2d0>, (<ufunc 'negative'>, 'SphericalThreeVector'): <function SphericalThreeVector.negative at 0x7f7259c8d3f0>, (<ufunc 'absolute'>, 'SphericalThreeVector'): <function ThreeVector.absolute at 0x7f7259c8c8b0>, (<ufunc 'add'>, 'SphericalThreeVector', 'ThreeVector'): <function ThreeVector.add at 0x7f7259c8c9d0>, (<ufunc 'add'>, 'ThreeVector', 'SphericalThreeVector'): <function mixin_class_method.<locals>.register.<locals>.transposed at 0x7f7259c8ca60>, (<ufunc 'add'>, 'SphericalThreeVector', 'SphericalThreeVector'): <function ThreeVector.add at 0x7f7259c8c9d0>, (<ufunc 'subtract'>, 'SphericalThreeVector', 'ThreeVector'): <function ThreeVector.subtract at 0x7f7259c8caf0>, (<ufunc 'subtract'>, 'ThreeVector', 'SphericalThreeVector'): <function mixin_class_method.<locals>.register.<locals>.transposed at 0x7f7259c8cb80>, (<ufunc 'subtract'>, 'SphericalThreeVector', 'SphericalThreeVector'): <function ThreeVector.subtract at 0x7f7259c8caf0>, (<ufunc 'add'>, 'SphericalThreeVector', 'TwoVector'): <function TwoVector.add at 0x7f7259ca7c70>, (<ufunc 'add'>, 'TwoVector', 'SphericalThreeVector'): <function mixin_class_method.<locals>.register.<locals>.transposed at 0x7f7259ca7370>, (<ufunc 'add'>, 'SphericalThreeVector', 'PolarTwoVector'): <function TwoVector.add at 0x7f7259ca7c70>, (<ufunc 'add'>, 'PolarTwoVector', 'SphericalThreeVector'): <function mixin_class_method.<locals>.register.<locals>.transposed at 0x7f7259ca7370>, (<ufunc 'subtract'>, 'SphericalThreeVector', 'TwoVector'): <function TwoVector.subtract at 0x7f7259ca4280>, (<ufunc 'subtract'>, 'TwoVector', 'SphericalThreeVector'): <function mixin_class_method.<locals>.register.<locals>.transposed at 0x7f7259ca70a0>, (<ufunc 'subtract'>, 'SphericalThreeVector', 'PolarTwoVector'): <function TwoVector.subtract at 0x7f7259ca4280>, (<ufunc 'subtract'>, 'PolarTwoVector', 'SphericalThreeVector'): <function mixin_class_method.<locals>.register.<locals>.transposed at 0x7f7259ca70a0>, (<ufunc 'true_divide'>, 'SphericalThreeVector', <class 'numbers.Number'>): <function TwoVector.divide at 0x7f7259ca79a0>, (<ufunc 'true_divide'>, <class 'numbers.Number'>, 'SphericalThreeVector'): <function mixin_class_method.<locals>.register.<locals>.transposed at 0x7f7259ca4160>, (<ufunc 'true_divide'>, 'SphericalThreeVector', 'SphericalThreeVector'): <function TwoVector.divide at 0x7f7259ca79a0>, 'LorentzVector': <class 'coffea.nanoevents.methods.vector.LorentzVectorRecord'>, ('*', 'LorentzVector'): <class 'coffea.nanoevents.methods.vector.LorentzVectorArray'>, (<ufunc 'absolute'>, 'LorentzVector'): <function LorentzVector.absolute at 0x7f7259c8d6c0>, (<ufunc 'add'>, 'LorentzVector', 'LorentzVector'): <function LorentzVector.add at 0x7f7259c8d750>, (<ufunc 'subtract'>, 'LorentzVector', 'LorentzVector'): <function LorentzVector.subtract at 0x7f7259c8d870>, (<ufunc 'multiply'>, 'LorentzVector', <class 'numbers.Number'>): <function LorentzVector.multiply at 0x7f7259c8da20>, (<ufunc 'multiply'>, <class 'numbers.Number'>, 'LorentzVector'): <function mixin_class_method.<locals>.register.<locals>.transposed at 0x7f7259c8dab0>, (<ufunc 'multiply'>, 'LorentzVector', 'LorentzVector'): <function LorentzVector.multiply at 0x7f7259c8da20>, (<ufunc 'negative'>, 'LorentzVector'): <function LorentzVector.negative at 0x7f7259c8dc60>, (<ufunc 'add'>, 'LorentzVector', 'SphericalThreeVector'): <function ThreeVector.add at 0x7f7259c8c9d0>, (<ufunc 'add'>, 'SphericalThreeVector', 'LorentzVector'): <function mixin_class_method.<locals>.register.<locals>.transposed at 0x7f7259c8ca60>, (<ufunc 'add'>, 'LorentzVector', 'ThreeVector'): <function ThreeVector.add at 0x7f7259c8c9d0>, (<ufunc 'add'>, 'ThreeVector', 'LorentzVector'): <function mixin_class_method.<locals>.register.<locals>.transposed at 0x7f7259c8ca60>, (<ufunc 'subtract'>, 'LorentzVector', 'SphericalThreeVector'): <function ThreeVector.subtract at 0x7f7259c8caf0>, (<ufunc 'subtract'>, 'SphericalThreeVector', 'LorentzVector'): <function mixin_class_method.<locals>.register.<locals>.transposed at 0x7f7259c8cb80>, (<ufunc 'subtract'>, 'LorentzVector', 'ThreeVector'): <function ThreeVector.subtract at 0x7f7259c8caf0>, (<ufunc 'subtract'>, 'ThreeVector', 'LorentzVector'): <function mixin_class_method.<locals>.register.<locals>.transposed at 0x7f7259c8cb80>, (<ufunc 'add'>, 'LorentzVector', 'TwoVector'): <function TwoVector.add at 0x7f7259ca7c70>, (<ufunc 'add'>, 'TwoVector', 'LorentzVector'): <function mixin_class_method.<locals>.register.<locals>.transposed at 0x7f7259ca7370>, (<ufunc 'add'>, 'LorentzVector', 'PolarTwoVector'): <function TwoVector.add at 0x7f7259ca7c70>, (<ufunc 'add'>, 'PolarTwoVector', 'LorentzVector'): <function mixin_class_method.<locals>.register.<locals>.transposed at 0x7f7259ca7370>, (<ufunc 'subtract'>, 'LorentzVector', 'TwoVector'): <function TwoVector.subtract at 0x7f7259ca4280>, (<ufunc 'subtract'>, 'TwoVector', 'LorentzVector'): <function mixin_class_method.<locals>.register.<locals>.transposed at 0x7f7259ca70a0>, (<ufunc 'subtract'>, 'LorentzVector', 'PolarTwoVector'): <function TwoVector.subtract at 0x7f7259ca4280>, (<ufunc 'subtract'>, 'PolarTwoVector', 'LorentzVector'): <function mixin_class_method.<locals>.register.<locals>.transposed at 0x7f7259ca70a0>, (<ufunc 'true_divide'>, 'LorentzVector', <class 'numbers.Number'>): <function TwoVector.divide at 0x7f7259ca79a0>, (<ufunc 'true_divide'>, <class 'numbers.Number'>, 'LorentzVector'): <function mixin_class_method.<locals>.register.<locals>.transposed at 0x7f7259ca4160>, (<ufunc 'true_divide'>, 'LorentzVector', 'LorentzVector'): <function TwoVector.divide at 0x7f7259ca79a0>, 'PtEtaPhiMLorentzVector': <class 'coffea.nanoevents.methods.vector.PtEtaPhiMLorentzVectorRecord'>, ('*', 'PtEtaPhiMLorentzVector'): <class 'coffea.nanoevents.methods.vector.PtEtaPhiMLorentzVectorArray'>, (<ufunc 'multiply'>, 'PtEtaPhiMLorentzVector', <class 'numbers.Number'>): <function PtEtaPhiMLorentzVector.multiply at 0x7f7259c8e710>, (<ufunc 'multiply'>, <class 'numbers.Number'>, 'PtEtaPhiMLorentzVector'): <function mixin_class_method.<locals>.register.<locals>.transposed at 0x7f7259c8e7a0>, (<ufunc 'multiply'>, 'PtEtaPhiMLorentzVector', 'PtEtaPhiMLorentzVector'): <function PtEtaPhiMLorentzVector.multiply at 0x7f7259c8e710>, (<ufunc 'negative'>, 'PtEtaPhiMLorentzVector'): <function PtEtaPhiMLorentzVector.negative at 0x7f7259c8e830>, (<ufunc 'absolute'>, 'PtEtaPhiMLorentzVector'): <function LorentzVector.absolute at 0x7f7259c8d6c0>, (<ufunc 'add'>, 'PtEtaPhiMLorentzVector', 'LorentzVector'): <function LorentzVector.add at 0x7f7259c8d750>, (<ufunc 'add'>, 'LorentzVector', 'PtEtaPhiMLorentzVector'): <function mixin_class_method.<locals>.register.<locals>.transposed at 0x7f7259c8d7e0>, (<ufunc 'add'>, 'PtEtaPhiMLorentzVector', 'PtEtaPhiMLorentzVector'): <function LorentzVector.add at 0x7f7259c8d750>, (<ufunc 'subtract'>, 'PtEtaPhiMLorentzVector', 'LorentzVector'): <function LorentzVector.subtract at 0x7f7259c8d870>, (<ufunc 'subtract'>, 'LorentzVector', 'PtEtaPhiMLorentzVector'): <function mixin_class_method.<locals>.register.<locals>.transposed at 0x7f7259c8d900>, (<ufunc 'subtract'>, 'PtEtaPhiMLorentzVector', 'PtEtaPhiMLorentzVector'): <function LorentzVector.subtract at 0x7f7259c8d870>, (<ufunc 'add'>, 'PtEtaPhiMLorentzVector', 'SphericalThreeVector'): <function ThreeVector.add at 0x7f7259c8c9d0>, (<ufunc 'add'>, 'SphericalThreeVector', 'PtEtaPhiMLorentzVector'): <function mixin_class_method.<locals>.register.<locals>.transposed at 0x7f7259c8ca60>, (<ufunc 'add'>, 'PtEtaPhiMLorentzVector', 'ThreeVector'): <function ThreeVector.add at 0x7f7259c8c9d0>, (<ufunc 'add'>, 'ThreeVector', 'PtEtaPhiMLorentzVector'): <function mixin_class_method.<locals>.register.<locals>.transposed at 0x7f7259c8ca60>, (<ufunc 'subtract'>, 'PtEtaPhiMLorentzVector', 'SphericalThreeVector'): <function ThreeVector.subtract at 0x7f7259c8caf0>, (<ufunc 'subtract'>, 'SphericalThreeVector', 'PtEtaPhiMLorentzVector'): <function mixin_class_method.<locals>.register.<locals>.transposed at 0x7f7259c8cb80>, (<ufunc 'subtract'>, 'PtEtaPhiMLorentzVector', 'ThreeVector'): <function ThreeVector.subtract at 0x7f7259c8caf0>, (<ufunc 'subtract'>, 'ThreeVector', 'PtEtaPhiMLorentzVector'): <function mixin_class_method.<locals>.register.<locals>.transposed at 0x7f7259c8cb80>, (<ufunc 'add'>, 'PtEtaPhiMLorentzVector', 'TwoVector'): <function TwoVector.add at 0x7f7259ca7c70>, (<ufunc 'add'>, 'TwoVector', 'PtEtaPhiMLorentzVector'): <function mixin_class_method.<locals>.register.<locals>.transposed at 0x7f7259ca7370>, (<ufunc 'add'>, 'PtEtaPhiMLorentzVector', 'PolarTwoVector'): <function TwoVector.add at 0x7f7259ca7c70>, (<ufunc 'add'>, 'PolarTwoVector', 'PtEtaPhiMLorentzVector'): <function mixin_class_method.<locals>.register.<locals>.transposed at 0x7f7259ca7370>, (<ufunc 'subtract'>, 'PtEtaPhiMLorentzVector', 'TwoVector'): <function TwoVector.subtract at 0x7f7259ca4280>, (<ufunc 'subtract'>, 'TwoVector', 'PtEtaPhiMLorentzVector'): <function mixin_class_method.<locals>.register.<locals>.transposed at 0x7f7259ca70a0>, (<ufunc 'subtract'>, 'PtEtaPhiMLorentzVector', 'PolarTwoVector'): <function TwoVector.subtract at 0x7f7259ca4280>, (<ufunc 'subtract'>, 'PolarTwoVector', 'PtEtaPhiMLorentzVector'): <function mixin_class_method.<locals>.register.<locals>.transposed at 0x7f7259ca70a0>, (<ufunc 'true_divide'>, 'PtEtaPhiMLorentzVector', <class 'numbers.Number'>): <function TwoVector.divide at 0x7f7259ca79a0>, (<ufunc 'true_divide'>, <class 'numbers.Number'>, 'PtEtaPhiMLorentzVector'): <function mixin_class_method.<locals>.register.<locals>.transposed at 0x7f7259ca4160>, (<ufunc 'true_divide'>, 'PtEtaPhiMLorentzVector', 'PtEtaPhiMLorentzVector'): <function TwoVector.divide at 0x7f7259ca79a0>, 'PtEtaPhiELorentzVector': <class 'coffea.nanoevents.methods.vector.PtEtaPhiELorentzVectorRecord'>, ('*', 'PtEtaPhiELorentzVector'): <class 'coffea.nanoevents.methods.vector.PtEtaPhiELorentzVectorArray'>, (<ufunc 'multiply'>, 'PtEtaPhiELorentzVector', <class 'numbers.Number'>): <function PtEtaPhiELorentzVector.multiply at 0x7f7259c8eef0>, (<ufunc 'multiply'>, <class 'numbers.Number'>, 'PtEtaPhiELorentzVector'): <function mixin_class_method.<locals>.register.<locals>.transposed at 0x7f7259c8ef80>, (<ufunc 'multiply'>, 'PtEtaPhiELorentzVector', 'PtEtaPhiELorentzVector'): <function PtEtaPhiELorentzVector.multiply at 0x7f7259c8eef0>, (<ufunc 'negative'>, 'PtEtaPhiELorentzVector'): <function PtEtaPhiELorentzVector.negative at 0x7f7259c8f010>, (<ufunc 'absolute'>, 'PtEtaPhiELorentzVector'): <function LorentzVector.absolute at 0x7f7259c8d6c0>, (<ufunc 'add'>, 'PtEtaPhiELorentzVector', 'LorentzVector'): <function LorentzVector.add at 0x7f7259c8d750>, (<ufunc 'add'>, 'LorentzVector', 'PtEtaPhiELorentzVector'): <function mixin_class_method.<locals>.register.<locals>.transposed at 0x7f7259c8d7e0>, (<ufunc 'add'>, 'PtEtaPhiELorentzVector', 'PtEtaPhiMLorentzVector'): <function LorentzVector.add at 0x7f7259c8d750>, (<ufunc 'add'>, 'PtEtaPhiMLorentzVector', 'PtEtaPhiELorentzVector'): <function mixin_class_method.<locals>.register.<locals>.transposed at 0x7f7259c8d7e0>, (<ufunc 'add'>, 'PtEtaPhiELorentzVector', 'PtEtaPhiELorentzVector'): <function LorentzVector.add at 0x7f7259c8d750>, (<ufunc 'subtract'>, 'PtEtaPhiELorentzVector', 'LorentzVector'): <function LorentzVector.subtract at 0x7f7259c8d870>, (<ufunc 'subtract'>, 'LorentzVector', 'PtEtaPhiELorentzVector'): <function mixin_class_method.<locals>.register.<locals>.transposed at 0x7f7259c8d900>, (<ufunc 'subtract'>, 'PtEtaPhiELorentzVector', 'PtEtaPhiMLorentzVector'): <function LorentzVector.subtract at 0x7f7259c8d870>, (<ufunc 'subtract'>, 'PtEtaPhiMLorentzVector', 'PtEtaPhiELorentzVector'): <function mixin_class_method.<locals>.register.<locals>.transposed at 0x7f7259c8d900>, (<ufunc 'subtract'>, 'PtEtaPhiELorentzVector', 'PtEtaPhiELorentzVector'): <function LorentzVector.subtract at 0x7f7259c8d870>, (<ufunc 'add'>, 'PtEtaPhiELorentzVector', 'SphericalThreeVector'): <function ThreeVector.add at 0x7f7259c8c9d0>, (<ufunc 'add'>, 'SphericalThreeVector', 'PtEtaPhiELorentzVector'): <function mixin_class_method.<locals>.register.<locals>.transposed at 0x7f7259c8ca60>, (<ufunc 'add'>, 'PtEtaPhiELorentzVector', 'ThreeVector'): <function ThreeVector.add at 0x7f7259c8c9d0>, (<ufunc 'add'>, 'ThreeVector', 'PtEtaPhiELorentzVector'): <function mixin_class_method.<locals>.register.<locals>.transposed at 0x7f7259c8ca60>, (<ufunc 'subtract'>, 'PtEtaPhiELorentzVector', 'SphericalThreeVector'): <function ThreeVector.subtract at 0x7f7259c8caf0>, (<ufunc 'subtract'>, 'SphericalThreeVector', 'PtEtaPhiELorentzVector'): <function mixin_class_method.<locals>.register.<locals>.transposed at 0x7f7259c8cb80>, (<ufunc 'subtract'>, 'PtEtaPhiELorentzVector', 'ThreeVector'): <function ThreeVector.subtract at 0x7f7259c8caf0>, (<ufunc 'subtract'>, 'ThreeVector', 'PtEtaPhiELorentzVector'): <function mixin_class_method.<locals>.register.<locals>.transposed at 0x7f7259c8cb80>, (<ufunc 'add'>, 'PtEtaPhiELorentzVector', 'TwoVector'): <function TwoVector.add at 0x7f7259ca7c70>, (<ufunc 'add'>, 'TwoVector', 'PtEtaPhiELorentzVector'): <function mixin_class_method.<locals>.register.<locals>.transposed at 0x7f7259ca7370>, (<ufunc 'add'>, 'PtEtaPhiELorentzVector', 'PolarTwoVector'): <function TwoVector.add at 0x7f7259ca7c70>, (<ufunc 'add'>, 'PolarTwoVector', 'PtEtaPhiELorentzVector'): <function mixin_class_method.<locals>.register.<locals>.transposed at 0x7f7259ca7370>, (<ufunc 'subtract'>, 'PtEtaPhiELorentzVector', 'TwoVector'): <function TwoVector.subtract at 0x7f7259ca4280>, (<ufunc 'subtract'>, 'TwoVector', 'PtEtaPhiELorentzVector'): <function mixin_class_method.<locals>.register.<locals>.transposed at 0x7f7259ca70a0>, (<ufunc 'subtract'>, 'PtEtaPhiELorentzVector', 'PolarTwoVector'): <function TwoVector.subtract at 0x7f7259ca4280>, (<ufunc 'subtract'>, 'PolarTwoVector', 'PtEtaPhiELorentzVector'): <function mixin_class_method.<locals>.register.<locals>.transposed at 0x7f7259ca70a0>, (<ufunc 'true_divide'>, 'PtEtaPhiELorentzVector', <class 'numbers.Number'>): <function TwoVector.divide at 0x7f7259ca79a0>, (<ufunc 'true_divide'>, <class 'numbers.Number'>, 'PtEtaPhiELorentzVector'): <function mixin_class_method.<locals>.register.<locals>.transposed at 0x7f7259ca4160>, (<ufunc 'true_divide'>, 'PtEtaPhiELorentzVector', 'PtEtaPhiELorentzVector'): <function TwoVector.divide at 0x7f7259ca79a0>, 'Candidate': <class 'coffea.nanoevents.methods.candidate.CandidateRecord'>, ('*', 'Candidate'): <class 'coffea.nanoevents.methods.candidate.CandidateArray'>, (<ufunc 'add'>, 'Candidate', 'Candidate'): <function Candidate.add at 0x7f7259c8f250>, (<ufunc 'absolute'>, 'Candidate'): <function LorentzVector.absolute at 0x7f7259c8d6c0>, (<ufunc 'add'>, 'Candidate', 'PtEtaPhiELorentzVector'): <function LorentzVector.add at 0x7f7259c8d750>, (<ufunc 'add'>, 'PtEtaPhiELorentzVector', 'Candidate'): <function mixin_class_method.<locals>.register.<locals>.transposed at 0x7f7259c8d7e0>, (<ufunc 'add'>, 'Candidate', 'LorentzVector'): <function LorentzVector.add at 0x7f7259c8d750>, (<ufunc 'add'>, 'LorentzVector', 'Candidate'): <function mixin_class_method.<locals>.register.<locals>.transposed at 0x7f7259c8d7e0>, (<ufunc 'add'>, 'Candidate', 'PtEtaPhiMLorentzVector'): <function LorentzVector.add at 0x7f7259c8d750>, (<ufunc 'add'>, 'PtEtaPhiMLorentzVector', 'Candidate'): <function mixin_class_method.<locals>.register.<locals>.transposed at 0x7f7259c8d7e0>, (<ufunc 'subtract'>, 'Candidate', 'PtEtaPhiELorentzVector'): <function LorentzVector.subtract at 0x7f7259c8d870>, (<ufunc 'subtract'>, 'PtEtaPhiELorentzVector', 'Candidate'): <function mixin_class_method.<locals>.register.<locals>.transposed at 0x7f7259c8d900>, (<ufunc 'subtract'>, 'Candidate', 'LorentzVector'): <function LorentzVector.subtract at 0x7f7259c8d870>, (<ufunc 'subtract'>, 'LorentzVector', 'Candidate'): <function mixin_class_method.<locals>.register.<locals>.transposed at 0x7f7259c8d900>, (<ufunc 'subtract'>, 'Candidate', 'PtEtaPhiMLorentzVector'): <function LorentzVector.subtract at 0x7f7259c8d870>, (<ufunc 'subtract'>, 'PtEtaPhiMLorentzVector', 'Candidate'): <function mixin_class_method.<locals>.register.<locals>.transposed at 0x7f7259c8d900>, (<ufunc 'subtract'>, 'Candidate', 'Candidate'): <function LorentzVector.subtract at 0x7f7259c8d870>, (<ufunc 'multiply'>, 'Candidate', <class 'numbers.Number'>): <function LorentzVector.multiply at 0x7f7259c8da20>, (<ufunc 'multiply'>, <class 'numbers.Number'>, 'Candidate'): <function mixin_class_method.<locals>.register.<locals>.transposed at 0x7f7259c8dab0>, (<ufunc 'multiply'>, 'Candidate', 'Candidate'): <function LorentzVector.multiply at 0x7f7259c8da20>, (<ufunc 'negative'>, 'Candidate'): <function LorentzVector.negative at 0x7f7259c8dc60>, (<ufunc 'add'>, 'Candidate', 'SphericalThreeVector'): <function ThreeVector.add at 0x7f7259c8c9d0>, (<ufunc 'add'>, 'SphericalThreeVector', 'Candidate'): <function mixin_class_method.<locals>.register.<locals>.transposed at 0x7f7259c8ca60>, (<ufunc 'add'>, 'Candidate', 'ThreeVector'): <function ThreeVector.add at 0x7f7259c8c9d0>, (<ufunc 'add'>, 'ThreeVector', 'Candidate'): <function mixin_class_method.<locals>.register.<locals>.transposed at 0x7f7259c8ca60>, (<ufunc 'subtract'>, 'Candidate', 'SphericalThreeVector'): <function ThreeVector.subtract at 0x7f7259c8caf0>, (<ufunc 'subtract'>, 'SphericalThreeVector', 'Candidate'): <function mixin_class_method.<locals>.register.<locals>.transposed at 0x7f7259c8cb80>, (<ufunc 'subtract'>, 'Candidate', 'ThreeVector'): <function ThreeVector.subtract at 0x7f7259c8caf0>, (<ufunc 'subtract'>, 'ThreeVector', 'Candidate'): <function mixin_class_method.<locals>.register.<locals>.transposed at 0x7f7259c8cb80>, (<ufunc 'add'>, 'Candidate', 'TwoVector'): <function TwoVector.add at 0x7f7259ca7c70>, (<ufunc 'add'>, 'TwoVector', 'Candidate'): <function mixin_class_method.<locals>.register.<locals>.transposed at 0x7f7259ca7370>, (<ufunc 'add'>, 'Candidate', 'PolarTwoVector'): <function TwoVector.add at 0x7f7259ca7c70>, (<ufunc 'add'>, 'PolarTwoVector', 'Candidate'): <function mixin_class_method.<locals>.register.<locals>.transposed at 0x7f7259ca7370>, (<ufunc 'subtract'>, 'Candidate', 'TwoVector'): <function TwoVector.subtract at 0x7f7259ca4280>, (<ufunc 'subtract'>, 'TwoVector', 'Candidate'): <function mixin_class_method.<locals>.register.<locals>.transposed at 0x7f7259ca70a0>, (<ufunc 'subtract'>, 'Candidate', 'PolarTwoVector'): <function TwoVector.subtract at 0x7f7259ca4280>, (<ufunc 'subtract'>, 'PolarTwoVector', 'Candidate'): <function mixin_class_method.<locals>.register.<locals>.transposed at 0x7f7259ca70a0>, (<ufunc 'true_divide'>, 'Candidate', <class 'numbers.Number'>): <function TwoVector.divide at 0x7f7259ca79a0>, (<ufunc 'true_divide'>, <class 'numbers.Number'>, 'Candidate'): <function mixin_class_method.<locals>.register.<locals>.transposed at 0x7f7259ca4160>, (<ufunc 'true_divide'>, 'Candidate', 'Candidate'): <function TwoVector.divide at 0x7f7259ca79a0>, 'PtEtaPhiMCandidate': <class 'coffea.nanoevents.methods.candidate.PtEtaPhiMCandidateRecord'>, ('*', 'PtEtaPhiMCandidate'): <class 'coffea.nanoevents.methods.candidate.PtEtaPhiMCandidateArray'>, (<ufunc 'add'>, 'PtEtaPhiMCandidate', 'Candidate'): <function Candidate.add at 0x7f7259c8f250>, (<ufunc 'add'>, 'Candidate', 'PtEtaPhiMCandidate'): <function mixin_class_method.<locals>.register.<locals>.transposed at 0x7f7259c8f2e0>, (<ufunc 'add'>, 'PtEtaPhiMCandidate', 'PtEtaPhiMCandidate'): <function Candidate.add at 0x7f7259c8f250>, (<ufunc 'multiply'>, 'PtEtaPhiMCandidate', <class 'numbers.Number'>): <function PtEtaPhiMLorentzVector.multiply at 0x7f7259c8e710>, (<ufunc 'multiply'>, <class 'numbers.Number'>, 'PtEtaPhiMCandidate'): <function mixin_class_method.<locals>.register.<locals>.transposed at 0x7f7259c8e7a0>, (<ufunc 'multiply'>, 'PtEtaPhiMCandidate', 'PtEtaPhiMCandidate'): <function PtEtaPhiMLorentzVector.multiply at 0x7f7259c8e710>, (<ufunc 'negative'>, 'PtEtaPhiMCandidate'): <function PtEtaPhiMLorentzVector.negative at 0x7f7259c8e830>, (<ufunc 'absolute'>, 'PtEtaPhiMCandidate'): <function LorentzVector.absolute at 0x7f7259c8d6c0>, (<ufunc 'add'>, 'PtEtaPhiMCandidate', 'PtEtaPhiELorentzVector'): <function LorentzVector.add at 0x7f7259c8d750>, (<ufunc 'add'>, 'PtEtaPhiELorentzVector', 'PtEtaPhiMCandidate'): <function mixin_class_method.<locals>.register.<locals>.transposed at 0x7f7259c8d7e0>, (<ufunc 'add'>, 'PtEtaPhiMCandidate', 'LorentzVector'): <function LorentzVector.add at 0x7f7259c8d750>, (<ufunc 'add'>, 'LorentzVector', 'PtEtaPhiMCandidate'): <function mixin_class_method.<locals>.register.<locals>.transposed at 0x7f7259c8d7e0>, (<ufunc 'add'>, 'PtEtaPhiMCandidate', 'PtEtaPhiMLorentzVector'): <function LorentzVector.add at 0x7f7259c8d750>, (<ufunc 'add'>, 'PtEtaPhiMLorentzVector', 'PtEtaPhiMCandidate'): <function mixin_class_method.<locals>.register.<locals>.transposed at 0x7f7259c8d7e0>, (<ufunc 'subtract'>, 'PtEtaPhiMCandidate', 'PtEtaPhiELorentzVector'): <function LorentzVector.subtract at 0x7f7259c8d870>, (<ufunc 'subtract'>, 'PtEtaPhiELorentzVector', 'PtEtaPhiMCandidate'): <function mixin_class_method.<locals>.register.<locals>.transposed at 0x7f7259c8d900>, (<ufunc 'subtract'>, 'PtEtaPhiMCandidate', 'Candidate'): <function LorentzVector.subtract at 0x7f7259c8d870>, (<ufunc 'subtract'>, 'Candidate', 'PtEtaPhiMCandidate'): <function mixin_class_method.<locals>.register.<locals>.transposed at 0x7f7259c8d900>, (<ufunc 'subtract'>, 'PtEtaPhiMCandidate', 'LorentzVector'): <function LorentzVector.subtract at 0x7f7259c8d870>, (<ufunc 'subtract'>, 'LorentzVector', 'PtEtaPhiMCandidate'): <function mixin_class_method.<locals>.register.<locals>.transposed at 0x7f7259c8d900>, (<ufunc 'subtract'>, 'PtEtaPhiMCandidate', 'PtEtaPhiMLorentzVector'): <function LorentzVector.subtract at 0x7f7259c8d870>, (<ufunc 'subtract'>, 'PtEtaPhiMLorentzVector', 'PtEtaPhiMCandidate'): <function mixin_class_method.<locals>.register.<locals>.transposed at 0x7f7259c8d900>, (<ufunc 'subtract'>, 'PtEtaPhiMCandidate', 'PtEtaPhiMCandidate'): <function LorentzVector.subtract at 0x7f7259c8d870>, (<ufunc 'add'>, 'PtEtaPhiMCandidate', 'SphericalThreeVector'): <function ThreeVector.add at 0x7f7259c8c9d0>, (<ufunc 'add'>, 'SphericalThreeVector', 'PtEtaPhiMCandidate'): <function mixin_class_method.<locals>.register.<locals>.transposed at 0x7f7259c8ca60>, (<ufunc 'add'>, 'PtEtaPhiMCandidate', 'ThreeVector'): <function ThreeVector.add at 0x7f7259c8c9d0>, (<ufunc 'add'>, 'ThreeVector', 'PtEtaPhiMCandidate'): <function mixin_class_method.<locals>.register.<locals>.transposed at 0x7f7259c8ca60>, (<ufunc 'subtract'>, 'PtEtaPhiMCandidate', 'SphericalThreeVector'): <function ThreeVector.subtract at 0x7f7259c8caf0>, (<ufunc 'subtract'>, 'SphericalThreeVector', 'PtEtaPhiMCandidate'): <function mixin_class_method.<locals>.register.<locals>.transposed at 0x7f7259c8cb80>, (<ufunc 'subtract'>, 'PtEtaPhiMCandidate', 'ThreeVector'): <function ThreeVector.subtract at 0x7f7259c8caf0>, (<ufunc 'subtract'>, 'ThreeVector', 'PtEtaPhiMCandidate'): <function mixin_class_method.<locals>.register.<locals>.transposed at 0x7f7259c8cb80>, (<ufunc 'add'>, 'PtEtaPhiMCandidate', 'TwoVector'): <function TwoVector.add at 0x7f7259ca7c70>, (<ufunc 'add'>, 'TwoVector', 'PtEtaPhiMCandidate'): <function mixin_class_method.<locals>.register.<locals>.transposed at 0x7f7259ca7370>, (<ufunc 'add'>, 'PtEtaPhiMCandidate', 'PolarTwoVector'): <function TwoVector.add at 0x7f7259ca7c70>, (<ufunc 'add'>, 'PolarTwoVector', 'PtEtaPhiMCandidate'): <function mixin_class_method.<locals>.register.<locals>.transposed at 0x7f7259ca7370>, (<ufunc 'subtract'>, 'PtEtaPhiMCandidate', 'TwoVector'): <function TwoVector.subtract at 0x7f7259ca4280>, (<ufunc 'subtract'>, 'TwoVector', 'PtEtaPhiMCandidate'): <function mixin_class_method.<locals>.register.<locals>.transposed at 0x7f7259ca70a0>, (<ufunc 'subtract'>, 'PtEtaPhiMCandidate', 'PolarTwoVector'): <function TwoVector.subtract at 0x7f7259ca4280>, (<ufunc 'subtract'>, 'PolarTwoVector', 'PtEtaPhiMCandidate'): <function mixin_class_method.<locals>.register.<locals>.transposed at 0x7f7259ca70a0>, (<ufunc 'true_divide'>, 'PtEtaPhiMCandidate', <class 'numbers.Number'>): <function TwoVector.divide at 0x7f7259ca79a0>, (<ufunc 'true_divide'>, <class 'numbers.Number'>, 'PtEtaPhiMCandidate'): <function mixin_class_method.<locals>.register.<locals>.transposed at 0x7f7259ca4160>, (<ufunc 'true_divide'>, 'PtEtaPhiMCandidate', 'PtEtaPhiMCandidate'): <function TwoVector.divide at 0x7f7259ca79a0>, 'PtEtaPhiECandidate': <class 'coffea.nanoevents.methods.candidate.PtEtaPhiECandidateRecord'>, ('*', 'PtEtaPhiECandidate'): <class 'coffea.nanoevents.methods.candidate.PtEtaPhiECandidateArray'>, (<ufunc 'add'>, 'PtEtaPhiECandidate', 'PtEtaPhiMCandidate'): <function Candidate.add at 0x7f7259c8f250>, (<ufunc 'add'>, 'PtEtaPhiMCandidate', 'PtEtaPhiECandidate'): <function mixin_class_method.<locals>.register.<locals>.transposed at 0x7f7259c8f2e0>, (<ufunc 'add'>, 'PtEtaPhiECandidate', 'Candidate'): <function Candidate.add at 0x7f7259c8f250>, (<ufunc 'add'>, 'Candidate', 'PtEtaPhiECandidate'): <function mixin_class_method.<locals>.register.<locals>.transposed at 0x7f7259c8f2e0>, (<ufunc 'add'>, 'PtEtaPhiECandidate', 'PtEtaPhiECandidate'): <function Candidate.add at 0x7f7259c8f250>, (<ufunc 'multiply'>, 'PtEtaPhiECandidate', <class 'numbers.Number'>): <function PtEtaPhiELorentzVector.multiply at 0x7f7259c8eef0>, (<ufunc 'multiply'>, <class 'numbers.Number'>, 'PtEtaPhiECandidate'): <function mixin_class_method.<locals>.register.<locals>.transposed at 0x7f7259c8ef80>, (<ufunc 'multiply'>, 'PtEtaPhiECandidate', 'PtEtaPhiECandidate'): <function PtEtaPhiELorentzVector.multiply at 0x7f7259c8eef0>, (<ufunc 'negative'>, 'PtEtaPhiECandidate'): <function PtEtaPhiELorentzVector.negative at 0x7f7259c8f010>, (<ufunc 'absolute'>, 'PtEtaPhiECandidate'): <function LorentzVector.absolute at 0x7f7259c8d6c0>, (<ufunc 'add'>, 'PtEtaPhiECandidate', 'PtEtaPhiELorentzVector'): <function LorentzVector.add at 0x7f7259c8d750>, (<ufunc 'add'>, 'PtEtaPhiELorentzVector', 'PtEtaPhiECandidate'): <function mixin_class_method.<locals>.register.<locals>.transposed at 0x7f7259c8d7e0>, (<ufunc 'add'>, 'PtEtaPhiECandidate', 'PtEtaPhiMLorentzVector'): <function LorentzVector.add at 0x7f7259c8d750>, (<ufunc 'add'>, 'PtEtaPhiMLorentzVector', 'PtEtaPhiECandidate'): <function mixin_class_method.<locals>.register.<locals>.transposed at 0x7f7259c8d7e0>, (<ufunc 'add'>, 'PtEtaPhiECandidate', 'LorentzVector'): <function LorentzVector.add at 0x7f7259c8d750>, (<ufunc 'add'>, 'LorentzVector', 'PtEtaPhiECandidate'): <function mixin_class_method.<locals>.register.<locals>.transposed at 0x7f7259c8d7e0>, (<ufunc 'subtract'>, 'PtEtaPhiECandidate', 'PtEtaPhiELorentzVector'): <function LorentzVector.subtract at 0x7f7259c8d870>, (<ufunc 'subtract'>, 'PtEtaPhiELorentzVector', 'PtEtaPhiECandidate'): <function mixin_class_method.<locals>.register.<locals>.transposed at 0x7f7259c8d900>, (<ufunc 'subtract'>, 'PtEtaPhiECandidate', 'PtEtaPhiMLorentzVector'): <function LorentzVector.subtract at 0x7f7259c8d870>, (<ufunc 'subtract'>, 'PtEtaPhiMLorentzVector', 'PtEtaPhiECandidate'): <function mixin_class_method.<locals>.register.<locals>.transposed at 0x7f7259c8d900>, (<ufunc 'subtract'>, 'PtEtaPhiECandidate', 'PtEtaPhiMCandidate'): <function LorentzVector.subtract at 0x7f7259c8d870>, (<ufunc 'subtract'>, 'PtEtaPhiMCandidate', 'PtEtaPhiECandidate'): <function mixin_class_method.<locals>.register.<locals>.transposed at 0x7f7259c8d900>, (<ufunc 'subtract'>, 'PtEtaPhiECandidate', 'LorentzVector'): <function LorentzVector.subtract at 0x7f7259c8d870>, (<ufunc 'subtract'>, 'LorentzVector', 'PtEtaPhiECandidate'): <function mixin_class_method.<locals>.register.<locals>.transposed at 0x7f7259c8d900>, (<ufunc 'subtract'>, 'PtEtaPhiECandidate', 'Candidate'): <function LorentzVector.subtract at 0x7f7259c8d870>, (<ufunc 'subtract'>, 'Candidate', 'PtEtaPhiECandidate'): <function mixin_class_method.<locals>.register.<locals>.transposed at 0x7f7259c8d900>, (<ufunc 'subtract'>, 'PtEtaPhiECandidate', 'PtEtaPhiECandidate'): <function LorentzVector.subtract at 0x7f7259c8d870>, (<ufunc 'add'>, 'PtEtaPhiECandidate', 'SphericalThreeVector'): <function ThreeVector.add at 0x7f7259c8c9d0>, (<ufunc 'add'>, 'SphericalThreeVector', 'PtEtaPhiECandidate'): <function mixin_class_method.<locals>.register.<locals>.transposed at 0x7f7259c8ca60>, (<ufunc 'add'>, 'PtEtaPhiECandidate', 'ThreeVector'): <function ThreeVector.add at 0x7f7259c8c9d0>, (<ufunc 'add'>, 'ThreeVector', 'PtEtaPhiECandidate'): <function mixin_class_method.<locals>.register.<locals>.transposed at 0x7f7259c8ca60>, (<ufunc 'subtract'>, 'PtEtaPhiECandidate', 'SphericalThreeVector'): <function ThreeVector.subtract at 0x7f7259c8caf0>, (<ufunc 'subtract'>, 'SphericalThreeVector', 'PtEtaPhiECandidate'): <function mixin_class_method.<locals>.register.<locals>.transposed at 0x7f7259c8cb80>, (<ufunc 'subtract'>, 'PtEtaPhiECandidate', 'ThreeVector'): <function ThreeVector.subtract at 0x7f7259c8caf0>, (<ufunc 'subtract'>, 'ThreeVector', 'PtEtaPhiECandidate'): <function mixin_class_method.<locals>.register.<locals>.transposed at 0x7f7259c8cb80>, (<ufunc 'add'>, 'PtEtaPhiECandidate', 'TwoVector'): <function TwoVector.add at 0x7f7259ca7c70>, (<ufunc 'add'>, 'TwoVector', 'PtEtaPhiECandidate'): <function mixin_class_method.<locals>.register.<locals>.transposed at 0x7f7259ca7370>, (<ufunc 'add'>, 'PtEtaPhiECandidate', 'PolarTwoVector'): <function TwoVector.add at 0x7f7259ca7c70>, (<ufunc 'add'>, 'PolarTwoVector', 'PtEtaPhiECandidate'): <function mixin_class_method.<locals>.register.<locals>.transposed at 0x7f7259ca7370>, (<ufunc 'subtract'>, 'PtEtaPhiECandidate', 'TwoVector'): <function TwoVector.subtract at 0x7f7259ca4280>, (<ufunc 'subtract'>, 'TwoVector', 'PtEtaPhiECandidate'): <function mixin_class_method.<locals>.register.<locals>.transposed at 0x7f7259ca70a0>, (<ufunc 'subtract'>, 'PtEtaPhiECandidate', 'PolarTwoVector'): <function TwoVector.subtract at 0x7f7259ca4280>, (<ufunc 'subtract'>, 'PolarTwoVector', 'PtEtaPhiECandidate'): <function mixin_class_method.<locals>.register.<locals>.transposed at 0x7f7259ca70a0>, (<ufunc 'true_divide'>, 'PtEtaPhiECandidate', <class 'numbers.Number'>): <function TwoVector.divide at 0x7f7259ca79a0>, (<ufunc 'true_divide'>, <class 'numbers.Number'>, 'PtEtaPhiECandidate'): <function mixin_class_method.<locals>.register.<locals>.transposed at 0x7f7259ca4160>, (<ufunc 'true_divide'>, 'PtEtaPhiECandidate', 'PtEtaPhiECandidate'): <function TwoVector.divide at 0x7f7259ca79a0>, 'PtEtaPhiMCollection': <class 'coffea.nanoevents.methods.nanoaod.PtEtaPhiMCollectionRecord'>, ('*', 'PtEtaPhiMCollection'): <class 'coffea.nanoevents.methods.nanoaod.PtEtaPhiMCollectionArray'>, (<ufunc 'multiply'>, 'PtEtaPhiMCollection', <class 'numbers.Number'>): <function PtEtaPhiMLorentzVector.multiply at 0x7f7259c8e710>, (<ufunc 'multiply'>, <class 'numbers.Number'>, 'PtEtaPhiMCollection'): <function mixin_class_method.<locals>.register.<locals>.transposed at 0x7f7259c8e7a0>, (<ufunc 'multiply'>, 'PtEtaPhiMCollection', 'PtEtaPhiMCollection'): <function PtEtaPhiMLorentzVector.multiply at 0x7f7259c8e710>, (<ufunc 'negative'>, 'PtEtaPhiMCollection'): <function PtEtaPhiMLorentzVector.negative at 0x7f7259c8e830>, (<ufunc 'absolute'>, 'PtEtaPhiMCollection'): <function LorentzVector.absolute at 0x7f7259c8d6c0>, (<ufunc 'add'>, 'PtEtaPhiMCollection', 'PtEtaPhiELorentzVector'): <function LorentzVector.add at 0x7f7259c8d750>, (<ufunc 'add'>, 'PtEtaPhiELorentzVector', 'PtEtaPhiMCollection'): <function mixin_class_method.<locals>.register.<locals>.transposed at 0x7f7259c8d7e0>, (<ufunc 'add'>, 'PtEtaPhiMCollection', 'PtEtaPhiMLorentzVector'): <function LorentzVector.add at 0x7f7259c8d750>, (<ufunc 'add'>, 'PtEtaPhiMLorentzVector', 'PtEtaPhiMCollection'): <function mixin_class_method.<locals>.register.<locals>.transposed at 0x7f7259c8d7e0>, (<ufunc 'add'>, 'PtEtaPhiMCollection', 'PtEtaPhiMCandidate'): <function LorentzVector.add at 0x7f7259c8d750>, (<ufunc 'add'>, 'PtEtaPhiMCandidate', 'PtEtaPhiMCollection'): <function mixin_class_method.<locals>.register.<locals>.transposed at 0x7f7259c8d7e0>, (<ufunc 'add'>, 'PtEtaPhiMCollection', 'PtEtaPhiECandidate'): <function LorentzVector.add at 0x7f7259c8d750>, (<ufunc 'add'>, 'PtEtaPhiECandidate', 'PtEtaPhiMCollection'): <function mixin_class_method.<locals>.register.<locals>.transposed at 0x7f7259c8d7e0>, (<ufunc 'add'>, 'PtEtaPhiMCollection', 'LorentzVector'): <function LorentzVector.add at 0x7f7259c8d750>, (<ufunc 'add'>, 'LorentzVector', 'PtEtaPhiMCollection'): <function mixin_class_method.<locals>.register.<locals>.transposed at 0x7f7259c8d7e0>, (<ufunc 'add'>, 'PtEtaPhiMCollection', 'Candidate'): <function LorentzVector.add at 0x7f7259c8d750>, (<ufunc 'add'>, 'Candidate', 'PtEtaPhiMCollection'): <function mixin_class_method.<locals>.register.<locals>.transposed at 0x7f7259c8d7e0>, (<ufunc 'add'>, 'PtEtaPhiMCollection', 'PtEtaPhiMCollection'): <function LorentzVector.add at 0x7f7259c8d750>, (<ufunc 'subtract'>, 'PtEtaPhiMCollection', 'PtEtaPhiELorentzVector'): <function LorentzVector.subtract at 0x7f7259c8d870>, (<ufunc 'subtract'>, 'PtEtaPhiELorentzVector', 'PtEtaPhiMCollection'): <function mixin_class_method.<locals>.register.<locals>.transposed at 0x7f7259c8d900>, (<ufunc 'subtract'>, 'PtEtaPhiMCollection', 'PtEtaPhiMLorentzVector'): <function LorentzVector.subtract at 0x7f7259c8d870>, (<ufunc 'subtract'>, 'PtEtaPhiMLorentzVector', 'PtEtaPhiMCollection'): <function mixin_class_method.<locals>.register.<locals>.transposed at 0x7f7259c8d900>, (<ufunc 'subtract'>, 'PtEtaPhiMCollection', 'PtEtaPhiMCandidate'): <function LorentzVector.subtract at 0x7f7259c8d870>, (<ufunc 'subtract'>, 'PtEtaPhiMCandidate', 'PtEtaPhiMCollection'): <function mixin_class_method.<locals>.register.<locals>.transposed at 0x7f7259c8d900>, (<ufunc 'subtract'>, 'PtEtaPhiMCollection', 'PtEtaPhiECandidate'): <function LorentzVector.subtract at 0x7f7259c8d870>, (<ufunc 'subtract'>, 'PtEtaPhiECandidate', 'PtEtaPhiMCollection'): <function mixin_class_method.<locals>.register.<locals>.transposed at 0x7f7259c8d900>, (<ufunc 'subtract'>, 'PtEtaPhiMCollection', 'LorentzVector'): <function LorentzVector.subtract at 0x7f7259c8d870>, (<ufunc 'subtract'>, 'LorentzVector', 'PtEtaPhiMCollection'): <function mixin_class_method.<locals>.register.<locals>.transposed at 0x7f7259c8d900>, (<ufunc 'subtract'>, 'PtEtaPhiMCollection', 'Candidate'): <function LorentzVector.subtract at 0x7f7259c8d870>, (<ufunc 'subtract'>, 'Candidate', 'PtEtaPhiMCollection'): <function mixin_class_method.<locals>.register.<locals>.transposed at 0x7f7259c8d900>, (<ufunc 'subtract'>, 'PtEtaPhiMCollection', 'PtEtaPhiMCollection'): <function LorentzVector.subtract at 0x7f7259c8d870>, (<ufunc 'add'>, 'PtEtaPhiMCollection', 'SphericalThreeVector'): <function ThreeVector.add at 0x7f7259c8c9d0>, (<ufunc 'add'>, 'SphericalThreeVector', 'PtEtaPhiMCollection'): <function mixin_class_method.<locals>.register.<locals>.transposed at 0x7f7259c8ca60>, (<ufunc 'add'>, 'PtEtaPhiMCollection', 'ThreeVector'): <function ThreeVector.add at 0x7f7259c8c9d0>, (<ufunc 'add'>, 'ThreeVector', 'PtEtaPhiMCollection'): <function mixin_class_method.<locals>.register.<locals>.transposed at 0x7f7259c8ca60>, (<ufunc 'subtract'>, 'PtEtaPhiMCollection', 'SphericalThreeVector'): <function ThreeVector.subtract at 0x7f7259c8caf0>, (<ufunc 'subtract'>, 'SphericalThreeVector', 'PtEtaPhiMCollection'): <function mixin_class_method.<locals>.register.<locals>.transposed at 0x7f7259c8cb80>, (<ufunc 'subtract'>, 'PtEtaPhiMCollection', 'ThreeVector'): <function ThreeVector.subtract at 0x7f7259c8caf0>, (<ufunc 'subtract'>, 'ThreeVector', 'PtEtaPhiMCollection'): <function mixin_class_method.<locals>.register.<locals>.transposed at 0x7f7259c8cb80>, (<ufunc 'add'>, 'PtEtaPhiMCollection', 'TwoVector'): <function TwoVector.add at 0x7f7259ca7c70>, (<ufunc 'add'>, 'TwoVector', 'PtEtaPhiMCollection'): <function mixin_class_method.<locals>.register.<locals>.transposed at 0x7f7259ca7370>, (<ufunc 'add'>, 'PtEtaPhiMCollection', 'PolarTwoVector'): <function TwoVector.add at 0x7f7259ca7c70>, (<ufunc 'add'>, 'PolarTwoVector', 'PtEtaPhiMCollection'): <function mixin_class_method.<locals>.register.<locals>.transposed at 0x7f7259ca7370>, (<ufunc 'subtract'>, 'PtEtaPhiMCollection', 'TwoVector'): <function TwoVector.subtract at 0x7f7259ca4280>, (<ufunc 'subtract'>, 'TwoVector', 'PtEtaPhiMCollection'): <function mixin_class_method.<locals>.register.<locals>.transposed at 0x7f7259ca70a0>, (<ufunc 'subtract'>, 'PtEtaPhiMCollection', 'PolarTwoVector'): <function TwoVector.subtract at 0x7f7259ca4280>, (<ufunc 'subtract'>, 'PolarTwoVector', 'PtEtaPhiMCollection'): <function mixin_class_method.<locals>.register.<locals>.transposed at 0x7f7259ca70a0>, (<ufunc 'true_divide'>, 'PtEtaPhiMCollection', <class 'numbers.Number'>): <function TwoVector.divide at 0x7f7259ca79a0>, (<ufunc 'true_divide'>, <class 'numbers.Number'>, 'PtEtaPhiMCollection'): <function mixin_class_method.<locals>.register.<locals>.transposed at 0x7f7259ca4160>, (<ufunc 'true_divide'>, 'PtEtaPhiMCollection', 'PtEtaPhiMCollection'): <function TwoVector.divide at 0x7f7259ca79a0>, 'GenParticle': <class 'coffea.nanoevents.methods.nanoaod.GenParticleRecord'>, ('*', 'GenParticle'): <class 'coffea.nanoevents.methods.nanoaod.GenParticleArray'>, (<ufunc 'multiply'>, 'GenParticle', <class 'numbers.Number'>): <function PtEtaPhiMLorentzVector.multiply at 0x7f7259c8e710>, (<ufunc 'multiply'>, <class 'numbers.Number'>, 'GenParticle'): <function mixin_class_method.<locals>.register.<locals>.transposed at 0x7f7259c8e7a0>, (<ufunc 'multiply'>, 'GenParticle', 'GenParticle'): <function PtEtaPhiMLorentzVector.multiply at 0x7f7259c8e710>, (<ufunc 'negative'>, 'GenParticle'): <function PtEtaPhiMLorentzVector.negative at 0x7f7259c8e830>, (<ufunc 'absolute'>, 'GenParticle'): <function LorentzVector.absolute at 0x7f7259c8d6c0>, (<ufunc 'add'>, 'GenParticle', 'PtEtaPhiELorentzVector'): <function LorentzVector.add at 0x7f7259c8d750>, (<ufunc 'add'>, 'PtEtaPhiELorentzVector', 'GenParticle'): <function mixin_class_method.<locals>.register.<locals>.transposed at 0x7f7259c8d7e0>, (<ufunc 'add'>, 'GenParticle', 'PtEtaPhiMLorentzVector'): <function LorentzVector.add at 0x7f7259c8d750>, (<ufunc 'add'>, 'PtEtaPhiMLorentzVector', 'GenParticle'): <function mixin_class_method.<locals>.register.<locals>.transposed at 0x7f7259c8d7e0>, (<ufunc 'add'>, 'GenParticle', 'PtEtaPhiMCandidate'): <function LorentzVector.add at 0x7f7259c8d750>, (<ufunc 'add'>, 'PtEtaPhiMCandidate', 'GenParticle'): <function mixin_class_method.<locals>.register.<locals>.transposed at 0x7f7259c8d7e0>, (<ufunc 'add'>, 'GenParticle', 'PtEtaPhiECandidate'): <function LorentzVector.add at 0x7f7259c8d750>, (<ufunc 'add'>, 'PtEtaPhiECandidate', 'GenParticle'): <function mixin_class_method.<locals>.register.<locals>.transposed at 0x7f7259c8d7e0>, (<ufunc 'add'>, 'GenParticle', 'PtEtaPhiMCollection'): <function LorentzVector.add at 0x7f7259c8d750>, (<ufunc 'add'>, 'PtEtaPhiMCollection', 'GenParticle'): <function mixin_class_method.<locals>.register.<locals>.transposed at 0x7f7259c8d7e0>, (<ufunc 'add'>, 'GenParticle', 'LorentzVector'): <function LorentzVector.add at 0x7f7259c8d750>, (<ufunc 'add'>, 'LorentzVector', 'GenParticle'): <function mixin_class_method.<locals>.register.<locals>.transposed at 0x7f7259c8d7e0>, (<ufunc 'add'>, 'GenParticle', 'Candidate'): <function LorentzVector.add at 0x7f7259c8d750>, (<ufunc 'add'>, 'Candidate', 'GenParticle'): <function mixin_class_method.<locals>.register.<locals>.transposed at 0x7f7259c8d7e0>, (<ufunc 'add'>, 'GenParticle', 'GenParticle'): <function LorentzVector.add at 0x7f7259c8d750>, (<ufunc 'subtract'>, 'GenParticle', 'PtEtaPhiELorentzVector'): <function LorentzVector.subtract at 0x7f7259c8d870>, (<ufunc 'subtract'>, 'PtEtaPhiELorentzVector', 'GenParticle'): <function mixin_class_method.<locals>.register.<locals>.transposed at 0x7f7259c8d900>, (<ufunc 'subtract'>, 'GenParticle', 'PtEtaPhiMLorentzVector'): <function LorentzVector.subtract at 0x7f7259c8d870>, (<ufunc 'subtract'>, 'PtEtaPhiMLorentzVector', 'GenParticle'): <function mixin_class_method.<locals>.register.<locals>.transposed at 0x7f7259c8d900>, (<ufunc 'subtract'>, 'GenParticle', 'PtEtaPhiMCandidate'): <function LorentzVector.subtract at 0x7f7259c8d870>, (<ufunc 'subtract'>, 'PtEtaPhiMCandidate', 'GenParticle'): <function mixin_class_method.<locals>.register.<locals>.transposed at 0x7f7259c8d900>, (<ufunc 'subtract'>, 'GenParticle', 'PtEtaPhiECandidate'): <function LorentzVector.subtract at 0x7f7259c8d870>, (<ufunc 'subtract'>, 'PtEtaPhiECandidate', 'GenParticle'): <function mixin_class_method.<locals>.register.<locals>.transposed at 0x7f7259c8d900>, (<ufunc 'subtract'>, 'GenParticle', 'PtEtaPhiMCollection'): <function LorentzVector.subtract at 0x7f7259c8d870>, (<ufunc 'subtract'>, 'PtEtaPhiMCollection', 'GenParticle'): <function mixin_class_method.<locals>.register.<locals>.transposed at 0x7f7259c8d900>, (<ufunc 'subtract'>, 'GenParticle', 'LorentzVector'): <function LorentzVector.subtract at 0x7f7259c8d870>, (<ufunc 'subtract'>, 'LorentzVector', 'GenParticle'): <function mixin_class_method.<locals>.register.<locals>.transposed at 0x7f7259c8d900>, (<ufunc 'subtract'>, 'GenParticle', 'Candidate'): <function LorentzVector.subtract at 0x7f7259c8d870>, (<ufunc 'subtract'>, 'Candidate', 'GenParticle'): <function mixin_class_method.<locals>.register.<locals>.transposed at 0x7f7259c8d900>, (<ufunc 'subtract'>, 'GenParticle', 'GenParticle'): <function LorentzVector.subtract at 0x7f7259c8d870>, (<ufunc 'add'>, 'GenParticle', 'SphericalThreeVector'): <function ThreeVector.add at 0x7f7259c8c9d0>, (<ufunc 'add'>, 'SphericalThreeVector', 'GenParticle'): <function mixin_class_method.<locals>.register.<locals>.transposed at 0x7f7259c8ca60>, (<ufunc 'add'>, 'GenParticle', 'ThreeVector'): <function ThreeVector.add at 0x7f7259c8c9d0>, (<ufunc 'add'>, 'ThreeVector', 'GenParticle'): <function mixin_class_method.<locals>.register.<locals>.transposed at 0x7f7259c8ca60>, (<ufunc 'subtract'>, 'GenParticle', 'SphericalThreeVector'): <function ThreeVector.subtract at 0x7f7259c8caf0>, (<ufunc 'subtract'>, 'SphericalThreeVector', 'GenParticle'): <function mixin_class_method.<locals>.register.<locals>.transposed at 0x7f7259c8cb80>, (<ufunc 'subtract'>, 'GenParticle', 'ThreeVector'): <function ThreeVector.subtract at 0x7f7259c8caf0>, (<ufunc 'subtract'>, 'ThreeVector', 'GenParticle'): <function mixin_class_method.<locals>.register.<locals>.transposed at 0x7f7259c8cb80>, (<ufunc 'add'>, 'GenParticle', 'TwoVector'): <function TwoVector.add at 0x7f7259ca7c70>, (<ufunc 'add'>, 'TwoVector', 'GenParticle'): <function mixin_class_method.<locals>.register.<locals>.transposed at 0x7f7259ca7370>, (<ufunc 'add'>, 'GenParticle', 'PolarTwoVector'): <function TwoVector.add at 0x7f7259ca7c70>, (<ufunc 'add'>, 'PolarTwoVector', 'GenParticle'): <function mixin_class_method.<locals>.register.<locals>.transposed at 0x7f7259ca7370>, (<ufunc 'subtract'>, 'GenParticle', 'TwoVector'): <function TwoVector.subtract at 0x7f7259ca4280>, (<ufunc 'subtract'>, 'TwoVector', 'GenParticle'): <function mixin_class_method.<locals>.register.<locals>.transposed at 0x7f7259ca70a0>, (<ufunc 'subtract'>, 'GenParticle', 'PolarTwoVector'): <function TwoVector.subtract at 0x7f7259ca4280>, (<ufunc 'subtract'>, 'PolarTwoVector', 'GenParticle'): <function mixin_class_method.<locals>.register.<locals>.transposed at 0x7f7259ca70a0>, (<ufunc 'true_divide'>, 'GenParticle', <class 'numbers.Number'>): <function TwoVector.divide at 0x7f7259ca79a0>, (<ufunc 'true_divide'>, <class 'numbers.Number'>, 'GenParticle'): <function mixin_class_method.<locals>.register.<locals>.transposed at 0x7f7259ca4160>, (<ufunc 'true_divide'>, 'GenParticle', 'GenParticle'): <function TwoVector.divide at 0x7f7259ca79a0>, ('__typestr__', 'GenParticle'): 'genParticle', 'GenVisTau': <class 'coffea.nanoevents.methods.nanoaod.GenVisTauRecord'>, ('*', 'GenVisTau'): <class 'coffea.nanoevents.methods.nanoaod.GenVisTauArray'>, (<ufunc 'add'>, 'GenVisTau', 'PtEtaPhiECandidate'): <function Candidate.add at 0x7f7259c8f250>, (<ufunc 'add'>, 'PtEtaPhiECandidate', 'GenVisTau'): <function mixin_class_method.<locals>.register.<locals>.transposed at 0x7f7259c8f2e0>, (<ufunc 'add'>, 'GenVisTau', 'PtEtaPhiMCandidate'): <function Candidate.add at 0x7f7259c8f250>, (<ufunc 'add'>, 'PtEtaPhiMCandidate', 'GenVisTau'): <function mixin_class_method.<locals>.register.<locals>.transposed at 0x7f7259c8f2e0>, (<ufunc 'add'>, 'GenVisTau', 'Candidate'): <function Candidate.add at 0x7f7259c8f250>, (<ufunc 'add'>, 'Candidate', 'GenVisTau'): <function mixin_class_method.<locals>.register.<locals>.transposed at 0x7f7259c8f2e0>, (<ufunc 'add'>, 'GenVisTau', 'GenVisTau'): <function Candidate.add at 0x7f7259c8f250>, (<ufunc 'multiply'>, 'GenVisTau', <class 'numbers.Number'>): <function PtEtaPhiMLorentzVector.multiply at 0x7f7259c8e710>, (<ufunc 'multiply'>, <class 'numbers.Number'>, 'GenVisTau'): <function mixin_class_method.<locals>.register.<locals>.transposed at 0x7f7259c8e7a0>, (<ufunc 'multiply'>, 'GenVisTau', 'GenVisTau'): <function PtEtaPhiMLorentzVector.multiply at 0x7f7259c8e710>, (<ufunc 'negative'>, 'GenVisTau'): <function PtEtaPhiMLorentzVector.negative at 0x7f7259c8e830>, (<ufunc 'absolute'>, 'GenVisTau'): <function LorentzVector.absolute at 0x7f7259c8d6c0>, (<ufunc 'add'>, 'GenVisTau', 'PtEtaPhiELorentzVector'): <function LorentzVector.add at 0x7f7259c8d750>, (<ufunc 'add'>, 'PtEtaPhiELorentzVector', 'GenVisTau'): <function mixin_class_method.<locals>.register.<locals>.transposed at 0x7f7259c8d7e0>, (<ufunc 'add'>, 'GenVisTau', 'PtEtaPhiMLorentzVector'): <function LorentzVector.add at 0x7f7259c8d750>, (<ufunc 'add'>, 'PtEtaPhiMLorentzVector', 'GenVisTau'): <function mixin_class_method.<locals>.register.<locals>.transposed at 0x7f7259c8d7e0>, (<ufunc 'add'>, 'GenVisTau', 'GenParticle'): <function LorentzVector.add at 0x7f7259c8d750>, (<ufunc 'add'>, 'GenParticle', 'GenVisTau'): <function mixin_class_method.<locals>.register.<locals>.transposed at 0x7f7259c8d7e0>, (<ufunc 'add'>, 'GenVisTau', 'PtEtaPhiMCollection'): <function LorentzVector.add at 0x7f7259c8d750>, (<ufunc 'add'>, 'PtEtaPhiMCollection', 'GenVisTau'): <function mixin_class_method.<locals>.register.<locals>.transposed at 0x7f7259c8d7e0>, (<ufunc 'add'>, 'GenVisTau', 'LorentzVector'): <function LorentzVector.add at 0x7f7259c8d750>, (<ufunc 'add'>, 'LorentzVector', 'GenVisTau'): <function mixin_class_method.<locals>.register.<locals>.transposed at 0x7f7259c8d7e0>, (<ufunc 'subtract'>, 'GenVisTau', 'PtEtaPhiELorentzVector'): <function LorentzVector.subtract at 0x7f7259c8d870>, (<ufunc 'subtract'>, 'PtEtaPhiELorentzVector', 'GenVisTau'): <function mixin_class_method.<locals>.register.<locals>.transposed at 0x7f7259c8d900>, (<ufunc 'subtract'>, 'GenVisTau', 'PtEtaPhiMLorentzVector'): <function LorentzVector.subtract at 0x7f7259c8d870>, (<ufunc 'subtract'>, 'PtEtaPhiMLorentzVector', 'GenVisTau'): <function mixin_class_method.<locals>.register.<locals>.transposed at 0x7f7259c8d900>, (<ufunc 'subtract'>, 'GenVisTau', 'GenParticle'): <function LorentzVector.subtract at 0x7f7259c8d870>, (<ufunc 'subtract'>, 'GenParticle', 'GenVisTau'): <function mixin_class_method.<locals>.register.<locals>.transposed at 0x7f7259c8d900>, (<ufunc 'subtract'>, 'GenVisTau', 'PtEtaPhiMCandidate'): <function LorentzVector.subtract at 0x7f7259c8d870>, (<ufunc 'subtract'>, 'PtEtaPhiMCandidate', 'GenVisTau'): <function mixin_class_method.<locals>.register.<locals>.transposed at 0x7f7259c8d900>, (<ufunc 'subtract'>, 'GenVisTau', 'PtEtaPhiECandidate'): <function LorentzVector.subtract at 0x7f7259c8d870>, (<ufunc 'subtract'>, 'PtEtaPhiECandidate', 'GenVisTau'): <function mixin_class_method.<locals>.register.<locals>.transposed at 0x7f7259c8d900>, (<ufunc 'subtract'>, 'GenVisTau', 'PtEtaPhiMCollection'): <function LorentzVector.subtract at 0x7f7259c8d870>, (<ufunc 'subtract'>, 'PtEtaPhiMCollection', 'GenVisTau'): <function mixin_class_method.<locals>.register.<locals>.transposed at 0x7f7259c8d900>, (<ufunc 'subtract'>, 'GenVisTau', 'LorentzVector'): <function LorentzVector.subtract at 0x7f7259c8d870>, (<ufunc 'subtract'>, 'LorentzVector', 'GenVisTau'): <function mixin_class_method.<locals>.register.<locals>.transposed at 0x7f7259c8d900>, (<ufunc 'subtract'>, 'GenVisTau', 'Candidate'): <function LorentzVector.subtract at 0x7f7259c8d870>, (<ufunc 'subtract'>, 'Candidate', 'GenVisTau'): <function mixin_class_method.<locals>.register.<locals>.transposed at 0x7f7259c8d900>, (<ufunc 'subtract'>, 'GenVisTau', 'GenVisTau'): <function LorentzVector.subtract at 0x7f7259c8d870>, (<ufunc 'add'>, 'GenVisTau', 'SphericalThreeVector'): <function ThreeVector.add at 0x7f7259c8c9d0>, (<ufunc 'add'>, 'SphericalThreeVector', 'GenVisTau'): <function mixin_class_method.<locals>.register.<locals>.transposed at 0x7f7259c8ca60>, (<ufunc 'add'>, 'GenVisTau', 'ThreeVector'): <function ThreeVector.add at 0x7f7259c8c9d0>, (<ufunc 'add'>, 'ThreeVector', 'GenVisTau'): <function mixin_class_method.<locals>.register.<locals>.transposed at 0x7f7259c8ca60>, (<ufunc 'subtract'>, 'GenVisTau', 'SphericalThreeVector'): <function ThreeVector.subtract at 0x7f7259c8caf0>, (<ufunc 'subtract'>, 'SphericalThreeVector', 'GenVisTau'): <function mixin_class_method.<locals>.register.<locals>.transposed at 0x7f7259c8cb80>, (<ufunc 'subtract'>, 'GenVisTau', 'ThreeVector'): <function ThreeVector.subtract at 0x7f7259c8caf0>, (<ufunc 'subtract'>, 'ThreeVector', 'GenVisTau'): <function mixin_class_method.<locals>.register.<locals>.transposed at 0x7f7259c8cb80>, (<ufunc 'add'>, 'GenVisTau', 'TwoVector'): <function TwoVector.add at 0x7f7259ca7c70>, (<ufunc 'add'>, 'TwoVector', 'GenVisTau'): <function mixin_class_method.<locals>.register.<locals>.transposed at 0x7f7259ca7370>, (<ufunc 'add'>, 'GenVisTau', 'PolarTwoVector'): <function TwoVector.add at 0x7f7259ca7c70>, (<ufunc 'add'>, 'PolarTwoVector', 'GenVisTau'): <function mixin_class_method.<locals>.register.<locals>.transposed at 0x7f7259ca7370>, (<ufunc 'subtract'>, 'GenVisTau', 'TwoVector'): <function TwoVector.subtract at 0x7f7259ca4280>, (<ufunc 'subtract'>, 'TwoVector', 'GenVisTau'): <function mixin_class_method.<locals>.register.<locals>.transposed at 0x7f7259ca70a0>, (<ufunc 'subtract'>, 'GenVisTau', 'PolarTwoVector'): <function TwoVector.subtract at 0x7f7259ca4280>, (<ufunc 'subtract'>, 'PolarTwoVector', 'GenVisTau'): <function mixin_class_method.<locals>.register.<locals>.transposed at 0x7f7259ca70a0>, (<ufunc 'true_divide'>, 'GenVisTau', <class 'numbers.Number'>): <function TwoVector.divide at 0x7f7259ca79a0>, (<ufunc 'true_divide'>, <class 'numbers.Number'>, 'GenVisTau'): <function mixin_class_method.<locals>.register.<locals>.transposed at 0x7f7259ca4160>, (<ufunc 'true_divide'>, 'GenVisTau', 'GenVisTau'): <function TwoVector.divide at 0x7f7259ca79a0>, ('__typestr__', 'GenVisTau'): 'genVisTau', 'Electron': <class 'coffea.nanoevents.methods.nanoaod.ElectronRecord'>, ('*', 'Electron'): <class 'coffea.nanoevents.methods.nanoaod.ElectronArray'>, (<ufunc 'add'>, 'Electron', 'PtEtaPhiECandidate'): <function Candidate.add at 0x7f7259c8f250>, (<ufunc 'add'>, 'PtEtaPhiECandidate', 'Electron'): <function mixin_class_method.<locals>.register.<locals>.transposed at 0x7f7259c8f2e0>, (<ufunc 'add'>, 'Electron', 'GenVisTau'): <function Candidate.add at 0x7f7259c8f250>, (<ufunc 'add'>, 'GenVisTau', 'Electron'): <function mixin_class_method.<locals>.register.<locals>.transposed at 0x7f7259c8f2e0>, (<ufunc 'add'>, 'Electron', 'PtEtaPhiMCandidate'): <function Candidate.add at 0x7f7259c8f250>, (<ufunc 'add'>, 'PtEtaPhiMCandidate', 'Electron'): <function mixin_class_method.<locals>.register.<locals>.transposed at 0x7f7259c8f2e0>, (<ufunc 'add'>, 'Electron', 'Candidate'): <function Candidate.add at 0x7f7259c8f250>, (<ufunc 'add'>, 'Candidate', 'Electron'): <function mixin_class_method.<locals>.register.<locals>.transposed at 0x7f7259c8f2e0>, (<ufunc 'add'>, 'Electron', 'Electron'): <function Candidate.add at 0x7f7259c8f250>, (<ufunc 'multiply'>, 'Electron', <class 'numbers.Number'>): <function PtEtaPhiMLorentzVector.multiply at 0x7f7259c8e710>, (<ufunc 'multiply'>, <class 'numbers.Number'>, 'Electron'): <function mixin_class_method.<locals>.register.<locals>.transposed at 0x7f7259c8e7a0>, (<ufunc 'multiply'>, 'Electron', 'Electron'): <function PtEtaPhiMLorentzVector.multiply at 0x7f7259c8e710>, (<ufunc 'negative'>, 'Electron'): <function PtEtaPhiMLorentzVector.negative at 0x7f7259c8e830>, (<ufunc 'absolute'>, 'Electron'): <function LorentzVector.absolute at 0x7f7259c8d6c0>, (<ufunc 'add'>, 'Electron', 'PtEtaPhiELorentzVector'): <function LorentzVector.add at 0x7f7259c8d750>, (<ufunc 'add'>, 'PtEtaPhiELorentzVector', 'Electron'): <function mixin_class_method.<locals>.register.<locals>.transposed at 0x7f7259c8d7e0>, (<ufunc 'add'>, 'Electron', 'PtEtaPhiMLorentzVector'): <function LorentzVector.add at 0x7f7259c8d750>, (<ufunc 'add'>, 'PtEtaPhiMLorentzVector', 'Electron'): <function mixin_class_method.<locals>.register.<locals>.transposed at 0x7f7259c8d7e0>, (<ufunc 'add'>, 'Electron', 'GenParticle'): <function LorentzVector.add at 0x7f7259c8d750>, (<ufunc 'add'>, 'GenParticle', 'Electron'): <function mixin_class_method.<locals>.register.<locals>.transposed at 0x7f7259c8d7e0>, (<ufunc 'add'>, 'Electron', 'PtEtaPhiMCollection'): <function LorentzVector.add at 0x7f7259c8d750>, (<ufunc 'add'>, 'PtEtaPhiMCollection', 'Electron'): <function mixin_class_method.<locals>.register.<locals>.transposed at 0x7f7259c8d7e0>, (<ufunc 'add'>, 'Electron', 'LorentzVector'): <function LorentzVector.add at 0x7f7259c8d750>, (<ufunc 'add'>, 'LorentzVector', 'Electron'): <function mixin_class_method.<locals>.register.<locals>.transposed at 0x7f7259c8d7e0>, (<ufunc 'subtract'>, 'Electron', 'PtEtaPhiELorentzVector'): <function LorentzVector.subtract at 0x7f7259c8d870>, (<ufunc 'subtract'>, 'PtEtaPhiELorentzVector', 'Electron'): <function mixin_class_method.<locals>.register.<locals>.transposed at 0x7f7259c8d900>, (<ufunc 'subtract'>, 'Electron', 'PtEtaPhiMLorentzVector'): <function LorentzVector.subtract at 0x7f7259c8d870>, (<ufunc 'subtract'>, 'PtEtaPhiMLorentzVector', 'Electron'): <function mixin_class_method.<locals>.register.<locals>.transposed at 0x7f7259c8d900>, (<ufunc 'subtract'>, 'Electron', 'GenParticle'): <function LorentzVector.subtract at 0x7f7259c8d870>, (<ufunc 'subtract'>, 'GenParticle', 'Electron'): <function mixin_class_method.<locals>.register.<locals>.transposed at 0x7f7259c8d900>, (<ufunc 'subtract'>, 'Electron', 'PtEtaPhiMCandidate'): <function LorentzVector.subtract at 0x7f7259c8d870>, (<ufunc 'subtract'>, 'PtEtaPhiMCandidate', 'Electron'): <function mixin_class_method.<locals>.register.<locals>.transposed at 0x7f7259c8d900>, (<ufunc 'subtract'>, 'Electron', 'PtEtaPhiECandidate'): <function LorentzVector.subtract at 0x7f7259c8d870>, (<ufunc 'subtract'>, 'PtEtaPhiECandidate', 'Electron'): <function mixin_class_method.<locals>.register.<locals>.transposed at 0x7f7259c8d900>, (<ufunc 'subtract'>, 'Electron', 'GenVisTau'): <function LorentzVector.subtract at 0x7f7259c8d870>, (<ufunc 'subtract'>, 'GenVisTau', 'Electron'): <function mixin_class_method.<locals>.register.<locals>.transposed at 0x7f7259c8d900>, (<ufunc 'subtract'>, 'Electron', 'PtEtaPhiMCollection'): <function LorentzVector.subtract at 0x7f7259c8d870>, (<ufunc 'subtract'>, 'PtEtaPhiMCollection', 'Electron'): <function mixin_class_method.<locals>.register.<locals>.transposed at 0x7f7259c8d900>, (<ufunc 'subtract'>, 'Electron', 'LorentzVector'): <function LorentzVector.subtract at 0x7f7259c8d870>, (<ufunc 'subtract'>, 'LorentzVector', 'Electron'): <function mixin_class_method.<locals>.register.<locals>.transposed at 0x7f7259c8d900>, (<ufunc 'subtract'>, 'Electron', 'Candidate'): <function LorentzVector.subtract at 0x7f7259c8d870>, (<ufunc 'subtract'>, 'Candidate', 'Electron'): <function mixin_class_method.<locals>.register.<locals>.transposed at 0x7f7259c8d900>, (<ufunc 'subtract'>, 'Electron', 'Electron'): <function LorentzVector.subtract at 0x7f7259c8d870>, (<ufunc 'add'>, 'Electron', 'SphericalThreeVector'): <function ThreeVector.add at 0x7f7259c8c9d0>, (<ufunc 'add'>, 'SphericalThreeVector', 'Electron'): <function mixin_class_method.<locals>.register.<locals>.transposed at 0x7f7259c8ca60>, (<ufunc 'add'>, 'Electron', 'ThreeVector'): <function ThreeVector.add at 0x7f7259c8c9d0>, (<ufunc 'add'>, 'ThreeVector', 'Electron'): <function mixin_class_method.<locals>.register.<locals>.transposed at 0x7f7259c8ca60>, (<ufunc 'subtract'>, 'Electron', 'SphericalThreeVector'): <function ThreeVector.subtract at 0x7f7259c8caf0>, (<ufunc 'subtract'>, 'SphericalThreeVector', 'Electron'): <function mixin_class_method.<locals>.register.<locals>.transposed at 0x7f7259c8cb80>, (<ufunc 'subtract'>, 'Electron', 'ThreeVector'): <function ThreeVector.subtract at 0x7f7259c8caf0>, (<ufunc 'subtract'>, 'ThreeVector', 'Electron'): <function mixin_class_method.<locals>.register.<locals>.transposed at 0x7f7259c8cb80>, (<ufunc 'add'>, 'Electron', 'TwoVector'): <function TwoVector.add at 0x7f7259ca7c70>, (<ufunc 'add'>, 'TwoVector', 'Electron'): <function mixin_class_method.<locals>.register.<locals>.transposed at 0x7f7259ca7370>, (<ufunc 'add'>, 'Electron', 'PolarTwoVector'): <function TwoVector.add at 0x7f7259ca7c70>, (<ufunc 'add'>, 'PolarTwoVector', 'Electron'): <function mixin_class_method.<locals>.register.<locals>.transposed at 0x7f7259ca7370>, (<ufunc 'subtract'>, 'Electron', 'TwoVector'): <function TwoVector.subtract at 0x7f7259ca4280>, (<ufunc 'subtract'>, 'TwoVector', 'Electron'): <function mixin_class_method.<locals>.register.<locals>.transposed at 0x7f7259ca70a0>, (<ufunc 'subtract'>, 'Electron', 'PolarTwoVector'): <function TwoVector.subtract at 0x7f7259ca4280>, (<ufunc 'subtract'>, 'PolarTwoVector', 'Electron'): <function mixin_class_method.<locals>.register.<locals>.transposed at 0x7f7259ca70a0>, (<ufunc 'true_divide'>, 'Electron', <class 'numbers.Number'>): <function TwoVector.divide at 0x7f7259ca79a0>, (<ufunc 'true_divide'>, <class 'numbers.Number'>, 'Electron'): <function mixin_class_method.<locals>.register.<locals>.transposed at 0x7f7259ca4160>, (<ufunc 'true_divide'>, 'Electron', 'Electron'): <function TwoVector.divide at 0x7f7259ca79a0>, ('__typestr__', 'Electron'): 'electron', 'Muon': <class 'coffea.nanoevents.methods.nanoaod.MuonRecord'>, ('*', 'Muon'): <class 'coffea.nanoevents.methods.nanoaod.MuonArray'>, (<ufunc 'add'>, 'Muon', 'Electron'): <function Candidate.add at 0x7f7259c8f250>, (<ufunc 'add'>, 'Electron', 'Muon'): <function mixin_class_method.<locals>.register.<locals>.transposed at 0x7f7259c8f2e0>, (<ufunc 'add'>, 'Muon', 'PtEtaPhiMCandidate'): <function Candidate.add at 0x7f7259c8f250>, (<ufunc 'add'>, 'PtEtaPhiMCandidate', 'Muon'): <function mixin_class_method.<locals>.register.<locals>.transposed at 0x7f7259c8f2e0>, (<ufunc 'add'>, 'Muon', 'PtEtaPhiECandidate'): <function Candidate.add at 0x7f7259c8f250>, (<ufunc 'add'>, 'PtEtaPhiECandidate', 'Muon'): <function mixin_class_method.<locals>.register.<locals>.transposed at 0x7f7259c8f2e0>, (<ufunc 'add'>, 'Muon', 'GenVisTau'): <function Candidate.add at 0x7f7259c8f250>, (<ufunc 'add'>, 'GenVisTau', 'Muon'): <function mixin_class_method.<locals>.register.<locals>.transposed at 0x7f7259c8f2e0>, (<ufunc 'add'>, 'Muon', 'Candidate'): <function Candidate.add at 0x7f7259c8f250>, (<ufunc 'add'>, 'Candidate', 'Muon'): <function mixin_class_method.<locals>.register.<locals>.transposed at 0x7f7259c8f2e0>, (<ufunc 'add'>, 'Muon', 'Muon'): <function Candidate.add at 0x7f7259c8f250>, (<ufunc 'multiply'>, 'Muon', <class 'numbers.Number'>): <function PtEtaPhiMLorentzVector.multiply at 0x7f7259c8e710>, (<ufunc 'multiply'>, <class 'numbers.Number'>, 'Muon'): <function mixin_class_method.<locals>.register.<locals>.transposed at 0x7f7259c8e7a0>, (<ufunc 'multiply'>, 'Muon', 'Muon'): <function PtEtaPhiMLorentzVector.multiply at 0x7f7259c8e710>, (<ufunc 'negative'>, 'Muon'): <function PtEtaPhiMLorentzVector.negative at 0x7f7259c8e830>, (<ufunc 'absolute'>, 'Muon'): <function LorentzVector.absolute at 0x7f7259c8d6c0>, (<ufunc 'add'>, 'Muon', 'PtEtaPhiELorentzVector'): <function LorentzVector.add at 0x7f7259c8d750>, (<ufunc 'add'>, 'PtEtaPhiELorentzVector', 'Muon'): <function mixin_class_method.<locals>.register.<locals>.transposed at 0x7f7259c8d7e0>, (<ufunc 'add'>, 'Muon', 'PtEtaPhiMLorentzVector'): <function LorentzVector.add at 0x7f7259c8d750>, (<ufunc 'add'>, 'PtEtaPhiMLorentzVector', 'Muon'): <function mixin_class_method.<locals>.register.<locals>.transposed at 0x7f7259c8d7e0>, (<ufunc 'add'>, 'Muon', 'GenParticle'): <function LorentzVector.add at 0x7f7259c8d750>, (<ufunc 'add'>, 'GenParticle', 'Muon'): <function mixin_class_method.<locals>.register.<locals>.transposed at 0x7f7259c8d7e0>, (<ufunc 'add'>, 'Muon', 'PtEtaPhiMCollection'): <function LorentzVector.add at 0x7f7259c8d750>, (<ufunc 'add'>, 'PtEtaPhiMCollection', 'Muon'): <function mixin_class_method.<locals>.register.<locals>.transposed at 0x7f7259c8d7e0>, (<ufunc 'add'>, 'Muon', 'LorentzVector'): <function LorentzVector.add at 0x7f7259c8d750>, (<ufunc 'add'>, 'LorentzVector', 'Muon'): <function mixin_class_method.<locals>.register.<locals>.transposed at 0x7f7259c8d7e0>, (<ufunc 'subtract'>, 'Muon', 'PtEtaPhiELorentzVector'): <function LorentzVector.subtract at 0x7f7259c8d870>, (<ufunc 'subtract'>, 'PtEtaPhiELorentzVector', 'Muon'): <function mixin_class_method.<locals>.register.<locals>.transposed at 0x7f7259c8d900>, (<ufunc 'subtract'>, 'Muon', 'Electron'): <function LorentzVector.subtract at 0x7f7259c8d870>, (<ufunc 'subtract'>, 'Electron', 'Muon'): <function mixin_class_method.<locals>.register.<locals>.transposed at 0x7f7259c8d900>, (<ufunc 'subtract'>, 'Muon', 'PtEtaPhiMLorentzVector'): <function LorentzVector.subtract at 0x7f7259c8d870>, (<ufunc 'subtract'>, 'PtEtaPhiMLorentzVector', 'Muon'): <function mixin_class_method.<locals>.register.<locals>.transposed at 0x7f7259c8d900>, (<ufunc 'subtract'>, 'Muon', 'GenParticle'): <function LorentzVector.subtract at 0x7f7259c8d870>, (<ufunc 'subtract'>, 'GenParticle', 'Muon'): <function mixin_class_method.<locals>.register.<locals>.transposed at 0x7f7259c8d900>, (<ufunc 'subtract'>, 'Muon', 'PtEtaPhiMCandidate'): <function LorentzVector.subtract at 0x7f7259c8d870>, (<ufunc 'subtract'>, 'PtEtaPhiMCandidate', 'Muon'): <function mixin_class_method.<locals>.register.<locals>.transposed at 0x7f7259c8d900>, (<ufunc 'subtract'>, 'Muon', 'PtEtaPhiECandidate'): <function LorentzVector.subtract at 0x7f7259c8d870>, (<ufunc 'subtract'>, 'PtEtaPhiECandidate', 'Muon'): <function mixin_class_method.<locals>.register.<locals>.transposed at 0x7f7259c8d900>, (<ufunc 'subtract'>, 'Muon', 'GenVisTau'): <function LorentzVector.subtract at 0x7f7259c8d870>, (<ufunc 'subtract'>, 'GenVisTau', 'Muon'): <function mixin_class_method.<locals>.register.<locals>.transposed at 0x7f7259c8d900>, (<ufunc 'subtract'>, 'Muon', 'PtEtaPhiMCollection'): <function LorentzVector.subtract at 0x7f7259c8d870>, (<ufunc 'subtract'>, 'PtEtaPhiMCollection', 'Muon'): <function mixin_class_method.<locals>.register.<locals>.transposed at 0x7f7259c8d900>, (<ufunc 'subtract'>, 'Muon', 'LorentzVector'): <function LorentzVector.subtract at 0x7f7259c8d870>, (<ufunc 'subtract'>, 'LorentzVector', 'Muon'): <function mixin_class_method.<locals>.register.<locals>.transposed at 0x7f7259c8d900>, (<ufunc 'subtract'>, 'Muon', 'Candidate'): <function LorentzVector.subtract at 0x7f7259c8d870>, (<ufunc 'subtract'>, 'Candidate', 'Muon'): <function mixin_class_method.<locals>.register.<locals>.transposed at 0x7f7259c8d900>, (<ufunc 'subtract'>, 'Muon', 'Muon'): <function LorentzVector.subtract at 0x7f7259c8d870>, (<ufunc 'add'>, 'Muon', 'SphericalThreeVector'): <function ThreeVector.add at 0x7f7259c8c9d0>, (<ufunc 'add'>, 'SphericalThreeVector', 'Muon'): <function mixin_class_method.<locals>.register.<locals>.transposed at 0x7f7259c8ca60>, (<ufunc 'add'>, 'Muon', 'ThreeVector'): <function ThreeVector.add at 0x7f7259c8c9d0>, (<ufunc 'add'>, 'ThreeVector', 'Muon'): <function mixin_class_method.<locals>.register.<locals>.transposed at 0x7f7259c8ca60>, (<ufunc 'subtract'>, 'Muon', 'SphericalThreeVector'): <function ThreeVector.subtract at 0x7f7259c8caf0>, (<ufunc 'subtract'>, 'SphericalThreeVector', 'Muon'): <function mixin_class_method.<locals>.register.<locals>.transposed at 0x7f7259c8cb80>, (<ufunc 'subtract'>, 'Muon', 'ThreeVector'): <function ThreeVector.subtract at 0x7f7259c8caf0>, (<ufunc 'subtract'>, 'ThreeVector', 'Muon'): <function mixin_class_method.<locals>.register.<locals>.transposed at 0x7f7259c8cb80>, (<ufunc 'add'>, 'Muon', 'TwoVector'): <function TwoVector.add at 0x7f7259ca7c70>, (<ufunc 'add'>, 'TwoVector', 'Muon'): <function mixin_class_method.<locals>.register.<locals>.transposed at 0x7f7259ca7370>, (<ufunc 'add'>, 'Muon', 'PolarTwoVector'): <function TwoVector.add at 0x7f7259ca7c70>, (<ufunc 'add'>, 'PolarTwoVector', 'Muon'): <function mixin_class_method.<locals>.register.<locals>.transposed at 0x7f7259ca7370>, (<ufunc 'subtract'>, 'Muon', 'TwoVector'): <function TwoVector.subtract at 0x7f7259ca4280>, (<ufunc 'subtract'>, 'TwoVector', 'Muon'): <function mixin_class_method.<locals>.register.<locals>.transposed at 0x7f7259ca70a0>, (<ufunc 'subtract'>, 'Muon', 'PolarTwoVector'): <function TwoVector.subtract at 0x7f7259ca4280>, (<ufunc 'subtract'>, 'PolarTwoVector', 'Muon'): <function mixin_class_method.<locals>.register.<locals>.transposed at 0x7f7259ca70a0>, (<ufunc 'true_divide'>, 'Muon', <class 'numbers.Number'>): <function TwoVector.divide at 0x7f7259ca79a0>, (<ufunc 'true_divide'>, <class 'numbers.Number'>, 'Muon'): <function mixin_class_method.<locals>.register.<locals>.transposed at 0x7f7259ca4160>, (<ufunc 'true_divide'>, 'Muon', 'Muon'): <function TwoVector.divide at 0x7f7259ca79a0>, ('__typestr__', 'Muon'): 'muon', 'Tau': <class 'coffea.nanoevents.methods.nanoaod.TauRecord'>, ('*', 'Tau'): <class 'coffea.nanoevents.methods.nanoaod.TauArray'>, (<ufunc 'add'>, 'Tau', 'Muon'): <function Candidate.add at 0x7f7259c8f250>, (<ufunc 'add'>, 'Muon', 'Tau'): <function mixin_class_method.<locals>.register.<locals>.transposed at 0x7f7259c8f2e0>, (<ufunc 'add'>, 'Tau', 'Electron'): <function Candidate.add at 0x7f7259c8f250>, (<ufunc 'add'>, 'Electron', 'Tau'): <function mixin_class_method.<locals>.register.<locals>.transposed at 0x7f7259c8f2e0>, (<ufunc 'add'>, 'Tau', 'PtEtaPhiMCandidate'): <function Candidate.add at 0x7f7259c8f250>, (<ufunc 'add'>, 'PtEtaPhiMCandidate', 'Tau'): <function mixin_class_method.<locals>.register.<locals>.transposed at 0x7f7259c8f2e0>, (<ufunc 'add'>, 'Tau', 'PtEtaPhiECandidate'): <function Candidate.add at 0x7f7259c8f250>, (<ufunc 'add'>, 'PtEtaPhiECandidate', 'Tau'): <function mixin_class_method.<locals>.register.<locals>.transposed at 0x7f7259c8f2e0>, (<ufunc 'add'>, 'Tau', 'GenVisTau'): <function Candidate.add at 0x7f7259c8f250>, (<ufunc 'add'>, 'GenVisTau', 'Tau'): <function mixin_class_method.<locals>.register.<locals>.transposed at 0x7f7259c8f2e0>, (<ufunc 'add'>, 'Tau', 'Candidate'): <function Candidate.add at 0x7f7259c8f250>, (<ufunc 'add'>, 'Candidate', 'Tau'): <function mixin_class_method.<locals>.register.<locals>.transposed at 0x7f7259c8f2e0>, (<ufunc 'add'>, 'Tau', 'Tau'): <function Candidate.add at 0x7f7259c8f250>, (<ufunc 'multiply'>, 'Tau', <class 'numbers.Number'>): <function PtEtaPhiMLorentzVector.multiply at 0x7f7259c8e710>, (<ufunc 'multiply'>, <class 'numbers.Number'>, 'Tau'): <function mixin_class_method.<locals>.register.<locals>.transposed at 0x7f7259c8e7a0>, (<ufunc 'multiply'>, 'Tau', 'Tau'): <function PtEtaPhiMLorentzVector.multiply at 0x7f7259c8e710>, (<ufunc 'negative'>, 'Tau'): <function PtEtaPhiMLorentzVector.negative at 0x7f7259c8e830>, (<ufunc 'absolute'>, 'Tau'): <function LorentzVector.absolute at 0x7f7259c8d6c0>, (<ufunc 'add'>, 'Tau', 'PtEtaPhiELorentzVector'): <function LorentzVector.add at 0x7f7259c8d750>, (<ufunc 'add'>, 'PtEtaPhiELorentzVector', 'Tau'): <function mixin_class_method.<locals>.register.<locals>.transposed at 0x7f7259c8d7e0>, (<ufunc 'add'>, 'Tau', 'PtEtaPhiMLorentzVector'): <function LorentzVector.add at 0x7f7259c8d750>, (<ufunc 'add'>, 'PtEtaPhiMLorentzVector', 'Tau'): <function mixin_class_method.<locals>.register.<locals>.transposed at 0x7f7259c8d7e0>, (<ufunc 'add'>, 'Tau', 'GenParticle'): <function LorentzVector.add at 0x7f7259c8d750>, (<ufunc 'add'>, 'GenParticle', 'Tau'): <function mixin_class_method.<locals>.register.<locals>.transposed at 0x7f7259c8d7e0>, (<ufunc 'add'>, 'Tau', 'PtEtaPhiMCollection'): <function LorentzVector.add at 0x7f7259c8d750>, (<ufunc 'add'>, 'PtEtaPhiMCollection', 'Tau'): <function mixin_class_method.<locals>.register.<locals>.transposed at 0x7f7259c8d7e0>, (<ufunc 'add'>, 'Tau', 'LorentzVector'): <function LorentzVector.add at 0x7f7259c8d750>, (<ufunc 'add'>, 'LorentzVector', 'Tau'): <function mixin_class_method.<locals>.register.<locals>.transposed at 0x7f7259c8d7e0>, (<ufunc 'subtract'>, 'Tau', 'PtEtaPhiELorentzVector'): <function LorentzVector.subtract at 0x7f7259c8d870>, (<ufunc 'subtract'>, 'PtEtaPhiELorentzVector', 'Tau'): <function mixin_class_method.<locals>.register.<locals>.transposed at 0x7f7259c8d900>, (<ufunc 'subtract'>, 'Tau', 'Muon'): <function LorentzVector.subtract at 0x7f7259c8d870>, (<ufunc 'subtract'>, 'Muon', 'Tau'): <function mixin_class_method.<locals>.register.<locals>.transposed at 0x7f7259c8d900>, (<ufunc 'subtract'>, 'Tau', 'Electron'): <function LorentzVector.subtract at 0x7f7259c8d870>, (<ufunc 'subtract'>, 'Electron', 'Tau'): <function mixin_class_method.<locals>.register.<locals>.transposed at 0x7f7259c8d900>, (<ufunc 'subtract'>, 'Tau', 'PtEtaPhiMLorentzVector'): <function LorentzVector.subtract at 0x7f7259c8d870>, (<ufunc 'subtract'>, 'PtEtaPhiMLorentzVector', 'Tau'): <function mixin_class_method.<locals>.register.<locals>.transposed at 0x7f7259c8d900>, (<ufunc 'subtract'>, 'Tau', 'GenParticle'): <function LorentzVector.subtract at 0x7f7259c8d870>, (<ufunc 'subtract'>, 'GenParticle', 'Tau'): <function mixin_class_method.<locals>.register.<locals>.transposed at 0x7f7259c8d900>, (<ufunc 'subtract'>, 'Tau', 'PtEtaPhiMCandidate'): <function LorentzVector.subtract at 0x7f7259c8d870>, (<ufunc 'subtract'>, 'PtEtaPhiMCandidate', 'Tau'): <function mixin_class_method.<locals>.register.<locals>.transposed at 0x7f7259c8d900>, (<ufunc 'subtract'>, 'Tau', 'PtEtaPhiECandidate'): <function LorentzVector.subtract at 0x7f7259c8d870>, (<ufunc 'subtract'>, 'PtEtaPhiECandidate', 'Tau'): <function mixin_class_method.<locals>.register.<locals>.transposed at 0x7f7259c8d900>, (<ufunc 'subtract'>, 'Tau', 'GenVisTau'): <function LorentzVector.subtract at 0x7f7259c8d870>, (<ufunc 'subtract'>, 'GenVisTau', 'Tau'): <function mixin_class_method.<locals>.register.<locals>.transposed at 0x7f7259c8d900>, (<ufunc 'subtract'>, 'Tau', 'PtEtaPhiMCollection'): <function LorentzVector.subtract at 0x7f7259c8d870>, (<ufunc 'subtract'>, 'PtEtaPhiMCollection', 'Tau'): <function mixin_class_method.<locals>.register.<locals>.transposed at 0x7f7259c8d900>, (<ufunc 'subtract'>, 'Tau', 'LorentzVector'): <function LorentzVector.subtract at 0x7f7259c8d870>, (<ufunc 'subtract'>, 'LorentzVector', 'Tau'): <function mixin_class_method.<locals>.register.<locals>.transposed at 0x7f7259c8d900>, (<ufunc 'subtract'>, 'Tau', 'Candidate'): <function LorentzVector.subtract at 0x7f7259c8d870>, (<ufunc 'subtract'>, 'Candidate', 'Tau'): <function mixin_class_method.<locals>.register.<locals>.transposed at 0x7f7259c8d900>, (<ufunc 'subtract'>, 'Tau', 'Tau'): <function LorentzVector.subtract at 0x7f7259c8d870>, (<ufunc 'add'>, 'Tau', 'SphericalThreeVector'): <function ThreeVector.add at 0x7f7259c8c9d0>, (<ufunc 'add'>, 'SphericalThreeVector', 'Tau'): <function mixin_class_method.<locals>.register.<locals>.transposed at 0x7f7259c8ca60>, (<ufunc 'add'>, 'Tau', 'ThreeVector'): <function ThreeVector.add at 0x7f7259c8c9d0>, (<ufunc 'add'>, 'ThreeVector', 'Tau'): <function mixin_class_method.<locals>.register.<locals>.transposed at 0x7f7259c8ca60>, (<ufunc 'subtract'>, 'Tau', 'SphericalThreeVector'): <function ThreeVector.subtract at 0x7f7259c8caf0>, (<ufunc 'subtract'>, 'SphericalThreeVector', 'Tau'): <function mixin_class_method.<locals>.register.<locals>.transposed at 0x7f7259c8cb80>, (<ufunc 'subtract'>, 'Tau', 'ThreeVector'): <function ThreeVector.subtract at 0x7f7259c8caf0>, (<ufunc 'subtract'>, 'ThreeVector', 'Tau'): <function mixin_class_method.<locals>.register.<locals>.transposed at 0x7f7259c8cb80>, (<ufunc 'add'>, 'Tau', 'TwoVector'): <function TwoVector.add at 0x7f7259ca7c70>, (<ufunc 'add'>, 'TwoVector', 'Tau'): <function mixin_class_method.<locals>.register.<locals>.transposed at 0x7f7259ca7370>, (<ufunc 'add'>, 'Tau', 'PolarTwoVector'): <function TwoVector.add at 0x7f7259ca7c70>, (<ufunc 'add'>, 'PolarTwoVector', 'Tau'): <function mixin_class_method.<locals>.register.<locals>.transposed at 0x7f7259ca7370>, (<ufunc 'subtract'>, 'Tau', 'TwoVector'): <function TwoVector.subtract at 0x7f7259ca4280>, (<ufunc 'subtract'>, 'TwoVector', 'Tau'): <function mixin_class_method.<locals>.register.<locals>.transposed at 0x7f7259ca70a0>, (<ufunc 'subtract'>, 'Tau', 'PolarTwoVector'): <function TwoVector.subtract at 0x7f7259ca4280>, (<ufunc 'subtract'>, 'PolarTwoVector', 'Tau'): <function mixin_class_method.<locals>.register.<locals>.transposed at 0x7f7259ca70a0>, (<ufunc 'true_divide'>, 'Tau', <class 'numbers.Number'>): <function TwoVector.divide at 0x7f7259ca79a0>, (<ufunc 'true_divide'>, <class 'numbers.Number'>, 'Tau'): <function mixin_class_method.<locals>.register.<locals>.transposed at 0x7f7259ca4160>, (<ufunc 'true_divide'>, 'Tau', 'Tau'): <function TwoVector.divide at 0x7f7259ca79a0>, ('__typestr__', 'Tau'): 'tau', 'Photon': <class 'coffea.nanoevents.methods.nanoaod.PhotonRecord'>, ('*', 'Photon'): <class 'coffea.nanoevents.methods.nanoaod.PhotonArray'>, (<ufunc 'add'>, 'Photon', 'Muon'): <function Candidate.add at 0x7f7259c8f250>, (<ufunc 'add'>, 'Muon', 'Photon'): <function mixin_class_method.<locals>.register.<locals>.transposed at 0x7f7259c8f2e0>, (<ufunc 'add'>, 'Photon', 'Electron'): <function Candidate.add at 0x7f7259c8f250>, (<ufunc 'add'>, 'Electron', 'Photon'): <function mixin_class_method.<locals>.register.<locals>.transposed at 0x7f7259c8f2e0>, (<ufunc 'add'>, 'Photon', 'Tau'): <function Candidate.add at 0x7f7259c8f250>, (<ufunc 'add'>, 'Tau', 'Photon'): <function mixin_class_method.<locals>.register.<locals>.transposed at 0x7f7259c8f2e0>, (<ufunc 'add'>, 'Photon', 'PtEtaPhiMCandidate'): <function Candidate.add at 0x7f7259c8f250>, (<ufunc 'add'>, 'PtEtaPhiMCandidate', 'Photon'): <function mixin_class_method.<locals>.register.<locals>.transposed at 0x7f7259c8f2e0>, (<ufunc 'add'>, 'Photon', 'PtEtaPhiECandidate'): <function Candidate.add at 0x7f7259c8f250>, (<ufunc 'add'>, 'PtEtaPhiECandidate', 'Photon'): <function mixin_class_method.<locals>.register.<locals>.transposed at 0x7f7259c8f2e0>, (<ufunc 'add'>, 'Photon', 'GenVisTau'): <function Candidate.add at 0x7f7259c8f250>, (<ufunc 'add'>, 'GenVisTau', 'Photon'): <function mixin_class_method.<locals>.register.<locals>.transposed at 0x7f7259c8f2e0>, (<ufunc 'add'>, 'Photon', 'Candidate'): <function Candidate.add at 0x7f7259c8f250>, (<ufunc 'add'>, 'Candidate', 'Photon'): <function mixin_class_method.<locals>.register.<locals>.transposed at 0x7f7259c8f2e0>, (<ufunc 'add'>, 'Photon', 'Photon'): <function Candidate.add at 0x7f7259c8f250>, (<ufunc 'multiply'>, 'Photon', <class 'numbers.Number'>): <function PtEtaPhiMLorentzVector.multiply at 0x7f7259c8e710>, (<ufunc 'multiply'>, <class 'numbers.Number'>, 'Photon'): <function mixin_class_method.<locals>.register.<locals>.transposed at 0x7f7259c8e7a0>, (<ufunc 'multiply'>, 'Photon', 'Photon'): <function PtEtaPhiMLorentzVector.multiply at 0x7f7259c8e710>, (<ufunc 'negative'>, 'Photon'): <function PtEtaPhiMLorentzVector.negative at 0x7f7259c8e830>, (<ufunc 'absolute'>, 'Photon'): <function LorentzVector.absolute at 0x7f7259c8d6c0>, (<ufunc 'add'>, 'Photon', 'PtEtaPhiELorentzVector'): <function LorentzVector.add at 0x7f7259c8d750>, (<ufunc 'add'>, 'PtEtaPhiELorentzVector', 'Photon'): <function mixin_class_method.<locals>.register.<locals>.transposed at 0x7f7259c8d7e0>, (<ufunc 'add'>, 'Photon', 'PtEtaPhiMLorentzVector'): <function LorentzVector.add at 0x7f7259c8d750>, (<ufunc 'add'>, 'PtEtaPhiMLorentzVector', 'Photon'): <function mixin_class_method.<locals>.register.<locals>.transposed at 0x7f7259c8d7e0>, (<ufunc 'add'>, 'Photon', 'GenParticle'): <function LorentzVector.add at 0x7f7259c8d750>, (<ufunc 'add'>, 'GenParticle', 'Photon'): <function mixin_class_method.<locals>.register.<locals>.transposed at 0x7f7259c8d7e0>, (<ufunc 'add'>, 'Photon', 'PtEtaPhiMCollection'): <function LorentzVector.add at 0x7f7259c8d750>, (<ufunc 'add'>, 'PtEtaPhiMCollection', 'Photon'): <function mixin_class_method.<locals>.register.<locals>.transposed at 0x7f7259c8d7e0>, (<ufunc 'add'>, 'Photon', 'LorentzVector'): <function LorentzVector.add at 0x7f7259c8d750>, (<ufunc 'add'>, 'LorentzVector', 'Photon'): <function mixin_class_method.<locals>.register.<locals>.transposed at 0x7f7259c8d7e0>, (<ufunc 'subtract'>, 'Photon', 'PtEtaPhiELorentzVector'): <function LorentzVector.subtract at 0x7f7259c8d870>, (<ufunc 'subtract'>, 'PtEtaPhiELorentzVector', 'Photon'): <function mixin_class_method.<locals>.register.<locals>.transposed at 0x7f7259c8d900>, (<ufunc 'subtract'>, 'Photon', 'Muon'): <function LorentzVector.subtract at 0x7f7259c8d870>, (<ufunc 'subtract'>, 'Muon', 'Photon'): <function mixin_class_method.<locals>.register.<locals>.transposed at 0x7f7259c8d900>, (<ufunc 'subtract'>, 'Photon', 'Electron'): <function LorentzVector.subtract at 0x7f7259c8d870>, (<ufunc 'subtract'>, 'Electron', 'Photon'): <function mixin_class_method.<locals>.register.<locals>.transposed at 0x7f7259c8d900>, (<ufunc 'subtract'>, 'Photon', 'Tau'): <function LorentzVector.subtract at 0x7f7259c8d870>, (<ufunc 'subtract'>, 'Tau', 'Photon'): <function mixin_class_method.<locals>.register.<locals>.transposed at 0x7f7259c8d900>, (<ufunc 'subtract'>, 'Photon', 'PtEtaPhiMLorentzVector'): <function LorentzVector.subtract at 0x7f7259c8d870>, (<ufunc 'subtract'>, 'PtEtaPhiMLorentzVector', 'Photon'): <function mixin_class_method.<locals>.register.<locals>.transposed at 0x7f7259c8d900>, (<ufunc 'subtract'>, 'Photon', 'GenParticle'): <function LorentzVector.subtract at 0x7f7259c8d870>, (<ufunc 'subtract'>, 'GenParticle', 'Photon'): <function mixin_class_method.<locals>.register.<locals>.transposed at 0x7f7259c8d900>, (<ufunc 'subtract'>, 'Photon', 'PtEtaPhiMCandidate'): <function LorentzVector.subtract at 0x7f7259c8d870>, (<ufunc 'subtract'>, 'PtEtaPhiMCandidate', 'Photon'): <function mixin_class_method.<locals>.register.<locals>.transposed at 0x7f7259c8d900>, (<ufunc 'subtract'>, 'Photon', 'PtEtaPhiECandidate'): <function LorentzVector.subtract at 0x7f7259c8d870>, (<ufunc 'subtract'>, 'PtEtaPhiECandidate', 'Photon'): <function mixin_class_method.<locals>.register.<locals>.transposed at 0x7f7259c8d900>, (<ufunc 'subtract'>, 'Photon', 'GenVisTau'): <function LorentzVector.subtract at 0x7f7259c8d870>, (<ufunc 'subtract'>, 'GenVisTau', 'Photon'): <function mixin_class_method.<locals>.register.<locals>.transposed at 0x7f7259c8d900>, (<ufunc 'subtract'>, 'Photon', 'PtEtaPhiMCollection'): <function LorentzVector.subtract at 0x7f7259c8d870>, (<ufunc 'subtract'>, 'PtEtaPhiMCollection', 'Photon'): <function mixin_class_method.<locals>.register.<locals>.transposed at 0x7f7259c8d900>, (<ufunc 'subtract'>, 'Photon', 'LorentzVector'): <function LorentzVector.subtract at 0x7f7259c8d870>, (<ufunc 'subtract'>, 'LorentzVector', 'Photon'): <function mixin_class_method.<locals>.register.<locals>.transposed at 0x7f7259c8d900>, (<ufunc 'subtract'>, 'Photon', 'Candidate'): <function LorentzVector.subtract at 0x7f7259c8d870>, (<ufunc 'subtract'>, 'Candidate', 'Photon'): <function mixin_class_method.<locals>.register.<locals>.transposed at 0x7f7259c8d900>, (<ufunc 'subtract'>, 'Photon', 'Photon'): <function LorentzVector.subtract at 0x7f7259c8d870>, (<ufunc 'add'>, 'Photon', 'SphericalThreeVector'): <function ThreeVector.add at 0x7f7259c8c9d0>, (<ufunc 'add'>, 'SphericalThreeVector', 'Photon'): <function mixin_class_method.<locals>.register.<locals>.transposed at 0x7f7259c8ca60>, (<ufunc 'add'>, 'Photon', 'ThreeVector'): <function ThreeVector.add at 0x7f7259c8c9d0>, (<ufunc 'add'>, 'ThreeVector', 'Photon'): <function mixin_class_method.<locals>.register.<locals>.transposed at 0x7f7259c8ca60>, (<ufunc 'subtract'>, 'Photon', 'SphericalThreeVector'): <function ThreeVector.subtract at 0x7f7259c8caf0>, (<ufunc 'subtract'>, 'SphericalThreeVector', 'Photon'): <function mixin_class_method.<locals>.register.<locals>.transposed at 0x7f7259c8cb80>, (<ufunc 'subtract'>, 'Photon', 'ThreeVector'): <function ThreeVector.subtract at 0x7f7259c8caf0>, (<ufunc 'subtract'>, 'ThreeVector', 'Photon'): <function mixin_class_method.<locals>.register.<locals>.transposed at 0x7f7259c8cb80>, (<ufunc 'add'>, 'Photon', 'TwoVector'): <function TwoVector.add at 0x7f7259ca7c70>, (<ufunc 'add'>, 'TwoVector', 'Photon'): <function mixin_class_method.<locals>.register.<locals>.transposed at 0x7f7259ca7370>, (<ufunc 'add'>, 'Photon', 'PolarTwoVector'): <function TwoVector.add at 0x7f7259ca7c70>, (<ufunc 'add'>, 'PolarTwoVector', 'Photon'): <function mixin_class_method.<locals>.register.<locals>.transposed at 0x7f7259ca7370>, (<ufunc 'subtract'>, 'Photon', 'TwoVector'): <function TwoVector.subtract at 0x7f7259ca4280>, (<ufunc 'subtract'>, 'TwoVector', 'Photon'): <function mixin_class_method.<locals>.register.<locals>.transposed at 0x7f7259ca70a0>, (<ufunc 'subtract'>, 'Photon', 'PolarTwoVector'): <function TwoVector.subtract at 0x7f7259ca4280>, (<ufunc 'subtract'>, 'PolarTwoVector', 'Photon'): <function mixin_class_method.<locals>.register.<locals>.transposed at 0x7f7259ca70a0>, (<ufunc 'true_divide'>, 'Photon', <class 'numbers.Number'>): <function TwoVector.divide at 0x7f7259ca79a0>, (<ufunc 'true_divide'>, <class 'numbers.Number'>, 'Photon'): <function mixin_class_method.<locals>.register.<locals>.transposed at 0x7f7259ca4160>, (<ufunc 'true_divide'>, 'Photon', 'Photon'): <function TwoVector.divide at 0x7f7259ca79a0>, ('__typestr__', 'Photon'): 'photon', 'FsrPhoton': <class 'coffea.nanoevents.methods.nanoaod.FsrPhotonRecord'>, ('*', 'FsrPhoton'): <class 'coffea.nanoevents.methods.nanoaod.FsrPhotonArray'>, (<ufunc 'add'>, 'FsrPhoton', 'Muon'): <function Candidate.add at 0x7f7259c8f250>, (<ufunc 'add'>, 'Muon', 'FsrPhoton'): <function mixin_class_method.<locals>.register.<locals>.transposed at 0x7f7259c8f2e0>, (<ufunc 'add'>, 'FsrPhoton', 'Electron'): <function Candidate.add at 0x7f7259c8f250>, (<ufunc 'add'>, 'Electron', 'FsrPhoton'): <function mixin_class_method.<locals>.register.<locals>.transposed at 0x7f7259c8f2e0>, (<ufunc 'add'>, 'FsrPhoton', 'Tau'): <function Candidate.add at 0x7f7259c8f250>, (<ufunc 'add'>, 'Tau', 'FsrPhoton'): <function mixin_class_method.<locals>.register.<locals>.transposed at 0x7f7259c8f2e0>, (<ufunc 'add'>, 'FsrPhoton', 'PtEtaPhiMCandidate'): <function Candidate.add at 0x7f7259c8f250>, (<ufunc 'add'>, 'PtEtaPhiMCandidate', 'FsrPhoton'): <function mixin_class_method.<locals>.register.<locals>.transposed at 0x7f7259c8f2e0>, (<ufunc 'add'>, 'FsrPhoton', 'Photon'): <function Candidate.add at 0x7f7259c8f250>, (<ufunc 'add'>, 'Photon', 'FsrPhoton'): <function mixin_class_method.<locals>.register.<locals>.transposed at 0x7f7259c8f2e0>, (<ufunc 'add'>, 'FsrPhoton', 'PtEtaPhiECandidate'): <function Candidate.add at 0x7f7259c8f250>, (<ufunc 'add'>, 'PtEtaPhiECandidate', 'FsrPhoton'): <function mixin_class_method.<locals>.register.<locals>.transposed at 0x7f7259c8f2e0>, (<ufunc 'add'>, 'FsrPhoton', 'GenVisTau'): <function Candidate.add at 0x7f7259c8f250>, (<ufunc 'add'>, 'GenVisTau', 'FsrPhoton'): <function mixin_class_method.<locals>.register.<locals>.transposed at 0x7f7259c8f2e0>, (<ufunc 'add'>, 'FsrPhoton', 'Candidate'): <function Candidate.add at 0x7f7259c8f250>, (<ufunc 'add'>, 'Candidate', 'FsrPhoton'): <function mixin_class_method.<locals>.register.<locals>.transposed at 0x7f7259c8f2e0>, (<ufunc 'add'>, 'FsrPhoton', 'FsrPhoton'): <function Candidate.add at 0x7f7259c8f250>, (<ufunc 'multiply'>, 'FsrPhoton', <class 'numbers.Number'>): <function PtEtaPhiMLorentzVector.multiply at 0x7f7259c8e710>, (<ufunc 'multiply'>, <class 'numbers.Number'>, 'FsrPhoton'): <function mixin_class_method.<locals>.register.<locals>.transposed at 0x7f7259c8e7a0>, (<ufunc 'multiply'>, 'FsrPhoton', 'FsrPhoton'): <function PtEtaPhiMLorentzVector.multiply at 0x7f7259c8e710>, (<ufunc 'negative'>, 'FsrPhoton'): <function PtEtaPhiMLorentzVector.negative at 0x7f7259c8e830>, (<ufunc 'absolute'>, 'FsrPhoton'): <function LorentzVector.absolute at 0x7f7259c8d6c0>, (<ufunc 'add'>, 'FsrPhoton', 'PtEtaPhiELorentzVector'): <function LorentzVector.add at 0x7f7259c8d750>, (<ufunc 'add'>, 'PtEtaPhiELorentzVector', 'FsrPhoton'): <function mixin_class_method.<locals>.register.<locals>.transposed at 0x7f7259c8d7e0>, (<ufunc 'add'>, 'FsrPhoton', 'PtEtaPhiMLorentzVector'): <function LorentzVector.add at 0x7f7259c8d750>, (<ufunc 'add'>, 'PtEtaPhiMLorentzVector', 'FsrPhoton'): <function mixin_class_method.<locals>.register.<locals>.transposed at 0x7f7259c8d7e0>, (<ufunc 'add'>, 'FsrPhoton', 'GenParticle'): <function LorentzVector.add at 0x7f7259c8d750>, (<ufunc 'add'>, 'GenParticle', 'FsrPhoton'): <function mixin_class_method.<locals>.register.<locals>.transposed at 0x7f7259c8d7e0>, (<ufunc 'add'>, 'FsrPhoton', 'PtEtaPhiMCollection'): <function LorentzVector.add at 0x7f7259c8d750>, (<ufunc 'add'>, 'PtEtaPhiMCollection', 'FsrPhoton'): <function mixin_class_method.<locals>.register.<locals>.transposed at 0x7f7259c8d7e0>, (<ufunc 'add'>, 'FsrPhoton', 'LorentzVector'): <function LorentzVector.add at 0x7f7259c8d750>, (<ufunc 'add'>, 'LorentzVector', 'FsrPhoton'): <function mixin_class_method.<locals>.register.<locals>.transposed at 0x7f7259c8d7e0>, (<ufunc 'subtract'>, 'FsrPhoton', 'PtEtaPhiELorentzVector'): <function LorentzVector.subtract at 0x7f7259c8d870>, (<ufunc 'subtract'>, 'PtEtaPhiELorentzVector', 'FsrPhoton'): <function mixin_class_method.<locals>.register.<locals>.transposed at 0x7f7259c8d900>, (<ufunc 'subtract'>, 'FsrPhoton', 'Muon'): <function LorentzVector.subtract at 0x7f7259c8d870>, (<ufunc 'subtract'>, 'Muon', 'FsrPhoton'): <function mixin_class_method.<locals>.register.<locals>.transposed at 0x7f7259c8d900>, (<ufunc 'subtract'>, 'FsrPhoton', 'Electron'): <function LorentzVector.subtract at 0x7f7259c8d870>, (<ufunc 'subtract'>, 'Electron', 'FsrPhoton'): <function mixin_class_method.<locals>.register.<locals>.transposed at 0x7f7259c8d900>, (<ufunc 'subtract'>, 'FsrPhoton', 'Tau'): <function LorentzVector.subtract at 0x7f7259c8d870>, (<ufunc 'subtract'>, 'Tau', 'FsrPhoton'): <function mixin_class_method.<locals>.register.<locals>.transposed at 0x7f7259c8d900>, (<ufunc 'subtract'>, 'FsrPhoton', 'PtEtaPhiMLorentzVector'): <function LorentzVector.subtract at 0x7f7259c8d870>, (<ufunc 'subtract'>, 'PtEtaPhiMLorentzVector', 'FsrPhoton'): <function mixin_class_method.<locals>.register.<locals>.transposed at 0x7f7259c8d900>, (<ufunc 'subtract'>, 'FsrPhoton', 'GenParticle'): <function LorentzVector.subtract at 0x7f7259c8d870>, (<ufunc 'subtract'>, 'GenParticle', 'FsrPhoton'): <function mixin_class_method.<locals>.register.<locals>.transposed at 0x7f7259c8d900>, (<ufunc 'subtract'>, 'FsrPhoton', 'PtEtaPhiMCandidate'): <function LorentzVector.subtract at 0x7f7259c8d870>, (<ufunc 'subtract'>, 'PtEtaPhiMCandidate', 'FsrPhoton'): <function mixin_class_method.<locals>.register.<locals>.transposed at 0x7f7259c8d900>, (<ufunc 'subtract'>, 'FsrPhoton', 'Photon'): <function LorentzVector.subtract at 0x7f7259c8d870>, (<ufunc 'subtract'>, 'Photon', 'FsrPhoton'): <function mixin_class_method.<locals>.register.<locals>.transposed at 0x7f7259c8d900>, (<ufunc 'subtract'>, 'FsrPhoton', 'PtEtaPhiECandidate'): <function LorentzVector.subtract at 0x7f7259c8d870>, (<ufunc 'subtract'>, 'PtEtaPhiECandidate', 'FsrPhoton'): <function mixin_class_method.<locals>.register.<locals>.transposed at 0x7f7259c8d900>, (<ufunc 'subtract'>, 'FsrPhoton', 'GenVisTau'): <function LorentzVector.subtract at 0x7f7259c8d870>, (<ufunc 'subtract'>, 'GenVisTau', 'FsrPhoton'): <function mixin_class_method.<locals>.register.<locals>.transposed at 0x7f7259c8d900>, (<ufunc 'subtract'>, 'FsrPhoton', 'PtEtaPhiMCollection'): <function LorentzVector.subtract at 0x7f7259c8d870>, (<ufunc 'subtract'>, 'PtEtaPhiMCollection', 'FsrPhoton'): <function mixin_class_method.<locals>.register.<locals>.transposed at 0x7f7259c8d900>, (<ufunc 'subtract'>, 'FsrPhoton', 'LorentzVector'): <function LorentzVector.subtract at 0x7f7259c8d870>, (<ufunc 'subtract'>, 'LorentzVector', 'FsrPhoton'): <function mixin_class_method.<locals>.register.<locals>.transposed at 0x7f7259c8d900>, (<ufunc 'subtract'>, 'FsrPhoton', 'Candidate'): <function LorentzVector.subtract at 0x7f7259c8d870>, (<ufunc 'subtract'>, 'Candidate', 'FsrPhoton'): <function mixin_class_method.<locals>.register.<locals>.transposed at 0x7f7259c8d900>, (<ufunc 'subtract'>, 'FsrPhoton', 'FsrPhoton'): <function LorentzVector.subtract at 0x7f7259c8d870>, (<ufunc 'add'>, 'FsrPhoton', 'SphericalThreeVector'): <function ThreeVector.add at 0x7f7259c8c9d0>, (<ufunc 'add'>, 'SphericalThreeVector', 'FsrPhoton'): <function mixin_class_method.<locals>.register.<locals>.transposed at 0x7f7259c8ca60>, (<ufunc 'add'>, 'FsrPhoton', 'ThreeVector'): <function ThreeVector.add at 0x7f7259c8c9d0>, (<ufunc 'add'>, 'ThreeVector', 'FsrPhoton'): <function mixin_class_method.<locals>.register.<locals>.transposed at 0x7f7259c8ca60>, (<ufunc 'subtract'>, 'FsrPhoton', 'SphericalThreeVector'): <function ThreeVector.subtract at 0x7f7259c8caf0>, (<ufunc 'subtract'>, 'SphericalThreeVector', 'FsrPhoton'): <function mixin_class_method.<locals>.register.<locals>.transposed at 0x7f7259c8cb80>, (<ufunc 'subtract'>, 'FsrPhoton', 'ThreeVector'): <function ThreeVector.subtract at 0x7f7259c8caf0>, (<ufunc 'subtract'>, 'ThreeVector', 'FsrPhoton'): <function mixin_class_method.<locals>.register.<locals>.transposed at 0x7f7259c8cb80>, (<ufunc 'add'>, 'FsrPhoton', 'TwoVector'): <function TwoVector.add at 0x7f7259ca7c70>, (<ufunc 'add'>, 'TwoVector', 'FsrPhoton'): <function mixin_class_method.<locals>.register.<locals>.transposed at 0x7f7259ca7370>, (<ufunc 'add'>, 'FsrPhoton', 'PolarTwoVector'): <function TwoVector.add at 0x7f7259ca7c70>, (<ufunc 'add'>, 'PolarTwoVector', 'FsrPhoton'): <function mixin_class_method.<locals>.register.<locals>.transposed at 0x7f7259ca7370>, (<ufunc 'subtract'>, 'FsrPhoton', 'TwoVector'): <function TwoVector.subtract at 0x7f7259ca4280>, (<ufunc 'subtract'>, 'TwoVector', 'FsrPhoton'): <function mixin_class_method.<locals>.register.<locals>.transposed at 0x7f7259ca70a0>, (<ufunc 'subtract'>, 'FsrPhoton', 'PolarTwoVector'): <function TwoVector.subtract at 0x7f7259ca4280>, (<ufunc 'subtract'>, 'PolarTwoVector', 'FsrPhoton'): <function mixin_class_method.<locals>.register.<locals>.transposed at 0x7f7259ca70a0>, (<ufunc 'true_divide'>, 'FsrPhoton', <class 'numbers.Number'>): <function TwoVector.divide at 0x7f7259ca79a0>, (<ufunc 'true_divide'>, <class 'numbers.Number'>, 'FsrPhoton'): <function mixin_class_method.<locals>.register.<locals>.transposed at 0x7f7259ca4160>, (<ufunc 'true_divide'>, 'FsrPhoton', 'FsrPhoton'): <function TwoVector.divide at 0x7f7259ca79a0>, ('__typestr__', 'FsrPhoton'): 'fsrPhoton', 'Jet': <class 'coffea.nanoevents.methods.nanoaod.JetRecord'>, ('*', 'Jet'): <class 'coffea.nanoevents.methods.nanoaod.JetArray'>, (<ufunc 'multiply'>, 'Jet', <class 'numbers.Number'>): <function PtEtaPhiMLorentzVector.multiply at 0x7f7259c8e710>, (<ufunc 'multiply'>, <class 'numbers.Number'>, 'Jet'): <function mixin_class_method.<locals>.register.<locals>.transposed at 0x7f7259c8e7a0>, (<ufunc 'multiply'>, 'Jet', 'Jet'): <function PtEtaPhiMLorentzVector.multiply at 0x7f7259c8e710>, (<ufunc 'negative'>, 'Jet'): <function PtEtaPhiMLorentzVector.negative at 0x7f7259c8e830>, (<ufunc 'absolute'>, 'Jet'): <function LorentzVector.absolute at 0x7f7259c8d6c0>, (<ufunc 'add'>, 'Jet', 'PtEtaPhiELorentzVector'): <function LorentzVector.add at 0x7f7259c8d750>, (<ufunc 'add'>, 'PtEtaPhiELorentzVector', 'Jet'): <function mixin_class_method.<locals>.register.<locals>.transposed at 0x7f7259c8d7e0>, (<ufunc 'add'>, 'Jet', 'Muon'): <function LorentzVector.add at 0x7f7259c8d750>, (<ufunc 'add'>, 'Muon', 'Jet'): <function mixin_class_method.<locals>.register.<locals>.transposed at 0x7f7259c8d7e0>, (<ufunc 'add'>, 'Jet', 'Electron'): <function LorentzVector.add at 0x7f7259c8d750>, (<ufunc 'add'>, 'Electron', 'Jet'): <function mixin_class_method.<locals>.register.<locals>.transposed at 0x7f7259c8d7e0>, (<ufunc 'add'>, 'Jet', 'Tau'): <function LorentzVector.add at 0x7f7259c8d750>, (<ufunc 'add'>, 'Tau', 'Jet'): <function mixin_class_method.<locals>.register.<locals>.transposed at 0x7f7259c8d7e0>, (<ufunc 'add'>, 'Jet', 'PtEtaPhiMLorentzVector'): <function LorentzVector.add at 0x7f7259c8d750>, (<ufunc 'add'>, 'PtEtaPhiMLorentzVector', 'Jet'): <function mixin_class_method.<locals>.register.<locals>.transposed at 0x7f7259c8d7e0>, (<ufunc 'add'>, 'Jet', 'GenParticle'): <function LorentzVector.add at 0x7f7259c8d750>, (<ufunc 'add'>, 'GenParticle', 'Jet'): <function mixin_class_method.<locals>.register.<locals>.transposed at 0x7f7259c8d7e0>, (<ufunc 'add'>, 'Jet', 'PtEtaPhiMCandidate'): <function LorentzVector.add at 0x7f7259c8d750>, (<ufunc 'add'>, 'PtEtaPhiMCandidate', 'Jet'): <function mixin_class_method.<locals>.register.<locals>.transposed at 0x7f7259c8d7e0>, (<ufunc 'add'>, 'Jet', 'Photon'): <function LorentzVector.add at 0x7f7259c8d750>, (<ufunc 'add'>, 'Photon', 'Jet'): <function mixin_class_method.<locals>.register.<locals>.transposed at 0x7f7259c8d7e0>, (<ufunc 'add'>, 'Jet', 'PtEtaPhiECandidate'): <function LorentzVector.add at 0x7f7259c8d750>, (<ufunc 'add'>, 'PtEtaPhiECandidate', 'Jet'): <function mixin_class_method.<locals>.register.<locals>.transposed at 0x7f7259c8d7e0>, (<ufunc 'add'>, 'Jet', 'FsrPhoton'): <function LorentzVector.add at 0x7f7259c8d750>, (<ufunc 'add'>, 'FsrPhoton', 'Jet'): <function mixin_class_method.<locals>.register.<locals>.transposed at 0x7f7259c8d7e0>, (<ufunc 'add'>, 'Jet', 'GenVisTau'): <function LorentzVector.add at 0x7f7259c8d750>, (<ufunc 'add'>, 'GenVisTau', 'Jet'): <function mixin_class_method.<locals>.register.<locals>.transposed at 0x7f7259c8d7e0>, (<ufunc 'add'>, 'Jet', 'PtEtaPhiMCollection'): <function LorentzVector.add at 0x7f7259c8d750>, (<ufunc 'add'>, 'PtEtaPhiMCollection', 'Jet'): <function mixin_class_method.<locals>.register.<locals>.transposed at 0x7f7259c8d7e0>, (<ufunc 'add'>, 'Jet', 'LorentzVector'): <function LorentzVector.add at 0x7f7259c8d750>, (<ufunc 'add'>, 'LorentzVector', 'Jet'): <function mixin_class_method.<locals>.register.<locals>.transposed at 0x7f7259c8d7e0>, (<ufunc 'add'>, 'Jet', 'Candidate'): <function LorentzVector.add at 0x7f7259c8d750>, (<ufunc 'add'>, 'Candidate', 'Jet'): <function mixin_class_method.<locals>.register.<locals>.transposed at 0x7f7259c8d7e0>, (<ufunc 'add'>, 'Jet', 'Jet'): <function LorentzVector.add at 0x7f7259c8d750>, (<ufunc 'subtract'>, 'Jet', 'PtEtaPhiELorentzVector'): <function LorentzVector.subtract at 0x7f7259c8d870>, (<ufunc 'subtract'>, 'PtEtaPhiELorentzVector', 'Jet'): <function mixin_class_method.<locals>.register.<locals>.transposed at 0x7f7259c8d900>, (<ufunc 'subtract'>, 'Jet', 'Muon'): <function LorentzVector.subtract at 0x7f7259c8d870>, (<ufunc 'subtract'>, 'Muon', 'Jet'): <function mixin_class_method.<locals>.register.<locals>.transposed at 0x7f7259c8d900>, (<ufunc 'subtract'>, 'Jet', 'Electron'): <function LorentzVector.subtract at 0x7f7259c8d870>, (<ufunc 'subtract'>, 'Electron', 'Jet'): <function mixin_class_method.<locals>.register.<locals>.transposed at 0x7f7259c8d900>, (<ufunc 'subtract'>, 'Jet', 'Tau'): <function LorentzVector.subtract at 0x7f7259c8d870>, (<ufunc 'subtract'>, 'Tau', 'Jet'): <function mixin_class_method.<locals>.register.<locals>.transposed at 0x7f7259c8d900>, (<ufunc 'subtract'>, 'Jet', 'PtEtaPhiMLorentzVector'): <function LorentzVector.subtract at 0x7f7259c8d870>, (<ufunc 'subtract'>, 'PtEtaPhiMLorentzVector', 'Jet'): <function mixin_class_method.<locals>.register.<locals>.transposed at 0x7f7259c8d900>, (<ufunc 'subtract'>, 'Jet', 'GenParticle'): <function LorentzVector.subtract at 0x7f7259c8d870>, (<ufunc 'subtract'>, 'GenParticle', 'Jet'): <function mixin_class_method.<locals>.register.<locals>.transposed at 0x7f7259c8d900>, (<ufunc 'subtract'>, 'Jet', 'PtEtaPhiMCandidate'): <function LorentzVector.subtract at 0x7f7259c8d870>, (<ufunc 'subtract'>, 'PtEtaPhiMCandidate', 'Jet'): <function mixin_class_method.<locals>.register.<locals>.transposed at 0x7f7259c8d900>, (<ufunc 'subtract'>, 'Jet', 'Photon'): <function LorentzVector.subtract at 0x7f7259c8d870>, (<ufunc 'subtract'>, 'Photon', 'Jet'): <function mixin_class_method.<locals>.register.<locals>.transposed at 0x7f7259c8d900>, (<ufunc 'subtract'>, 'Jet', 'PtEtaPhiECandidate'): <function LorentzVector.subtract at 0x7f7259c8d870>, (<ufunc 'subtract'>, 'PtEtaPhiECandidate', 'Jet'): <function mixin_class_method.<locals>.register.<locals>.transposed at 0x7f7259c8d900>, (<ufunc 'subtract'>, 'Jet', 'FsrPhoton'): <function LorentzVector.subtract at 0x7f7259c8d870>, (<ufunc 'subtract'>, 'FsrPhoton', 'Jet'): <function mixin_class_method.<locals>.register.<locals>.transposed at 0x7f7259c8d900>, (<ufunc 'subtract'>, 'Jet', 'GenVisTau'): <function LorentzVector.subtract at 0x7f7259c8d870>, (<ufunc 'subtract'>, 'GenVisTau', 'Jet'): <function mixin_class_method.<locals>.register.<locals>.transposed at 0x7f7259c8d900>, (<ufunc 'subtract'>, 'Jet', 'PtEtaPhiMCollection'): <function LorentzVector.subtract at 0x7f7259c8d870>, (<ufunc 'subtract'>, 'PtEtaPhiMCollection', 'Jet'): <function mixin_class_method.<locals>.register.<locals>.transposed at 0x7f7259c8d900>, (<ufunc 'subtract'>, 'Jet', 'LorentzVector'): <function LorentzVector.subtract at 0x7f7259c8d870>, (<ufunc 'subtract'>, 'LorentzVector', 'Jet'): <function mixin_class_method.<locals>.register.<locals>.transposed at 0x7f7259c8d900>, (<ufunc 'subtract'>, 'Jet', 'Candidate'): <function LorentzVector.subtract at 0x7f7259c8d870>, (<ufunc 'subtract'>, 'Candidate', 'Jet'): <function mixin_class_method.<locals>.register.<locals>.transposed at 0x7f7259c8d900>, (<ufunc 'subtract'>, 'Jet', 'Jet'): <function LorentzVector.subtract at 0x7f7259c8d870>, (<ufunc 'add'>, 'Jet', 'SphericalThreeVector'): <function ThreeVector.add at 0x7f7259c8c9d0>, (<ufunc 'add'>, 'SphericalThreeVector', 'Jet'): <function mixin_class_method.<locals>.register.<locals>.transposed at 0x7f7259c8ca60>, (<ufunc 'add'>, 'Jet', 'ThreeVector'): <function ThreeVector.add at 0x7f7259c8c9d0>, (<ufunc 'add'>, 'ThreeVector', 'Jet'): <function mixin_class_method.<locals>.register.<locals>.transposed at 0x7f7259c8ca60>, (<ufunc 'subtract'>, 'Jet', 'SphericalThreeVector'): <function ThreeVector.subtract at 0x7f7259c8caf0>, (<ufunc 'subtract'>, 'SphericalThreeVector', 'Jet'): <function mixin_class_method.<locals>.register.<locals>.transposed at 0x7f7259c8cb80>, (<ufunc 'subtract'>, 'Jet', 'ThreeVector'): <function ThreeVector.subtract at 0x7f7259c8caf0>, (<ufunc 'subtract'>, 'ThreeVector', 'Jet'): <function mixin_class_method.<locals>.register.<locals>.transposed at 0x7f7259c8cb80>, (<ufunc 'add'>, 'Jet', 'TwoVector'): <function TwoVector.add at 0x7f7259ca7c70>, (<ufunc 'add'>, 'TwoVector', 'Jet'): <function mixin_class_method.<locals>.register.<locals>.transposed at 0x7f7259ca7370>, (<ufunc 'add'>, 'Jet', 'PolarTwoVector'): <function TwoVector.add at 0x7f7259ca7c70>, (<ufunc 'add'>, 'PolarTwoVector', 'Jet'): <function mixin_class_method.<locals>.register.<locals>.transposed at 0x7f7259ca7370>, (<ufunc 'subtract'>, 'Jet', 'TwoVector'): <function TwoVector.subtract at 0x7f7259ca4280>, (<ufunc 'subtract'>, 'TwoVector', 'Jet'): <function mixin_class_method.<locals>.register.<locals>.transposed at 0x7f7259ca70a0>, (<ufunc 'subtract'>, 'Jet', 'PolarTwoVector'): <function TwoVector.subtract at 0x7f7259ca4280>, (<ufunc 'subtract'>, 'PolarTwoVector', 'Jet'): <function mixin_class_method.<locals>.register.<locals>.transposed at 0x7f7259ca70a0>, (<ufunc 'true_divide'>, 'Jet', <class 'numbers.Number'>): <function TwoVector.divide at 0x7f7259ca79a0>, (<ufunc 'true_divide'>, <class 'numbers.Number'>, 'Jet'): <function mixin_class_method.<locals>.register.<locals>.transposed at 0x7f7259ca4160>, (<ufunc 'true_divide'>, 'Jet', 'Jet'): <function TwoVector.divide at 0x7f7259ca79a0>, ('__typestr__', 'Jet'): 'jet', 'FatJet': <class 'coffea.nanoevents.methods.nanoaod.FatJetRecord'>, ('*', 'FatJet'): <class 'coffea.nanoevents.methods.nanoaod.FatJetArray'>, (<ufunc 'multiply'>, 'FatJet', <class 'numbers.Number'>): <function PtEtaPhiMLorentzVector.multiply at 0x7f7259c8e710>, (<ufunc 'multiply'>, <class 'numbers.Number'>, 'FatJet'): <function mixin_class_method.<locals>.register.<locals>.transposed at 0x7f7259c8e7a0>, (<ufunc 'multiply'>, 'FatJet', 'FatJet'): <function PtEtaPhiMLorentzVector.multiply at 0x7f7259c8e710>, (<ufunc 'negative'>, 'FatJet'): <function PtEtaPhiMLorentzVector.negative at 0x7f7259c8e830>, (<ufunc 'absolute'>, 'FatJet'): <function LorentzVector.absolute at 0x7f7259c8d6c0>, (<ufunc 'add'>, 'FatJet', 'PtEtaPhiELorentzVector'): <function LorentzVector.add at 0x7f7259c8d750>, (<ufunc 'add'>, 'PtEtaPhiELorentzVector', 'FatJet'): <function mixin_class_method.<locals>.register.<locals>.transposed at 0x7f7259c8d7e0>, (<ufunc 'add'>, 'FatJet', 'Muon'): <function LorentzVector.add at 0x7f7259c8d750>, (<ufunc 'add'>, 'Muon', 'FatJet'): <function mixin_class_method.<locals>.register.<locals>.transposed at 0x7f7259c8d7e0>, (<ufunc 'add'>, 'FatJet', 'Electron'): <function LorentzVector.add at 0x7f7259c8d750>, (<ufunc 'add'>, 'Electron', 'FatJet'): <function mixin_class_method.<locals>.register.<locals>.transposed at 0x7f7259c8d7e0>, (<ufunc 'add'>, 'FatJet', 'Tau'): <function LorentzVector.add at 0x7f7259c8d750>, (<ufunc 'add'>, 'Tau', 'FatJet'): <function mixin_class_method.<locals>.register.<locals>.transposed at 0x7f7259c8d7e0>, (<ufunc 'add'>, 'FatJet', 'PtEtaPhiMLorentzVector'): <function LorentzVector.add at 0x7f7259c8d750>, (<ufunc 'add'>, 'PtEtaPhiMLorentzVector', 'FatJet'): <function mixin_class_method.<locals>.register.<locals>.transposed at 0x7f7259c8d7e0>, (<ufunc 'add'>, 'FatJet', 'GenParticle'): <function LorentzVector.add at 0x7f7259c8d750>, (<ufunc 'add'>, 'GenParticle', 'FatJet'): <function mixin_class_method.<locals>.register.<locals>.transposed at 0x7f7259c8d7e0>, (<ufunc 'add'>, 'FatJet', 'Jet'): <function LorentzVector.add at 0x7f7259c8d750>, (<ufunc 'add'>, 'Jet', 'FatJet'): <function mixin_class_method.<locals>.register.<locals>.transposed at 0x7f7259c8d7e0>, (<ufunc 'add'>, 'FatJet', 'PtEtaPhiMCandidate'): <function LorentzVector.add at 0x7f7259c8d750>, (<ufunc 'add'>, 'PtEtaPhiMCandidate', 'FatJet'): <function mixin_class_method.<locals>.register.<locals>.transposed at 0x7f7259c8d7e0>, (<ufunc 'add'>, 'FatJet', 'Photon'): <function LorentzVector.add at 0x7f7259c8d750>, (<ufunc 'add'>, 'Photon', 'FatJet'): <function mixin_class_method.<locals>.register.<locals>.transposed at 0x7f7259c8d7e0>, (<ufunc 'add'>, 'FatJet', 'PtEtaPhiECandidate'): <function LorentzVector.add at 0x7f7259c8d750>, (<ufunc 'add'>, 'PtEtaPhiECandidate', 'FatJet'): <function mixin_class_method.<locals>.register.<locals>.transposed at 0x7f7259c8d7e0>, (<ufunc 'add'>, 'FatJet', 'FsrPhoton'): <function LorentzVector.add at 0x7f7259c8d750>, (<ufunc 'add'>, 'FsrPhoton', 'FatJet'): <function mixin_class_method.<locals>.register.<locals>.transposed at 0x7f7259c8d7e0>, (<ufunc 'add'>, 'FatJet', 'GenVisTau'): <function LorentzVector.add at 0x7f7259c8d750>, (<ufunc 'add'>, 'GenVisTau', 'FatJet'): <function mixin_class_method.<locals>.register.<locals>.transposed at 0x7f7259c8d7e0>, (<ufunc 'add'>, 'FatJet', 'PtEtaPhiMCollection'): <function LorentzVector.add at 0x7f7259c8d750>, (<ufunc 'add'>, 'PtEtaPhiMCollection', 'FatJet'): <function mixin_class_method.<locals>.register.<locals>.transposed at 0x7f7259c8d7e0>, (<ufunc 'add'>, 'FatJet', 'LorentzVector'): <function LorentzVector.add at 0x7f7259c8d750>, (<ufunc 'add'>, 'LorentzVector', 'FatJet'): <function mixin_class_method.<locals>.register.<locals>.transposed at 0x7f7259c8d7e0>, (<ufunc 'add'>, 'FatJet', 'Candidate'): <function LorentzVector.add at 0x7f7259c8d750>, (<ufunc 'add'>, 'Candidate', 'FatJet'): <function mixin_class_method.<locals>.register.<locals>.transposed at 0x7f7259c8d7e0>, (<ufunc 'add'>, 'FatJet', 'FatJet'): <function LorentzVector.add at 0x7f7259c8d750>, (<ufunc 'subtract'>, 'FatJet', 'PtEtaPhiELorentzVector'): <function LorentzVector.subtract at 0x7f7259c8d870>, (<ufunc 'subtract'>, 'PtEtaPhiELorentzVector', 'FatJet'): <function mixin_class_method.<locals>.register.<locals>.transposed at 0x7f7259c8d900>, (<ufunc 'subtract'>, 'FatJet', 'Muon'): <function LorentzVector.subtract at 0x7f7259c8d870>, (<ufunc 'subtract'>, 'Muon', 'FatJet'): <function mixin_class_method.<locals>.register.<locals>.transposed at 0x7f7259c8d900>, (<ufunc 'subtract'>, 'FatJet', 'Electron'): <function LorentzVector.subtract at 0x7f7259c8d870>, (<ufunc 'subtract'>, 'Electron', 'FatJet'): <function mixin_class_method.<locals>.register.<locals>.transposed at 0x7f7259c8d900>, (<ufunc 'subtract'>, 'FatJet', 'Tau'): <function LorentzVector.subtract at 0x7f7259c8d870>, (<ufunc 'subtract'>, 'Tau', 'FatJet'): <function mixin_class_method.<locals>.register.<locals>.transposed at 0x7f7259c8d900>, (<ufunc 'subtract'>, 'FatJet', 'PtEtaPhiMLorentzVector'): <function LorentzVector.subtract at 0x7f7259c8d870>, (<ufunc 'subtract'>, 'PtEtaPhiMLorentzVector', 'FatJet'): <function mixin_class_method.<locals>.register.<locals>.transposed at 0x7f7259c8d900>, (<ufunc 'subtract'>, 'FatJet', 'GenParticle'): <function LorentzVector.subtract at 0x7f7259c8d870>, (<ufunc 'subtract'>, 'GenParticle', 'FatJet'): <function mixin_class_method.<locals>.register.<locals>.transposed at 0x7f7259c8d900>, (<ufunc 'subtract'>, 'FatJet', 'Jet'): <function LorentzVector.subtract at 0x7f7259c8d870>, (<ufunc 'subtract'>, 'Jet', 'FatJet'): <function mixin_class_method.<locals>.register.<locals>.transposed at 0x7f7259c8d900>, (<ufunc 'subtract'>, 'FatJet', 'PtEtaPhiMCandidate'): <function LorentzVector.subtract at 0x7f7259c8d870>, (<ufunc 'subtract'>, 'PtEtaPhiMCandidate', 'FatJet'): <function mixin_class_method.<locals>.register.<locals>.transposed at 0x7f7259c8d900>, (<ufunc 'subtract'>, 'FatJet', 'Photon'): <function LorentzVector.subtract at 0x7f7259c8d870>, (<ufunc 'subtract'>, 'Photon', 'FatJet'): <function mixin_class_method.<locals>.register.<locals>.transposed at 0x7f7259c8d900>, (<ufunc 'subtract'>, 'FatJet', 'PtEtaPhiECandidate'): <function LorentzVector.subtract at 0x7f7259c8d870>, (<ufunc 'subtract'>, 'PtEtaPhiECandidate', 'FatJet'): <function mixin_class_method.<locals>.register.<locals>.transposed at 0x7f7259c8d900>, (<ufunc 'subtract'>, 'FatJet', 'FsrPhoton'): <function LorentzVector.subtract at 0x7f7259c8d870>, (<ufunc 'subtract'>, 'FsrPhoton', 'FatJet'): <function mixin_class_method.<locals>.register.<locals>.transposed at 0x7f7259c8d900>, (<ufunc 'subtract'>, 'FatJet', 'GenVisTau'): <function LorentzVector.subtract at 0x7f7259c8d870>, (<ufunc 'subtract'>, 'GenVisTau', 'FatJet'): <function mixin_class_method.<locals>.register.<locals>.transposed at 0x7f7259c8d900>, (<ufunc 'subtract'>, 'FatJet', 'PtEtaPhiMCollection'): <function LorentzVector.subtract at 0x7f7259c8d870>, (<ufunc 'subtract'>, 'PtEtaPhiMCollection', 'FatJet'): <function mixin_class_method.<locals>.register.<locals>.transposed at 0x7f7259c8d900>, (<ufunc 'subtract'>, 'FatJet', 'LorentzVector'): <function LorentzVector.subtract at 0x7f7259c8d870>, (<ufunc 'subtract'>, 'LorentzVector', 'FatJet'): <function mixin_class_method.<locals>.register.<locals>.transposed at 0x7f7259c8d900>, (<ufunc 'subtract'>, 'FatJet', 'Candidate'): <function LorentzVector.subtract at 0x7f7259c8d870>, (<ufunc 'subtract'>, 'Candidate', 'FatJet'): <function mixin_class_method.<locals>.register.<locals>.transposed at 0x7f7259c8d900>, (<ufunc 'subtract'>, 'FatJet', 'FatJet'): <function LorentzVector.subtract at 0x7f7259c8d870>, (<ufunc 'add'>, 'FatJet', 'SphericalThreeVector'): <function ThreeVector.add at 0x7f7259c8c9d0>, (<ufunc 'add'>, 'SphericalThreeVector', 'FatJet'): <function mixin_class_method.<locals>.register.<locals>.transposed at 0x7f7259c8ca60>, (<ufunc 'add'>, 'FatJet', 'ThreeVector'): <function ThreeVector.add at 0x7f7259c8c9d0>, (<ufunc 'add'>, 'ThreeVector', 'FatJet'): <function mixin_class_method.<locals>.register.<locals>.transposed at 0x7f7259c8ca60>, (<ufunc 'subtract'>, 'FatJet', 'SphericalThreeVector'): <function ThreeVector.subtract at 0x7f7259c8caf0>, (<ufunc 'subtract'>, 'SphericalThreeVector', 'FatJet'): <function mixin_class_method.<locals>.register.<locals>.transposed at 0x7f7259c8cb80>, (<ufunc 'subtract'>, 'FatJet', 'ThreeVector'): <function ThreeVector.subtract at 0x7f7259c8caf0>, (<ufunc 'subtract'>, 'ThreeVector', 'FatJet'): <function mixin_class_method.<locals>.register.<locals>.transposed at 0x7f7259c8cb80>, (<ufunc 'add'>, 'FatJet', 'TwoVector'): <function TwoVector.add at 0x7f7259ca7c70>, (<ufunc 'add'>, 'TwoVector', 'FatJet'): <function mixin_class_method.<locals>.register.<locals>.transposed at 0x7f7259ca7370>, (<ufunc 'add'>, 'FatJet', 'PolarTwoVector'): <function TwoVector.add at 0x7f7259ca7c70>, (<ufunc 'add'>, 'PolarTwoVector', 'FatJet'): <function mixin_class_method.<locals>.register.<locals>.transposed at 0x7f7259ca7370>, (<ufunc 'subtract'>, 'FatJet', 'TwoVector'): <function TwoVector.subtract at 0x7f7259ca4280>, (<ufunc 'subtract'>, 'TwoVector', 'FatJet'): <function mixin_class_method.<locals>.register.<locals>.transposed at 0x7f7259ca70a0>, (<ufunc 'subtract'>, 'FatJet', 'PolarTwoVector'): <function TwoVector.subtract at 0x7f7259ca4280>, (<ufunc 'subtract'>, 'PolarTwoVector', 'FatJet'): <function mixin_class_method.<locals>.register.<locals>.transposed at 0x7f7259ca70a0>, (<ufunc 'true_divide'>, 'FatJet', <class 'numbers.Number'>): <function TwoVector.divide at 0x7f7259ca79a0>, (<ufunc 'true_divide'>, <class 'numbers.Number'>, 'FatJet'): <function mixin_class_method.<locals>.register.<locals>.transposed at 0x7f7259ca4160>, (<ufunc 'true_divide'>, 'FatJet', 'FatJet'): <function TwoVector.divide at 0x7f7259ca79a0>, ('__typestr__', 'FatJet'): 'fatJet', 'MissingET': <class 'coffea.nanoevents.methods.nanoaod.MissingETRecord'>, ('*', 'MissingET'): <class 'coffea.nanoevents.methods.nanoaod.MissingETArray'>, (<ufunc 'multiply'>, 'MissingET', <class 'numbers.Number'>): <function PolarTwoVector.multiply at 0x7f7259c8c3a0>, (<ufunc 'multiply'>, <class 'numbers.Number'>, 'MissingET'): <function mixin_class_method.<locals>.register.<locals>.transposed at 0x7f7259c8c430>, (<ufunc 'multiply'>, 'MissingET', 'MissingET'): <function PolarTwoVector.multiply at 0x7f7259c8c3a0>, (<ufunc 'negative'>, 'MissingET'): <function PolarTwoVector.negative at 0x7f7259c8c4c0>, (<ufunc 'absolute'>, 'MissingET'): <function TwoVector.absolute at 0x7f7259ca75b0>, (<ufunc 'add'>, 'MissingET', 'PtEtaPhiELorentzVector'): <function TwoVector.add at 0x7f7259ca7c70>, (<ufunc 'add'>, 'PtEtaPhiELorentzVector', 'MissingET'): <function mixin_class_method.<locals>.register.<locals>.transposed at 0x7f7259ca7370>, (<ufunc 'add'>, 'MissingET', 'TwoVector'): <function TwoVector.add at 0x7f7259ca7c70>, (<ufunc 'add'>, 'TwoVector', 'MissingET'): <function mixin_class_method.<locals>.register.<locals>.transposed at 0x7f7259ca7370>, (<ufunc 'add'>, 'MissingET', 'Muon'): <function TwoVector.add at 0x7f7259ca7c70>, (<ufunc 'add'>, 'Muon', 'MissingET'): <function mixin_class_method.<locals>.register.<locals>.transposed at 0x7f7259ca7370>, (<ufunc 'add'>, 'MissingET', 'PtEtaPhiECandidate'): <function TwoVector.add at 0x7f7259ca7c70>, (<ufunc 'add'>, 'PtEtaPhiECandidate', 'MissingET'): <function mixin_class_method.<locals>.register.<locals>.transposed at 0x7f7259ca7370>, (<ufunc 'add'>, 'MissingET', 'FsrPhoton'): <function TwoVector.add at 0x7f7259ca7c70>, (<ufunc 'add'>, 'FsrPhoton', 'MissingET'): <function mixin_class_method.<locals>.register.<locals>.transposed at 0x7f7259ca7370>, (<ufunc 'add'>, 'MissingET', 'FatJet'): <function TwoVector.add at 0x7f7259ca7c70>, (<ufunc 'add'>, 'FatJet', 'MissingET'): <function mixin_class_method.<locals>.register.<locals>.transposed at 0x7f7259ca7370>, (<ufunc 'add'>, 'MissingET', 'Candidate'): <function TwoVector.add at 0x7f7259ca7c70>, (<ufunc 'add'>, 'Candidate', 'MissingET'): <function mixin_class_method.<locals>.register.<locals>.transposed at 0x7f7259ca7370>, (<ufunc 'add'>, 'MissingET', 'PolarTwoVector'): <function TwoVector.add at 0x7f7259ca7c70>, (<ufunc 'add'>, 'PolarTwoVector', 'MissingET'): <function mixin_class_method.<locals>.register.<locals>.transposed at 0x7f7259ca7370>, (<ufunc 'add'>, 'MissingET', 'GenParticle'): <function TwoVector.add at 0x7f7259ca7c70>, (<ufunc 'add'>, 'GenParticle', 'MissingET'): <function mixin_class_method.<locals>.register.<locals>.transposed at 0x7f7259ca7370>, (<ufunc 'add'>, 'MissingET', 'Photon'): <function TwoVector.add at 0x7f7259ca7c70>, (<ufunc 'add'>, 'Photon', 'MissingET'): <function mixin_class_method.<locals>.register.<locals>.transposed at 0x7f7259ca7370>, (<ufunc 'add'>, 'MissingET', 'GenVisTau'): <function TwoVector.add at 0x7f7259ca7c70>, (<ufunc 'add'>, 'GenVisTau', 'MissingET'): <function mixin_class_method.<locals>.register.<locals>.transposed at 0x7f7259ca7370>, (<ufunc 'add'>, 'MissingET', 'SphericalThreeVector'): <function TwoVector.add at 0x7f7259ca7c70>, (<ufunc 'add'>, 'SphericalThreeVector', 'MissingET'): <function mixin_class_method.<locals>.register.<locals>.transposed at 0x7f7259ca7370>, (<ufunc 'add'>, 'MissingET', 'Tau'): <function TwoVector.add at 0x7f7259ca7c70>, (<ufunc 'add'>, 'Tau', 'MissingET'): <function mixin_class_method.<locals>.register.<locals>.transposed at 0x7f7259ca7370>, (<ufunc 'add'>, 'MissingET', 'PtEtaPhiMLorentzVector'): <function TwoVector.add at 0x7f7259ca7c70>, (<ufunc 'add'>, 'PtEtaPhiMLorentzVector', 'MissingET'): <function mixin_class_method.<locals>.register.<locals>.transposed at 0x7f7259ca7370>, (<ufunc 'add'>, 'MissingET', 'Jet'): <function TwoVector.add at 0x7f7259ca7c70>, (<ufunc 'add'>, 'Jet', 'MissingET'): <function mixin_class_method.<locals>.register.<locals>.transposed at 0x7f7259ca7370>, (<ufunc 'add'>, 'MissingET', 'PtEtaPhiMCandidate'): <function TwoVector.add at 0x7f7259ca7c70>, (<ufunc 'add'>, 'PtEtaPhiMCandidate', 'MissingET'): <function mixin_class_method.<locals>.register.<locals>.transposed at 0x7f7259ca7370>, (<ufunc 'add'>, 'MissingET', 'LorentzVector'): <function TwoVector.add at 0x7f7259ca7c70>, (<ufunc 'add'>, 'LorentzVector', 'MissingET'): <function mixin_class_method.<locals>.register.<locals>.transposed at 0x7f7259ca7370>, (<ufunc 'add'>, 'MissingET', 'ThreeVector'): <function TwoVector.add at 0x7f7259ca7c70>, (<ufunc 'add'>, 'ThreeVector', 'MissingET'): <function mixin_class_method.<locals>.register.<locals>.transposed at 0x7f7259ca7370>, (<ufunc 'add'>, 'MissingET', 'Electron'): <function TwoVector.add at 0x7f7259ca7c70>, (<ufunc 'add'>, 'Electron', 'MissingET'): <function mixin_class_method.<locals>.register.<locals>.transposed at 0x7f7259ca7370>, (<ufunc 'add'>, 'MissingET', 'PtEtaPhiMCollection'): <function TwoVector.add at 0x7f7259ca7c70>, (<ufunc 'add'>, 'PtEtaPhiMCollection', 'MissingET'): <function mixin_class_method.<locals>.register.<locals>.transposed at 0x7f7259ca7370>, (<ufunc 'add'>, 'MissingET', 'MissingET'): <function TwoVector.add at 0x7f7259ca7c70>, (<ufunc 'subtract'>, 'MissingET', 'PtEtaPhiELorentzVector'): <function TwoVector.subtract at 0x7f7259ca4280>, (<ufunc 'subtract'>, 'PtEtaPhiELorentzVector', 'MissingET'): <function mixin_class_method.<locals>.register.<locals>.transposed at 0x7f7259ca70a0>, (<ufunc 'subtract'>, 'MissingET', 'TwoVector'): <function TwoVector.subtract at 0x7f7259ca4280>, (<ufunc 'subtract'>, 'TwoVector', 'MissingET'): <function mixin_class_method.<locals>.register.<locals>.transposed at 0x7f7259ca70a0>, (<ufunc 'subtract'>, 'MissingET', 'Muon'): <function TwoVector.subtract at 0x7f7259ca4280>, (<ufunc 'subtract'>, 'Muon', 'MissingET'): <function mixin_class_method.<locals>.register.<locals>.transposed at 0x7f7259ca70a0>, (<ufunc 'subtract'>, 'MissingET', 'PtEtaPhiECandidate'): <function TwoVector.subtract at 0x7f7259ca4280>, (<ufunc 'subtract'>, 'PtEtaPhiECandidate', 'MissingET'): <function mixin_class_method.<locals>.register.<locals>.transposed at 0x7f7259ca70a0>, (<ufunc 'subtract'>, 'MissingET', 'FsrPhoton'): <function TwoVector.subtract at 0x7f7259ca4280>, (<ufunc 'subtract'>, 'FsrPhoton', 'MissingET'): <function mixin_class_method.<locals>.register.<locals>.transposed at 0x7f7259ca70a0>, (<ufunc 'subtract'>, 'MissingET', 'FatJet'): <function TwoVector.subtract at 0x7f7259ca4280>, (<ufunc 'subtract'>, 'FatJet', 'MissingET'): <function mixin_class_method.<locals>.register.<locals>.transposed at 0x7f7259ca70a0>, (<ufunc 'subtract'>, 'MissingET', 'Candidate'): <function TwoVector.subtract at 0x7f7259ca4280>, (<ufunc 'subtract'>, 'Candidate', 'MissingET'): <function mixin_class_method.<locals>.register.<locals>.transposed at 0x7f7259ca70a0>, (<ufunc 'subtract'>, 'MissingET', 'PolarTwoVector'): <function TwoVector.subtract at 0x7f7259ca4280>, (<ufunc 'subtract'>, 'PolarTwoVector', 'MissingET'): <function mixin_class_method.<locals>.register.<locals>.transposed at 0x7f7259ca70a0>, (<ufunc 'subtract'>, 'MissingET', 'GenParticle'): <function TwoVector.subtract at 0x7f7259ca4280>, (<ufunc 'subtract'>, 'GenParticle', 'MissingET'): <function mixin_class_method.<locals>.register.<locals>.transposed at 0x7f7259ca70a0>, (<ufunc 'subtract'>, 'MissingET', 'Photon'): <function TwoVector.subtract at 0x7f7259ca4280>, (<ufunc 'subtract'>, 'Photon', 'MissingET'): <function mixin_class_method.<locals>.register.<locals>.transposed at 0x7f7259ca70a0>, (<ufunc 'subtract'>, 'MissingET', 'GenVisTau'): <function TwoVector.subtract at 0x7f7259ca4280>, (<ufunc 'subtract'>, 'GenVisTau', 'MissingET'): <function mixin_class_method.<locals>.register.<locals>.transposed at 0x7f7259ca70a0>, (<ufunc 'subtract'>, 'MissingET', 'SphericalThreeVector'): <function TwoVector.subtract at 0x7f7259ca4280>, (<ufunc 'subtract'>, 'SphericalThreeVector', 'MissingET'): <function mixin_class_method.<locals>.register.<locals>.transposed at 0x7f7259ca70a0>, (<ufunc 'subtract'>, 'MissingET', 'Tau'): <function TwoVector.subtract at 0x7f7259ca4280>, (<ufunc 'subtract'>, 'Tau', 'MissingET'): <function mixin_class_method.<locals>.register.<locals>.transposed at 0x7f7259ca70a0>, (<ufunc 'subtract'>, 'MissingET', 'PtEtaPhiMLorentzVector'): <function TwoVector.subtract at 0x7f7259ca4280>, (<ufunc 'subtract'>, 'PtEtaPhiMLorentzVector', 'MissingET'): <function mixin_class_method.<locals>.register.<locals>.transposed at 0x7f7259ca70a0>, (<ufunc 'subtract'>, 'MissingET', 'Jet'): <function TwoVector.subtract at 0x7f7259ca4280>, (<ufunc 'subtract'>, 'Jet', 'MissingET'): <function mixin_class_method.<locals>.register.<locals>.transposed at 0x7f7259ca70a0>, (<ufunc 'subtract'>, 'MissingET', 'PtEtaPhiMCandidate'): <function TwoVector.subtract at 0x7f7259ca4280>, (<ufunc 'subtract'>, 'PtEtaPhiMCandidate', 'MissingET'): <function mixin_class_method.<locals>.register.<locals>.transposed at 0x7f7259ca70a0>, (<ufunc 'subtract'>, 'MissingET', 'LorentzVector'): <function TwoVector.subtract at 0x7f7259ca4280>, (<ufunc 'subtract'>, 'LorentzVector', 'MissingET'): <function mixin_class_method.<locals>.register.<locals>.transposed at 0x7f7259ca70a0>, (<ufunc 'subtract'>, 'MissingET', 'ThreeVector'): <function TwoVector.subtract at 0x7f7259ca4280>, (<ufunc 'subtract'>, 'ThreeVector', 'MissingET'): <function mixin_class_method.<locals>.register.<locals>.transposed at 0x7f7259ca70a0>, (<ufunc 'subtract'>, 'MissingET', 'Electron'): <function TwoVector.subtract at 0x7f7259ca4280>, (<ufunc 'subtract'>, 'Electron', 'MissingET'): <function mixin_class_method.<locals>.register.<locals>.transposed at 0x7f7259ca70a0>, (<ufunc 'subtract'>, 'MissingET', 'PtEtaPhiMCollection'): <function TwoVector.subtract at 0x7f7259ca4280>, (<ufunc 'subtract'>, 'PtEtaPhiMCollection', 'MissingET'): <function mixin_class_method.<locals>.register.<locals>.transposed at 0x7f7259ca70a0>, (<ufunc 'subtract'>, 'MissingET', 'MissingET'): <function TwoVector.subtract at 0x7f7259ca4280>, (<ufunc 'true_divide'>, 'MissingET', <class 'numbers.Number'>): <function TwoVector.divide at 0x7f7259ca79a0>, (<ufunc 'true_divide'>, <class 'numbers.Number'>, 'MissingET'): <function mixin_class_method.<locals>.register.<locals>.transposed at 0x7f7259ca4160>, (<ufunc 'true_divide'>, 'MissingET', 'MissingET'): <function TwoVector.divide at 0x7f7259ca79a0>, ('__typestr__', 'MissingET'): 'missingET', 'Vertex': <class 'coffea.nanoevents.methods.nanoaod.VertexRecord'>, ('*', 'Vertex'): <class 'coffea.nanoevents.methods.nanoaod.VertexArray'>, (<ufunc 'absolute'>, 'Vertex'): <function ThreeVector.absolute at 0x7f7259c8c8b0>, (<ufunc 'negative'>, 'Vertex'): <function ThreeVector.negative at 0x7f7259c8c940>, (<ufunc 'add'>, 'Vertex', 'PtEtaPhiELorentzVector'): <function ThreeVector.add at 0x7f7259c8c9d0>, (<ufunc 'add'>, 'PtEtaPhiELorentzVector', 'Vertex'): <function mixin_class_method.<locals>.register.<locals>.transposed at 0x7f7259c8ca60>, (<ufunc 'add'>, 'Vertex', 'Muon'): <function ThreeVector.add at 0x7f7259c8c9d0>, (<ufunc 'add'>, 'Muon', 'Vertex'): <function mixin_class_method.<locals>.register.<locals>.transposed at 0x7f7259c8ca60>, (<ufunc 'add'>, 'Vertex', 'Electron'): <function ThreeVector.add at 0x7f7259c8c9d0>, (<ufunc 'add'>, 'Electron', 'Vertex'): <function mixin_class_method.<locals>.register.<locals>.transposed at 0x7f7259c8ca60>, (<ufunc 'add'>, 'Vertex', 'Tau'): <function ThreeVector.add at 0x7f7259c8c9d0>, (<ufunc 'add'>, 'Tau', 'Vertex'): <function mixin_class_method.<locals>.register.<locals>.transposed at 0x7f7259c8ca60>, (<ufunc 'add'>, 'Vertex', 'PtEtaPhiMLorentzVector'): <function ThreeVector.add at 0x7f7259c8c9d0>, (<ufunc 'add'>, 'PtEtaPhiMLorentzVector', 'Vertex'): <function mixin_class_method.<locals>.register.<locals>.transposed at 0x7f7259c8ca60>, (<ufunc 'add'>, 'Vertex', 'GenParticle'): <function ThreeVector.add at 0x7f7259c8c9d0>, (<ufunc 'add'>, 'GenParticle', 'Vertex'): <function mixin_class_method.<locals>.register.<locals>.transposed at 0x7f7259c8ca60>, (<ufunc 'add'>, 'Vertex', 'Jet'): <function ThreeVector.add at 0x7f7259c8c9d0>, (<ufunc 'add'>, 'Jet', 'Vertex'): <function mixin_class_method.<locals>.register.<locals>.transposed at 0x7f7259c8ca60>, (<ufunc 'add'>, 'Vertex', 'PtEtaPhiMCandidate'): <function ThreeVector.add at 0x7f7259c8c9d0>, (<ufunc 'add'>, 'PtEtaPhiMCandidate', 'Vertex'): <function mixin_class_method.<locals>.register.<locals>.transposed at 0x7f7259c8ca60>, (<ufunc 'add'>, 'Vertex', 'Photon'): <function ThreeVector.add at 0x7f7259c8c9d0>, (<ufunc 'add'>, 'Photon', 'Vertex'): <function mixin_class_method.<locals>.register.<locals>.transposed at 0x7f7259c8ca60>, (<ufunc 'add'>, 'Vertex', 'PtEtaPhiECandidate'): <function ThreeVector.add at 0x7f7259c8c9d0>, (<ufunc 'add'>, 'PtEtaPhiECandidate', 'Vertex'): <function mixin_class_method.<locals>.register.<locals>.transposed at 0x7f7259c8ca60>, (<ufunc 'add'>, 'Vertex', 'FsrPhoton'): <function ThreeVector.add at 0x7f7259c8c9d0>, (<ufunc 'add'>, 'FsrPhoton', 'Vertex'): <function mixin_class_method.<locals>.register.<locals>.transposed at 0x7f7259c8ca60>, (<ufunc 'add'>, 'Vertex', 'GenVisTau'): <function ThreeVector.add at 0x7f7259c8c9d0>, (<ufunc 'add'>, 'GenVisTau', 'Vertex'): <function mixin_class_method.<locals>.register.<locals>.transposed at 0x7f7259c8ca60>, (<ufunc 'add'>, 'Vertex', 'PtEtaPhiMCollection'): <function ThreeVector.add at 0x7f7259c8c9d0>, (<ufunc 'add'>, 'PtEtaPhiMCollection', 'Vertex'): <function mixin_class_method.<locals>.register.<locals>.transposed at 0x7f7259c8ca60>, (<ufunc 'add'>, 'Vertex', 'SphericalThreeVector'): <function ThreeVector.add at 0x7f7259c8c9d0>, (<ufunc 'add'>, 'SphericalThreeVector', 'Vertex'): <function mixin_class_method.<locals>.register.<locals>.transposed at 0x7f7259c8ca60>, (<ufunc 'add'>, 'Vertex', 'LorentzVector'): <function ThreeVector.add at 0x7f7259c8c9d0>, (<ufunc 'add'>, 'LorentzVector', 'Vertex'): <function mixin_class_method.<locals>.register.<locals>.transposed at 0x7f7259c8ca60>, (<ufunc 'add'>, 'Vertex', 'ThreeVector'): <function ThreeVector.add at 0x7f7259c8c9d0>, (<ufunc 'add'>, 'ThreeVector', 'Vertex'): <function mixin_class_method.<locals>.register.<locals>.transposed at 0x7f7259c8ca60>, (<ufunc 'add'>, 'Vertex', 'FatJet'): <function ThreeVector.add at 0x7f7259c8c9d0>, (<ufunc 'add'>, 'FatJet', 'Vertex'): <function mixin_class_method.<locals>.register.<locals>.transposed at 0x7f7259c8ca60>, (<ufunc 'add'>, 'Vertex', 'Candidate'): <function ThreeVector.add at 0x7f7259c8c9d0>, (<ufunc 'add'>, 'Candidate', 'Vertex'): <function mixin_class_method.<locals>.register.<locals>.transposed at 0x7f7259c8ca60>, (<ufunc 'add'>, 'Vertex', 'Vertex'): <function ThreeVector.add at 0x7f7259c8c9d0>, (<ufunc 'subtract'>, 'Vertex', 'PtEtaPhiELorentzVector'): <function ThreeVector.subtract at 0x7f7259c8caf0>, (<ufunc 'subtract'>, 'PtEtaPhiELorentzVector', 'Vertex'): <function mixin_class_method.<locals>.register.<locals>.transposed at 0x7f7259c8cb80>, (<ufunc 'subtract'>, 'Vertex', 'Muon'): <function ThreeVector.subtract at 0x7f7259c8caf0>, (<ufunc 'subtract'>, 'Muon', 'Vertex'): <function mixin_class_method.<locals>.register.<locals>.transposed at 0x7f7259c8cb80>, (<ufunc 'subtract'>, 'Vertex', 'Electron'): <function ThreeVector.subtract at 0x7f7259c8caf0>, (<ufunc 'subtract'>, 'Electron', 'Vertex'): <function mixin_class_method.<locals>.register.<locals>.transposed at 0x7f7259c8cb80>, (<ufunc 'subtract'>, 'Vertex', 'Tau'): <function ThreeVector.subtract at 0x7f7259c8caf0>, (<ufunc 'subtract'>, 'Tau', 'Vertex'): <function mixin_class_method.<locals>.register.<locals>.transposed at 0x7f7259c8cb80>, (<ufunc 'subtract'>, 'Vertex', 'PtEtaPhiMLorentzVector'): <function ThreeVector.subtract at 0x7f7259c8caf0>, (<ufunc 'subtract'>, 'PtEtaPhiMLorentzVector', 'Vertex'): <function mixin_class_method.<locals>.register.<locals>.transposed at 0x7f7259c8cb80>, (<ufunc 'subtract'>, 'Vertex', 'GenParticle'): <function ThreeVector.subtract at 0x7f7259c8caf0>, (<ufunc 'subtract'>, 'GenParticle', 'Vertex'): <function mixin_class_method.<locals>.register.<locals>.transposed at 0x7f7259c8cb80>, (<ufunc 'subtract'>, 'Vertex', 'Jet'): <function ThreeVector.subtract at 0x7f7259c8caf0>, (<ufunc 'subtract'>, 'Jet', 'Vertex'): <function mixin_class_method.<locals>.register.<locals>.transposed at 0x7f7259c8cb80>, (<ufunc 'subtract'>, 'Vertex', 'PtEtaPhiMCandidate'): <function ThreeVector.subtract at 0x7f7259c8caf0>, (<ufunc 'subtract'>, 'PtEtaPhiMCandidate', 'Vertex'): <function mixin_class_method.<locals>.register.<locals>.transposed at 0x7f7259c8cb80>, (<ufunc 'subtract'>, 'Vertex', 'Photon'): <function ThreeVector.subtract at 0x7f7259c8caf0>, (<ufunc 'subtract'>, 'Photon', 'Vertex'): <function mixin_class_method.<locals>.register.<locals>.transposed at 0x7f7259c8cb80>, (<ufunc 'subtract'>, 'Vertex', 'PtEtaPhiECandidate'): <function ThreeVector.subtract at 0x7f7259c8caf0>, (<ufunc 'subtract'>, 'PtEtaPhiECandidate', 'Vertex'): <function mixin_class_method.<locals>.register.<locals>.transposed at 0x7f7259c8cb80>, (<ufunc 'subtract'>, 'Vertex', 'FsrPhoton'): <function ThreeVector.subtract at 0x7f7259c8caf0>, (<ufunc 'subtract'>, 'FsrPhoton', 'Vertex'): <function mixin_class_method.<locals>.register.<locals>.transposed at 0x7f7259c8cb80>, (<ufunc 'subtract'>, 'Vertex', 'GenVisTau'): <function ThreeVector.subtract at 0x7f7259c8caf0>, (<ufunc 'subtract'>, 'GenVisTau', 'Vertex'): <function mixin_class_method.<locals>.register.<locals>.transposed at 0x7f7259c8cb80>, (<ufunc 'subtract'>, 'Vertex', 'PtEtaPhiMCollection'): <function ThreeVector.subtract at 0x7f7259c8caf0>, (<ufunc 'subtract'>, 'PtEtaPhiMCollection', 'Vertex'): <function mixin_class_method.<locals>.register.<locals>.transposed at 0x7f7259c8cb80>, (<ufunc 'subtract'>, 'Vertex', 'SphericalThreeVector'): <function ThreeVector.subtract at 0x7f7259c8caf0>, (<ufunc 'subtract'>, 'SphericalThreeVector', 'Vertex'): <function mixin_class_method.<locals>.register.<locals>.transposed at 0x7f7259c8cb80>, (<ufunc 'subtract'>, 'Vertex', 'LorentzVector'): <function ThreeVector.subtract at 0x7f7259c8caf0>, (<ufunc 'subtract'>, 'LorentzVector', 'Vertex'): <function mixin_class_method.<locals>.register.<locals>.transposed at 0x7f7259c8cb80>, (<ufunc 'subtract'>, 'Vertex', 'ThreeVector'): <function ThreeVector.subtract at 0x7f7259c8caf0>, (<ufunc 'subtract'>, 'ThreeVector', 'Vertex'): <function mixin_class_method.<locals>.register.<locals>.transposed at 0x7f7259c8cb80>, (<ufunc 'subtract'>, 'Vertex', 'FatJet'): <function ThreeVector.subtract at 0x7f7259c8caf0>, (<ufunc 'subtract'>, 'FatJet', 'Vertex'): <function mixin_class_method.<locals>.register.<locals>.transposed at 0x7f7259c8cb80>, (<ufunc 'subtract'>, 'Vertex', 'Candidate'): <function ThreeVector.subtract at 0x7f7259c8caf0>, (<ufunc 'subtract'>, 'Candidate', 'Vertex'): <function mixin_class_method.<locals>.register.<locals>.transposed at 0x7f7259c8cb80>, (<ufunc 'subtract'>, 'Vertex', 'Vertex'): <function ThreeVector.subtract at 0x7f7259c8caf0>, (<ufunc 'multiply'>, 'Vertex', <class 'numbers.Number'>): <function ThreeVector.multiply at 0x7f7259c8cca0>, (<ufunc 'multiply'>, <class 'numbers.Number'>, 'Vertex'): <function mixin_class_method.<locals>.register.<locals>.transposed at 0x7f7259c8cd30>, (<ufunc 'multiply'>, 'Vertex', 'Vertex'): <function ThreeVector.multiply at 0x7f7259c8cca0>, (<ufunc 'add'>, 'Vertex', 'TwoVector'): <function TwoVector.add at 0x7f7259ca7c70>, (<ufunc 'add'>, 'TwoVector', 'Vertex'): <function mixin_class_method.<locals>.register.<locals>.transposed at 0x7f7259ca7370>, (<ufunc 'add'>, 'Vertex', 'PolarTwoVector'): <function TwoVector.add at 0x7f7259ca7c70>, (<ufunc 'add'>, 'PolarTwoVector', 'Vertex'): <function mixin_class_method.<locals>.register.<locals>.transposed at 0x7f7259ca7370>, (<ufunc 'add'>, 'Vertex', 'MissingET'): <function TwoVector.add at 0x7f7259ca7c70>, (<ufunc 'add'>, 'MissingET', 'Vertex'): <function mixin_class_method.<locals>.register.<locals>.transposed at 0x7f7259ca7370>, (<ufunc 'subtract'>, 'Vertex', 'TwoVector'): <function TwoVector.subtract at 0x7f7259ca4280>, (<ufunc 'subtract'>, 'TwoVector', 'Vertex'): <function mixin_class_method.<locals>.register.<locals>.transposed at 0x7f7259ca70a0>, (<ufunc 'subtract'>, 'Vertex', 'PolarTwoVector'): <function TwoVector.subtract at 0x7f7259ca4280>, (<ufunc 'subtract'>, 'PolarTwoVector', 'Vertex'): <function mixin_class_method.<locals>.register.<locals>.transposed at 0x7f7259ca70a0>, (<ufunc 'subtract'>, 'Vertex', 'MissingET'): <function TwoVector.subtract at 0x7f7259ca4280>, (<ufunc 'subtract'>, 'MissingET', 'Vertex'): <function mixin_class_method.<locals>.register.<locals>.transposed at 0x7f7259ca70a0>, (<ufunc 'true_divide'>, 'Vertex', <class 'numbers.Number'>): <function TwoVector.divide at 0x7f7259ca79a0>, (<ufunc 'true_divide'>, <class 'numbers.Number'>, 'Vertex'): <function mixin_class_method.<locals>.register.<locals>.transposed at 0x7f7259ca4160>, (<ufunc 'true_divide'>, 'Vertex', 'Vertex'): <function TwoVector.divide at 0x7f7259ca79a0>, ('__typestr__', 'Vertex'): 'vertex', 'SecondaryVertex': <class 'coffea.nanoevents.methods.nanoaod.SecondaryVertexRecord'>, ('*', 'SecondaryVertex'): <class 'coffea.nanoevents.methods.nanoaod.SecondaryVertexArray'>, (<ufunc 'absolute'>, 'SecondaryVertex'): <function ThreeVector.absolute at 0x7f7259c8c8b0>, (<ufunc 'negative'>, 'SecondaryVertex'): <function ThreeVector.negative at 0x7f7259c8c940>, (<ufunc 'add'>, 'SecondaryVertex', 'PtEtaPhiELorentzVector'): <function ThreeVector.add at 0x7f7259c8c9d0>, (<ufunc 'add'>, 'PtEtaPhiELorentzVector', 'SecondaryVertex'): <function mixin_class_method.<locals>.register.<locals>.transposed at 0x7f7259c8ca60>, (<ufunc 'add'>, 'SecondaryVertex', 'Muon'): <function ThreeVector.add at 0x7f7259c8c9d0>, (<ufunc 'add'>, 'Muon', 'SecondaryVertex'): <function mixin_class_method.<locals>.register.<locals>.transposed at 0x7f7259c8ca60>, (<ufunc 'add'>, 'SecondaryVertex', 'Vertex'): <function ThreeVector.add at 0x7f7259c8c9d0>, (<ufunc 'add'>, 'Vertex', 'SecondaryVertex'): <function mixin_class_method.<locals>.register.<locals>.transposed at 0x7f7259c8ca60>, (<ufunc 'add'>, 'SecondaryVertex', 'PtEtaPhiECandidate'): <function ThreeVector.add at 0x7f7259c8c9d0>, (<ufunc 'add'>, 'PtEtaPhiECandidate', 'SecondaryVertex'): <function mixin_class_method.<locals>.register.<locals>.transposed at 0x7f7259c8ca60>, (<ufunc 'add'>, 'SecondaryVertex', 'FsrPhoton'): <function ThreeVector.add at 0x7f7259c8c9d0>, (<ufunc 'add'>, 'FsrPhoton', 'SecondaryVertex'): <function mixin_class_method.<locals>.register.<locals>.transposed at 0x7f7259c8ca60>, (<ufunc 'add'>, 'SecondaryVertex', 'FatJet'): <function ThreeVector.add at 0x7f7259c8c9d0>, (<ufunc 'add'>, 'FatJet', 'SecondaryVertex'): <function mixin_class_method.<locals>.register.<locals>.transposed at 0x7f7259c8ca60>, (<ufunc 'add'>, 'SecondaryVertex', 'Candidate'): <function ThreeVector.add at 0x7f7259c8c9d0>, (<ufunc 'add'>, 'Candidate', 'SecondaryVertex'): <function mixin_class_method.<locals>.register.<locals>.transposed at 0x7f7259c8ca60>, (<ufunc 'add'>, 'SecondaryVertex', 'GenParticle'): <function ThreeVector.add at 0x7f7259c8c9d0>, (<ufunc 'add'>, 'GenParticle', 'SecondaryVertex'): <function mixin_class_method.<locals>.register.<locals>.transposed at 0x7f7259c8ca60>, (<ufunc 'add'>, 'SecondaryVertex', 'Photon'): <function ThreeVector.add at 0x7f7259c8c9d0>, (<ufunc 'add'>, 'Photon', 'SecondaryVertex'): <function mixin_class_method.<locals>.register.<locals>.transposed at 0x7f7259c8ca60>, (<ufunc 'add'>, 'SecondaryVertex', 'GenVisTau'): <function ThreeVector.add at 0x7f7259c8c9d0>, (<ufunc 'add'>, 'GenVisTau', 'SecondaryVertex'): <function mixin_class_method.<locals>.register.<locals>.transposed at 0x7f7259c8ca60>, (<ufunc 'add'>, 'SecondaryVertex', 'SphericalThreeVector'): <function ThreeVector.add at 0x7f7259c8c9d0>, (<ufunc 'add'>, 'SphericalThreeVector', 'SecondaryVertex'): <function mixin_class_method.<locals>.register.<locals>.transposed at 0x7f7259c8ca60>, (<ufunc 'add'>, 'SecondaryVertex', 'Tau'): <function ThreeVector.add at 0x7f7259c8c9d0>, (<ufunc 'add'>, 'Tau', 'SecondaryVertex'): <function mixin_class_method.<locals>.register.<locals>.transposed at 0x7f7259c8ca60>, (<ufunc 'add'>, 'SecondaryVertex', 'PtEtaPhiMLorentzVector'): <function ThreeVector.add at 0x7f7259c8c9d0>, (<ufunc 'add'>, 'PtEtaPhiMLorentzVector', 'SecondaryVertex'): <function mixin_class_method.<locals>.register.<locals>.transposed at 0x7f7259c8ca60>, (<ufunc 'add'>, 'SecondaryVertex', 'Jet'): <function ThreeVector.add at 0x7f7259c8c9d0>, (<ufunc 'add'>, 'Jet', 'SecondaryVertex'): <function mixin_class_method.<locals>.register.<locals>.transposed at 0x7f7259c8ca60>, (<ufunc 'add'>, 'SecondaryVertex', 'PtEtaPhiMCandidate'): <function ThreeVector.add at 0x7f7259c8c9d0>, (<ufunc 'add'>, 'PtEtaPhiMCandidate', 'SecondaryVertex'): <function mixin_class_method.<locals>.register.<locals>.transposed at 0x7f7259c8ca60>, (<ufunc 'add'>, 'SecondaryVertex', 'LorentzVector'): <function ThreeVector.add at 0x7f7259c8c9d0>, (<ufunc 'add'>, 'LorentzVector', 'SecondaryVertex'): <function mixin_class_method.<locals>.register.<locals>.transposed at 0x7f7259c8ca60>, (<ufunc 'add'>, 'SecondaryVertex', 'ThreeVector'): <function ThreeVector.add at 0x7f7259c8c9d0>, (<ufunc 'add'>, 'ThreeVector', 'SecondaryVertex'): <function mixin_class_method.<locals>.register.<locals>.transposed at 0x7f7259c8ca60>, (<ufunc 'add'>, 'SecondaryVertex', 'Electron'): <function ThreeVector.add at 0x7f7259c8c9d0>, (<ufunc 'add'>, 'Electron', 'SecondaryVertex'): <function mixin_class_method.<locals>.register.<locals>.transposed at 0x7f7259c8ca60>, (<ufunc 'add'>, 'SecondaryVertex', 'PtEtaPhiMCollection'): <function ThreeVector.add at 0x7f7259c8c9d0>, (<ufunc 'add'>, 'PtEtaPhiMCollection', 'SecondaryVertex'): <function mixin_class_method.<locals>.register.<locals>.transposed at 0x7f7259c8ca60>, (<ufunc 'add'>, 'SecondaryVertex', 'SecondaryVertex'): <function ThreeVector.add at 0x7f7259c8c9d0>, (<ufunc 'subtract'>, 'SecondaryVertex', 'PtEtaPhiELorentzVector'): <function ThreeVector.subtract at 0x7f7259c8caf0>, (<ufunc 'subtract'>, 'PtEtaPhiELorentzVector', 'SecondaryVertex'): <function mixin_class_method.<locals>.register.<locals>.transposed at 0x7f7259c8cb80>, (<ufunc 'subtract'>, 'SecondaryVertex', 'Muon'): <function ThreeVector.subtract at 0x7f7259c8caf0>, (<ufunc 'subtract'>, 'Muon', 'SecondaryVertex'): <function mixin_class_method.<locals>.register.<locals>.transposed at 0x7f7259c8cb80>, (<ufunc 'subtract'>, 'SecondaryVertex', 'Vertex'): <function ThreeVector.subtract at 0x7f7259c8caf0>, (<ufunc 'subtract'>, 'Vertex', 'SecondaryVertex'): <function mixin_class_method.<locals>.register.<locals>.transposed at 0x7f7259c8cb80>, (<ufunc 'subtract'>, 'SecondaryVertex', 'PtEtaPhiECandidate'): <function ThreeVector.subtract at 0x7f7259c8caf0>, (<ufunc 'subtract'>, 'PtEtaPhiECandidate', 'SecondaryVertex'): <function mixin_class_method.<locals>.register.<locals>.transposed at 0x7f7259c8cb80>, (<ufunc 'subtract'>, 'SecondaryVertex', 'FsrPhoton'): <function ThreeVector.subtract at 0x7f7259c8caf0>, (<ufunc 'subtract'>, 'FsrPhoton', 'SecondaryVertex'): <function mixin_class_method.<locals>.register.<locals>.transposed at 0x7f7259c8cb80>, (<ufunc 'subtract'>, 'SecondaryVertex', 'FatJet'): <function ThreeVector.subtract at 0x7f7259c8caf0>, (<ufunc 'subtract'>, 'FatJet', 'SecondaryVertex'): <function mixin_class_method.<locals>.register.<locals>.transposed at 0x7f7259c8cb80>, (<ufunc 'subtract'>, 'SecondaryVertex', 'Candidate'): <function ThreeVector.subtract at 0x7f7259c8caf0>, (<ufunc 'subtract'>, 'Candidate', 'SecondaryVertex'): <function mixin_class_method.<locals>.register.<locals>.transposed at 0x7f7259c8cb80>, (<ufunc 'subtract'>, 'SecondaryVertex', 'GenParticle'): <function ThreeVector.subtract at 0x7f7259c8caf0>, (<ufunc 'subtract'>, 'GenParticle', 'SecondaryVertex'): <function mixin_class_method.<locals>.register.<locals>.transposed at 0x7f7259c8cb80>, (<ufunc 'subtract'>, 'SecondaryVertex', 'Photon'): <function ThreeVector.subtract at 0x7f7259c8caf0>, (<ufunc 'subtract'>, 'Photon', 'SecondaryVertex'): <function mixin_class_method.<locals>.register.<locals>.transposed at 0x7f7259c8cb80>, (<ufunc 'subtract'>, 'SecondaryVertex', 'GenVisTau'): <function ThreeVector.subtract at 0x7f7259c8caf0>, (<ufunc 'subtract'>, 'GenVisTau', 'SecondaryVertex'): <function mixin_class_method.<locals>.register.<locals>.transposed at 0x7f7259c8cb80>, (<ufunc 'subtract'>, 'SecondaryVertex', 'SphericalThreeVector'): <function ThreeVector.subtract at 0x7f7259c8caf0>, (<ufunc 'subtract'>, 'SphericalThreeVector', 'SecondaryVertex'): <function mixin_class_method.<locals>.register.<locals>.transposed at 0x7f7259c8cb80>, (<ufunc 'subtract'>, 'SecondaryVertex', 'Tau'): <function ThreeVector.subtract at 0x7f7259c8caf0>, (<ufunc 'subtract'>, 'Tau', 'SecondaryVertex'): <function mixin_class_method.<locals>.register.<locals>.transposed at 0x7f7259c8cb80>, (<ufunc 'subtract'>, 'SecondaryVertex', 'PtEtaPhiMLorentzVector'): <function ThreeVector.subtract at 0x7f7259c8caf0>, (<ufunc 'subtract'>, 'PtEtaPhiMLorentzVector', 'SecondaryVertex'): <function mixin_class_method.<locals>.register.<locals>.transposed at 0x7f7259c8cb80>, (<ufunc 'subtract'>, 'SecondaryVertex', 'Jet'): <function ThreeVector.subtract at 0x7f7259c8caf0>, (<ufunc 'subtract'>, 'Jet', 'SecondaryVertex'): <function mixin_class_method.<locals>.register.<locals>.transposed at 0x7f7259c8cb80>, (<ufunc 'subtract'>, 'SecondaryVertex', 'PtEtaPhiMCandidate'): <function ThreeVector.subtract at 0x7f7259c8caf0>, (<ufunc 'subtract'>, 'PtEtaPhiMCandidate', 'SecondaryVertex'): <function mixin_class_method.<locals>.register.<locals>.transposed at 0x7f7259c8cb80>, (<ufunc 'subtract'>, 'SecondaryVertex', 'LorentzVector'): <function ThreeVector.subtract at 0x7f7259c8caf0>, (<ufunc 'subtract'>, 'LorentzVector', 'SecondaryVertex'): <function mixin_class_method.<locals>.register.<locals>.transposed at 0x7f7259c8cb80>, (<ufunc 'subtract'>, 'SecondaryVertex', 'ThreeVector'): <function ThreeVector.subtract at 0x7f7259c8caf0>, (<ufunc 'subtract'>, 'ThreeVector', 'SecondaryVertex'): <function mixin_class_method.<locals>.register.<locals>.transposed at 0x7f7259c8cb80>, (<ufunc 'subtract'>, 'SecondaryVertex', 'Electron'): <function ThreeVector.subtract at 0x7f7259c8caf0>, (<ufunc 'subtract'>, 'Electron', 'SecondaryVertex'): <function mixin_class_method.<locals>.register.<locals>.transposed at 0x7f7259c8cb80>, (<ufunc 'subtract'>, 'SecondaryVertex', 'PtEtaPhiMCollection'): <function ThreeVector.subtract at 0x7f7259c8caf0>, (<ufunc 'subtract'>, 'PtEtaPhiMCollection', 'SecondaryVertex'): <function mixin_class_method.<locals>.register.<locals>.transposed at 0x7f7259c8cb80>, (<ufunc 'subtract'>, 'SecondaryVertex', 'SecondaryVertex'): <function ThreeVector.subtract at 0x7f7259c8caf0>, (<ufunc 'multiply'>, 'SecondaryVertex', <class 'numbers.Number'>): <function ThreeVector.multiply at 0x7f7259c8cca0>, (<ufunc 'multiply'>, <class 'numbers.Number'>, 'SecondaryVertex'): <function mixin_class_method.<locals>.register.<locals>.transposed at 0x7f7259c8cd30>, (<ufunc 'multiply'>, 'SecondaryVertex', 'SecondaryVertex'): <function ThreeVector.multiply at 0x7f7259c8cca0>, (<ufunc 'add'>, 'SecondaryVertex', 'TwoVector'): <function TwoVector.add at 0x7f7259ca7c70>, (<ufunc 'add'>, 'TwoVector', 'SecondaryVertex'): <function mixin_class_method.<locals>.register.<locals>.transposed at 0x7f7259ca7370>, (<ufunc 'add'>, 'SecondaryVertex', 'PolarTwoVector'): <function TwoVector.add at 0x7f7259ca7c70>, (<ufunc 'add'>, 'PolarTwoVector', 'SecondaryVertex'): <function mixin_class_method.<locals>.register.<locals>.transposed at 0x7f7259ca7370>, (<ufunc 'add'>, 'SecondaryVertex', 'MissingET'): <function TwoVector.add at 0x7f7259ca7c70>, (<ufunc 'add'>, 'MissingET', 'SecondaryVertex'): <function mixin_class_method.<locals>.register.<locals>.transposed at 0x7f7259ca7370>, (<ufunc 'subtract'>, 'SecondaryVertex', 'TwoVector'): <function TwoVector.subtract at 0x7f7259ca4280>, (<ufunc 'subtract'>, 'TwoVector', 'SecondaryVertex'): <function mixin_class_method.<locals>.register.<locals>.transposed at 0x7f7259ca70a0>, (<ufunc 'subtract'>, 'SecondaryVertex', 'PolarTwoVector'): <function TwoVector.subtract at 0x7f7259ca4280>, (<ufunc 'subtract'>, 'PolarTwoVector', 'SecondaryVertex'): <function mixin_class_method.<locals>.register.<locals>.transposed at 0x7f7259ca70a0>, (<ufunc 'subtract'>, 'SecondaryVertex', 'MissingET'): <function TwoVector.subtract at 0x7f7259ca4280>, (<ufunc 'subtract'>, 'MissingET', 'SecondaryVertex'): <function mixin_class_method.<locals>.register.<locals>.transposed at 0x7f7259ca70a0>, (<ufunc 'true_divide'>, 'SecondaryVertex', <class 'numbers.Number'>): <function TwoVector.divide at 0x7f7259ca79a0>, (<ufunc 'true_divide'>, <class 'numbers.Number'>, 'SecondaryVertex'): <function mixin_class_method.<locals>.register.<locals>.transposed at 0x7f7259ca4160>, (<ufunc 'true_divide'>, 'SecondaryVertex', 'SecondaryVertex'): <function TwoVector.divide at 0x7f7259ca79a0>, ('__typestr__', 'SecondaryVertex'): 'secondaryVertex', 'AssociatedPFCand': <class 'coffea.nanoevents.methods.nanoaod.AssociatedPFCandRecord'>, ('*', 'AssociatedPFCand'): <class 'coffea.nanoevents.methods.nanoaod.AssociatedPFCandArray'>, ('__typestr__', 'AssociatedPFCand'): 'associatedPFCand', 'AssociatedSV': <class 'coffea.nanoevents.methods.nanoaod.AssociatedSVRecord'>, ('*', 'AssociatedSV'): <class 'coffea.nanoevents.methods.nanoaod.AssociatedSVArray'>, ('__typestr__', 'AssociatedSV'): 'associatedSV', 'PFCand': <class 'coffea.nanoevents.methods.nanoaod.PFCandRecord'>, ('*', 'PFCand'): <class 'coffea.nanoevents.methods.nanoaod.PFCandArray'>, (<ufunc 'add'>, 'PFCand', 'Muon'): <function Candidate.add at 0x7f7259c8f250>, (<ufunc 'add'>, 'Muon', 'PFCand'): <function mixin_class_method.<locals>.register.<locals>.transposed at 0x7f7259c8f2e0>, (<ufunc 'add'>, 'PFCand', 'Electron'): <function Candidate.add at 0x7f7259c8f250>, (<ufunc 'add'>, 'Electron', 'PFCand'): <function mixin_class_method.<locals>.register.<locals>.transposed at 0x7f7259c8f2e0>, (<ufunc 'add'>, 'PFCand', 'Tau'): <function Candidate.add at 0x7f7259c8f250>, (<ufunc 'add'>, 'Tau', 'PFCand'): <function mixin_class_method.<locals>.register.<locals>.transposed at 0x7f7259c8f2e0>, (<ufunc 'add'>, 'PFCand', 'PtEtaPhiMCandidate'): <function Candidate.add at 0x7f7259c8f250>, (<ufunc 'add'>, 'PtEtaPhiMCandidate', 'PFCand'): <function mixin_class_method.<locals>.register.<locals>.transposed at 0x7f7259c8f2e0>, (<ufunc 'add'>, 'PFCand', 'Photon'): <function Candidate.add at 0x7f7259c8f250>, (<ufunc 'add'>, 'Photon', 'PFCand'): <function mixin_class_method.<locals>.register.<locals>.transposed at 0x7f7259c8f2e0>, (<ufunc 'add'>, 'PFCand', 'PtEtaPhiECandidate'): <function Candidate.add at 0x7f7259c8f250>, (<ufunc 'add'>, 'PtEtaPhiECandidate', 'PFCand'): <function mixin_class_method.<locals>.register.<locals>.transposed at 0x7f7259c8f2e0>, (<ufunc 'add'>, 'PFCand', 'FsrPhoton'): <function Candidate.add at 0x7f7259c8f250>, (<ufunc 'add'>, 'FsrPhoton', 'PFCand'): <function mixin_class_method.<locals>.register.<locals>.transposed at 0x7f7259c8f2e0>, (<ufunc 'add'>, 'PFCand', 'GenVisTau'): <function Candidate.add at 0x7f7259c8f250>, (<ufunc 'add'>, 'GenVisTau', 'PFCand'): <function mixin_class_method.<locals>.register.<locals>.transposed at 0x7f7259c8f2e0>, (<ufunc 'add'>, 'PFCand', 'Candidate'): <function Candidate.add at 0x7f7259c8f250>, (<ufunc 'add'>, 'Candidate', 'PFCand'): <function mixin_class_method.<locals>.register.<locals>.transposed at 0x7f7259c8f2e0>, (<ufunc 'add'>, 'PFCand', 'PFCand'): <function Candidate.add at 0x7f7259c8f250>, (<ufunc 'multiply'>, 'PFCand', <class 'numbers.Number'>): <function PtEtaPhiMLorentzVector.multiply at 0x7f7259c8e710>, (<ufunc 'multiply'>, <class 'numbers.Number'>, 'PFCand'): <function mixin_class_method.<locals>.register.<locals>.transposed at 0x7f7259c8e7a0>, (<ufunc 'multiply'>, 'PFCand', 'PFCand'): <function PtEtaPhiMLorentzVector.multiply at 0x7f7259c8e710>, (<ufunc 'negative'>, 'PFCand'): <function PtEtaPhiMLorentzVector.negative at 0x7f7259c8e830>, (<ufunc 'absolute'>, 'PFCand'): <function LorentzVector.absolute at 0x7f7259c8d6c0>, (<ufunc 'add'>, 'PFCand', 'PtEtaPhiELorentzVector'): <function LorentzVector.add at 0x7f7259c8d750>, (<ufunc 'add'>, 'PtEtaPhiELorentzVector', 'PFCand'): <function mixin_class_method.<locals>.register.<locals>.transposed at 0x7f7259c8d7e0>, (<ufunc 'add'>, 'PFCand', 'PtEtaPhiMLorentzVector'): <function LorentzVector.add at 0x7f7259c8d750>, (<ufunc 'add'>, 'PtEtaPhiMLorentzVector', 'PFCand'): <function mixin_class_method.<locals>.register.<locals>.transposed at 0x7f7259c8d7e0>, (<ufunc 'add'>, 'PFCand', 'GenParticle'): <function LorentzVector.add at 0x7f7259c8d750>, (<ufunc 'add'>, 'GenParticle', 'PFCand'): <function mixin_class_method.<locals>.register.<locals>.transposed at 0x7f7259c8d7e0>, (<ufunc 'add'>, 'PFCand', 'Jet'): <function LorentzVector.add at 0x7f7259c8d750>, (<ufunc 'add'>, 'Jet', 'PFCand'): <function mixin_class_method.<locals>.register.<locals>.transposed at 0x7f7259c8d7e0>, (<ufunc 'add'>, 'PFCand', 'PtEtaPhiMCollection'): <function LorentzVector.add at 0x7f7259c8d750>, (<ufunc 'add'>, 'PtEtaPhiMCollection', 'PFCand'): <function mixin_class_method.<locals>.register.<locals>.transposed at 0x7f7259c8d7e0>, (<ufunc 'add'>, 'PFCand', 'LorentzVector'): <function LorentzVector.add at 0x7f7259c8d750>, (<ufunc 'add'>, 'LorentzVector', 'PFCand'): <function mixin_class_method.<locals>.register.<locals>.transposed at 0x7f7259c8d7e0>, (<ufunc 'add'>, 'PFCand', 'FatJet'): <function LorentzVector.add at 0x7f7259c8d750>, (<ufunc 'add'>, 'FatJet', 'PFCand'): <function mixin_class_method.<locals>.register.<locals>.transposed at 0x7f7259c8d7e0>, (<ufunc 'subtract'>, 'PFCand', 'PtEtaPhiELorentzVector'): <function LorentzVector.subtract at 0x7f7259c8d870>, (<ufunc 'subtract'>, 'PtEtaPhiELorentzVector', 'PFCand'): <function mixin_class_method.<locals>.register.<locals>.transposed at 0x7f7259c8d900>, (<ufunc 'subtract'>, 'PFCand', 'Muon'): <function LorentzVector.subtract at 0x7f7259c8d870>, (<ufunc 'subtract'>, 'Muon', 'PFCand'): <function mixin_class_method.<locals>.register.<locals>.transposed at 0x7f7259c8d900>, (<ufunc 'subtract'>, 'PFCand', 'Electron'): <function LorentzVector.subtract at 0x7f7259c8d870>, (<ufunc 'subtract'>, 'Electron', 'PFCand'): <function mixin_class_method.<locals>.register.<locals>.transposed at 0x7f7259c8d900>, (<ufunc 'subtract'>, 'PFCand', 'Tau'): <function LorentzVector.subtract at 0x7f7259c8d870>, (<ufunc 'subtract'>, 'Tau', 'PFCand'): <function mixin_class_method.<locals>.register.<locals>.transposed at 0x7f7259c8d900>, (<ufunc 'subtract'>, 'PFCand', 'PtEtaPhiMLorentzVector'): <function LorentzVector.subtract at 0x7f7259c8d870>, (<ufunc 'subtract'>, 'PtEtaPhiMLorentzVector', 'PFCand'): <function mixin_class_method.<locals>.register.<locals>.transposed at 0x7f7259c8d900>, (<ufunc 'subtract'>, 'PFCand', 'GenParticle'): <function LorentzVector.subtract at 0x7f7259c8d870>, (<ufunc 'subtract'>, 'GenParticle', 'PFCand'): <function mixin_class_method.<locals>.register.<locals>.transposed at 0x7f7259c8d900>, (<ufunc 'subtract'>, 'PFCand', 'Jet'): <function LorentzVector.subtract at 0x7f7259c8d870>, (<ufunc 'subtract'>, 'Jet', 'PFCand'): <function mixin_class_method.<locals>.register.<locals>.transposed at 0x7f7259c8d900>, (<ufunc 'subtract'>, 'PFCand', 'PtEtaPhiMCandidate'): <function LorentzVector.subtract at 0x7f7259c8d870>, (<ufunc 'subtract'>, 'PtEtaPhiMCandidate', 'PFCand'): <function mixin_class_method.<locals>.register.<locals>.transposed at 0x7f7259c8d900>, (<ufunc 'subtract'>, 'PFCand', 'Photon'): <function LorentzVector.subtract at 0x7f7259c8d870>, (<ufunc 'subtract'>, 'Photon', 'PFCand'): <function mixin_class_method.<locals>.register.<locals>.transposed at 0x7f7259c8d900>, (<ufunc 'subtract'>, 'PFCand', 'PtEtaPhiECandidate'): <function LorentzVector.subtract at 0x7f7259c8d870>, (<ufunc 'subtract'>, 'PtEtaPhiECandidate', 'PFCand'): <function mixin_class_method.<locals>.register.<locals>.transposed at 0x7f7259c8d900>, (<ufunc 'subtract'>, 'PFCand', 'FsrPhoton'): <function LorentzVector.subtract at 0x7f7259c8d870>, (<ufunc 'subtract'>, 'FsrPhoton', 'PFCand'): <function mixin_class_method.<locals>.register.<locals>.transposed at 0x7f7259c8d900>, (<ufunc 'subtract'>, 'PFCand', 'GenVisTau'): <function LorentzVector.subtract at 0x7f7259c8d870>, (<ufunc 'subtract'>, 'GenVisTau', 'PFCand'): <function mixin_class_method.<locals>.register.<locals>.transposed at 0x7f7259c8d900>, (<ufunc 'subtract'>, 'PFCand', 'PtEtaPhiMCollection'): <function LorentzVector.subtract at 0x7f7259c8d870>, (<ufunc 'subtract'>, 'PtEtaPhiMCollection', 'PFCand'): <function mixin_class_method.<locals>.register.<locals>.transposed at 0x7f7259c8d900>, (<ufunc 'subtract'>, 'PFCand', 'LorentzVector'): <function LorentzVector.subtract at 0x7f7259c8d870>, (<ufunc 'subtract'>, 'LorentzVector', 'PFCand'): <function mixin_class_method.<locals>.register.<locals>.transposed at 0x7f7259c8d900>, (<ufunc 'subtract'>, 'PFCand', 'FatJet'): <function LorentzVector.subtract at 0x7f7259c8d870>, (<ufunc 'subtract'>, 'FatJet', 'PFCand'): <function mixin_class_method.<locals>.register.<locals>.transposed at 0x7f7259c8d900>, (<ufunc 'subtract'>, 'PFCand', 'Candidate'): <function LorentzVector.subtract at 0x7f7259c8d870>, (<ufunc 'subtract'>, 'Candidate', 'PFCand'): <function mixin_class_method.<locals>.register.<locals>.transposed at 0x7f7259c8d900>, (<ufunc 'subtract'>, 'PFCand', 'PFCand'): <function LorentzVector.subtract at 0x7f7259c8d870>, (<ufunc 'add'>, 'PFCand', 'Vertex'): <function ThreeVector.add at 0x7f7259c8c9d0>, (<ufunc 'add'>, 'Vertex', 'PFCand'): <function mixin_class_method.<locals>.register.<locals>.transposed at 0x7f7259c8ca60>, (<ufunc 'add'>, 'PFCand', 'SphericalThreeVector'): <function ThreeVector.add at 0x7f7259c8c9d0>, (<ufunc 'add'>, 'SphericalThreeVector', 'PFCand'): <function mixin_class_method.<locals>.register.<locals>.transposed at 0x7f7259c8ca60>, (<ufunc 'add'>, 'PFCand', 'SecondaryVertex'): <function ThreeVector.add at 0x7f7259c8c9d0>, (<ufunc 'add'>, 'SecondaryVertex', 'PFCand'): <function mixin_class_method.<locals>.register.<locals>.transposed at 0x7f7259c8ca60>, (<ufunc 'add'>, 'PFCand', 'ThreeVector'): <function ThreeVector.add at 0x7f7259c8c9d0>, (<ufunc 'add'>, 'ThreeVector', 'PFCand'): <function mixin_class_method.<locals>.register.<locals>.transposed at 0x7f7259c8ca60>, (<ufunc 'subtract'>, 'PFCand', 'Vertex'): <function ThreeVector.subtract at 0x7f7259c8caf0>, (<ufunc 'subtract'>, 'Vertex', 'PFCand'): <function mixin_class_method.<locals>.register.<locals>.transposed at 0x7f7259c8cb80>, (<ufunc 'subtract'>, 'PFCand', 'SphericalThreeVector'): <function ThreeVector.subtract at 0x7f7259c8caf0>, (<ufunc 'subtract'>, 'SphericalThreeVector', 'PFCand'): <function mixin_class_method.<locals>.register.<locals>.transposed at 0x7f7259c8cb80>, (<ufunc 'subtract'>, 'PFCand', 'SecondaryVertex'): <function ThreeVector.subtract at 0x7f7259c8caf0>, (<ufunc 'subtract'>, 'SecondaryVertex', 'PFCand'): <function mixin_class_method.<locals>.register.<locals>.transposed at 0x7f7259c8cb80>, (<ufunc 'subtract'>, 'PFCand', 'ThreeVector'): <function ThreeVector.subtract at 0x7f7259c8caf0>, (<ufunc 'subtract'>, 'ThreeVector', 'PFCand'): <function mixin_class_method.<locals>.register.<locals>.transposed at 0x7f7259c8cb80>, (<ufunc 'add'>, 'PFCand', 'TwoVector'): <function TwoVector.add at 0x7f7259ca7c70>, (<ufunc 'add'>, 'TwoVector', 'PFCand'): <function mixin_class_method.<locals>.register.<locals>.transposed at 0x7f7259ca7370>, (<ufunc 'add'>, 'PFCand', 'PolarTwoVector'): <function TwoVector.add at 0x7f7259ca7c70>, (<ufunc 'add'>, 'PolarTwoVector', 'PFCand'): <function mixin_class_method.<locals>.register.<locals>.transposed at 0x7f7259ca7370>, (<ufunc 'add'>, 'PFCand', 'MissingET'): <function TwoVector.add at 0x7f7259ca7c70>, (<ufunc 'add'>, 'MissingET', 'PFCand'): <function mixin_class_method.<locals>.register.<locals>.transposed at 0x7f7259ca7370>, (<ufunc 'subtract'>, 'PFCand', 'TwoVector'): <function TwoVector.subtract at 0x7f7259ca4280>, (<ufunc 'subtract'>, 'TwoVector', 'PFCand'): <function mixin_class_method.<locals>.register.<locals>.transposed at 0x7f7259ca70a0>, (<ufunc 'subtract'>, 'PFCand', 'PolarTwoVector'): <function TwoVector.subtract at 0x7f7259ca4280>, (<ufunc 'subtract'>, 'PolarTwoVector', 'PFCand'): <function mixin_class_method.<locals>.register.<locals>.transposed at 0x7f7259ca70a0>, (<ufunc 'subtract'>, 'PFCand', 'MissingET'): <function TwoVector.subtract at 0x7f7259ca4280>, (<ufunc 'subtract'>, 'MissingET', 'PFCand'): <function mixin_class_method.<locals>.register.<locals>.transposed at 0x7f7259ca70a0>, (<ufunc 'true_divide'>, 'PFCand', <class 'numbers.Number'>): <function TwoVector.divide at 0x7f7259ca79a0>, (<ufunc 'true_divide'>, <class 'numbers.Number'>, 'PFCand'): <function mixin_class_method.<locals>.register.<locals>.transposed at 0x7f7259ca4160>, (<ufunc 'true_divide'>, 'PFCand', 'PFCand'): <function TwoVector.divide at 0x7f7259ca79a0>, ('__typestr__', 'PFCand'): 'pFCand', '__events_factory__': <coffea.nanoevents.factory.NanoEventsFactory object at 0x7f725c48bdf0>}, ())"
      ]
     },
     "execution_count": 37,
     "metadata": {},
     "output_type": "execute_result"
    }
   ],
   "source": [
    "idx_jets.numba_type"
   ]
  },
  {
   "cell_type": "code",
   "execution_count": 27,
   "id": "848e765d-e2ac-4016-877c-5457ecc4e309",
   "metadata": {},
   "outputs": [
    {
     "ename": "NameError",
     "evalue": "name 'results3' is not defined",
     "output_type": "error",
     "traceback": [
      "\u001b[0;31m---------------------------------------------------------------------------\u001b[0m",
      "\u001b[0;31mNameError\u001b[0m                                 Traceback (most recent call last)",
      "\u001b[0;32m/tmp/ipykernel_6949/3092846302.py\u001b[0m in \u001b[0;36m<module>\u001b[0;34m\u001b[0m\n\u001b[1;32m      1\u001b[0m \u001b[0mqq\u001b[0m\u001b[0;34m,\u001b[0m \u001b[0mjj\u001b[0m \u001b[0;34m=\u001b[0m \u001b[0mresults1\u001b[0m\u001b[0;34m\u001b[0m\u001b[0;34m\u001b[0m\u001b[0m\n\u001b[0;32m----> 2\u001b[0;31m \u001b[0;32mfor\u001b[0m \u001b[0mi\u001b[0m\u001b[0;34m,\u001b[0m \u001b[0;34m(\u001b[0m\u001b[0mr\u001b[0m\u001b[0;34m,\u001b[0m \u001b[0mq\u001b[0m\u001b[0;34m)\u001b[0m \u001b[0;32min\u001b[0m \u001b[0menumerate\u001b[0m\u001b[0;34m(\u001b[0m\u001b[0mzip\u001b[0m\u001b[0;34m(\u001b[0m\u001b[0mresults2\u001b[0m\u001b[0;34m,\u001b[0m  \u001b[0mresults3\u001b[0m\u001b[0;34m)\u001b[0m\u001b[0;34m)\u001b[0m\u001b[0;34m:\u001b[0m\u001b[0;34m\u001b[0m\u001b[0;34m\u001b[0m\u001b[0m\n\u001b[0m\u001b[1;32m      3\u001b[0m     \u001b[0;32mfor\u001b[0m \u001b[0mR\u001b[0m\u001b[0;34m,\u001b[0m\u001b[0mR2\u001b[0m \u001b[0;32min\u001b[0m \u001b[0mzip\u001b[0m\u001b[0;34m(\u001b[0m\u001b[0mr\u001b[0m\u001b[0;34m,\u001b[0m\u001b[0mq\u001b[0m\u001b[0;34m)\u001b[0m\u001b[0;34m:\u001b[0m\u001b[0;34m\u001b[0m\u001b[0;34m\u001b[0m\u001b[0m\n\u001b[1;32m      4\u001b[0m         \u001b[0;32mif\u001b[0m \u001b[0mR\u001b[0m\u001b[0;34m.\u001b[0m\u001b[0mquark\u001b[0m \u001b[0;34m!=\u001b[0m\u001b[0mR2\u001b[0m\u001b[0;34m.\u001b[0m\u001b[0mquark\u001b[0m \u001b[0;32mor\u001b[0m \u001b[0mR\u001b[0m\u001b[0;34m.\u001b[0m\u001b[0mjet\u001b[0m \u001b[0;34m!=\u001b[0m \u001b[0mR2\u001b[0m\u001b[0;34m.\u001b[0m\u001b[0mjet\u001b[0m\u001b[0;34m:\u001b[0m\u001b[0;34m\u001b[0m\u001b[0;34m\u001b[0m\u001b[0m\n\u001b[1;32m      5\u001b[0m             \u001b[0mprint\u001b[0m\u001b[0;34m(\u001b[0m\u001b[0mi\u001b[0m \u001b[0;34m,\u001b[0m \u001b[0;34m\"Mismatch\"\u001b[0m\u001b[0;34m)\u001b[0m\u001b[0;34m\u001b[0m\u001b[0;34m\u001b[0m\u001b[0m\n",
      "\u001b[0;31mNameError\u001b[0m: name 'results3' is not defined"
     ]
    }
   ],
   "source": [
    "qq, jj = results1\n",
    "for i, (r, q) in enumerate(zip(results2,  results3)):\n",
    "    for R,R2 in zip(r,q):\n",
    "        if R.quark !=R2.quark or R.jet != R2.jet:\n",
    "            print(i , \"Mismatch\")"
   ]
  },
  {
   "cell_type": "code",
   "execution_count": null,
   "id": "3c9abd08-e0c9-42f1-8f54-ff5ad8595839",
   "metadata": {},
   "outputs": [],
   "source": [
    "qq, jj = results1\n",
    "for i, (r, q, j) in enumerate(zip(results2, qq, jj)):\n",
    "    mismatch = False\n",
    "    for R,Q,J in zip(r,q,j):\n",
    "        if R.quark !=Q or R.jet != J:\n",
    "            mismatch = True\n",
    "    if mismatch:\n",
    "        print(f\"ev:{i}, Nquark: {len(q)}, Njets: {len(j)}, match simple: {r}, match complex: {q},{j}\")\n",
    "        print(f\"\\t original sorted pairs: {pairs_sorted[i]}\")"
   ]
  },
  {
   "cell_type": "markdown",
   "id": "330547b6-d074-432e-8fc7-68ddee16614d",
   "metadata": {},
   "source": [
    "### Checking the results"
   ]
  },
  {
   "cell_type": "code",
   "execution_count": 55,
   "id": "453390c3-c3fc-4bd1-8d9a-c90d02a0363a",
   "metadata": {},
   "outputs": [],
   "source": [
    "_matchedPairs, _missedPairs = get_valid_pairs_numba_extra(idx_quark, idx_jets, ak.ArrayBuilder(), ak.ArrayBuilder())\n",
    "matchedPairs = _matchedPairs.snapshot()\n",
    "missedPairs = _missedPairs.snapshot()"
   ]
  },
  {
   "cell_type": "code",
   "execution_count": 56,
   "id": "b4202370-a994-4618-98aa-439317e03ee5",
   "metadata": {},
   "outputs": [
    {
     "data": {
      "text/plain": [
       "[{'quark': 2, 'jet': 2},\n",
       " {'quark': 0, 'jet': 1},\n",
       " {'quark': 3, 'jet': 6},\n",
       " {'quark': 1, 'jet': 0}]"
      ]
     },
     "execution_count": 56,
     "metadata": {},
     "output_type": "execute_result"
    }
   ],
   "source": [
    "matchedPairs[10].tolist()"
   ]
  },
  {
   "cell_type": "code",
   "execution_count": 49,
   "id": "4247fe02-4ce4-44ae-908b-9c742a876246",
   "metadata": {},
   "outputs": [
    {
     "data": {
      "text/plain": [
       "[(2, 2), (0, 1), (3, 6), (1, 0)]"
      ]
     },
     "execution_count": 49,
     "metadata": {},
     "output_type": "execute_result"
    }
   ],
   "source": [
    "idx_matched = get_valid_pairs_index_numba(idx_quark, idx_jets, ak.ArrayBuilder()).snapshot()\n",
    "pairs_sorted[idx_matched][10].tolist()"
   ]
  },
  {
   "cell_type": "code",
   "execution_count": 50,
   "id": "b3f98d7e-9c4c-432b-a182-faeb03536098",
   "metadata": {},
   "outputs": [
    {
     "data": {
      "text/plain": [
       "(array([313098., 359992., 243290., 167983., 122829.,  93583.,  74001.,\n",
       "         60115.,  49002.,  41256.,  35290.,  30899.,  26874.,  23311.,\n",
       "         20489.,  17874.,  15535.,  14047.,  12349.,  11209.,      0.,\n",
       "             0.,      0.,      0.,      0.,      0.,      0.,      0.,\n",
       "             0.,      0.,      0.,      0.,      0.,      0.,      0.,\n",
       "             0.,      0.,      0.,      0.,      0.,      0.,      0.,\n",
       "             0.,      0.,      0.,      0.,      0.,      0.,      0.,\n",
       "             0.]),\n",
       " array([0.  , 0.02, 0.04, 0.06, 0.08, 0.1 , 0.12, 0.14, 0.16, 0.18, 0.2 ,\n",
       "        0.22, 0.24, 0.26, 0.28, 0.3 , 0.32, 0.34, 0.36, 0.38, 0.4 , 0.42,\n",
       "        0.44, 0.46, 0.48, 0.5 , 0.52, 0.54, 0.56, 0.58, 0.6 , 0.62, 0.64,\n",
       "        0.66, 0.68, 0.7 , 0.72, 0.74, 0.76, 0.78, 0.8 , 0.82, 0.84, 0.86,\n",
       "        0.88, 0.9 , 0.92, 0.94, 0.96, 0.98, 1.  ], dtype=float32),\n",
       " <BarContainer object of 50 artists>)"
      ]
     },
     "execution_count": 50,
     "metadata": {},
     "output_type": "execute_result"
    },
    {
     "data": {
      "image/png": "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\n",
      "text/plain": [
       "<Figure size 432x288 with 1 Axes>"
      ]
     },
     "metadata": {
      "needs_background": "light"
     },
     "output_type": "display_data"
    }
   ],
   "source": [
    "plt.hist(ak.flatten(deltaR_sorted[idx_matched]), bins=50, range=(0, 1))\n",
    "# plt.yscale(\"log\")"
   ]
  },
  {
   "cell_type": "code",
   "execution_count": 51,
   "id": "c3ae71cc-504b-4bda-bcb4-62b2847352e5",
   "metadata": {},
   "outputs": [
    {
     "data": {
      "text/plain": [
       "<JetArray [Jet, Jet, Jet, Jet] type='4 * ?jet'>"
      ]
     },
     "execution_count": 51,
     "metadata": {},
     "output_type": "execute_result"
    }
   ],
   "source": [
    "events.Jet[idx_jets[idx_matched]][10]"
   ]
  },
  {
   "cell_type": "code",
   "execution_count": 52,
   "id": "5dec985f-4993-41e7-aceb-5eb5f78dfc52",
   "metadata": {},
   "outputs": [],
   "source": [
    "idx_matched = get_valid_pairs_index_numba(idx_quark, idx_jets, ak.ArrayBuilder()).snapshot()\n",
    "# The invalid jet matches result in a None value. Only non-None values are selected.\n",
    "matched_quarks = bquarks[idx_quark[idx_matched]]\n",
    "matched_jets = events.Jet[idx_jets[idx_matched]]\n",
    "deltaR_matched = deltaRcut[idx_matched]"
   ]
  },
  {
   "cell_type": "code",
   "execution_count": 53,
   "id": "de39f1e0-86f0-4415-9e00-25499f28f324",
   "metadata": {},
   "outputs": [
    {
     "ename": "AttributeError",
     "evalue": "no field named 'behaviour'\n\n(https://github.com/scikit-hep/awkward-1.0/blob/1.8.0/src/awkward/highlevel.py#L1124)",
     "output_type": "error",
     "traceback": [
      "\u001b[0;31m---------------------------------------------------------------------------\u001b[0m",
      "\u001b[0;31mAttributeError\u001b[0m                            Traceback (most recent call last)",
      "Input \u001b[0;32mIn [53]\u001b[0m, in \u001b[0;36m<cell line: 1>\u001b[0;34m()\u001b[0m\n\u001b[0;32m----> 1\u001b[0m events[\u001b[38;5;124m\"\u001b[39m\u001b[38;5;124mPartonMatched\u001b[39m\u001b[38;5;124m\"\u001b[39m] \u001b[38;5;241m=\u001b[39m ak\u001b[38;5;241m.\u001b[39mwith_field(matched_quarks, deltaR_matched, \u001b[38;5;124m\"\u001b[39m\u001b[38;5;124mdRMatchedJet\u001b[39m\u001b[38;5;124m\"\u001b[39m, behaviour\u001b[38;5;241m=\u001b[39m\u001b[43mmatched_quarks\u001b[49m\u001b[38;5;241;43m.\u001b[39;49m\u001b[43mbehaviour\u001b[49m)\n",
      "File \u001b[0;32m/work/dvalsecc/miniconda3/envs/coffea3/lib/python3.10/site-packages/awkward/highlevel.py:1123\u001b[0m, in \u001b[0;36mArray.__getattr__\u001b[0;34m(self, where)\u001b[0m\n\u001b[1;32m   1117\u001b[0m         \u001b[38;5;28;01mraise\u001b[39;00m \u001b[38;5;167;01mAttributeError\u001b[39;00m(\n\u001b[1;32m   1118\u001b[0m             \u001b[38;5;124m\"\u001b[39m\u001b[38;5;124mwhile trying to get field \u001b[39m\u001b[38;5;132;01m{}\u001b[39;00m\u001b[38;5;124m, an exception \u001b[39m\u001b[38;5;124m\"\u001b[39m\n\u001b[1;32m   1119\u001b[0m             \u001b[38;5;124m\"\u001b[39m\u001b[38;5;124moccurred:\u001b[39m\u001b[38;5;130;01m\\n\u001b[39;00m\u001b[38;5;132;01m{}\u001b[39;00m\u001b[38;5;124m: \u001b[39m\u001b[38;5;132;01m{}\u001b[39;00m\u001b[38;5;124m\"\u001b[39m\u001b[38;5;241m.\u001b[39mformat(\u001b[38;5;28mrepr\u001b[39m(where), \u001b[38;5;28mtype\u001b[39m(err), \u001b[38;5;28mstr\u001b[39m(err))\n\u001b[1;32m   1120\u001b[0m             \u001b[38;5;241m+\u001b[39m ak\u001b[38;5;241m.\u001b[39m_util\u001b[38;5;241m.\u001b[39mexception_suffix(\u001b[38;5;18m__file__\u001b[39m)\n\u001b[1;32m   1121\u001b[0m         )\n\u001b[1;32m   1122\u001b[0m \u001b[38;5;28;01melse\u001b[39;00m:\n\u001b[0;32m-> 1123\u001b[0m     \u001b[38;5;28;01mraise\u001b[39;00m \u001b[38;5;167;01mAttributeError\u001b[39;00m(\n\u001b[1;32m   1124\u001b[0m         \u001b[38;5;124mf\u001b[39m\u001b[38;5;124m\"\u001b[39m\u001b[38;5;124mno field named \u001b[39m\u001b[38;5;132;01m{\u001b[39;00mwhere\u001b[38;5;132;01m!r}\u001b[39;00m\u001b[38;5;124m\"\u001b[39m \u001b[38;5;241m+\u001b[39m ak\u001b[38;5;241m.\u001b[39m_util\u001b[38;5;241m.\u001b[39mexception_suffix(\u001b[38;5;18m__file__\u001b[39m)\n\u001b[1;32m   1125\u001b[0m     )\n",
      "\u001b[0;31mAttributeError\u001b[0m: no field named 'behaviour'\n\n(https://github.com/scikit-hep/awkward-1.0/blob/1.8.0/src/awkward/highlevel.py#L1124)"
     ]
    }
   ],
   "source": [
    "events[\"PartonMatched\"] = ak.with_field(matched_quarks, deltaR_matched, \"dRMatchedJet\", behaviour=matched_quarks.behaviour)"
   ]
  },
  {
   "cell_type": "code",
   "execution_count": 54,
   "id": "fd3ce00a-7e17-4964-b16c-2d86f7628595",
   "metadata": {},
   "outputs": [
    {
     "ename": "AttributeError",
     "evalue": "no field named 'PartonMatched'\n\n(https://github.com/scikit-hep/awkward-1.0/blob/1.8.0/src/awkward/highlevel.py#L1124)",
     "output_type": "error",
     "traceback": [
      "\u001b[0;31m---------------------------------------------------------------------------\u001b[0m",
      "\u001b[0;31mAttributeError\u001b[0m                            Traceback (most recent call last)",
      "Input \u001b[0;32mIn [54]\u001b[0m, in \u001b[0;36m<cell line: 1>\u001b[0;34m()\u001b[0m\n\u001b[0;32m----> 1\u001b[0m ak\u001b[38;5;241m.\u001b[39mnum(\u001b[43mevents\u001b[49m\u001b[38;5;241;43m.\u001b[39;49m\u001b[43mPartonMatched\u001b[49m, axis\u001b[38;5;241m=\u001b[39m\u001b[38;5;241m1\u001b[39m)\n",
      "File \u001b[0;32m/work/dvalsecc/miniconda3/envs/coffea3/lib/python3.10/site-packages/awkward/highlevel.py:1123\u001b[0m, in \u001b[0;36mArray.__getattr__\u001b[0;34m(self, where)\u001b[0m\n\u001b[1;32m   1117\u001b[0m         \u001b[38;5;28;01mraise\u001b[39;00m \u001b[38;5;167;01mAttributeError\u001b[39;00m(\n\u001b[1;32m   1118\u001b[0m             \u001b[38;5;124m\"\u001b[39m\u001b[38;5;124mwhile trying to get field \u001b[39m\u001b[38;5;132;01m{}\u001b[39;00m\u001b[38;5;124m, an exception \u001b[39m\u001b[38;5;124m\"\u001b[39m\n\u001b[1;32m   1119\u001b[0m             \u001b[38;5;124m\"\u001b[39m\u001b[38;5;124moccurred:\u001b[39m\u001b[38;5;130;01m\\n\u001b[39;00m\u001b[38;5;132;01m{}\u001b[39;00m\u001b[38;5;124m: \u001b[39m\u001b[38;5;132;01m{}\u001b[39;00m\u001b[38;5;124m\"\u001b[39m\u001b[38;5;241m.\u001b[39mformat(\u001b[38;5;28mrepr\u001b[39m(where), \u001b[38;5;28mtype\u001b[39m(err), \u001b[38;5;28mstr\u001b[39m(err))\n\u001b[1;32m   1120\u001b[0m             \u001b[38;5;241m+\u001b[39m ak\u001b[38;5;241m.\u001b[39m_util\u001b[38;5;241m.\u001b[39mexception_suffix(\u001b[38;5;18m__file__\u001b[39m)\n\u001b[1;32m   1121\u001b[0m         )\n\u001b[1;32m   1122\u001b[0m \u001b[38;5;28;01melse\u001b[39;00m:\n\u001b[0;32m-> 1123\u001b[0m     \u001b[38;5;28;01mraise\u001b[39;00m \u001b[38;5;167;01mAttributeError\u001b[39;00m(\n\u001b[1;32m   1124\u001b[0m         \u001b[38;5;124mf\u001b[39m\u001b[38;5;124m\"\u001b[39m\u001b[38;5;124mno field named \u001b[39m\u001b[38;5;132;01m{\u001b[39;00mwhere\u001b[38;5;132;01m!r}\u001b[39;00m\u001b[38;5;124m\"\u001b[39m \u001b[38;5;241m+\u001b[39m ak\u001b[38;5;241m.\u001b[39m_util\u001b[38;5;241m.\u001b[39mexception_suffix(\u001b[38;5;18m__file__\u001b[39m)\n\u001b[1;32m   1125\u001b[0m     )\n",
      "\u001b[0;31mAttributeError\u001b[0m: no field named 'PartonMatched'\n\n(https://github.com/scikit-hep/awkward-1.0/blob/1.8.0/src/awkward/highlevel.py#L1124)"
     ]
    }
   ],
   "source": [
    "ak.num(events.PartonMatched, axis=1)"
   ]
  },
  {
   "cell_type": "markdown",
   "id": "fc340697-22ae-4bd2-874c-1fde4d6ba453",
   "metadata": {},
   "source": [
    "### Check profiling"
   ]
  },
  {
   "cell_type": "code",
   "execution_count": 36,
   "id": "57de261b-0966-401a-befe-d375978450f1",
   "metadata": {},
   "outputs": [
    {
     "name": "stdout",
     "output_type": "stream",
     "text": [
      " \n",
      "*** Profile stats marshalled to file '/tmp/tmpvmveghyp'. \n",
      "Embedding SnakeViz in this document...\n"
     ]
    },
    {
     "data": {
      "text/html": [
       "\n",
       "<iframe id='snakeviz-5580b997-d7da-11ec-a2de-a4bf0104df06' frameborder=0 seamless width='100%' height='1000'></iframe>\n",
       "<script>document.getElementById(\"snakeviz-5580b997-d7da-11ec-a2de-a4bf0104df06\").setAttribute(\"src\", \"http://\" + document.location.hostname + \":8080/snakeviz/%2Ftmp%2Ftmpvmveghyp\")</script>\n"
      ],
      "text/plain": [
       "<IPython.core.display.HTML object>"
      ]
     },
     "metadata": {},
     "output_type": "display_data"
    }
   ],
   "source": [
    "%%snakeviz \n",
    "results1 = get_valid_pairs_masks(idx_quark, idx_jets)"
   ]
  },
  {
   "cell_type": "code",
   "execution_count": 37,
   "id": "027dac38-bdff-46ab-9c5c-762229e8ca77",
   "metadata": {},
   "outputs": [
    {
     "name": "stdout",
     "output_type": "stream",
     "text": [
      " \n",
      "*** Profile stats marshalled to file '/tmp/tmpf0yprmct'. \n",
      "Embedding SnakeViz in this document...\n"
     ]
    },
    {
     "data": {
      "text/html": [
       "\n",
       "<iframe id='snakeviz-57ee0ab7-d7da-11ec-9c5e-a4bf0104df06' frameborder=0 seamless width='100%' height='1000'></iframe>\n",
       "<script>document.getElementById(\"snakeviz-57ee0ab7-d7da-11ec-9c5e-a4bf0104df06\").setAttribute(\"src\", \"http://\" + document.location.hostname + \":8081/snakeviz/%2Ftmp%2Ftmpf0yprmct\")</script>\n"
      ],
      "text/plain": [
       "<IPython.core.display.HTML object>"
      ]
     },
     "metadata": {},
     "output_type": "display_data"
    }
   ],
   "source": [
    "%%snakeviz \n",
    "results3 = get_valid_pairs_numba(idx_quark, idx_jets, ak.ArrayBuilder())"
   ]
  },
  {
   "cell_type": "markdown",
   "id": "7e320b0e-1ea0-46c2-ae11-7bdaa37871b5",
   "metadata": {},
   "source": [
    "### Check the performance of first part of the algo"
   ]
  },
  {
   "cell_type": "code",
   "execution_count": 28,
   "id": "b7d83ef6-72c4-49d7-a2bf-67198d655f49",
   "metadata": {},
   "outputs": [
    {
     "name": "stdout",
     "output_type": "stream",
     "text": [
      "734 ms ± 12.9 ms per loop (mean ± std. dev. of 7 runs, 1 loop each)\n"
     ]
    }
   ],
   "source": [
    "%%timeit\n",
    "# Compute deltaR(b, jet) and save the nearest jet (deltaR matching)\n",
    "dr_min = 0.4\n",
    "deltaR = ak.flatten(bquarks.metric_table(events.Jet), axis=2) "
   ]
  },
  {
   "cell_type": "code",
   "execution_count": 24,
   "id": "4e4064a7-f938-4881-abed-2a28ef225638",
   "metadata": {},
   "outputs": [
    {
     "name": "stdout",
     "output_type": "stream",
     "text": [
      "196 ms ± 23.7 ms per loop (mean ± std. dev. of 7 runs, 1 loop each)\n"
     ]
    }
   ],
   "source": [
    "%%timeit\n",
    "# keeping only the pairs with a deltaR min\n",
    "maskDR = deltaR < dr_min\n",
    "deltaRcut = deltaR[maskDR] #--> the mask works since we are applying it also to the argcartesian"
   ]
  },
  {
   "cell_type": "code",
   "execution_count": 29,
   "id": "4b17fa66-7bcd-44b9-94c6-d0e7b3bae8cc",
   "metadata": {},
   "outputs": [
    {
     "name": "stdout",
     "output_type": "stream",
     "text": [
      "21.2 ms ± 4.97 ms per loop (mean ± std. dev. of 7 runs, 10 loops each)\n"
     ]
    }
   ],
   "source": [
    "%%timeit  pass\n",
    "idx_pairs_sorted = ak.argsort(deltaRcut, axis=1)\n"
   ]
  },
  {
   "cell_type": "code",
   "execution_count": 30,
   "id": "9dc2d0ac-30c1-49dc-8f7d-dff290c80cba",
   "metadata": {},
   "outputs": [
    {
     "name": "stdout",
     "output_type": "stream",
     "text": [
      "161 ms ± 6.49 ms per loop (mean ± std. dev. of 7 runs, 1 loop each)\n"
     ]
    }
   ],
   "source": [
    "%%timeit pass\n",
    "pairs = ak.argcartesian([bquarks, events.Jet])[maskDR]"
   ]
  },
  {
   "cell_type": "code",
   "execution_count": 31,
   "id": "525cfef1-12e0-4790-8783-fd36afcc5054",
   "metadata": {},
   "outputs": [
    {
     "name": "stdout",
     "output_type": "stream",
     "text": [
      "4.38 ms ± 92.3 µs per loop (mean ± std. dev. of 7 runs, 100 loops each)\n"
     ]
    }
   ],
   "source": [
    "%%timeit pass\n",
    "pairs_sorted = pairs[idx_pairs_sorted]\n"
   ]
  },
  {
   "cell_type": "code",
   "execution_count": 32,
   "id": "482e6edc-2c13-4fee-b83b-4927d179764e",
   "metadata": {},
   "outputs": [
    {
     "name": "stdout",
     "output_type": "stream",
     "text": [
      "170 µs ± 27.4 µs per loop (mean ± std. dev. of 7 runs, 1000 loops each)\n"
     ]
    }
   ],
   "source": [
    "%%timeit pass\n",
    "idx_quark, idx_jets = ak.unzip(pairs_sorted)"
   ]
  },
  {
   "cell_type": "code",
   "execution_count": 34,
   "id": "f89898b1-7f8e-44ba-bac3-1b9bc692a8e8",
   "metadata": {},
   "outputs": [
    {
     "name": "stdout",
     "output_type": "stream",
     "text": [
      "1.01 s ± 94.3 ms per loop (mean ± std. dev. of 7 runs, 1 loop each)\n"
     ]
    }
   ],
   "source": [
    "%%timeit\n",
    "# Compute deltaR(b, jet) and save the nearest jet (deltaR matching)\n",
    "dr_min = 0.4\n",
    "deltaR = ak.flatten(bquarks.metric_table(events.Jet), axis=2)\n",
    "# keeping only the pairs with a deltaR min\n",
    "maskDR = deltaR < dr_min\n",
    "deltaRcut = deltaR[maskDR] #--> the mask works since we are applying it also to the argcartesian\n",
    "idx_pairs_sorted = ak.argsort(deltaRcut, axis=1)\n",
    "pairs = ak.argcartesian([bquarks, events.Jet])[maskDR]\n",
    "pairs_sorted = pairs[idx_pairs_sorted]\n",
    "idx_quark, idx_jets = ak.unzip(pairs_sorted)\n",
    "       "
   ]
  },
  {
   "cell_type": "code",
   "execution_count": 35,
   "id": "63466bfe-764d-49f6-8d66-ba37f7d89d9b",
   "metadata": {},
   "outputs": [
    {
     "data": {
      "text/plain": [
       "<Array [[1, 2, 3, 0], [0, ... 3, 3], [0, 1, 2]] type='100000 * var * ?int64'>"
      ]
     },
     "execution_count": 35,
     "metadata": {},
     "output_type": "execute_result"
    }
   ],
   "source": [
    "idx_quark"
   ]
  },
  {
   "cell_type": "code",
   "execution_count": null,
   "id": "2b53bda0-1696-4a55-8fca-97ec2bcee1ff",
   "metadata": {},
   "outputs": [],
   "source": []
  },
  {
   "cell_type": "code",
   "execution_count": null,
   "id": "0c741388-3872-4131-acba-5abc9b09116d",
   "metadata": {},
   "outputs": [],
   "source": []
  },
  {
   "cell_type": "code",
   "execution_count": null,
   "id": "1ca57320-e478-4d3a-a74c-4eec71d245c2",
   "metadata": {},
   "outputs": [],
   "source": []
  },
  {
   "cell_type": "code",
   "execution_count": null,
   "id": "34e1dd23",
   "metadata": {},
   "outputs": [],
   "source": []
  }
 ],
 "metadata": {
  "kernelspec": {
   "display_name": "Python 3 (ipykernel)",
   "language": "python",
   "name": "python3"
  },
  "language_info": {
   "codemirror_mode": {
    "name": "ipython",
    "version": 3
   },
   "file_extension": ".py",
   "mimetype": "text/x-python",
   "name": "python",
   "nbconvert_exporter": "python",
   "pygments_lexer": "ipython3",
   "version": "3.10.5"
  }
 },
 "nbformat": 4,
 "nbformat_minor": 5
}
