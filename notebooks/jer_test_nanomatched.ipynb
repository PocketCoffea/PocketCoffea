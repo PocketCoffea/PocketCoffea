{
 "cells": [
  {
   "cell_type": "markdown",
   "id": "a84390ea-3327-4d9a-8b2d-9708ad271fdc",
   "metadata": {},
   "source": [
    "# Jet - GenJet matching for JER\n",
    "Using the NanoAOD branch instead of the manual matching"
   ]
  },
  {
   "cell_type": "code",
   "execution_count": 9,
   "id": "1531058c-d3bf-4dc4-a959-99935ca1416e",
   "metadata": {},
   "outputs": [],
   "source": [
    "%load_ext snakeviz"
   ]
  },
  {
   "cell_type": "code",
   "execution_count": 1,
   "id": "7d7d2e28",
   "metadata": {},
   "outputs": [],
   "source": [
    "from collections.abc import Iterable\n",
    "import matplotlib.pyplot as plt\n",
    "import numpy as np\n",
    "import awkward as ak\n",
    "import numba\n",
    "import correctionlib\n",
    "from coffea.nanoevents import NanoEventsFactory, NanoAODSchema"
   ]
  },
  {
   "cell_type": "code",
   "execution_count": 2,
   "id": "63feb596",
   "metadata": {},
   "outputs": [],
   "source": [
    "nevts = 10000\n",
    "filename = \"/pnfs/psi.ch/cms/trivcat/store/user/mmarcheg/RunIIFall17NanoAODv7/ttHTobb_M125_TuneCP5_13TeV-powheg-pythia8/587E2464-42CA-3A45-BD49-D23E49F658E6.root\"\n",
    "#events = NanoEventsFactory.from_root({filename: "Events"}, schemaclass=NanoAODSchema).events()\n",
    "events = NanoEventsFactory.from_root({filename: "Events"}, schemaclass=NanoAODSchema, entry_stop=nevts).events()"
   ]
  },
  {
   "cell_type": "code",
   "execution_count": 3,
   "id": "34dd102d-ea80-4804-9827-5240d7624c03",
   "metadata": {},
   "outputs": [
    {
     "data": {
      "text/plain": [
       "<Array [[0, 1, 2, 3, 4, 5, ... 7, 4, 6, 5, 9]] type='10000 * var * int32[paramet...'>"
      ]
     },
     "execution_count": 3,
     "metadata": {},
     "output_type": "execute_result"
    }
   ],
   "source": [
    "events.Jet.genJetIdx"
   ]
  },
  {
   "cell_type": "code",
   "execution_count": 4,
   "id": "99e8a072-226c-44e8-a76a-723799b2644f",
   "metadata": {
    "jupyter": {
     "source_hidden": true
    },
    "tags": []
   },
   "outputs": [
    {
     "ename": "ValueError",
     "evalue": "in ListArray64 attempting to get 14, index out of range\n\n(https://github.com/scikit-hep/awkward-1.0/blob/1.7.0/src/cpu-kernels/awkward_ListArray_getitem_jagged_apply.cpp#L43)",
     "output_type": "error",
     "traceback": [
      "\u001b[0;31m---------------------------------------------------------------------------\u001b[0m",
      "\u001b[0;31mValueError\u001b[0m                                Traceback (most recent call last)",
      "\u001b[0;32m/tmp/ipykernel_5479/2359186932.py\u001b[0m in \u001b[0;36m<module>\u001b[0;34m\u001b[0m\n\u001b[0;32m----> 1\u001b[0;31m \u001b[0mevents\u001b[0m\u001b[0;34m.\u001b[0m\u001b[0mGenJet\u001b[0m\u001b[0;34m[\u001b[0m\u001b[0mevents\u001b[0m\u001b[0;34m.\u001b[0m\u001b[0mJet\u001b[0m\u001b[0;34m.\u001b[0m\u001b[0mgenJetIdx\u001b[0m\u001b[0;34m]\u001b[0m\u001b[0;34m\u001b[0m\u001b[0;34m\u001b[0m\u001b[0m\n\u001b[0m",
      "\u001b[0;32m/work/dvalsecc/miniconda3/envs/coffea/lib/python3.9/site-packages/awkward/highlevel.py\u001b[0m in \u001b[0;36m__getitem__\u001b[0;34m(self, where)\u001b[0m\n\u001b[1;32m    995\u001b[0m         \"\"\"\n\u001b[1;32m    996\u001b[0m         \u001b[0;32mif\u001b[0m \u001b[0;32mnot\u001b[0m \u001b[0mhasattr\u001b[0m\u001b[0;34m(\u001b[0m\u001b[0mself\u001b[0m\u001b[0;34m,\u001b[0m \u001b[0;34m\"_tracers\"\u001b[0m\u001b[0;34m)\u001b[0m\u001b[0;34m:\u001b[0m\u001b[0;34m\u001b[0m\u001b[0;34m\u001b[0m\u001b[0m\n\u001b[0;32m--> 997\u001b[0;31m             \u001b[0mtmp\u001b[0m \u001b[0;34m=\u001b[0m \u001b[0mak\u001b[0m\u001b[0;34m.\u001b[0m\u001b[0m_util\u001b[0m\u001b[0;34m.\u001b[0m\u001b[0mwrap\u001b[0m\u001b[0;34m(\u001b[0m\u001b[0mself\u001b[0m\u001b[0;34m.\u001b[0m\u001b[0mlayout\u001b[0m\u001b[0;34m[\u001b[0m\u001b[0mwhere\u001b[0m\u001b[0;34m]\u001b[0m\u001b[0;34m,\u001b[0m \u001b[0mself\u001b[0m\u001b[0;34m.\u001b[0m\u001b[0m_behavior\u001b[0m\u001b[0;34m)\u001b[0m\u001b[0;34m\u001b[0m\u001b[0;34m\u001b[0m\u001b[0m\n\u001b[0m\u001b[1;32m    998\u001b[0m         \u001b[0;32melse\u001b[0m\u001b[0;34m:\u001b[0m\u001b[0;34m\u001b[0m\u001b[0;34m\u001b[0m\u001b[0m\n\u001b[1;32m    999\u001b[0m             \u001b[0mtmp\u001b[0m \u001b[0;34m=\u001b[0m \u001b[0mak\u001b[0m\u001b[0;34m.\u001b[0m\u001b[0m_connect\u001b[0m\u001b[0;34m.\u001b[0m\u001b[0m_jax\u001b[0m\u001b[0;34m.\u001b[0m\u001b[0mjax_utils\u001b[0m\u001b[0;34m.\u001b[0m\u001b[0m_jaxtracers_getitem\u001b[0m\u001b[0;34m(\u001b[0m\u001b[0mself\u001b[0m\u001b[0;34m,\u001b[0m \u001b[0mwhere\u001b[0m\u001b[0;34m)\u001b[0m\u001b[0;34m\u001b[0m\u001b[0;34m\u001b[0m\u001b[0m\n",
      "\u001b[0;31mValueError\u001b[0m: in ListArray64 attempting to get 14, index out of range\n\n(https://github.com/scikit-hep/awkward-1.0/blob/1.7.0/src/cpu-kernels/awkward_ListArray_getitem_jagged_apply.cpp#L43)"
     ]
    }
   ],
   "source": [
    "events.GenJet[events.Jet.genJetIdx]"
   ]
  },
  {
   "cell_type": "code",
   "execution_count": 5,
   "id": "71fe5fc6-458d-4d5c-8334-132f6167ec98",
   "metadata": {},
   "outputs": [],
   "source": [
    "Ngenjet = ak.num(events.GenJet)"
   ]
  },
  {
   "cell_type": "code",
   "execution_count": 6,
   "id": "179804b9-2b6e-4661-87df-03e5f4368256",
   "metadata": {},
   "outputs": [],
   "source": [
    "max_index = ak.max(events.Jet.genJetIdx, axis=1)"
   ]
  },
  {
   "cell_type": "code",
   "execution_count": 7,
   "id": "4cb667da-c2a3-4913-91ef-d61308cddf59",
   "metadata": {},
   "outputs": [
    {
     "data": {
      "text/plain": [
       "<Array [10, 9, 13, 9, 6, 6, ... 7, 9, 7, 5, 13] type='10000 * int64'>"
      ]
     },
     "execution_count": 7,
     "metadata": {},
     "output_type": "execute_result"
    }
   ],
   "source": [
    "Ngenjet"
   ]
  },
  {
   "cell_type": "code",
   "execution_count": 8,
   "id": "d3fc800e-45e2-49b8-b6f6-a367c7e0d627",
   "metadata": {},
   "outputs": [
    {
     "data": {
      "text/plain": [
       "522"
      ]
     },
     "execution_count": 8,
     "metadata": {},
     "output_type": "execute_result"
    }
   ],
   "source": [
    "ak.sum(max_index > Ngenjet) "
   ]
  },
  {
   "cell_type": "markdown",
   "id": "876fc129-2a46-4fd9-9380-25d13517f361",
   "metadata": {},
   "source": [
    "### Taking only the pairs were the index is small enough"
   ]
  },
  {
   "cell_type": "code",
   "execution_count": 3,
   "id": "371800a0-51d3-4a5f-87bf-7494305fe512",
   "metadata": {},
   "outputs": [],
   "source": [
    "Ngenjet = ak.num(events.GenJet)\n",
    "matching_with_none = ak.mask(events.Jet.genJetIdx, (events.Jet.genJetIdx < Ngenjet)&(events.Jet.genJetIdx!=-1))\n",
    "#matching_with_none = ak.mask(matching, matching!=-1)\n",
    "genJets = events.GenJet[matching_with_none]\n",
    "not_none = ~ak.is_none(genJets, axis=1)"
   ]
  },
  {
   "cell_type": "code",
   "execution_count": 4,
   "id": "387e9a4e-95c6-4c45-9ae6-993cf9f1875b",
   "metadata": {},
   "outputs": [],
   "source": [
    "matched_jets = ak.mask(events.Jet, not_none)"
   ]
  },
  {
   "cell_type": "code",
   "execution_count": 12,
   "id": "469db4d8-e1f7-4d15-a185-7d3877bfd6a9",
   "metadata": {},
   "outputs": [
    {
     "data": {
      "text/plain": [
       "[0, 1, 2, 5, 3, 4, 7, 6, 8, None, 9, None]"
      ]
     },
     "execution_count": 12,
     "metadata": {},
     "output_type": "execute_result"
    }
   ],
   "source": [
    "matching_with_none[9].tolist()"
   ]
  },
  {
   "cell_type": "code",
   "execution_count": 185,
   "id": "3af0746b-3a21-4a49-85ce-6c98f10a30d2",
   "metadata": {},
   "outputs": [
    {
     "data": {
      "text/plain": [
       "[85.0,\n",
       " 68.0,\n",
       " 62.25,\n",
       " 51.5625,\n",
       " 50.34375,\n",
       " 38.875,\n",
       " 38.84375,\n",
       " 31.3125,\n",
       " 22.359375,\n",
       " None,\n",
       " 20.765625,\n",
       " None]"
      ]
     },
     "execution_count": 185,
     "metadata": {},
     "output_type": "execute_result"
    }
   ],
   "source": [
    "matched_jets.pt[9].tolist()"
   ]
  },
  {
   "cell_type": "code",
   "execution_count": 171,
   "id": "9cf6adc8-5fa0-49c8-b4f7-030e32ed0f26",
   "metadata": {},
   "outputs": [
    {
     "data": {
      "text/plain": [
       "[72.40778350830078,\n",
       " 72.30656433105469,\n",
       " 61.75617599487305,\n",
       " 38.85511779785156,\n",
       " 45.20153045654297,\n",
       " 40.798851013183594,\n",
       " 21.359764099121094,\n",
       " 26.313899993896484,\n",
       " 18.751693725585938,\n",
       " None,\n",
       " 14.176642417907715,\n",
       " None]"
      ]
     },
     "execution_count": 171,
     "metadata": {},
     "output_type": "execute_result"
    }
   ],
   "source": [
    "genJets[9].pt.tolist()"
   ]
  },
  {
   "cell_type": "code",
   "execution_count": 35,
   "id": "b402c0a0-23e5-489b-b9df-3787f09fd9ec",
   "metadata": {},
   "outputs": [
    {
     "data": {
      "text/plain": [
       "<Array [1, 0, 2, 3, 7, 6, 8, 12, 5, 14] type='10 * int32[parameters={\"__doc__\": ...'>"
      ]
     },
     "execution_count": 35,
     "metadata": {},
     "output_type": "execute_result"
    }
   ],
   "source": [
    "events.Jet.genJetIdx[2]"
   ]
  },
  {
   "cell_type": "code",
   "execution_count": 33,
   "id": "146aecb9-9344-4f6e-9745-c41ec1e0533b",
   "metadata": {},
   "outputs": [
    {
     "data": {
      "text/plain": [
       "<Array [1, 0, 2, 3, 7, 6, 8, 12, 5] type='9 * int32[parameters={\"__doc__\": \"inde...'>"
      ]
     },
     "execution_count": 33,
     "metadata": {},
     "output_type": "execute_result"
    }
   ],
   "source": [
    "matching[2]"
   ]
  },
  {
   "cell_type": "code",
   "execution_count": 73,
   "id": "a3d196cb-2784-422b-80ae-d4a434d71dc9",
   "metadata": {},
   "outputs": [
    {
     "data": {
      "text/plain": [
       "[0, 2, 3, 1, 4, 5, 6, 7, -1, -1]"
      ]
     },
     "execution_count": 73,
     "metadata": {},
     "output_type": "execute_result"
    }
   ],
   "source": [
    "matching[8].tolist()"
   ]
  },
  {
   "cell_type": "code",
   "execution_count": 13,
   "id": "fa69489a-a70b-4b3c-8263-4cbc720ce80e",
   "metadata": {},
   "outputs": [
    {
     "data": {
      "text/plain": [
       "[[0, 1, 2, 3, 4, 5, 6, 7, 8, 9],\n",
       " [0, 3, 1, 5, 4, 6, 7, 8, None],\n",
       " [1, 0, 2, 3, 7, 6, 8, 12, 5, None],\n",
       " [0, 2, 1, 3, 4, 6, 5, 7],\n",
       " [1, 0, 2, 3, 4],\n",
       " [1, 2, 0, None, 3, 4, 5],\n",
       " [0, 2, 1, 3, 4, 6],\n",
       " [0, 2, 1, 3, 4, 6, 5, 7, 11, None, 10],\n",
       " [0, 2, 3, 1, 4, 5, 6, 7, None, None],\n",
       " [0, 1, 2, 5, 3, 4, 7, 6, 8, None, 9, None]]"
      ]
     },
     "execution_count": 13,
     "metadata": {},
     "output_type": "execute_result"
    }
   ],
   "source": [
    "matching_with_none[0:10].tolist()"
   ]
  },
  {
   "cell_type": "code",
   "execution_count": 25,
   "id": "b161f258-1829-405e-90d4-a4222f66322c",
   "metadata": {},
   "outputs": [
    {
     "ename": "SyntaxError",
     "evalue": "invalid syntax (3318437109.py, line 6)",
     "output_type": "error",
     "traceback": [
      "\u001b[0;36m  File \u001b[0;32m\"/tmp/ipykernel_5479/3318437109.py\"\u001b[0;36m, line \u001b[0;32m6\u001b[0m\n\u001b[0;31m    builder.end_list()\u001b[0m\n\u001b[0m    ^\u001b[0m\n\u001b[0;31mSyntaxError\u001b[0m\u001b[0;31m:\u001b[0m invalid syntax\n"
     ]
    }
   ],
   "source": [
    "def delta_pt(jets, genJets, builder):\n",
    "    for js , genJs in zip(jets, genJets):\n",
    "        builder.begin_list()\n",
    "        for j, g in zip(js, genJs):\n",
    "            builder.append(abs(j-g)\n",
    "        builder.end_list()\n",
    "    return builder"
   ]
  },
  {
   "cell_type": "code",
   "execution_count": null,
   "id": "0139b9c2-712e-4025-b846-533db4e4d453",
   "metadata": {},
   "outputs": [],
   "source": [
    "%timeit delta_pt(events.Jet[not_none], genJets[not_none], ak.ArrayBuilder())"
   ]
  },
  {
   "cell_type": "code",
   "execution_count": 10,
   "id": "75137857-234a-4fc2-b5bf-7db1b12004d6",
   "metadata": {},
   "outputs": [],
   "source": [
    "@numba.njit\n",
    "def delta_pt_numba(jets, genJets, mask, builder):\n",
    "    for js , genJs, ms in zip(jets, genJets, mask):\n",
    "        builder.begin_list()\n",
    "        for j, g, m in zip(js, genJs, ms):\n",
    "            if m:\n",
    "                builder.append(abs(j-g))\n",
    "            else:\n",
    "                builder.append(None)\n",
    "        builder.end_list()\n",
    "    return builder"
   ]
  },
  {
   "cell_type": "code",
   "execution_count": 24,
   "id": "f3a9aeba-669c-4e0e-bba7-38294f1cd909",
   "metadata": {},
   "outputs": [
    {
     "data": {
      "text/plain": [
       "10000 * var * ?float32[parameters={\"__doc__\": \"pt\"}]"
      ]
     },
     "execution_count": 24,
     "metadata": {},
     "output_type": "execute_result"
    }
   ],
   "source": [
    "genJets.pt.type"
   ]
  },
  {
   "cell_type": "code",
   "execution_count": 19,
   "id": "e36ea1d9-8229-47b5-bb49-4fd91dc2bf00",
   "metadata": {},
   "outputs": [
    {
     "data": {
      "text/plain": [
       "<ArrayBuilder [[8.74, 1.47, 4.34, ... 1.73, 3.77]] type='10000 * var * ?float64'>"
      ]
     },
     "execution_count": 19,
     "metadata": {},
     "output_type": "execute_result"
    }
   ],
   "source": [
    "delta_pt_numba(matched_jets.pt, genJets.pt , not_none, ak.ArrayBuilder())"
   ]
  },
  {
   "cell_type": "code",
   "execution_count": 45,
   "id": "1755ad05-205c-4b33-803d-15432f9e802d",
   "metadata": {},
   "outputs": [
    {
     "name": "stdout",
     "output_type": "stream",
     "text": [
      "12.5 ms ± 742 µs per loop (mean ± std. dev. of 7 runs, 100 loops each)\n"
     ]
    }
   ],
   "source": [
    "%timeit delta_pt_numba(events.Jet.pt, genJets.pt , not_none, ak.ArrayBuilder())"
   ]
  },
  {
   "cell_type": "code",
   "execution_count": 40,
   "id": "9427d1d0-366a-4791-a8f2-b831aa1b79bb",
   "metadata": {},
   "outputs": [],
   "source": [
    "dPt1 = delta_pt_numba(events.Jet.pt, genJets.pt , not_none, ak.ArrayBuilder())"
   ]
  },
  {
   "cell_type": "code",
   "execution_count": 16,
   "id": "0e70ba99-cb7f-4095-bbe3-fa471689274d",
   "metadata": {
    "collapsed": true,
    "jupyter": {
     "outputs_hidden": true
    },
    "tags": []
   },
   "outputs": [
    {
     "data": {
      "image/png": "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\n",
      "text/plain": [
       "<Figure size 432x288 with 1 Axes>"
      ]
     },
     "metadata": {
      "needs_background": "light"
     },
     "output_type": "display_data"
    }
   ],
   "source": [
    "plt.hist(ak.flatten(dPt), bins=100, range=(-100,100))\n",
    "plt.show()"
   ]
  },
  {
   "cell_type": "code",
   "execution_count": 46,
   "id": "4fc9f8e0-7e50-47f6-b17e-855ac71e5c64",
   "metadata": {},
   "outputs": [
    {
     "name": "stdout",
     "output_type": "stream",
     "text": [
      "7.75 ms ± 709 µs per loop (mean ± std. dev. of 7 runs, 100 loops each)\n"
     ]
    }
   ],
   "source": [
    "%%timeit\n",
    "dPt = ak.unflatten(np.abs(ak.flatten(matched_jets.pt) - ak.flatten(genJets.pt)), ak.num(genJets.pt))"
   ]
  },
  {
   "cell_type": "code",
   "execution_count": 41,
   "id": "2c30e0b7-26c6-423f-ab2a-2830384bdd8d",
   "metadata": {},
   "outputs": [],
   "source": [
    "dPt2 = ak.unflatten(np.abs(ak.flatten(matched_jets.pt) - ak.flatten(genJets.pt)), ak.num(genJets.pt))"
   ]
  },
  {
   "cell_type": "code",
   "execution_count": 44,
   "id": "ffb7f4a5-3a33-495e-a246-717f3b6de3db",
   "metadata": {},
   "outputs": [
    {
     "data": {
      "image/png": "iVBORw0KGgoAAAANSUhEUgAAAXcAAAD4CAYAAAAXUaZHAAAAOXRFWHRTb2Z0d2FyZQBNYXRwbG90bGliIHZlcnNpb24zLjUuMSwgaHR0cHM6Ly9tYXRwbG90bGliLm9yZy/YYfK9AAAACXBIWXMAAAsTAAALEwEAmpwYAAAWcElEQVR4nO3df4xd5X3n8feX6UCmCa1DcS1j8JpQSkQ2iWFHhChRRWApP7q7JtmEEGUbWqG62oIUNiyKWaINVGWhpYG22oquWVBJSwNuIAO7YUMIJYoa8aOGMTaGuDiBBG4c7CSY0MYlxnz3j3vGXMZ3Zu7Pufec+35JV3Puc8698/Ud++NnnvOc50RmIkmqloMGXYAkqfcMd0mqIMNdkirIcJekCjLcJamCfm7QBQAcfvjhuWrVqkGXIUml8uijj/4wM5c22zcU4b5q1So2btw46DIkqVQi4rtz7XNYRpIqyHCXpAoy3CWpggx3Saogw12SKmgoZstI0qiZmq5x7b3b+P7uPRyxZIJLzziOc05Y0bP3N9wlaZFNTde47M4t7Nm7D4Da7j1cducWgJ4FvMMykrTIrr132/5gn7Fn7z6uvXdbz76H4S5Ji+z7u/e01d4Jw12SFtkRSybaau+E4S5Ji+zSM45jYnzsDW0T42NcesZxPfsenlCVpEU2c9LU2TKSVDHnnLCip2E+m8MyklRBhrskVZDhLkkVZLhLUgUZ7pJUQQuGe0S8KSIeiYjHI2JrRFxZtB8dEQ9HxPaIuD0iDi7aDymeby/2r+rzn0GSNEsrPfdXgFMz893AauDMiDgZ+EPg+sz8FeBF4ILi+AuAF4v264vjJEmLaMFwz7p/Kp6OF48ETgW+WLTfApxTbK8pnlPsPy0iolcFS5IW1tKYe0SMRcQmYCdwH/BtYHdmvloc8jwwMxt/BfAcQLH/JeCXelizJGkBLYV7Zu7LzNXAkcBJwNu7/cYRsTYiNkbExl27dnX7dpKkBm3NlsnM3cADwHuBJRExs3zBkUCt2K4BRwEU+38R+FGT91qfmZOZObl06dLOqpckNdXKbJmlEbGk2J4ATgeeoh7yHy4OOx+4q9i+u3hOsf/vMjN7WLMkaQGtLBy2HLglIsao/2ewITP/b0Q8CdwWEX8ATAM3FcffBPxVRGwHfgyc14e6JUnzWDDcM3MzcEKT9u9QH3+f3f4vwEd6Up0kqSNeoSpJFWS4S1IFGe6SVEGGuyRVkOEuSRXkPVQlVcrUdK2vN54uC8NdUmVMTde47M4t7Nm7D4Da7j1cducWgJELeIdlJFXGtfdu2x/sM/bs3ce1924bUEWDY7hLqozv797TVnuVGe6SKuOIJRNttVeZ4S6pMi494zgmxsfe0DYxPsalZxw3oIoGxxOqkipj5qSps2UMd0kVc84JK0YyzGdzWEaSKshwl6QKMtwlqYIMd0mqIMNdkirIcJekCjLcJamCDHdJqiDDXZIqaMFwj4ijIuKBiHgyIrZGxCeL9isiohYRm4rH2Q2vuSwitkfEtog4o59/AEnSgVpZfuBV4JLMfCwiDgUejYj7in3XZ+YfNx4cEccD5wHvAI4AvhYRv5qZb1xkWZLUNwuGe2buAHYU2y9HxFPAfAs3rAFuy8xXgGciYjtwEvBgD+qVVCLe8m5w2hpzj4hVwAnAw0XTRRGxOSJujoi3Fm0rgOcaXvY8Tf4ziIi1EbExIjbu2rWr/colDbWZW97Vdu8hef2Wd1PTtUGXNhJaDveIeAtwB3BxZv4EuAE4BlhNvWf/uXa+cWauz8zJzJxcunRpOy+VVALe8m6wWgr3iBinHuy3ZuadAJn5Qmbuy8zXgBupD70A1ICjGl5+ZNEmaYR4y7vBamW2TAA3AU9l5nUN7csbDvsg8ESxfTdwXkQcEhFHA8cCj/SuZEll4C3vBquVnvv7gN8ETp017fGPImJLRGwGPgD8F4DM3ApsAJ4EvgJc6EwZafR4y7vBamW2zN8D0WTXPfO85irgqi7qklRy3vJusLzNnqS+8ZZ3g+PyA5JUQYa7JFWQ4S5JFeSYu6SmXDqg3Ax3SQeYWTpg5grTmaUDAAO+JByWkXQAlw4oP8Nd0gFcOqD8DHdJB3DpgPIz3CUdwKUDys8TqpIO4NIB5We4S2rKpQPKzWEZSaogw12SKshwl6QKMtwlqYIMd0mqIMNdkirIcJekCnKeu1RyLs2rZgx3qcRcmldzcVhGKjGX5tVcFgz3iDgqIh6IiCcjYmtEfLJoPywi7ouIp4uvby3aIyL+LCK2R8TmiDix338IaVS5NK/m0sqwzKvAJZn5WEQcCjwaEfcBvwXcn5nXRMQ6YB3waeAs4Nji8R7ghuKrpC40G1s/YskEtSZB7tK8WrDnnpk7MvOxYvtl4ClgBbAGuKU47BbgnGJ7DfD5rHsIWBIRy3tduDQqpqZrnPD7X+Xi2zdR272H5PWx9Q+8falL86qptsbcI2IVcALwMLAsM3cUu34ALCu2VwDPNbzs+aJt9nutjYiNEbFx165d7dYtjYSZE6Yv/nTvAfv27N3HA9/axdUfeicrlkwQwIolE1z9oXd6MlWtz5aJiLcAdwAXZ+ZPImL/vszMiMh2vnFmrgfWA0xOTrb1WmlUNDth2uj7u/e4NK+aaqnnHhHj1IP91sy8s2h+YWa4pfi6s2ivAUc1vPzIok1SmxY6MerYuubSymyZAG4CnsrM6xp23Q2cX2yfD9zV0P6JYtbMycBLDcM3ktowX3g7tq75tNJzfx/wm8CpEbGpeJwNXAOcHhFPA/+2eA5wD/AdYDtwI/B7vS9bGg3N7mUKsGRi3LF1zWvBMffM/Hsg5th9WpPjE7iwy7ok4b1M1TmXH5CGnCdM1QmXH5CkCjLcJamCDHdJqiDDXZIqyHCXpAoy3CWpggx3Saog57lLPeB9TDVsDHepS97HVMPIcJc60NhTPyiCffnGVatn7mNquGtQDHepTbN76rODfYb3MdUgGe5SG6ama1yy4fE5A72Ra61rkJwtI7VopsfeSrC71roGzZ671KKFbnk3FsFrmc6W0VAw3KU5zJ7eWJtnDH1ifMybZ2ioGO5SE5+Z2sKtD32PmQGY2u49BNBsQGYswmDX0HHMXZplarr2hmCfkRx4S7KJ8TE+d+67DXYNHXvuEgfOW5/rlGkCK5ZMeCWqhp7hrpE2NV3jyv+zlRd/und/23yzYVYsmeCb605djNKkrhjuGlmzL0ZaSIDTG1UahrtGztR0jf9252Z+uve1ll8TwMdPXukQjEpjwROqEXFzROyMiCca2q6IiFpEbCoeZzfsuywitkfEtog4o1+FS52Ymq7xqQ2bWgr2sQiC+lDM9R9dzR+c887+Fyj1SCs9978E/ifw+Vnt12fmHzc2RMTxwHnAO4AjgK9FxK9mZmu/90p9du2923ht4QtMnbeu0lsw3DPzGxGxqsX3WwPclpmvAM9ExHbgJODBzkuUujM1XeOKu7eye8/ehQ8GlkyMc8V/eIfBrlLrZsz9ooj4BLARuCQzXwRWAA81HPN80XaAiFgLrAVYuXJlF2VIzTWbCbOQP/noakNdldDpRUw3AMcAq4EdwOfafYPMXJ+Zk5k5uXTp0g7LkJqbmQnTTrD/J0+YqkI6CvfMfCEz92Xma8CN1IdeAGrAUQ2HHlm0SYtqoUW+GkXUg90TpqqSjoZlImJ5Zu4onn4QmJlJczfwNxFxHfUTqscCj3RdpdSCxqtMWzhn6gVJqrQFwz0ivgCcAhweEc8DnwVOiYjV1K/Gfhb4XYDM3BoRG4AngVeBC50po8XQ7gVJ42PhBUmqtFZmy3ysSfNN8xx/FXBVN0VJ7WpnGOatPz/OZ/+9s2FUbV6hqkqY736lAS7ypZFjuKt0Zt9E49IzjpvzZhqOq2tUGe4qjWbz1mu793DZnVv4j/9mBXc8WnvD0Iz3MdUo82YdKoX55q3v2buPB761i6s/9E5WLJnYvx6MywdolNlz11CbGYKZ7/6lUB9zP+eEFYa5VDDcNZTaXZb3iCUTfa5IKhfDXUNnarrGpX/7OHtbWb4Rx9alZgx3DZWp6RqXbHh83lvdNXIFR6k5w10D95mpLXzh4edaDnSonzB13ro0N8NdA/WZqS389UPfa/n4AK53WV5pQYa7BqLdUJ/hfUyl1hjuWnSdBLvrwUjtMdy1aKama1z+pS38889aXyjUe5lKnTHc1XdT0zU+fcdmXnm1tTnrMzxpKnXOcFdfTU3X+NSGTbQ4ZR3wrkhSLxju6otOpjcCvO+Ywwx2qQcMd/Xcx298kG9++8dtv+59xxzGrb/z3j5UJI0ew109NTVdazvYHYaRes8lf9UzM+Pr7XAYRuoPe+7qSn2d9c3saXH1xhnjB8G1H/FKU6lfDHd1rJOLkZzeKC2OBcM9Im4G/h2wMzP/ddF2GHA7sAp4Fjg3M1+MiAD+FDgb+CnwW5n5WH9K16B0EurjB8HT/+M3+lSRpNlaGXP/S+DMWW3rgPsz81jg/uI5wFnAscVjLXBDb8rUsPj4jQ92EOzBtR9Z3Z+CJDW1YM89M78REatmNa8BTim2bwG+Dny6aP98ZibwUEQsiYjlmbmjZxVrIDpd6Mv11qXB6HTMfVlDYP8AWFZsrwCeazju+aLtgHCPiLXUe/esXLmywzLUb52G+sT4QVz9oXcZ6tKAdH1CNTMzItq7DLH+uvXAeoDJycm2X6/+6yTYg/qyvE5vlAar03B/YWa4JSKWAzuL9hpwVMNxRxZtKpnTr/s6T+/857Ze8wuHjLH5ytmnZyQNQqfhfjdwPnBN8fWuhvaLIuI24D3AS463l0snoQ4GuzRsWpkK+QXqJ08Pj4jngc9SD/UNEXEB8F3g3OLwe6hPg9xOfSrkb/ehZvXJ2y+/h3/Z194ImRcjScOpldkyH5tj12lNjk3gwm6L0uLq9KSpa8JIw8srVEdYp0MwAM9e4wVJ0jAz3EfU0eu+TCdTlAJ4xmCXhp7hPmKmpmtcfPumtl/nCVOpXAz3EfIrl32ZVzvornsTDal8DPcR8J6r7uOFl3/W9usCuP6jzoSRyshwr7BOh2AAjv3lN3Pfp07paT2SFo/hXlGdTm8EpzhKVWC4V0w3oe7YulQdhnuFrFr35Y5f+yeOrUuVYrhXRKfB7hCMVE2Ge8l1sh4MwLJDD+bhy0/vQ0WShoHhXlLv+uxX+Mkr+zp6rUsHSNVnuJdQN2PrBrs0Ggz3Evn4jQ/yzW//uKPXOrYujRbDvSTsrUtqh+E+5DpdvRGcty6NMsN9iHXaW3/TWPCtq87ucTWSysRwH0IOwUjqluE+RLq5MxIY7JJeZ7gPCZcOkNRLhvuAddNbd1leSXMx3AfIsXVJ/dJVuEfEs8DLwD7g1cycjIjDgNuBVcCzwLmZ+WJ3ZVZLNxcjgcEuaWG96Ll/IDN/2PB8HXB/Zl4TEeuK55/uwfepBHvrkhZDP4Zl1gCnFNu3AF/HcO8q1AN4xmCX1IZuwz2Br0ZEAv8rM9cDyzJzR7H/B8CyZi+MiLXAWoCVK1d2WcZws7cuabF1G+7vz8xaRPwycF9EfKtxZ2ZmEfwHKP4jWA8wOTnZ6RX2Q62bUP+FQ8bYfOWZPaxG0ijpKtwzs1Z83RkRXwJOAl6IiOWZuSMilgM7e1Bn6dhblzRIHYd7RLwZOCgzXy62fx34feBu4HzgmuLrXb0otCy6CXUw2CX1Rjc992XAlyJi5n3+JjO/EhH/AGyIiAuA7wLndl/m8PvM1Bb++qHvdfx6Q11SL3Uc7pn5HeDdTdp/BJzWTVFl001v/ecCtl9tsEvqLa9Q7YJDMJKG1UGDLqCsDHZJw8yee5sMdUllYM+9Dd0E+7JDDzbYJS0ae+4tsLcuqWwM9wV4MZKkMjLc52BvXVKZGe5N2FuXVHaGewN765KqwnAv2FuXVCUjH+721iVV0ciGu6EuqcpG8iImg11S1Y1Uz91QlzQqRqbnbrBLGiWV77kb6pJGUaV77ga7pFFVyZ67oS5p1FUu3L0YSZIqFO721iXpdZUId3vrkvRGpQ53e+uS1Fzfwj0izgT+FBgD/ndmXtPL97e3Lklz68tUyIgYA/4cOAs4HvhYRBzfq/c32CVpfv3quZ8EbM/M7wBExG3AGuDJPn2/BRnqkkZJvy5iWgE81/D8+aJtv4hYGxEbI2Ljrl27+lRGncEuadQM7IRqZq4H1gNMTk5mP76HoS5pVPWr514Djmp4fmTRtmgMdkmjrF/h/g/AsRFxdEQcDJwH3N2rN58vuJ+95jcMdkkjry/DMpn5akRcBNxLfSrkzZm5tZffwwCXpLn1bcw9M+8B7unX+0uS5lbpJX8laVQZ7pJUQYa7JFWQ4S5JFRSZfbl+qL0iInYB3+3w5YcDP+xhOYutzPVb++CUuX5r751/lZlLm+0YinDvRkRszMzJQdfRqTLXb+2DU+b6rX1xOCwjSRVkuEtSBVUh3NcPuoAulbl+ax+cMtdv7Yug9GPukqQDVaHnLkmaxXCXpAoqdbhHxJkRsS0itkfEukHXs5CIeDYitkTEpojYWLQdFhH3RcTTxde3DrrOGRFxc0TsjIgnGtqa1ht1f1b8LDZHxImDq3zO2q+IiFrx+W+KiLMb9l1W1L4tIs4YTNX7azkqIh6IiCcjYmtEfLJoH/rPfp7ay/LZvykiHomIx4v6ryzaj46Ih4s6by+WMiciDimeby/2rxpk/W+QmaV8UF9K+NvA24CDgceB4wdd1wI1PwscPqvtj4B1xfY64A8HXWdDbb8GnAg8sVC9wNnA/wMCOBl4eAhrvwL4r02OPb74+3MIcHTx92psgLUvB04stg8F/rGoceg/+3lqL8tnH8Bbiu1x4OHiM90AnFe0/wXwn4vt3wP+otg+D7h9ULXPfpS5577/JtyZ+TNg5ibcZbMGuKXYvgU4Z3ClvFFmfgP48azmuepdA3w+6x4ClkTE8kUptIk5ap/LGuC2zHwlM58BtlP/+zUQmbkjMx8rtl8GnqJ+D+Kh/+znqX0uw/bZZ2b+U/F0vHgkcCrwxaJ99mc/8zP5InBaRMTiVDu/Mof7gjfhHkIJfDUiHo2ItUXbsszcUWz/AFg2mNJaNle9Zfl5XFQMXdzcMAQ2tLUXv+afQL0HWarPflbtUJLPPiLGImITsBO4j/pvE7sz89XikMYa99df7H8J+KVFLXgOZQ73Mnp/Zp4InAVcGBG/1rgz67/blWZuatnqBW4AjgFWAzuAzw20mgVExFuAO4CLM/MnjfuG/bNvUntpPvvM3JeZq6nf+/kk4O2DragzZQ73gd+Eu12ZWSu+7gS+RP0vzgszv0IXX3cOrsKWzFXv0P88MvOF4h/ua8CNvP7r/9DVHhHj1MPx1sy8s2guxWffrPYyffYzMnM38ADwXupDXTN3rmuscX/9xf5fBH60uJU2V+Zw7+tNuHstIt4cEYfObAO/DjxBvebzi8POB+4aTIUtm6veu4FPFDM3TgZeahhCGAqzxqE/SP3zh3rt5xUzH44GjgUeWez6ZhRjtjcBT2XmdQ27hv6zn6v2En32SyNiSbE9AZxO/bzBA8CHi8Nmf/YzP5MPA39X/FY1eIM+o9vNg/osgX+kPiZ2+aDrWaDWt1GfFfA4sHWmXurjc/cDTwNfAw4bdK0NNX+B+q/Qe6mPM14wV73UZxn8efGz2AJMDmHtf1XUtpn6P8rlDcdfXtS+DThrwLW/n/qQy2ZgU/E4uwyf/Ty1l+WzfxcwXdT5BPDfi/a3Uf9PZzvwt8AhRfubiufbi/1vG2T9jQ+XH5CkCirzsIwkaQ6GuyRVkOEuSRVkuEtSBRnuklRBhrskVZDhLkkV9P8Bospc1XGlWG8AAAAASUVORK5CYII=\n",
      "text/plain": [
       "<Figure size 432x288 with 1 Axes>"
      ]
     },
     "metadata": {
      "needs_background": "light"
     },
     "output_type": "display_data"
    }
   ],
   "source": [
    "plt.scatter(ak.flatten(dPt1[not_none]), ak.flatten(dPt2[not_none]))\n",
    "plt.show()"
   ]
  },
  {
   "cell_type": "code",
   "execution_count": null,
   "id": "1159466d-b1dc-4a7e-8b36-1057ef93ec17",
   "metadata": {},
   "outputs": [],
   "source": []
  }
 ],
 "metadata": {
  "kernelspec": {
   "display_name": "Python 3 (ipykernel)",
   "language": "python",
   "name": "python3"
  },
  "language_info": {
   "codemirror_mode": {
    "name": "ipython",
    "version": 3
   },
   "file_extension": ".py",
   "mimetype": "text/x-python",
   "name": "python",
   "nbconvert_exporter": "python",
   "pygments_lexer": "ipython3",
   "version": "3.10.5"
  }
 },
 "nbformat": 4,
 "nbformat_minor": 5
}
